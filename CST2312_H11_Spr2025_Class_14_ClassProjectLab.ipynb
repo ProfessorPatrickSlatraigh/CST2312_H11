{
  "nbformat": 4,
  "nbformat_minor": 0,
  "metadata": {
    "colab": {
      "provenance": [],
      "include_colab_link": true
    },
    "kernelspec": {
      "name": "python3",
      "display_name": "Python 3"
    }
  },
  "cells": [
    {
      "cell_type": "markdown",
      "metadata": {
        "id": "view-in-github",
        "colab_type": "text"
      },
      "source": [
        "<a href=\"https://colab.research.google.com/github/ProfessorPatrickSlatraigh/CST2312_H11/blob/main/CST2312_H11_Spr2025_Class_14_ClassProjectLab.ipynb\" target=\"_parent\"><img src=\"https://colab.research.google.com/assets/colab-badge.svg\" alt=\"Open In Colab\"/></a>"
      ]
    },
    {
      "cell_type": "markdown",
      "metadata": {
        "id": "geogQir6sKrY"
      },
      "source": [
        "# **CST2312 Lab: Class Project - Data Sources**\n",
        "**Spring 2025 - HD32, Class 14**\n",
        "\n",
        "This notebook on Colab at `https://bit.ly/cst2312cl14`\n",
        "\n",
        "Updated content as of | 15-Mar-2023 | 20-Mar-2025 |   \n",
        "\n",
        "\n",
        "\n",
        "\n",
        "\n"
      ]
    },
    {
      "cell_type": "markdown",
      "metadata": {
        "id": "UHzZNTIlsKM9"
      },
      "source": [
        "\n",
        "\n",
        "---\n",
        "\n"
      ]
    },
    {
      "cell_type": "markdown",
      "metadata": {
        "id": "sIl9HRvZEEYh"
      },
      "source": [
        "\n",
        "\n",
        "---\n",
        "\n"
      ]
    }
  ]
}