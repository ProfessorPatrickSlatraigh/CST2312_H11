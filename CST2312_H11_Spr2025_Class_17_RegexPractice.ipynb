{
  "nbformat": 4,
  "nbformat_minor": 0,
  "metadata": {
    "colab": {
      "provenance": [],
      "collapsed_sections": [
        "bwOAQcN0fjtM",
        "nUBEAjy-gN9m",
        "lJvOYzAThURx",
        "eMTZ4NPDUncx"
      ],
      "authorship_tag": "ABX9TyN2CPxnRNLaDoqgrRY15uYx",
      "include_colab_link": true
    },
    "kernelspec": {
      "name": "python3",
      "display_name": "Python 3"
    },
    "language_info": {
      "name": "python"
    }
  },
  "cells": [
    {
      "cell_type": "markdown",
      "metadata": {
        "id": "view-in-github",
        "colab_type": "text"
      },
      "source": [
        "<a href=\"https://colab.research.google.com/github/ProfessorPatrickSlatraigh/CST2312_H11/blob/main/CST2312_H11_Spr2025_Class_17_RegexPractice.ipynb\" target=\"_parent\"><img src=\"https://colab.research.google.com/assets/colab-badge.svg\" alt=\"Open In Colab\"/></a>"
      ]
    },
    {
      "cell_type": "markdown",
      "metadata": {
        "id": "Sivi2IUlD10N"
      },
      "source": [
        "# **CST2312 Class17 - Regex**\n",
        "\n",
        "*this Colab notebook available with the link [bit.ly/cst2312cl17](https://bit.ly/cst2312cl17)*    "
      ]
    },
    {
      "cell_type": "markdown",
      "metadata": {
        "id": "XtosZlQIczc0"
      },
      "source": [
        "*This notebook includes CST2312 homework Assignment #4 which includes   an exercise to be completed ⚪ 4.1 at the end of the notebook.*"
      ]
    },
    {
      "cell_type": "markdown",
      "source": [
        "## Contents  \n",
        "  \n",
        "1. About Regular Expressions (Regex)\n",
        "2. Python and Regex -- The Basics\n",
        "3. Raw Strings\n",
        "4. Regex Syntax Fundamentals\n",
        "5. Finding Regex Patterns with `re.search()` and `re.match()`\n",
        "6. Using an Online Regex Tester\n",
        "7. Multiple Matches with Regex `re.findall()`\n",
        "8. Regex Match Objects\n",
        "9. Looping with Regex `re.finditer()`\n",
        "10. Substitution with Regex `re.sub()`\n",
        "11. Character Classes and Ranges\n",
        "12. Quantifiers and Greediness\n",
        "13. Grouping and Capture\n",
        "14. Compiling Regex Patterns with `re.compile()`  \n",
        "  \n",
        "15. Homework Assignment 4.1  \n",
        "16. Additional Practice -- NOAA Tides\n",
        "\n"
      ],
      "metadata": {
        "id": "Rj_YVvvPE9qh"
      }
    },
    {
      "cell_type": "markdown",
      "metadata": {
        "id": "o7fP5obdEAS3"
      },
      "source": [
        "\n",
        "\n",
        "---\n",
        "\n"
      ]
    },
    {
      "cell_type": "markdown",
      "source": [
        "## 1. About Regular Expressions (Regex)"
      ],
      "metadata": {
        "id": "yEAWhoyQTUs0"
      }
    },
    {
      "cell_type": "markdown",
      "metadata": {
        "id": "v4eiYxxqVJ2A"
      },
      "source": [
        "**Reading** from the required textbook: ( [https://www.py4e.com/lessons/](https://www.py4e.com/lessons/))\n",
        "\n",
        "* [Regular Expressions](https://www.py4e.com/lessons/regex) (Chapter 12)\n",
        "* [Data Science Cheat Sheet Python Regular Expressions](https://www.dataquest.io/wp-content/uploads/2019/03/python-regular-expressions-cheat-sheet.pdf)\n",
        "\n"
      ]
    },
    {
      "cell_type": "markdown",
      "metadata": {
        "id": "elLxJ3u8VJ2A"
      },
      "source": [
        "So far we have been using methods like `split` and `find` to extract portions of strings or to answer a question of whether a particular item / string is part of a list-set-tuple-dictionary / longer string.\n",
        "\n",
        "Regular Expressions\n",
        "-------------------\n",
        "\n",
        "Regular expressions (Regex or re's) constitute an extremely powerful, flexible and concise language for matching elements in text ranging from a few characters to complex patterns. While mastering the syntax of the regular expression language does require climbing a learning curve, this learning curve is not particularly steep, and a newcomer can find herself performing useful tasks with regular expressions almost immediately. Efforts spent learning regular expressions quickly pay off--tasks that are well suited for regular expressions abound. Indeed, regular expressions are one of the most useful computer skills, and an absolutely critical tool for data scientists.\n",
        "\n",
        "This document will present basic regular expression syntax and cover common use cases for regular expressions: pattern matching, filtering, data extraction, and string replacement.\n",
        "\n",
        "We will present examples using python's standard [re regular expression library](http://docs.python.org/library/re.html).\n",
        "\n",
        "We will discuss Python libraries in detail later.\n",
        "\n",
        "Many examples from from this [Google tutorial](https://developers.google.com/edu/python/regular-expressions). Pay attention that tutorial itself uses a 2.x version of Python, thus, several statements (for example, `print()`) look differently than in the later versions of Python. In this notebook, the examples from the Google tutorial are converted to the current Python version."
      ]
    },
    {
      "cell_type": "markdown",
      "source": [
        "\n",
        "\n",
        "---\n",
        "\n"
      ],
      "metadata": {
        "id": "dZTVVT8PVCGF"
      }
    },
    {
      "cell_type": "markdown",
      "source": [
        "## 2. Python and Regex -- The Basics"
      ],
      "metadata": {
        "id": "AFYDPeKuTrmM"
      }
    },
    {
      "cell_type": "markdown",
      "source": [
        "1. The `re` Module\n",
        "The `re` module provides regular expression support in Python. It must be explicitly imported before use.\n",
        "\n",
        "2. Raw Strings in Regex\n",
        "Raw strings (e.g., r\"...\") are commonly used in regular expressions to prevent Python from interpreting backslashes as escape characters. This ensures the regex engine receives the intended pattern.\n",
        "\n",
        "3. Core Matching Functions\n",
        "\n",
        "- `re.search(pattern, string)`: Scans through the string and returns the first match found.  \n",
        "  \n",
        "- `re.match(pattern, string)`: Attempts to match a pattern only at the beginning of the string.  \n",
        "  \n",
        "- `re.fullmatch(pattern, string)`: Requires the entire string to match the pattern exactly.  \n",
        "\n",
        "4. Basic Example\n",
        "A simple example might include identifying a word or number within a sentence. Typical usage includes checking if a match is found and retrieving the result using `.group()`.\n",
        "\n",
        "5. Function Selection Considerations\n",
        "Each matching function serves a different use case. The choice among `search`, `match`, and `fullmatch` depends on whether the pattern must match the entire string, the start of the string, or any part of the string."
      ],
      "metadata": {
        "id": "kvbYv9htVYpP"
      }
    },
    {
      "cell_type": "markdown",
      "source": [
        "### Housekeeping   "
      ],
      "metadata": {
        "id": "q-UyRwV-WoiZ"
      }
    },
    {
      "cell_type": "markdown",
      "metadata": {
        "id": "pziRNQFsWoia"
      },
      "source": [
        "The regular expression library `re` must be imported into your program before you can use it."
      ]
    },
    {
      "cell_type": "code",
      "metadata": {
        "id": "wbcarNgIWoia"
      },
      "source": [
        "# first import the regular expression library\n",
        "import re"
      ],
      "execution_count": null,
      "outputs": []
    },
    {
      "cell_type": "markdown",
      "source": [
        "\n",
        "\n",
        "---\n",
        "\n"
      ],
      "metadata": {
        "id": "9PSoE6r4VXpC"
      }
    },
    {
      "cell_type": "markdown",
      "source": [
        "## 3. Raw Strings"
      ],
      "metadata": {
        "id": "k4yrrVQ2UBZP"
      }
    },
    {
      "cell_type": "markdown",
      "source": [
        "First, a reminder about *raw strings* which are delineated with the `r` character preceding the first quotation (single or double) mark of a *string*.  When a string is denoted as a *raw string* then the contents inside the quotes are interpreted exactly as they are.  That is, special control characters such as `\\n`, `\\t`, etc.  are interpreted as the text characters '\\' and 'n' or '\\' and 't' respectively and not as their control characters (new line, or tab).  "
      ],
      "metadata": {
        "id": "v9bMnPShU41k"
      }
    },
    {
      "cell_type": "markdown",
      "source": [
        "In Python, a raw string is a string prefixed with the letter `r` or `R`, like this:  "
      ],
      "metadata": {
        "id": "ZEBl8amlU-dZ"
      }
    },
    {
      "cell_type": "code",
      "source": [
        "r\"This is a raw string\""
      ],
      "metadata": {
        "id": "UdKAE98GU-dZ"
      },
      "execution_count": null,
      "outputs": []
    },
    {
      "cell_type": "markdown",
      "source": [
        "### Purpose\n",
        "\n",
        "  \n",
        "Raw strings are used to treat backslashes (`\\`) as literal characters rather than escape characters. This is particularly useful for things like:\n",
        "\n",
        "- Regular expressions  \n",
        "- Windows file paths  \n",
        "- Other cases where many backslashes are used  \n",
        "\n"
      ],
      "metadata": {
        "id": "NfLEr6ZkU-da"
      }
    },
    {
      "cell_type": "code",
      "source": [
        "# Regular string\n",
        "print(\"C:\\\\Users\\\\John\\\\Documents\")\n",
        "# Output: C:\\Users\\John\\Documents\n",
        "\n",
        "# Raw string\n",
        "print(r\"C:\\Users\\John\\Documents\")\n",
        "# Output: C:\\Users\\John\\Documents"
      ],
      "metadata": {
        "id": "et2NELApU-da"
      },
      "execution_count": null,
      "outputs": []
    },
    {
      "cell_type": "markdown",
      "source": [
        "In the regular string, each `\\\\` is interpreted as a single backslash. In the raw string, the backslashes are preserved as-is."
      ],
      "metadata": {
        "id": "_CHa_ecDU-da"
      }
    },
    {
      "cell_type": "markdown",
      "source": [
        "*Important Notes*  \n",
        "  \n",
        "Raw strings do not escape backslashes, so sequences like `\\n`, `\\t`, or `\\\\` are taken literally.\n",
        "\n",
        "A raw string cannot end with a single backslash, as it would escape the closing quote and cause a syntax error:"
      ],
      "metadata": {
        "id": "_7Nwh0M2U-da"
      }
    },
    {
      "cell_type": "code",
      "source": [
        "# Invalid: ends with single backslash\n",
        "r\"Path ends with backslash\\\""
      ],
      "metadata": {
        "id": "_cJMdoBpU-db"
      },
      "execution_count": null,
      "outputs": []
    },
    {
      "cell_type": "code",
      "source": [
        "r\"Path ends with backslash\\\\\""
      ],
      "metadata": {
        "id": "rYBXfocZU-db"
      },
      "execution_count": null,
      "outputs": []
    },
    {
      "cell_type": "markdown",
      "source": [
        "### Practice\n"
      ],
      "metadata": {
        "id": "nh8796fXU-db"
      }
    },
    {
      "cell_type": "markdown",
      "source": [
        "#### 1.1 Printing a string with embedded control characters    \n"
      ],
      "metadata": {
        "id": "X9n-gb_PU-db"
      }
    },
    {
      "cell_type": "code",
      "source": [
        "print('This string\\nprints two lines.')"
      ],
      "metadata": {
        "id": "NRquSYtzU-db"
      },
      "execution_count": null,
      "outputs": []
    },
    {
      "cell_type": "markdown",
      "source": [
        "#### 1.2 Printing a raw string with the same embedded control characters    \n"
      ],
      "metadata": {
        "id": "yl8wy3LTU-db"
      }
    },
    {
      "cell_type": "code",
      "source": [
        "print(r'This string\\n does not print two lines.')"
      ],
      "metadata": {
        "id": "IhKOH6VPU-dc"
      },
      "execution_count": null,
      "outputs": []
    },
    {
      "cell_type": "markdown",
      "source": [
        "#### 1.3 Try printing a string with embedded tab control characters as an `r` string and as a string (not `r`)      \n"
      ],
      "metadata": {
        "id": "A2LgAdpcU-dc"
      }
    },
    {
      "cell_type": "code",
      "source": [],
      "metadata": {
        "id": "kT2X8m32U-dc"
      },
      "execution_count": null,
      "outputs": []
    },
    {
      "cell_type": "markdown",
      "metadata": {
        "id": "NotHQAjuU-dc"
      },
      "source": [
        "\n",
        "\n",
        "---\n",
        "\n"
      ]
    },
    {
      "cell_type": "markdown",
      "source": [
        "## 4. Regex Syntax Fundamentals"
      ],
      "metadata": {
        "id": "5XsZ2ErWUBTS"
      }
    },
    {
      "cell_type": "markdown",
      "source": [
        "see [Python Documentation](https://docs.python.org/3/library/re.html)\n",
        "\n",
        "The power of regular expressions is that they can specify patterns, not just fixed characters. Here are some basic patterns.  "
      ],
      "metadata": {
        "id": "3-oYVUjOe0qg"
      }
    },
    {
      "cell_type": "markdown",
      "source": [
        "### Regular Expression Pattern Reference by Category\n",
        "\n",
        "| **Pattern**     | **Description**                                         | **Usage Example**                            |\n",
        "|-----------------|---------------------------------------------------------|----------------------------------------------|\n",
        "|                 | **Literal Characters**                                  |                                              |\n",
        "| `a`, `Z`, `7`   | Match exact characters                                  | `re.search(\"dog\", \"hotdog\")` → Match `'dog'`  |\n",
        "|                 | **Metacharacters (must be escaped to match literally)** |                                              |\n",
        "| `.`             | Matches any character except newline                    | `re.search(\"a.c\", \"abc\")` → Match `'abc'`    |\n",
        "| `\\.`            | Matches a literal dot                                   | `re.search(r\"a\\.c\", \"a.c\")` → Match `'a.c'`  |\n",
        "| `\\*`, `\\+`      | Escape special characters to match them literally       | `re.search(r\"\\*\", \"a*b\")` → Match `'*'`      |\n",
        "|                 | **Character Classes**                                   |                                              |\n",
        "| `[abc]`         | Matches any one of `a`, `b`, or `c`                     | `re.search(r\"[abc]\", \"xay\")` → `'a'`         |\n",
        "| `[a-z]`         | Matches any lowercase letter                            | `re.search(r\"[a-z]\", \"ABCd\")` → `'d'`        |\n",
        "| `\\d`            | Matches any digit (`[0-9]`)                             | `re.search(r\"\\d\", \"abc3\")` → `'3'`           |\n",
        "| `\\D`            | Matches any non-digit                                   | `re.search(r\"\\D\", \"1a\")` → `'a'`             |\n",
        "| `\\w`            | Matches any word character (`[a-zA-Z0-9_]`)             | `re.search(r\"\\w\", \"@a\")` → `'a'`             |\n",
        "| `\\W`            | Matches any non-word character                          | `re.search(r\"\\W\", \"a!\")` → `'!'`             |\n",
        "| `\\s`            | Matches any whitespace character                        | `re.search(r\"\\s\", \"a b\")` → `' '`            |\n",
        "| `\\S`            | Matches any non-whitespace character                    | `re.search(r\"\\S\", \" a\")` → `'a'`             |\n",
        "|                 | **Quantifiers**                                         |                                              |\n",
        "| `*`             | Matches 0 or more of the preceding element              | `re.search(r\"a*b\", \"aaab\")` → `'aaab'`       |\n",
        "| `+`             | Matches 1 or more of the preceding element              | `re.search(r\"a+b\", \"aaab\")` → `'aaab'`       |\n",
        "| `?`             | Matches 0 or 1 of the preceding element                 | `re.search(r\"a?b\", \"b\")` → `'b'`             |\n",
        "| `{n}`           | Matches exactly `n` times                               | `re.search(r\"a{3}\", \"aaab\")` → `'aaa'`       |\n",
        "| `{n,}`          | Matches `n` or more times                               | `re.search(r\"a{2,}\", \"aaa\")` → `'aaa'`       |\n",
        "| `{n,m}`         | Matches between `n` and `m` times                       | `re.search(r\"a{2,3}\", \"aaaa\")` → `'aaa'`     |\n",
        "|                 | **Anchors**                                             |                                              |\n",
        "| `^`             | Anchors to the beginning of a string                    | `re.search(r\"^abc\", \"abcdef\")` → `'abc'`     |\n",
        "| `$`             | Anchors to the end of a string                          | `re.search(r\"abc$\", \"123abc\")` → `'abc'`     |\n",
        "| `\\b`            | Matches a word boundary                                 | `re.search(r\"\\bcat\", \"the cat\")` → `'cat'`   |\n",
        "| `\\B`            | Matches a non-word boundary                             | `re.search(r\"\\Bcat\", \"scat\")` → `'cat'`      |\n",
        "|                 | **Groups and Capturing**                                |                                              |\n",
        "| `(abc)`         | Captures a group                                        | `re.search(r\"(abc)\", \"abc\").group(1)` → `'abc'`  |\n",
        "| `(?:abc)`       | Non-capturing group                                     | `re.search(r\"(?:abc)\", \"abc\")` → `'abc'`     |\n",
        "| `(?P<name>abc)` | Named capturing group                                   | `re.search(r\"(?P<grp>abc)\", \"abc\").group(\"grp\")` → `'abc'`  |\n",
        "|                 | **Alternation**                                         |                                              |\n",
        "| `a\\|b`          | Matches either `a` or `b`                               | `re.search(r\"a\\|b\", \"cat\")` → `'a'`           |\n",
        "|                 | **Escapes and Special Sequences**                       |                                              |\n",
        "| `\\\\`            | Matches a literal backslash                             | `re.search(r\"\\\\\\\\\", \"\\\\path\")` → `'\\\\'`      |\n",
        "| `\\n`            | Matches newline character                               | `re.search(r\"\\n\", \"a\\nb\")` → `'\\n'`          |\n",
        "| `\\t`            | Matches tab character                                   | `re.search(r\"\\t\", \"a\\tb\")` → `'\\t'`          |\n",
        "| `\\xFF`          | Matches a character by hexadecimal value                | `re.search(r\"\\x41\", \"A\")` → `'A'`            |\n",
        "| `\\u1234`        | Matches a Unicode character                             | `re.search(r\"\\u0061\", \"a\")` → `'a'`          |\n"
      ],
      "metadata": {
        "id": "5MYhWbgOWgJ_"
      }
    },
    {
      "cell_type": "markdown",
      "source": [
        "### Case Sensitivity in Regular Expressions"
      ],
      "metadata": {
        "id": "b9aDVMK0nBFh"
      }
    },
    {
      "cell_type": "markdown",
      "metadata": {
        "id": "0XVjVY00nBFi"
      },
      "source": [
        "Regular expressions are typically case-sensitive."
      ]
    },
    {
      "cell_type": "code",
      "metadata": {
        "id": "W5QeYZ1XnBFi"
      },
      "source": [
        "# Regular expressions are compiled into pattern objects\n",
        "# Regular expressions are case-sensitive\n",
        "regex = re.compile(r'in.*on')\n",
        "text = \"CUNY, Citytech, Information and Data Management, my-email@citytech.edu\"\n",
        "matches = regex.finditer(text)\n",
        "for match in matches:\n",
        "    print(match.group())\n",
        "\n",
        "print('The end')"
      ],
      "execution_count": null,
      "outputs": []
    },
    {
      "cell_type": "markdown",
      "metadata": {
        "id": "wFUoqtPTnBFi"
      },
      "source": [
        "But we can specify that they are case-insensitive, using the flag re.IGNORECASE"
      ]
    },
    {
      "cell_type": "code",
      "metadata": {
        "id": "b9Z2DKydnBFi"
      },
      "source": [
        "# Unless we specify that they are case-insensitive, using the flag re.IGNORECASE\n",
        "regex = re.compile('in.*on',re.IGNORECASE)\n",
        "text = \"CUNY, Citytech, Information and Data Management, my-email@citytech.edu\"\n",
        "matches = regex.finditer(text)\n",
        "for match in matches:\n",
        "    print(match.group())\n",
        "\n",
        "print('The end')"
      ],
      "execution_count": null,
      "outputs": []
    },
    {
      "cell_type": "markdown",
      "metadata": {
        "id": "IbppRyVInjzg"
      },
      "source": [
        "### Regular Expression Functions for Analyzing Patterns"
      ]
    },
    {
      "cell_type": "markdown",
      "metadata": {
        "id": "2DqGNEMYnjzg"
      },
      "source": [
        "* `.compile()`    \n",
        "* `.finditer()`    \n",
        "* `.findall()`    \n",
        "* `.match()`    \n",
        "* `.search()`    \n",
        "* `.sub()`    \n",
        "\n",
        "[https://docs.python.org/3/library/re.html](https://docs.python.org/3/library/re.html)\n",
        "\n",
        "Let's separate these functions into four groups:  \n",
        "1. `.match()`, `.search()`  \n",
        "2. `.finditer()`, `.findall()`    \n",
        "3. `.sub()`   \n",
        "4. `.compile()`    \n",
        "   \n",
        "We will discuss each of those in this notebook.  Along the way, we will cover related topics as they are revealed in our practice with the various `re` functions.  Many brief examples are provided.  Try changing strings to be searched and search patterns as you practice with this notebook."
      ]
    },
    {
      "cell_type": "markdown",
      "source": [
        "\n",
        "\n",
        "---\n",
        "\n"
      ],
      "metadata": {
        "id": "8v1GeZicWXxv"
      }
    },
    {
      "cell_type": "markdown",
      "source": [
        "## 5. Finding Regex Patterns with `re.search()` and `re.match()`"
      ],
      "metadata": {
        "id": "w3IWFkDdUBMq"
      }
    },
    {
      "cell_type": "markdown",
      "source": [
        "#### `re.search()`\n",
        "  \n",
        "**Purpose**:  \n",
        "\n",
        "Scans the entire string for the first match of the pattern.\n",
        "\n",
        "Returns a match object if a match is found; otherwise, returns `None`.\n",
        "\n",
        "**Example**:\n",
        "\n"
      ],
      "metadata": {
        "id": "ZfaqKfyJYTFR"
      }
    },
    {
      "cell_type": "code",
      "source": [
        "re.search(r'\\d+', 'abc123xyz')  # Matches '123'"
      ],
      "metadata": {
        "id": "dqnlBcsPYTFR"
      },
      "execution_count": null,
      "outputs": []
    },
    {
      "cell_type": "markdown",
      "source": [
        "<b>Key Points</b>:  \n",
        "\n",
        "Useful when you only need to check if a pattern exists in the string.  \n",
        "\n",
        "Stops after the first match.  \n",
        "\n",
        "Unlike `re.match()`, it doesn’t require the match to start at the beginning.  "
      ],
      "metadata": {
        "id": "ZZZMIIUjYTFR"
      }
    },
    {
      "cell_type": "markdown",
      "source": [
        "#### Simple (relatively) Regex Examples with 're.search()`"
      ],
      "metadata": {
        "id": "tB7d0KJyZEta"
      }
    },
    {
      "cell_type": "code",
      "source": [
        "# let's create a string variable and try to use `split` to find 'cat'\n",
        "inputStr = 'An example word:cat!!'\n",
        "input_list = inputStr.split(' ')\n",
        "for element in input_list :\n",
        "    print(element)"
      ],
      "metadata": {
        "id": "W51wYbdMZEtb"
      },
      "execution_count": null,
      "outputs": []
    },
    {
      "cell_type": "code",
      "source": [
        "inputStr = 'An example word:cat!!'\n",
        "search_pattern_raw = r'cat'\n",
        "\n",
        "print('Search for the pattern \"' + search_pattern_raw + '\" in \"' + inputStr + '\"')"
      ],
      "metadata": {
        "id": "IlcY8uSyZEtb"
      },
      "execution_count": null,
      "outputs": []
    },
    {
      "cell_type": "code",
      "metadata": {
        "id": "eleamh0YZEtc"
      },
      "source": [
        "# the `re.search()` method returns a Match object which can be evaluated as a Boolean\n",
        "inputStr = 'An example word:cat!!'\n",
        "\n",
        "# tell me a pattern and where to look for that pattern...\n",
        "if re.search(r'cat', inputStr):   # search takes arg1 of a search pattern and arg2 of string to search\n",
        "  print('Found that pattern in the following string:')\n",
        "  print(inputStr)\n",
        "\n",
        "# then print confirmation of execution\n",
        "print (\"Done with the example\")"
      ],
      "execution_count": null,
      "outputs": []
    },
    {
      "cell_type": "code",
      "source": [
        "# The actual Match object returned by the `re.search()` method which can be evaluating as a Boolean\n",
        "inputStr = 'An example word:cat!!'\n",
        "re_returns = re.search(r'cat', inputStr)\n",
        "print(re_returns)"
      ],
      "metadata": {
        "id": "hT3fXEX3ZEtc"
      },
      "execution_count": null,
      "outputs": []
    },
    {
      "cell_type": "code",
      "source": [
        "# for the last example there is no need for a raw `r` string\n",
        "inputStr = 'An example word:cat!!'\n",
        "if re.search('cat', inputStr):   # search takes arg1 of a search term and arg2 of string to search\n",
        "  print('Found that pattern in the following string:')\n",
        "  print(inputStr)\n",
        "\n",
        "print (\"Done with the example\")"
      ],
      "metadata": {
        "id": "RtV2uGEWZEtc"
      },
      "execution_count": null,
      "outputs": []
    },
    {
      "cell_type": "code",
      "metadata": {
        "id": "_JPNH0P5ZEtc"
      },
      "source": [
        "# the `re.search()` method returns a Match object which can be evaluated as a Boolean\n",
        "inputStr = 'An example word: cat!!'\n",
        "if re.search(r'dog', inputStr):\n",
        "    print(inputStr)\n",
        "else:\n",
        "    print('Sorry.  Could not find \"' + r'dog' + '\" in \"' + inputStr + '\"')"
      ],
      "execution_count": null,
      "outputs": []
    },
    {
      "cell_type": "code",
      "source": [
        "# The Match object returned by the `re.search()` method which can be evaluated as a Boolean\n",
        "inputStr = 'An example word:cat!!'\n",
        "re_returns = re.search(r'dog', inputStr)\n",
        "print(re_returns)"
      ],
      "metadata": {
        "id": "lJypu9LYZEtd"
      },
      "execution_count": null,
      "outputs": []
    },
    {
      "cell_type": "markdown",
      "source": [
        "#### Some additional search patterns with 're.search()`   "
      ],
      "metadata": {
        "id": "dzobD8_qZEtd"
      }
    },
    {
      "cell_type": "code",
      "metadata": {
        "id": "Mw2Q3lmLZEtd"
      },
      "source": [
        "inputStr = 'An example word: cat!!'\n",
        "if re.search(r'word: \\w\\w\\w', inputStr):\n",
        "  print('Found it in -', inputStr)\n",
        "\n",
        "print (\"Done with the example\")"
      ],
      "execution_count": null,
      "outputs": []
    },
    {
      "cell_type": "code",
      "source": [
        "# The Match object returned by the `re.search()` method which can be evaluated as a Boolean\n",
        "inputStr = 'An example thing: cat!!'\n",
        "re_returns = re.search(r'thing: \\w\\w\\w', inputStr)\n",
        "print(re_returns)"
      ],
      "metadata": {
        "id": "pB25YRasZEtd"
      },
      "execution_count": null,
      "outputs": []
    },
    {
      "cell_type": "code",
      "metadata": {
        "id": "CWEHf-wGZEtd"
      },
      "source": [
        "inputStr = 'An example word: dog, anda, cat!!'\n",
        "if re.search(r'word: \\w\\w\\w', inputStr):\n",
        "  print('Found it in -', inputStr)\n",
        "\n",
        "print (\"Done with the example\")"
      ],
      "execution_count": null,
      "outputs": []
    },
    {
      "cell_type": "code",
      "source": [
        "# The Match object returned by the `re.search()` method which can be evaluated as a Boolean\n",
        "inputStr = 'An example word: dog, anda, cat!!'\n",
        "re_returns = re.search(r'word: \\w\\w\\w', inputStr)\n",
        "print(re_returns)"
      ],
      "metadata": {
        "id": "5PiPDiYqZEtd"
      },
      "execution_count": null,
      "outputs": []
    },
    {
      "cell_type": "code",
      "source": [
        "# What is the regular expression pattern included a space after 'word:'?\n",
        "inputStr = 'An example word:dog, anda, cat!!'\n",
        "if re.search(r'word: \\w\\w\\w', inputStr):\n",
        "    print('Found it in -', inputStr)\n",
        "else:\n",
        "    print('Sorry.  Could not find \"' + r'word: \\w\\w\\w' + '\" in \"' + inputStr + '\"')\n",
        "\n",
        "print (\"Done with the example\")"
      ],
      "metadata": {
        "id": "DMhd3JWRZEtd"
      },
      "execution_count": null,
      "outputs": []
    },
    {
      "cell_type": "code",
      "source": [
        "# The Match object returned by the `re.search()` method which can be evaluated as a Boolean\n",
        "inputStr = 'An example word:dog, anda, cat!!'\n",
        "re_returns = re.search(r'word: \\w\\w\\w', inputStr)\n",
        "print(re_returns)"
      ],
      "metadata": {
        "id": "b4Gb_9BmZEtd"
      },
      "execution_count": null,
      "outputs": []
    },
    {
      "cell_type": "code",
      "metadata": {
        "id": "ryhyIhjIZEte"
      },
      "source": [
        "the_text = 'there are many words here some with three characters and also this phrase \"stuffH dog\", plus cat!!'\n",
        "if re.search(r'stuffH \\w\\w\\w', the_text):\n",
        "  print(\"I found the pattern you asked about.\")\n",
        "\n",
        "print (\"Done with the example\")"
      ],
      "execution_count": null,
      "outputs": []
    },
    {
      "cell_type": "code",
      "source": [
        "# The Match object returned by the `re.search()` method which can be evaluated as a Boolean\n",
        "the_text = 'there are many words here some with three characters and also this phrase \"stuffH dog\", plus cat!!'\n",
        "re_returns = re.search(r'stuffH \\w\\w\\w', the_text)\n",
        "print(re_returns)"
      ],
      "metadata": {
        "id": "1LQmbIFDZEte"
      },
      "execution_count": null,
      "outputs": []
    },
    {
      "cell_type": "code",
      "source": [
        "# What if we did that but had a lower case 'h' in the raw search string?\n",
        "the_text = 'there are many words here some with three characters and also this phrase \"stuffH dog\", plus cat!!'\n",
        "if re.search(r'stuffh \\w\\w\\w', the_text):\n",
        "    print(\"I found the pattern you asked about.\")\n",
        "else:\n",
        "    print('Sorry.  Could not find \"' + r'stuffh \\w\\w\\w' + '\" in \"' + the_text + '\"')\n",
        "\n",
        "print (\"Done with the example\")"
      ],
      "metadata": {
        "id": "OKAJ9cmtZEte"
      },
      "execution_count": null,
      "outputs": []
    },
    {
      "cell_type": "markdown",
      "source": [
        "#### Pattern Matching in File Contents with `re.search()`"
      ],
      "metadata": {
        "id": "NzKKv9NiYzdC"
      }
    },
    {
      "cell_type": "markdown",
      "source": [
        "Let's try using some regex patterns with the `re.search()` function.  To begin, we will bring a copy of Dr. Chuck's `mbox-short.txt` file to our current working director with the following `curl` statement."
      ],
      "metadata": {
        "id": "HnQ98EuzWsv8"
      }
    },
    {
      "cell_type": "code",
      "source": [
        "!curl \"https://raw.githubusercontent.com/ProfessorPatrickSlatraigh/data/refs/heads/main/mbox-short.txt\" -o mbox-short.txt"
      ],
      "metadata": {
        "id": "fa2kUTitWzrf"
      },
      "execution_count": null,
      "outputs": []
    },
    {
      "cell_type": "markdown",
      "source": [
        "The regular expression module re must be imported into your program before you can use it. The simplest use of the regular expression module is the `search()` function. The following program demonstrates a trivial use of the search function."
      ],
      "metadata": {
        "id": "nin7h0egWzrg"
      }
    },
    {
      "cell_type": "code",
      "source": [
        "# Search for lines that contain 'From'\n",
        "import re\n",
        "hand = open('mbox-short.txt')\n",
        "for line in hand:\n",
        "    line = line.rstrip()\n",
        "    if re.search(r'From:', line):\n",
        "        print(line)"
      ],
      "metadata": {
        "id": "urU1V9f_Wzrg"
      },
      "execution_count": null,
      "outputs": []
    },
    {
      "cell_type": "markdown",
      "source": [
        "The power of the regular expressions comes when we add special characters to the search string that allow us to more precisely control which lines match the string. Adding these special characters to our regular expression allow us to do sophisticated matching and extraction while writing very little code.\n",
        "\n",
        "For example, the caret character is used in regular expressions to match “the beginning” of a line. We could change our program to only match lines where “From:” was at the beginning of the line as follows:"
      ],
      "metadata": {
        "id": "QhoBb5jzWzrh"
      }
    },
    {
      "cell_type": "code",
      "source": [
        "# Search for lines that start with 'From'\n",
        "import re\n",
        "hand = open('mbox-short.txt')\n",
        "for line in hand:\n",
        "    line = line.rstrip()\n",
        "    if re.search(r'^From:', line):\n",
        "        print(line)"
      ],
      "metadata": {
        "id": "jEDa4bgFWzrh"
      },
      "execution_count": null,
      "outputs": []
    },
    {
      "cell_type": "markdown",
      "source": [
        "There are a number of other special characters that let us build even more powerful regular expressions. The most commonly used special character is the period or full stop, which matches any character.\n",
        "\n",
        "\n",
        "In the following example, the regular expression F..m: would match any of the strings “From:”, “Fxxm:”, “F12m:”, or “F!@m:” since the period characters in the regular expression match any character."
      ],
      "metadata": {
        "id": "aXQexstJWzrh"
      }
    },
    {
      "cell_type": "code",
      "source": [
        "# Search for lines that start with 'F', followed by\n",
        "# 2 characters, followed by 'm:'\n",
        "import re\n",
        "hand = open('mbox-short.txt')\n",
        "for line in hand:\n",
        "    line = line.rstrip()\n",
        "    if re.search(r'^F..m:', line):\n",
        "        print(line)"
      ],
      "metadata": {
        "id": "rw1F6-PMWzrh"
      },
      "execution_count": null,
      "outputs": []
    },
    {
      "cell_type": "code",
      "source": [
        "# Search for lines that start with 'F', followed by\n",
        "# 2 characters, followed by 'm:'\n",
        "import re\n",
        "hand = open('mbox-short.txt')\n",
        "for line in hand:\n",
        "    line = line.rstrip()\n",
        "    if re.search(r'^F...m:', line):\n",
        "        print(line)"
      ],
      "metadata": {
        "id": "3wCImvL0Wzrh"
      },
      "execution_count": null,
      "outputs": []
    },
    {
      "cell_type": "code",
      "source": [
        "# Search for lines that start with 'F', followed by\n",
        "# 2 characters, followed by 'm:'\n",
        "import re\n",
        "hand = open('mbox-short.txt')\n",
        "for line in hand:\n",
        "    line = line.rstrip()\n",
        "    if re.search(r'^F.{3}m:', line):\n",
        "        print(line)"
      ],
      "metadata": {
        "id": "sT11ouVAWzri"
      },
      "execution_count": null,
      "outputs": []
    },
    {
      "cell_type": "code",
      "source": [
        "# Search for lines that start with 'F', followed by\n",
        "# 2 characters, followed by 'm:'\n",
        "import re\n",
        "hand = open('mbox-short.txt')\n",
        "for line in hand:\n",
        "    line = line.rstrip()\n",
        "    if re.search(r'^F.+m:', line):\n",
        "        print(line)"
      ],
      "metadata": {
        "id": "iWjtwsBtWzri"
      },
      "execution_count": null,
      "outputs": []
    },
    {
      "cell_type": "code",
      "source": [
        "# Search for lines that start with 'F', followed by\n",
        "# 2 characters, followed by 'm:'\n",
        "import re\n",
        "hand = open('mbox-short.txt')\n",
        "for line in hand:\n",
        "    line = line.rstrip()\n",
        "    if re.search(r'^F.*m:', line):\n",
        "        print(line)"
      ],
      "metadata": {
        "id": "2Dz3xGWYWzri"
      },
      "execution_count": null,
      "outputs": []
    },
    {
      "cell_type": "markdown",
      "source": [
        "\n",
        "\n",
        "---\n",
        "\n"
      ],
      "metadata": {
        "id": "TtAESlzJfprY"
      }
    },
    {
      "cell_type": "markdown",
      "metadata": {
        "id": "RjTbe7iZfjtK"
      },
      "source": [
        "#### More Basic Regex Pattern Examples\n",
        "\n",
        "\n",
        "The basic rules of regular expression search for a pattern within a string are:\n",
        "\n",
        "* The search proceeds through the string from start to end, stopping at the first match found\n",
        "\n",
        "* All of the pattern must be matched, but not all of the string\n",
        "\n",
        "* If `match = re.search(pat, str)` is successful, match is not `None` and in particular `match.group()` is the matching text"
      ]
    },
    {
      "cell_type": "code",
      "metadata": {
        "id": "MbpK7Ht8fjtL"
      },
      "source": [
        "## Search for pattern 'ooo' in string 'pooog'.\n",
        "## All of the pattern must match, but it may appear anywhere.\n",
        "## On success, match.group() is matched text.\n",
        "\n",
        "inputStr = 'pooog'\n",
        "\n",
        "look_for = r'ooo'\n",
        "matched_string = re.search(look_for, inputStr)\n",
        "\n",
        "if matched_string:\n",
        "  print ('found, matched_string.group() == ', look_for)\n",
        "  print (matched_string.group())"
      ],
      "execution_count": null,
      "outputs": []
    },
    {
      "cell_type": "code",
      "metadata": {
        "id": "WFUdZtgbfjtL"
      },
      "source": [
        "match = re.search(r'ig', 'pooog')\n",
        "# match = re.search(r'igs', 'pooog')\n",
        "if not match:\n",
        "    print ('not found, match == None')\n",
        "    print (re.search(r'igs', 'pooog'))\n",
        "else:\n",
        "    print ('found, matched_string.group() == \"ig\"')"
      ],
      "execution_count": null,
      "outputs": []
    },
    {
      "cell_type": "code",
      "metadata": {
        "id": "q7LmgLZEfjtL"
      },
      "source": [
        "## . = any char but \\n\n",
        "\n",
        "# try each of these separately\n",
        "# inputStr = 'pooog'\n",
        "# inputStr = '9oooz'\n",
        "# inputStr = '\\nxyz'\n",
        "inputStr = r'\\nxyz'\n",
        "\n",
        "# look_for = r'..g'\n",
        "# look_for = r'g..'\n",
        "# look_for = r'p.'\n",
        "look_for = r'.'\n",
        "\n",
        "match = re.search(look_for, inputStr)\n",
        "\n",
        "if match:\n",
        "  print ('found, match.group() == ', look_for)\n",
        "  print (match.group())\n",
        "\n",
        "print(\"All done.\")"
      ],
      "execution_count": null,
      "outputs": []
    },
    {
      "cell_type": "code",
      "metadata": {
        "id": "erF64HyvfjtL"
      },
      "source": [
        "## \\d = digit char, \\w = word char\n",
        "\n",
        "inputStr = 'p123g'\n",
        "\n",
        "look_for = r'\\d\\d\\d'\n",
        "\n",
        "match = re.search(look_for, inputStr)\n",
        "\n",
        "# match = re.search(r'\\d\\d\\d', 'p123g')\n",
        "\n",
        "if match:\n",
        "  print ('found, match.group() == ', look_for)\n",
        "  print (match.group())"
      ],
      "execution_count": null,
      "outputs": []
    },
    {
      "cell_type": "code",
      "metadata": {
        "id": "VwhJAoWOfjtL"
      },
      "source": [
        "## \\d = digit char, \\w = word char\n",
        "\n",
        "inputStr = '@@abcd!!'\n",
        "\n",
        "# try each of these separately\n",
        "# look_for = r'\\w\\w\\w'\n",
        "# look_for = r'\\w\\w.\\w'\n",
        "# look_for = r'\\w\\w\\w.'\n",
        "look_for = r'.\\w\\w\\w'\n",
        "\n",
        "match = re.search(look_for, inputStr)\n",
        "\n",
        "if match:\n",
        "  print ('found, match.group() == ', look_for)\n",
        "  print (match.group())\n",
        "else:\n",
        "  print (\"Nothing found\")"
      ],
      "execution_count": null,
      "outputs": []
    },
    {
      "cell_type": "code",
      "source": [
        "## looking for four word characters\n",
        "\n",
        "# try each of these separately\n",
        "# inputStr = '@@abcd!!'\n",
        "# inputStr = '@@abc7!!'\n",
        "inputStr = '@@abc!7??'\n",
        "\n",
        "look_for = r'\\w\\w\\w\\w'\n",
        "\n",
        "match = re.search(look_for, inputStr)\n",
        "\n",
        "if match:\n",
        "  print ('found, match.group() == ', look_for)\n",
        "  print (match.group())\n",
        "else:\n",
        "  print (\"Nothing found\")"
      ],
      "metadata": {
        "id": "zAu-R3-mfjtL"
      },
      "execution_count": null,
      "outputs": []
    },
    {
      "cell_type": "markdown",
      "metadata": {
        "id": "JTr185tPfjtM"
      },
      "source": [
        "#### <u><b><font color=blue>Regex Email Exercise 1</b></font></u>   \n",
        "    \n",
        "You just started a new job and have been asked to look at the code used in a program that has not been working.  The program specification says that it should read a string with a full email address then extract the domain name and the TLD (top-level domain) from that email address.  The code you reviewed assigns email addresses to a variable `email` but it is not printing the domain name or TLD consistently.  For example, the email addresses:    \n",
        " `patrick.slattery16@citytech.cuny.edu`    or\n",
        " your CityTech email address would result in incorrect output.   \n",
        "\n",
        "Review and fix the following code to extract the domain name and TLD according to the specifications.\n"
      ]
    },
    {
      "cell_type": "code",
      "metadata": {
        "id": "tpnZGdpufjtM"
      },
      "source": [
        "# email = 'patrick.slattery16@citytech.cuny.edu'\n",
        "email = 'fname.lname99@mail.citytech.cuny.edu'\n",
        "\n",
        "### FIX/REPLACE THE CODE BETWEEN HERE\n",
        "email_match = re.search(r'(\\w+)@(\\w+)\\.(\\w+)', email)\n",
        "\n",
        "print('found:' + email_match.group())\n",
        "\n",
        "match_list= re.split(r\"@\",email_match.group())\n",
        "### ... AND HERE\n",
        "\n",
        "print('The domain and TLD of',  email,'are:',match_list)"
      ],
      "execution_count": null,
      "outputs": []
    },
    {
      "cell_type": "code",
      "source": [
        "# type your code here\n"
      ],
      "metadata": {
        "id": "MNfc7DC0fjtM"
      },
      "execution_count": null,
      "outputs": []
    },
    {
      "cell_type": "markdown",
      "metadata": {
        "id": "bwOAQcN0fjtM"
      },
      "source": [
        "##### ***SOLUTION - don't look here***"
      ]
    },
    {
      "cell_type": "markdown",
      "source": [
        "The following regular expression matches the domain and TLD at the end of an email address, capturing any sub-domains as a separate group. The regular expression uses character classes and non-capturing groups to match different parts of the domain name and TLD. The regular expression also ensures that the match occurs at the end of the string using the `$` symbol."
      ],
      "metadata": {
        "id": "HkhzRkeUfjtM"
      }
    },
    {
      "cell_type": "code",
      "source": [
        "# email = 'patrick.slattery16@citytech.cuny.edu'\n",
        "email = 'fname.lname99@mail.citytech.cuny.edu'\n",
        "\n",
        "pattern = r'@((?:[A-Za-z0-9](?:[A-Za-z0-9-]{0,61}[A-Za-z0-9])?\\.)+[A-Za-z]{2,}(?:\\.[A-Za-z]{2,})?)$'\n",
        "\n",
        "match = re.search(pattern, email)\n",
        "\n",
        "if match:\n",
        "    sub_domains = match.group(1).split(\".\")[:-2]\n",
        "    domain_name = match.group(1).split(\".\")[-2]\n",
        "    tld = match.group(1).split(\".\")[-1]\n",
        "    print(f\"Sub-domains: {sub_domains}\")\n",
        "    print(f\"Domain name: {domain_name}\")\n",
        "    print(f\"TLD: {tld}\")\n"
      ],
      "metadata": {
        "id": "FtcB4urGfjtM"
      },
      "execution_count": null,
      "outputs": []
    },
    {
      "cell_type": "markdown",
      "source": [
        "<b><u><center><h3>Breaking Down the Solution Regex Pattern</h3></center></b></u>    \n",
        "    \n",
        "```\n",
        "r'@((?:[A-Za-z0-9](?:[A-Za-z0-9-]{0,61}[A-Za-z0-9])?\\.)+[A-Za-z]{2,}(?:\\.[A-Za-z]{2,})?)$'\n",
        "```\n",
        "\n",
        "**The regular expression search pattern uses three fundamental patterns to solve this problem:**    \n",
        "\n",
        "1. <b><u>@</b></u>: This matches the \"@\" symbol in an email address, indicating the start of the domain name.    \n",
        "    \n",
        "2. <b><u>([[A-Za-z0-9]](?:[A-Za-z0-9-]{0,61}[A-Za-z0-9])?\\.)+</b></u>: This captures the domain name and any sub-domains that precede it. The `+` at the end allows for multiple sub-domains.     \n",
        "    \n",
        "3. <b><u>[A-Za-z]{2,}</b></u>: This captures the domain name or TLD, which must be composed of two or more letters.    \n",
        "\n",
        "*Let's break this down further*:    \n",
        "    \n",
        "  - <b><u>[A-Za-z0-9]</b></u>: This matches the first character of a sub-domain or domain name, which must be a letter or number.    \n",
        "    \n",
        "  - <b><u>(?:[A-Za-z0-9-]{0,61}[A-Za-z0-9])?</b></u>: This is a non-capturing group that matches between 0 and 61 additional characters in a sub-domain or domain name. These characters can be letters, numbers, or hyphens, but the last character must be a letter or number.    \n",
        "       \n",
        "  - <b><u>\\.</b></u>: This matches the dot separator between sub-domains and the domain name.    \n",
        "    \n",
        "  - <b><u>[A-Za-z]{2,}</b></u>: This captures the actual domain name, which must be composed of two or more letters.    \n",
        "    \n",
        "  - <b><u>(?:\\.[A-Za-z]{2,})?</b></u>: This captures the TLD, which is optional and may consist of one or two segments separated by a dot. The (?:...) indicates a non-capturing group, and the ? indicates that this group is optional.    \n",
        "    \n",
        "  - <b><u>$</b></u>: This matches the end of the string, ensuring that the regular expression matches only the domain and TLD at the end of an email address.    \n",
        "    "
      ],
      "metadata": {
        "id": "PjNDySy5fjtM"
      }
    },
    {
      "cell_type": "code",
      "source": [
        "# Muhammad's solution\n",
        "\n",
        "# email = 'patrick.slattery16@citytech.cuny.edu'\n",
        "email = 'fname.lname99@mail.citytech.cuny.edu'\n",
        "# email = cserv@michigan.edu\n",
        "\n",
        "match = re.match(r'(\\w+)\\.(\\w+)@(\\w+)\\.(\\w+)\\.(\\w+).(\\w+)', email)\n",
        "\n",
        "if match:\n",
        "    # extract the account name and domain\n",
        "    account_name = match.group(3) + '.' + match.group(4) + '.' + match.group(5)\n",
        "    domain = match.group(5)\n",
        "    tld = match.group(6)\n",
        "    # print the results\n",
        "    print('The domain and TLD of',  email,'are:', domain + ' and ' + tld)"
      ],
      "metadata": {
        "id": "JHt4KlKOfjtM"
      },
      "execution_count": null,
      "outputs": []
    },
    {
      "cell_type": "code",
      "source": [
        "# Olekseii's solution\n",
        "\n",
        "# email = 'patrick.slattery16@citytech.cuny.edu'\n",
        "email = 'fname.lname99@mail.citytech.cuny.edu'\n",
        "\n",
        "email_match = re.search(r'^[a-zA-Z0-9._]+@[a-zA-Z.]+$', email)\n",
        "\n",
        "match_list = re.split(r\"@\",email_match.group())\n",
        "\n",
        "dt_list = match_list[-1].split('.')\n",
        "\n",
        "domain_tld = (dt_list[-2], dt_list[-1])\n",
        "\n",
        "print('The domain and TLD of',  email,'are:', domain_tld)"
      ],
      "metadata": {
        "id": "ICx0lrygfjtM"
      },
      "execution_count": null,
      "outputs": []
    },
    {
      "cell_type": "markdown",
      "metadata": {
        "id": "BVufuPOXfjtM"
      },
      "source": [
        "#### <u><b><font color=blue>Regex Email Exercise 2</b></font></u>\n",
        "\n",
        "Suppose you want to find the email address inside the string 'xyz myemail@citytech.edu data  science'.\n",
        "\n",
        "Here's an attempt using the pattern `r'\\w+@\\w+'`:"
      ]
    },
    {
      "cell_type": "markdown",
      "source": [
        "#####***SOLUTION - don't look here***   "
      ],
      "metadata": {
        "id": "nUBEAjy-gN9m"
      }
    },
    {
      "cell_type": "code",
      "metadata": {
        "id": "Mq--iUogfjtN"
      },
      "source": [
        "emailText = 'xyz my-email@citytech.edu data science'\n",
        "match = re.search(r'\\w+@\\w+', emailText)\n",
        "if match:\n",
        "  print (match.group())"
      ],
      "execution_count": null,
      "outputs": []
    },
    {
      "cell_type": "markdown",
      "metadata": {
        "id": "KF9jBuTNfjtN"
      },
      "source": [
        "The search does not get the whole email address in this case because the `\\w` does not match the `'-'` or `'.'` in the address. We'll fix this using the regular expression features below.\n",
        "\n",
        "**Square Brackets**\n",
        "\n",
        "Square brackets can be used to indicate a set of chars, so `[abc]` matches `'a'` or `'b'` or `'c'`. The codes `\\w`, `\\s` etc. work inside square brackets too with the one exception that dot (`.`) just means a literal dot. For the emails problem, the square brackets are an easy way to add `'.'` and `'-'` to the set of chars which can appear around the `@` with the pattern `r'[\\w.-]+@[\\w.-]+'` to get the whole email address:"
      ]
    },
    {
      "cell_type": "code",
      "metadata": {
        "id": "sltcsv3UfjtN"
      },
      "source": [
        "emailText = 'xyz my-email@citytech.edu data science'\n",
        "match = re.search(r'[\\w.-]+@[\\w.-]+', emailText)\n",
        "if match:\n",
        "  print (match.group())"
      ],
      "execution_count": null,
      "outputs": []
    },
    {
      "cell_type": "markdown",
      "metadata": {
        "id": "y2CAb8fpfjtN"
      },
      "source": [
        "We will use `group()` function to extract the account name and the domain from the email address\n"
      ]
    },
    {
      "cell_type": "code",
      "metadata": {
        "id": "uPc_0WWufjtN"
      },
      "source": [
        "emailText = 'xyz my-email@citytech.edu data science'\n",
        "match = re.search(r'([\\w.-]+)@([\\w.-]+)', emailText)\n",
        "if match:\n",
        "  print (\"email address:\\t\", match.group())\n",
        "  print (\"email account:\\t\", match.group(1))\n",
        "  print (\"email domain:\\t\", match.group(2))"
      ],
      "execution_count": null,
      "outputs": []
    },
    {
      "cell_type": "markdown",
      "source": [
        "### More Regex `.search()` and `match()` Examples"
      ],
      "metadata": {
        "id": "fxszqgsurDH2"
      }
    },
    {
      "cell_type": "code",
      "metadata": {
        "id": "m0VCnckOrDH3"
      },
      "source": [
        "inputStr = 'an example word: dog!!'\n",
        "match_object3 = re.search(r'word: \\w\\w\\w', inputStr)\n",
        "# If-statement after search() tests if it succeeded\n",
        "if match_object3:\n",
        "  # print ('found', match_object3.group()) ## 'found word:dog'\n",
        "  print ('found', match_object3.group(0)) ## 'found word:dog'\n",
        "else:\n",
        "  print ('did not find')\n",
        "print (\"Done with the example\")"
      ],
      "execution_count": null,
      "outputs": []
    },
    {
      "cell_type": "code",
      "metadata": {
        "id": "ksOkRHNLrDH3"
      },
      "source": [
        "line = \"Cats are smarter than dogs\"\n",
        "\n",
        "matchObj = re.match( r'(.*) are (.*?) .*', line) # regExs within a regEx\n",
        "\n",
        "if matchObj:\n",
        "   # print (\"matchObj.group() : \", matchObj.group(0))\n",
        "   print (\"matchObj.group(0) : \", matchObj.group(0))\n",
        "   print (\"matchObj.group(1) : \", matchObj.group(1))\n",
        "   print (\"matchObj.group(2) : \", matchObj.group(2))\n",
        "else:\n",
        "   print (\"No match!!\")"
      ],
      "execution_count": null,
      "outputs": []
    },
    {
      "cell_type": "code",
      "source": [
        "line = \"My cats are smarter than your dogs\"\n",
        "\n",
        "matchObj = re.match( r'(.*) are (.*?) .*', line) # regExs within a regEx\n",
        "\n",
        "if matchObj:\n",
        "   # print (\"matchObj.group() : \", matchObj.group(0))\n",
        "   print (\"matchObj.group(0) : \", matchObj.group(0))\n",
        "   print (\"matchObj.group(1) : \", matchObj.group(1))\n",
        "   print (\"matchObj.group(2) : \", matchObj.group(2))\n",
        "else:\n",
        "   print (\"No match!!\")"
      ],
      "metadata": {
        "id": "-GEa0yzSrDH3"
      },
      "execution_count": null,
      "outputs": []
    },
    {
      "cell_type": "markdown",
      "source": [
        "\n",
        "\n",
        "---\n",
        "\n"
      ],
      "metadata": {
        "id": "lM-oyEw6d6mr"
      }
    },
    {
      "cell_type": "markdown",
      "source": [
        "---\n",
        "#### <b>`re.match()`</b>"
      ],
      "metadata": {
        "id": "J4bLoRKld92q"
      }
    },
    {
      "cell_type": "markdown",
      "source": [
        "    \n",
        "**Purpose**:  \n",
        "Checks only the beginning of the string for a match.  \n",
        "\n",
        "Returns a match object or None.  \n",
        "\n",
        "**Example**:  "
      ],
      "metadata": {
        "id": "F1PryiRgd7oB"
      }
    },
    {
      "cell_type": "code",
      "source": [
        "re.match(r'\\d+', '123abc')  # Matches '123'"
      ],
      "metadata": {
        "id": "Rld4MTdOd7oC"
      },
      "execution_count": null,
      "outputs": []
    },
    {
      "cell_type": "code",
      "source": [
        "re.match(r'\\d+', 'abc123')  # Returns None"
      ],
      "metadata": {
        "id": "bGuJK_rBd7oC"
      },
      "execution_count": null,
      "outputs": []
    },
    {
      "cell_type": "markdown",
      "source": [
        "**Key Points**:  \n",
        "Only useful if the pattern must start at the beginning of the string.  \n",
        "\n",
        "Often confused with `re.search()` —but `re.search()` scans the whole string.  "
      ],
      "metadata": {
        "id": "drOZsCtnd7oC"
      }
    },
    {
      "cell_type": "markdown",
      "source": [
        "\n",
        "\n",
        "---\n",
        "\n"
      ],
      "metadata": {
        "id": "2lq173GvWr5H"
      }
    },
    {
      "cell_type": "markdown",
      "source": [
        "## 6. Using an Online Regex Tester"
      ],
      "metadata": {
        "id": "E1cCevGwUBF1"
      }
    },
    {
      "cell_type": "markdown",
      "source": [
        "Before we go further, have a look at one of the many available regex testers available online.  The site `regexr.com` offers an easy way to test a regex pattern against a set of test text.  At the bottom of the web page, an interactive frame lets you see which parts of the regex pattern are impacting the result."
      ],
      "metadata": {
        "id": "Zz6aVvMXXL38"
      }
    },
    {
      "cell_type": "markdown",
      "source": [
        "<b>[Click for RegExr](https://regexr.com/)</b>"
      ],
      "metadata": {
        "id": "3N_uy79BX1Ky"
      }
    },
    {
      "cell_type": "markdown",
      "source": [
        "\n",
        "\n",
        "---\n",
        "\n"
      ],
      "metadata": {
        "id": "mH87pW7cXK2T"
      }
    },
    {
      "cell_type": "markdown",
      "source": [
        "## 7. Multiple Matches with Regex `re.findall()`"
      ],
      "metadata": {
        "id": "UQXtlviqUA_K"
      }
    },
    {
      "cell_type": "markdown",
      "source": [
        "### `re.findall()`  \n",
        "**Purpose**:   \n",
        "Finds all non-overlapping matches of the pattern in the string.  \n",
        "\n",
        "Returns a list of strings (or tuples if groups are used).  \n",
        "\n",
        "**Example**:  "
      ],
      "metadata": {
        "id": "JOr-XhpxYcDO"
      }
    },
    {
      "cell_type": "code",
      "source": [
        "re.findall(r'\\d+', 'abc123xyz456')  # Returns ['123', '456']\n"
      ],
      "metadata": {
        "id": "cndVTKPTYcDO"
      },
      "execution_count": null,
      "outputs": []
    },
    {
      "cell_type": "markdown",
      "source": [
        "**Key Points**:  \n",
        "Use when you want a list of all matches.  \n",
        "\n",
        "Does not return **match objects**—just the matched substrings.  \n",
        "\n",
        "Efficient for extracting multiple items like numbers, words, etc.  "
      ],
      "metadata": {
        "id": "QEpAzdwgYcDO"
      }
    },
    {
      "cell_type": "code",
      "source": [
        "emailText = '''\n",
        "your2_email@citytech.edu,\n",
        "'''"
      ],
      "metadata": {
        "id": "m8ZQplxUiIun"
      },
      "execution_count": null,
      "outputs": []
    },
    {
      "cell_type": "code",
      "source": [
        "emailText = '''\n",
        "your2_email -at- citytech.edu,\n",
        "'''"
      ],
      "metadata": {
        "id": "5w3u-jd-iIun"
      },
      "execution_count": null,
      "outputs": []
    },
    {
      "cell_type": "code",
      "source": [
        "emailText = '''\n",
        "xyz my-email@citytech.edu data science or\n",
        "your2_email@citytech.edu,\n",
        "also we can mention their.email@citytech.edu'''"
      ],
      "metadata": {
        "id": "HpNFbD1siIun"
      },
      "execution_count": null,
      "outputs": []
    },
    {
      "cell_type": "code",
      "metadata": {
        "id": "2CymgwEEiIuo"
      },
      "source": [
        "# Using `.findall()` with regex groups\n",
        "matches = re.findall(r'([\\w\\.-]+)@([\\w\\.-]+)', emailText)\n",
        "print('The variable `matches`:')\n",
        "print (matches)\n",
        "print()\n",
        "print('Iterating through each element of `matches`:')\n",
        "for match in matches:\n",
        "  print ('Group 1:', match[0], end='\\t')  ## username\n",
        "  print ('Group 1:', match[1])  ## host"
      ],
      "execution_count": null,
      "outputs": []
    },
    {
      "cell_type": "code",
      "source": [
        "type(matches)"
      ],
      "metadata": {
        "id": "IGtUvXVUiIuo"
      },
      "execution_count": null,
      "outputs": []
    },
    {
      "cell_type": "code",
      "source": [
        "print(len(matches))"
      ],
      "metadata": {
        "id": "RFOEAbfciIur"
      },
      "execution_count": null,
      "outputs": []
    },
    {
      "cell_type": "code",
      "metadata": {
        "id": "u9j4oKCDiIut"
      },
      "source": [
        "# Using `.findall()` without regex groups\n",
        "matches = re.findall(r'[\\w\\.-]+@[\\w\\.-]+', emailText)\n",
        "print (matches)\n",
        "print()\n",
        "for match in matches:\n",
        "  print (match)"
      ],
      "execution_count": null,
      "outputs": []
    },
    {
      "cell_type": "code",
      "source": [
        "# Comparing use of `.search() with using `.findall()` without regex groups\n",
        "matches_one = re.search(r'[\\w\\.-]+@[\\w\\.-]+', emailText)\n",
        "print ('The search match result: ', matches_one)\n",
        "print()\n",
        "# the result is not an iterable\n",
        "# for match in matches_one:\n",
        "#   print (match)\n",
        "\n",
        "matches_all = re.findall(r'[\\w\\.-]+@[\\w\\.-]+', emailText)\n",
        "print ('The findall match result: ', matches_all)\n",
        "print()\n",
        "# the result is an iterable\n",
        "for match in matches_all:\n",
        "  print (match)"
      ],
      "metadata": {
        "id": "RHARGULeiIuu"
      },
      "execution_count": null,
      "outputs": []
    },
    {
      "cell_type": "markdown",
      "source": [
        "\n",
        "\n",
        "---\n",
        "\n"
      ],
      "metadata": {
        "id": "c57i5vjCYFzh"
      }
    },
    {
      "cell_type": "markdown",
      "source": [
        "## 8. Regex Match Objects"
      ],
      "metadata": {
        "id": "7j_eAHivUA4h"
      }
    },
    {
      "cell_type": "markdown",
      "metadata": {
        "id": "TxqMgkhgZiSE"
      },
      "source": [
        "#### We can store the result of `re.search(pat, str)` in a variable.\n",
        "\n",
        "In Python a regular expression search is typically written as:\n",
        "\n",
        "`match = re.search(pat, str)`\n",
        "\n",
        "The code `match = re.search(pat, str)` stores the search result in a variable named \"match\".\n",
        "\n",
        "The `re.search()` method takes a regular expression pattern and a string and searches for that pattern within the string. If the search is successful, `search()` returns a match object or `None` otherwise.\n",
        "\n",
        "Then the `if`-statement tests the match -- if `True` the search succeeded and `match.group()` is the matching text (e.g. 'word: cat'). Otherwise if the match is `False` (`None` to be more specific), then the search did not succeed, and there is no matching text.\n",
        "\n",
        "The 'r' at the start of the pattern string designates a python \"raw\" string which passes through backslashes without change which is very handy for regular expressions. It is recommended that you always write pattern strings with the 'r' just as a habit.\n",
        "\n"
      ]
    },
    {
      "cell_type": "code",
      "metadata": {
        "id": "zTtv47eHZiSE"
      },
      "source": [
        "inputStr = 'An example word: cat!!'\n",
        "search_result = re.search(r'word: \\w\\w\\w', inputStr) ## both 'cat' and 'dog' are 3-letter words\n",
        "# search_result\n",
        "print(search_result)"
      ],
      "execution_count": null,
      "outputs": []
    },
    {
      "cell_type": "code",
      "source": [
        "inputStr = 'An example word: ice!!'\n",
        "search_object = re.search(r'word: \\w\\w\\w', inputStr) ## both 'cat' and 'dog' are 3-letter words\n",
        "# search_object\n",
        "print(search_object)"
      ],
      "metadata": {
        "id": "FVwjMLHIZiSE"
      },
      "execution_count": null,
      "outputs": []
    },
    {
      "cell_type": "markdown",
      "source": [
        "🧠 What Is a Match Object?\n",
        "When you use functions like `re.match()`, `re.search()`, or `re.finditer()` in Python's re module, they return a Match object—but only if the pattern matches.  \n",
        "\n",
        "A Match object contains detailed information about the match:  \n",
        "\n",
        "- What part of the string matched  \n",
        "\n",
        "- Where the match starts and ends  \n",
        "\n",
        "- Any groups (sub-patterns in parentheses)  \n",
        "  \n",
        "**Example**:  "
      ],
      "metadata": {
        "id": "Cqgr-uvObr8P"
      }
    },
    {
      "cell_type": "code",
      "source": [
        "text = \"Order number: 12345\"\n",
        "match = re.search(r'\\d+', text)  # Looks for one or more digits\n",
        "\n",
        "if match:\n",
        "    print(\"Match:\", match.group())       # '12345'\n",
        "    print(\"Start index:\", match.start()) # 14\n",
        "    print(\"End index:\", match.end())     # 19\n"
      ],
      "metadata": {
        "id": "e70IsIDXbr8Q"
      },
      "execution_count": null,
      "outputs": []
    },
    {
      "cell_type": "markdown",
      "source": [
        "### 🧰 Useful `Match` Object Methods\n",
        "\n",
        "| Method        | Description                                           | Example Output       |\n",
        "|---------------|-------------------------------------------------------|-----------------------|\n",
        "| `.group()`    | Returns the full matched text                         | `'12345'`             |\n",
        "| `.start()`    | Returns the starting index of the match in the string | `14`                  |\n",
        "| `.end()`      | Returns the ending index (one past the last character)| `19`                  |\n",
        "| `.span()`     | Returns a tuple with the start and end positions      | `(14, 19)`            |\n",
        "| `.group(n)`   | Returns the text matched by group `n` (using `()` in pattern\n"
      ],
      "metadata": {
        "id": "ym9qEG45br8Q"
      }
    },
    {
      "cell_type": "markdown",
      "source": [
        "🧩 **Example with Groups**:\n"
      ],
      "metadata": {
        "id": "F9IBegKSbr8Q"
      }
    },
    {
      "cell_type": "code",
      "source": [
        "text = \"Name: Alice, Age: 30\"\n",
        "match = re.search(r'Name: (\\w+), Age: (\\d+)', text)\n",
        "\n",
        "if match:\n",
        "    print(\"Name:\", match.group(1))  # 'Alice'\n",
        "    print(\"Age:\", match.group(2))   # '30'\n"
      ],
      "metadata": {
        "id": "8dmYhsmObr8R"
      },
      "execution_count": null,
      "outputs": []
    },
    {
      "cell_type": "markdown",
      "source": [
        "In the case above:  \n",
        "\n",
        "-  `group(0)` is the entire match: 'Name: Alice, Age: 30'\n",
        "\n",
        "- `group(1)` is the first group: 'Alice'\n",
        "\n",
        "- `group(2)` is the second group: '30'\n",
        "\n"
      ],
      "metadata": {
        "id": "DxtO4Hgtbr8R"
      }
    },
    {
      "cell_type": "markdown",
      "source": [
        "✅ **Key Takeaways**:  \n",
        "A Match object holds the details of a successful match.  \n",
        "\n",
        "- Always check if match: before using its methods to avoid errors.  \n",
        "\n",
        "- Use `.group()`, `.start()`, `.end()`, and `.span()` to extract match info.  \n",
        "\n",
        "- Use parentheses in your regex pattern to define groups for finer control.  "
      ],
      "metadata": {
        "id": "zWXSKhm_br8R"
      }
    },
    {
      "cell_type": "markdown",
      "metadata": {
        "id": "A5VEbPoTlMaB"
      },
      "source": [
        "#### `.match()` vs `.search()`\n",
        "\n",
        "This is the trickiest part. A good explanation is provided in this tutorial: https://www.8bitavenue.com/difference-between-re-search-and-re-match-in-python/ which is paraphrased here.\n",
        "\n",
        "Additional information can also be found at ▶\n",
        "\n",
        "https://realpython.com/regex-python/\n",
        "\n",
        "https://realpython.com/regex-python-part-2/\n",
        "\n"
      ]
    },
    {
      "cell_type": "markdown",
      "metadata": {
        "id": "7JdUKgaslMaC"
      },
      "source": [
        "When searching or matching, regular expression operations can take optional flags or modifiers. The following two modifiers are the most used ones…\n",
        "\n",
        "* `re.M multiline`\n",
        "* `re.I ignore case`"
      ]
    },
    {
      "cell_type": "markdown",
      "metadata": {
        "id": "kNJ62ZqUlMaC"
      },
      "source": [
        "#### .match()\n",
        "\n",
        "`re.match` matches an expression at the beginning of a string. If a match is found, a match object is returned, otherwise `None` is returned. If the input is a multiline string (i.e. starts and ends with three double quotes) that does not change the behavior of the match operation. `re.match` always tries to match the beginning of the string. In regular expressions syntax, the control character (^) is used to match the beginning of a string. If this character is used with re.match, it has no effect. The syntax for `re.match` operation is as follows…\n",
        "\n"
      ]
    },
    {
      "cell_type": "markdown",
      "metadata": {
        "id": "cl_Qnj5flMaC"
      },
      "source": [
        "`mobj = re.match(pat, str, flag)`\n",
        "\n",
        "* pat: regular expression pattern to match\n",
        "* str: string in which to search for the pattern\n",
        "* flags: one or more modifiers, for example re.M|re.I"
      ]
    },
    {
      "cell_type": "markdown",
      "metadata": {
        "id": "OUsIZitqlMaD"
      },
      "source": [
        "#### `.match(pattern, string, flags=0)`\n",
        "\n",
        "Looks for a regex match at the beginning of a string.\n",
        "\n",
        "If zero or more characters at the beginning of *string* match the regular expression *pattern*, return a corresponding match object. Return `None` if the string does not match the pattern; note that this is different from a zero-length match.\n",
        "\n",
        "This is identical to `re.search()`, except that `re.search()` returns a match if the regular expression *pattern* matches anywhere in *string*, whereas `re.match()` returns a match only if the regular expression *pattern* matches at the beginning of *string*."
      ]
    },
    {
      "cell_type": "markdown",
      "metadata": {
        "id": "tT_UD0HvlMaD"
      },
      "source": [
        "### .search()\n",
        "\n",
        "`re.search` attempts to find the first occurrence of the pattern anywhere in the input string as opposed to the beginning. If the search is successful, `re.search` returns a match object, otherwise it returns `None`. The syntax for re.search operation is as follows…"
      ]
    },
    {
      "cell_type": "markdown",
      "metadata": {
        "id": "kUZF424elMaD"
      },
      "source": [
        "`mobj = re.search(pat, str, flag)`\n",
        "\n",
        "* pat: regular expression pattern to search for\n",
        "* str: string in which to search for the pattern\n",
        "* flags: one or more modifiers, for example re.M|re.I"
      ]
    },
    {
      "cell_type": "markdown",
      "metadata": {
        "id": "eG8TZcn7lMaD"
      },
      "source": [
        "#### `.search(pattern, string, flags=0)`\n",
        "\n",
        "Scans a string for a regex match.\n",
        "\n",
        "Scan through *string* looking for the **first** location where the regular expression *pattern* produces a match, and return a corresponding match object. Return `None` if no position in the string matches the pattern.\n",
        "\n",
        "\n",
        "You can use this function in a Boolean context like a conditional statement that checkes if a pattern is found in the input string (`True`) or not (`False`)."
      ]
    },
    {
      "cell_type": "markdown",
      "source": [
        "\n",
        "\n",
        "---\n",
        "\n"
      ],
      "metadata": {
        "id": "EN_C_34lZg3K"
      }
    },
    {
      "cell_type": "markdown",
      "source": [
        "## 9. Looping with Regex `re.finditer()`"
      ],
      "metadata": {
        "id": "iruSdsKjUAwp"
      }
    },
    {
      "cell_type": "markdown",
      "metadata": {
        "id": "6SAbKPxFiIuj"
      },
      "source": [
        "### Iteration Using Regular Expressions\n",
        "\n",
        "If we want to extract data from a string in Python we can use the `findall()` or `finditer()` methods to extract all of the substrings which match a regular expression.\n",
        "\n",
        "These two methods produce results of different types.\n",
        "\n",
        "Let’s use the example of wanting to extract anything that looks like an email address from any line regardless of format. For example, we want to pull the email addresses from each of the following lines:"
      ]
    },
    {
      "cell_type": "markdown",
      "source": [
        "### re.finditer()  \n",
        "**Purpose**:  \n",
        "Like `findall()`, but returns an iterator of match objects.  \n",
        "\n",
        "Each match object provides more detail (start/end position, groups, etc.)\n",
        "\n",
        "**Example**:\n"
      ],
      "metadata": {
        "id": "7D9XVrondcsb"
      }
    },
    {
      "cell_type": "code",
      "source": [
        "for match in re.finditer(r'\\d+', 'abc123xyz456'):\n",
        "    print(match.group(), match.start(), match.end())\n"
      ],
      "metadata": {
        "id": "Rh22BdVrdcsc"
      },
      "execution_count": null,
      "outputs": []
    },
    {
      "cell_type": "markdown",
      "source": [
        "**Key Points**:  \n",
        "More memory-efficient than findall() for large texts.  \n",
        "\n",
        "Allows access to match **metadata**, which `findall()` does not provide.  "
      ],
      "metadata": {
        "id": "3M_UpVv3dcsc"
      }
    },
    {
      "cell_type": "code",
      "metadata": {
        "id": "xf2XWBhxiIuk"
      },
      "source": [
        "emailText = '''xyz my-email@citytech.edu data science or\n",
        "your_email@citytech.edu, also we can mention their.email@citytech.edu'''"
      ],
      "execution_count": null,
      "outputs": []
    },
    {
      "cell_type": "code",
      "metadata": {
        "id": "EbYJSKJFiIuk"
      },
      "source": [
        "match = re.search(r'([\\w.-]+)@([\\w.-]+)', emailText)\n",
        "if match:\n",
        "  print (\"email address:\\t\", match.group())\n",
        "  print (\"email account:\\t\", match.group(1))\n",
        "  print (\"email domain:\\t\", match.group(2))"
      ],
      "execution_count": null,
      "outputs": []
    },
    {
      "cell_type": "markdown",
      "source": [
        "#### Using `.finditer` for Regular Expression Matches"
      ],
      "metadata": {
        "id": "ZAJUDDxIiIuk"
      }
    },
    {
      "cell_type": "code",
      "source": [
        "emailText = '''xyz my-email@citytech.edu data science or\n",
        "your2_email@citytech.edu, also we can mention their.email@citytech.edu'''"
      ],
      "metadata": {
        "id": "e9bn0eKViIul"
      },
      "execution_count": null,
      "outputs": []
    },
    {
      "cell_type": "code",
      "metadata": {
        "id": "24cTYn1hiIul"
      },
      "source": [
        "matches = re.finditer(r'[\\w.-]+@[\\w.-]+', emailText)\n",
        "for match in matches:\n",
        "    print(match.group())"
      ],
      "execution_count": null,
      "outputs": []
    },
    {
      "cell_type": "code",
      "metadata": {
        "id": "zqD1qMKniIul"
      },
      "source": [
        "matches = re.finditer(r'([\\w.-]+)@([\\w.-]+)', emailText)\n",
        "for match in matches:\n",
        "    print(match.group(),\"\\t\", match.group(1),\"\\t\", match.group(2))"
      ],
      "execution_count": null,
      "outputs": []
    },
    {
      "cell_type": "code",
      "metadata": {
        "id": "coJadhd6iIum"
      },
      "source": [
        "print (matches)"
      ],
      "execution_count": null,
      "outputs": []
    },
    {
      "cell_type": "markdown",
      "metadata": {
        "id": "fvYnIeVCk4cC"
      },
      "source": [
        "#### `.finditer()` vs. `.findall()`\n",
        "\n",
        "* `.findall()` returns a **list** of all matches of a regex in a string.\n",
        "* `.finditer()` returns an iterator that yields regex matches.\n",
        "\n",
        "https://realpython.com/regex-python/\n",
        "\n",
        "https://realpython.com/regex-python-part-2/\n",
        "\n",
        "https://www.8bitavenue.com/difference-between-re-search-and-re-match-in-python/"
      ]
    },
    {
      "cell_type": "markdown",
      "metadata": {
        "id": "PHiX788Dk4cD"
      },
      "source": [
        "`re.findall(<regex>, <string>)` returns a list of all non-overlapping matches of `<regex>` in `<string>`. It scans the search string from left to right and returns all matches in the order found:"
      ]
    },
    {
      "cell_type": "code",
      "metadata": {
        "id": "FEZuqZ9pk4cD"
      },
      "source": [
        "re.findall(r'#(\\w+)#', '#foo#.#bar#.#baz#')"
      ],
      "execution_count": null,
      "outputs": []
    },
    {
      "cell_type": "markdown",
      "metadata": {
        "id": "Ax59TUFAk4cD"
      },
      "source": [
        "In this case, the specified regex is `#(\\w+)#`. The matching strings are `'#foo#'`, `'#bar#'`, and `'#baz#'`. But the hash (`#`) characters don’t appear in the return list because they’re outside the grouping parentheses.\n",
        "\n",
        "If `<regex>` contains more than one capturing group, then `re.findall()` returns a list of tuples containing the captured groups. The length of each tuple is equal to the number of groups specified:"
      ]
    },
    {
      "cell_type": "code",
      "metadata": {
        "id": "xN5zXrzWk4cD"
      },
      "source": [
        "re.findall(r'(\\w+),(\\w+)', 'foo,bar,baz,qux,quux,corge')"
      ],
      "execution_count": null,
      "outputs": []
    },
    {
      "cell_type": "code",
      "metadata": {
        "id": "zxo5ZY8Gk4cD"
      },
      "source": [
        "re.findall(r'(\\w+),(\\w+),(\\w+)', 'foo,bar,baz,qux,quux,corge')"
      ],
      "execution_count": null,
      "outputs": []
    },
    {
      "cell_type": "markdown",
      "metadata": {
        "id": "UPGlm9Fyk4cD"
      },
      "source": [
        "`re.finditer(<regex>, <string>)` scans `<string>` for non-overlapping matches of `<regex>` and returns an iterator that yields the match objects from any it finds. It scans the search string from left to right and returns matches in the order it finds them:"
      ]
    },
    {
      "cell_type": "code",
      "metadata": {
        "id": "aHXmaiKZk4cD"
      },
      "source": [
        "it = re.finditer(r'\\w+', '...foo,,,,bar:%$baz//|')\n",
        "it"
      ],
      "execution_count": null,
      "outputs": []
    },
    {
      "cell_type": "code",
      "metadata": {
        "id": "KO4jh7DXk4cD"
      },
      "source": [
        "for i in re.finditer(r'\\w+', '...foo,,,,bar:%$baz//|'):\n",
        "  print(i.group())"
      ],
      "execution_count": null,
      "outputs": []
    },
    {
      "cell_type": "markdown",
      "metadata": {
        "id": "S0JMdIZOk4cD"
      },
      "source": [
        "`re.findall()` and `re.finditer()` are very similar, but they differ in two respects:\n",
        "\n",
        "1. `re.findall()` returns a **list**, whereas `re.finditer()` returns an **iterator**.\n",
        "\n",
        "The items in the list that `re.findall()` returns are the actual matching strings, whereas the items yielded by the iterator that `re.finditer()` returns are match objects.\n",
        "\n",
        "Any task that you could accomplish with one, you could probably also manage with the other. Which one you choose will depend on the circumstances. However, a lot of useful information can be obtained from a match object. If you need that information, then `re.finditer()` will probably be the better choice. For example, you can use the `.group()` method to return Match object."
      ]
    },
    {
      "cell_type": "markdown",
      "metadata": {
        "id": "aoPek8GZk4cD"
      },
      "source": [
        "#### Match objects\n",
        "\n",
        "If a match is found when using `re.finditer()`, `re.match` or `re.search`, we can use some useful methods provided by the match object. Here is a short list of such methods, you may check the reference section for more details…\n",
        "\n",
        "* `group()` returns the part of the string matched by the entire regular expression\n",
        "* `group(1)` returns the text matched by the second capturing group\n",
        "* `start()` and `end()` return the indices of the start and end of the substring matched by the capturing group."
      ]
    },
    {
      "cell_type": "markdown",
      "source": [
        "---"
      ],
      "metadata": {
        "id": "TgyfYdu7iIum"
      }
    },
    {
      "cell_type": "markdown",
      "source": [
        "#### 🧰 Summary of Differences: Python `re` Functions"
      ],
      "metadata": {
        "id": "lepeh0j3eXIr"
      }
    },
    {
      "cell_type": "markdown",
      "source": [
        "\n",
        "| Function        | Searches Whole String? | Returns What?              | Multiple Matches? | Match Object? |\n",
        "|-----------------|------------------------|-----------------------------|-------------------|---------------|\n",
        "| `re.search()`   | Yes                    | First match                 | No                | Yes           |\n",
        "| `re.findall()`  | Yes                    | List of matches (strings)   | Yes               | No            |\n",
        "| `re.finditer()` | Yes                    | Iterator of match objects   | Yes               | Yes           |\n",
        "| `re.match()`    | No (only at start)     | First match (if at start)   | No                | Yes           |\n"
      ],
      "metadata": {
        "id": "-jYRQy21eUEJ"
      }
    },
    {
      "cell_type": "markdown",
      "source": [
        "\n",
        "\n",
        "---\n",
        "\n"
      ],
      "metadata": {
        "id": "BdWQZHMpeUEJ"
      }
    },
    {
      "cell_type": "markdown",
      "source": [
        "## 10. Substitution with Regex `re.sub()`"
      ],
      "metadata": {
        "id": "xLlWMXp1UAnQ"
      }
    },
    {
      "cell_type": "markdown",
      "metadata": {
        "id": "fXM3XKcHlcMH"
      },
      "source": [
        "### Substitution with `.sub()`\n",
        "\n",
        "The `re.sub(pat, replacement, str)` function searches for all the instances of pattern in the given string, and replaces them. The replacement string can include `'\\1'`, `'\\2'` which refer to the text from `group(1)`, `group(2)`, and so on from the original matching text.\n",
        "\n",
        "Here's an example which searches for all the email addresses, and changes them to keep the user `(\\1)` but have `nyc.gov` as the host."
      ]
    },
    {
      "cell_type": "code",
      "metadata": {
        "id": "qdNoiaQAlcMI"
      },
      "source": [
        "text = '''xyz my-email@citytech.edu data science or\n",
        "your_email@citytech.edu, also we can mention their.email@citytech.edu'''\n",
        "## re.sub(pat, replacement, str) -- returns new string with all replacements,\n",
        "## \\1 is group(1), \\2 group(2) in the replacement\n",
        "print (re.sub(r'([\\w\\.-]+)@([\\w\\.-]+)', r'\\1@nyc.gov', text))\n"
      ],
      "execution_count": null,
      "outputs": []
    },
    {
      "cell_type": "markdown",
      "metadata": {
        "id": "5SNoPdXklcMJ"
      },
      "source": [
        "#### Regular expression subsitution    \n",
        "\n",
        "Regular expression substitution works on an `input-string` to produce a result with all (or a specified-number) of instances matching a `regex-pattern` replaced with a `substitution-string`.    \n",
        "\n",
        "More at [PythonExamples.org](https://pythonexamples.org/python-re-sub/)    \n",
        "    \n",
        "There are also some good examples and practice exercises using `re.sub()` at [Python Regex Replace Pattern in a string using `re.sub()`](https://pynative.com/python-regex-replace-re-sub/) on **PyNative.com**.      \n"
      ]
    },
    {
      "cell_type": "markdown",
      "metadata": {
        "id": "ekz1wVw7lcMK"
      },
      "source": [
        "##### `re.sub(pattern, substitution, input, count=1 flags=0)`\n",
        "\n",
        "Evaluate a regular expression `pattern` to be replaced by a `substitution` in a `string` for `count` number of times (default=all), and any `flags` or no flags.\n"
      ]
    },
    {
      "cell_type": "markdown",
      "metadata": {
        "id": "EI-jkkyJlcMK"
      },
      "source": [
        "####***Example 1: `re.sub()` - Replace Pattern Matchings with Replacement String***    \n",
        "    \n",
        "In this example, we will take a string and replace patterns that contains a continuous occurrence of numbers with the string `NN`. We will do the replacement using `re.sub()` function.    "
      ]
    },
    {
      "cell_type": "code",
      "metadata": {
        "id": "YjiYSwaUlcMK"
      },
      "source": [
        "pattern = '[0-9]+'\n",
        "string = 'Account Number - 12345, Amount - 586.32'\n",
        "repl = r'NN'\n",
        "\n",
        "print('Original string')\n",
        "print(string)\n",
        "\n",
        "result = re.sub(pattern, repl, string)\n",
        "\n",
        "print('After replacement')\n",
        "print(result)"
      ],
      "execution_count": null,
      "outputs": []
    },
    {
      "cell_type": "markdown",
      "metadata": {
        "id": "fYBLTwiJlcMK"
      },
      "source": [
        "#### ***Example 2: re.sub() - Limit Maximum Number of Replacement***\n",
        "\n",
        "We can limit the maximum number of replacements by re.sub() function by specifying `count` optional argument.    \n",
        "\n",
        "In this example, we will take the same `pattern`, `string`, and `replacement` as in the previous example. But, we limit the maximum number of replacements to `2`.    "
      ]
    },
    {
      "cell_type": "code",
      "metadata": {
        "id": "svnzdfozlcMK"
      },
      "source": [
        "pattern = '[0-9]+'\n",
        "string = 'Account Number - 12345, Amount - 586.32'\n",
        "repl = r'NN'\n",
        "\n",
        "print('Original string')\n",
        "print(string)\n",
        "\n",
        "result = re.sub(pattern, repl, string, count=2)\n",
        "\n",
        "print('After replacement')\n",
        "print(result)"
      ],
      "execution_count": null,
      "outputs": []
    },
    {
      "cell_type": "markdown",
      "metadata": {
        "id": "Al4ojOYolcMK"
      },
      "source": [
        "#### ***Example 3: `re.sub()` - Optional Flags***    \n",
        "    \n",
        "In this example, we will pass optional `flags` argument `re.IGNORECASE` to `re.sub()` function. This flag tells `re.sub()` function to ignore case while matching the pattern in the string.    "
      ]
    },
    {
      "cell_type": "code",
      "source": [
        "pattern = '[a-z]+'\n",
        "string = 'Account Number - 12345, Amount - 586.32'\n",
        "repl = r'AA'\n",
        "\n",
        "print('Original string')\n",
        "print(string)\n",
        "\n",
        "result = re.sub(pattern, repl, string, flags=re.IGNORECASE)\n",
        "\n",
        "print('After replacement')\n",
        "print(result)"
      ],
      "metadata": {
        "id": "Ulu8L09xlcML"
      },
      "execution_count": null,
      "outputs": []
    },
    {
      "cell_type": "markdown",
      "source": [
        "\n",
        "\n",
        "---\n",
        "\n"
      ],
      "metadata": {
        "id": "JOWhMsyulcML"
      }
    },
    {
      "cell_type": "markdown",
      "metadata": {
        "id": "lQQjNPWWlcML"
      },
      "source": [
        "Another explanation of the basics of regular expressions with examples of different functions and their uses as well as descriptions of pattern-matching can be found at Geeks for Geeks post on Regular Expressions for Python here ▶ https://www.geeksforgeeks.org/regular-expression-python-examples-set-1/"
      ]
    },
    {
      "cell_type": "markdown",
      "source": [
        "\n",
        "\n",
        "---\n",
        "\n"
      ],
      "metadata": {
        "id": "m1CMKzd1aDQY"
      }
    },
    {
      "cell_type": "markdown",
      "source": [
        "## 11. Character Classes and Ranges"
      ],
      "metadata": {
        "id": "NwxptOsMUAdm"
      }
    },
    {
      "cell_type": "markdown",
      "source": [
        "**1. Predefined Character Classes**  \n",
        "The `re` module includes shorthand notations for common character categories:  \n",
        "- `\\d` matches any digit (`0–9`)  \n",
        "- `\\w` matches any word character (letters, digits, and underscore)  \n",
        "- `\\s` matches any whitespace character (spaces, tabs, and newlines)\n",
        "- `\\D` matches any non-digit (`0–9`)  \n",
        "- `\\W` matches any non-word character (letters, digits, and underscore)  \n",
        "- `\\S` matches any non-whitespace character (spaces, tabs, and newlines)\n",
        "\n",
        "**2. Custom Character Sets**  \n",
        "Character sets allow the definition of specific groups of characters to match.  \n",
        "- `[aeiou]` matches any lowercase vowel  \n",
        "- `[A-Z]` matches any uppercase letter  \n",
        "- `[^0-9]` matches any character *except* a digit\n",
        "\n",
        "**3. Character Ranges**  \n",
        "Within brackets, a hyphen (`-`) can define a range of characters. For example, `[a-z]` matches any lowercase letter.\n",
        "\n",
        "**4. Special Characters Inside Sets**  \n",
        "Certain characters have special behavior in sets. For example, `-` is used for ranges, and `^` negates the set when placed first.\n"
      ],
      "metadata": {
        "id": "EppEHFWNpgHB"
      }
    },
    {
      "cell_type": "markdown",
      "source": [
        "\n",
        "\n",
        "---\n",
        "\n"
      ],
      "metadata": {
        "id": "kbIg4kNpaCT8"
      }
    },
    {
      "cell_type": "markdown",
      "source": [
        "## 12. Quantifiers and Greediness"
      ],
      "metadata": {
        "id": "fTYHRzTYTuNq"
      }
    },
    {
      "cell_type": "markdown",
      "source": [
        "**1. Basic Quantifiers**  \n",
        "Quantifiers define how many times a pattern element should occur.  \n",
        "- `*` matches zero or more repetitions  \n",
        "- `+` matches one or more repetitions  \n",
        "- `?` matches zero or one occurrence  \n",
        "- `{n}` matches exactly *n* repetitions  \n",
        "- `{n,}` matches *n* or more repetitions  \n",
        "- `{n,m}` matches between *n* and *m* repetitions\n",
        "\n",
        "**2. Greedy Matching**  \n",
        "By default, quantifiers are greedy, meaning they match as much text as possible.  \n",
        "Example: In the string `\"abc123xyz\"`, the pattern `\".*\"` will match the entire string.\n",
        "\n",
        "**3. Non-Greedy (Lazy) Matching**  \n",
        "Appending a `?` to a quantifier makes it non-greedy, meaning it matches the smallest possible portion.  \n",
        "Example: The pattern `\".*?\"` will match the shortest possible string.\n",
        "\n",
        "**4. Use Cases for Greediness Control**  \n",
        "Greedy and non-greedy quantifiers are particularly important when parsing nested structures or matching content between delimiters.\n"
      ],
      "metadata": {
        "id": "N1_1o0UAp617"
      }
    },
    {
      "cell_type": "markdown",
      "metadata": {
        "id": "WcK0rLcrjgG6"
      },
      "source": [
        "### Greedy vs. Non-Greedy Regular Expressions\n",
        "\n",
        "Suppose you have text with tags in it: `<b>foo</b> and <i>so on</i>`\n",
        "\n",
        "Suppose you are trying to match each tag with the pattern '(<.*>)' -- what does it match first?\n",
        "\n"
      ]
    },
    {
      "cell_type": "markdown",
      "source": [
        "\"<b>fo<i>o and </b>so on</i>\""
      ],
      "metadata": {
        "id": "X1HLlTCXFqW1"
      }
    },
    {
      "cell_type": "code",
      "metadata": {
        "id": "csO0svFRjgG7"
      },
      "source": [
        "text = \"<b>foo</b> and <i>so on</i>\"\n",
        "regex = re.compile(r'(<.*>)')\n",
        "match = regex.search(text)\n",
        "print (match.group())\n",
        "\n",
        "print('The end')"
      ],
      "execution_count": null,
      "outputs": []
    },
    {
      "cell_type": "markdown",
      "metadata": {
        "id": "GtdCpIwKjgG7"
      },
      "source": [
        "\n",
        "\n",
        "The result is a little surprising, but the greedy aspect of the `.*` causes it to match the whole `<b>foo</b> and <i>so on</i>` as one big match. The problem is that the `.*` goes as far as is it can, instead of stopping at the first `>` (aka it is \"greedy\").\n",
        "\n",
        "There is an extension to regular expression where you add a `?` at the end, such as `.*?` or `.+?`, changing them to be non-greedy. Now they stop as soon as they can. So the pattern `'(<.*?>)'` will get just `'<b>'` as the first match, and `'</b>'` as the second match, and so on getting each <..> pair in turn. The style is typically that you use a `.*?`, and then immediately its right look for some concrete marker (> in this case) that forces the end of the `.*?` run.\n",
        "\n"
      ]
    },
    {
      "cell_type": "code",
      "metadata": {
        "id": "9XDIOi6RjgG7"
      },
      "source": [
        "text = \"<b>foo</b> and <i>so on</i>\"\n",
        "regex = re.compile(r'(<.?>)')\n",
        "match = regex.search(text)\n",
        "print (match.group())\n",
        "\n",
        "print('The end')"
      ],
      "execution_count": null,
      "outputs": []
    },
    {
      "cell_type": "code",
      "metadata": {
        "id": "SBWkb5U2jgG7"
      },
      "source": [
        "text = \"<b>foo</b> and <i>so on</i>\"\n",
        "regex = re.compile(r'(<.?>)')\n",
        "matches = regex.finditer(text)\n",
        "for match in matches:\n",
        "    print(match.group())\n",
        "\n",
        "print('The end')"
      ],
      "execution_count": null,
      "outputs": []
    },
    {
      "cell_type": "code",
      "metadata": {
        "id": "3Z120diqjgG7"
      },
      "source": [
        "text = \"<b>foo</b> and <i>so on</i>\"\n",
        "regex = re.compile(r'(<.+?>)')\n",
        "matches = regex.finditer(text)\n",
        "for match in matches:\n",
        "    print(match.group())\n",
        "\n",
        "print('The end')"
      ],
      "execution_count": null,
      "outputs": []
    },
    {
      "cell_type": "markdown",
      "source": [
        "\n",
        "\n",
        "---\n",
        "\n"
      ],
      "metadata": {
        "id": "12jYRThvaBRQ"
      }
    },
    {
      "cell_type": "markdown",
      "source": [
        "## 13. Grouping and Capture"
      ],
      "metadata": {
        "id": "_LfEYyfWTuFw"
      }
    },
    {
      "cell_type": "markdown",
      "source": [
        "**1. Grouping with Parentheses**  \n",
        "Parentheses `()` are used to group parts of a regular expression. This allows quantifiers to be applied to an entire group rather than a single character.\n",
        "\n",
        "**2. Capturing Groups**  \n",
        "Text matched by parentheses is stored and can be retrieved using methods such as `.group(n)` on a match object. Groups are indexed starting from 1.\n",
        "\n",
        "**3. Named Capturing Groups**  \n",
        "Groups can be assigned names using the syntax `(?P<name>...)`. These named groups can be accessed using `.group('name')`, which improves code readability.\n",
        "\n",
        "**4. Backreferences**  \n",
        "Backreferences allow a pattern to refer to a previously captured group within the same expression. This is useful for identifying repeated content.  \n",
        "- Numeric backreference: `\\\\1`, `\\\\2`, etc.  \n",
        "- Named backreference: `(?P=name)`\n",
        "\n",
        "**5. Nested Groups**  \n",
        "Regular expressions support nesting of groups. Each opening parenthesis creates a new group scope, and care must be taken when interpreting group numbers or names in complex patterns.\n"
      ],
      "metadata": {
        "id": "uTNJ6sAjqJ2Q"
      }
    },
    {
      "cell_type": "markdown",
      "metadata": {
        "id": "ImejVmPikT6q"
      },
      "source": [
        "The `re.match()` function returns a match object on success, `None` on failure. We use the `group(num)` function of a match object to get matched expression.\n",
        "\n",
        "`group(num=0)`: This method returns entire match (or specific subgroup num)"
      ]
    },
    {
      "cell_type": "code",
      "metadata": {
        "id": "6OberQT5kT6r"
      },
      "source": [
        "inputStr = 'An example word: cat!!'\n",
        "# If-statement after search() tests if it succeeded\n",
        "if re.search(r'word: \\w\\w\\w', inputStr):\n",
        "  print ('found', match.group()) ## 'found word:cat'\n",
        "else:\n",
        "  print ('did not find')\n",
        "print (\"Done with the example\")"
      ],
      "execution_count": null,
      "outputs": []
    },
    {
      "cell_type": "markdown",
      "source": [
        "🧩 **Example with Groups**:\n"
      ],
      "metadata": {
        "id": "Ck1OEgE1b7p9"
      }
    },
    {
      "cell_type": "code",
      "source": [
        "text = \"Name: Alice, Age: 30\"\n",
        "match = re.search(r'Name: (\\w+), Age: (\\d+)', text)\n",
        "\n",
        "if match:\n",
        "    print(\"Name:\", match.group(1))  # 'Alice'\n",
        "    print(\"Age:\", match.group(2))   # '30'\n"
      ],
      "metadata": {
        "id": "nhQtCOjob7p9"
      },
      "execution_count": null,
      "outputs": []
    },
    {
      "cell_type": "markdown",
      "source": [
        "In the case above:  \n",
        "\n",
        "-  `group(0)` is the entire match: 'Name: Alice, Age: 30'\n",
        "\n",
        "- `group(1)` is the first group: 'Alice'\n",
        "\n",
        "- `group(2)` is the second group: '30'\n",
        "\n"
      ],
      "metadata": {
        "id": "xcrEZZeXb7p9"
      }
    },
    {
      "cell_type": "markdown",
      "source": [
        "Grouping regular expression patterns with parentheses:   "
      ],
      "metadata": {
        "id": "RvrPusu4Z8oh"
      }
    },
    {
      "cell_type": "code",
      "source": [
        "inputStr = 'An example word: ice!!'\n",
        "match_object = re.match(r'(\\w+)', inputStr) ## all of 'cat'. 'ice', and 'dog' are 3-letter words\n",
        "# match_object\n",
        "print(match_object)"
      ],
      "metadata": {
        "id": "7XXacM6QZ8oi"
      },
      "execution_count": null,
      "outputs": []
    },
    {
      "cell_type": "code",
      "source": [
        "inputStr = 'A good example word: ice!!'\n",
        "match_object = re.match(r'(\\w+)', inputStr) ## all of 'cat'. 'ice', and 'dog' are 3-letter words\n",
        "# match_object\n",
        "print(match_object)"
      ],
      "metadata": {
        "id": "fpOVFuHuZ8oi"
      },
      "execution_count": null,
      "outputs": []
    },
    {
      "cell_type": "code",
      "source": [
        "inputStr = 'A good example word: ice!!'\n",
        "match_object = re.match(r'\\w+', inputStr) ## all of 'cat'. 'ice', and 'dog' are 3-letter words\n",
        "# match_object\n",
        "print(match_object)"
      ],
      "metadata": {
        "id": "qePvgrMWZ8oj"
      },
      "execution_count": null,
      "outputs": []
    },
    {
      "cell_type": "code",
      "source": [
        "inputStr = 'Another good example word: ice!!'\n",
        "match_object = re.match(r'\\w+', inputStr) ## all of 'cat'. 'ice', and 'dog' are 3-letter words\n",
        "# match_object\n",
        "print(match_object)"
      ],
      "metadata": {
        "id": "EwmXPzD9Z8oj"
      },
      "execution_count": null,
      "outputs": []
    },
    {
      "cell_type": "markdown",
      "source": [
        "#### <b>Geeks-for-Geeks</b> Regex Example"
      ],
      "metadata": {
        "id": "0AwobjAKZ8oj"
      }
    },
    {
      "cell_type": "markdown",
      "metadata": {
        "id": "Yl_rtvDFZ8ok"
      },
      "source": [
        "See **Geeks for Geeks** on the use of arguments in the `.group()` function for `.re.search()` at --    \n",
        " o  https://www.geeksforgeeks.org/re-matchobject-group-function-in-python-regex/"
      ]
    },
    {
      "cell_type": "markdown",
      "metadata": {
        "id": "jjdu2anlZ8ok"
      },
      "source": [
        "*Here is the example used by <b>Geeks for Geeks</b>*"
      ]
    },
    {
      "cell_type": "code",
      "metadata": {
        "id": "srUOdCIyZ8ok"
      },
      "source": [
        "\"\"\"We create a re.MatchObject and store it in\n",
        "   match_object variable\n",
        "   the '()' parenthesis are used to define a\n",
        "   specific group\"\"\"\n",
        "\n",
        "inputStr = 'username@geekforgeeks.org'\n",
        "\n",
        "match_object = re.match(r'(\\w+)@(\\w+)\\.(\\w+)', inputStr)\n",
        "\n",
        "# \"\"\" w in above pattern stands for alphabetical character\n",
        "#    + is used to match a consecutive set of characters\n",
        "#    satisfying a given condition\n",
        "#    so w+ will match a consecutive set of alphabetical characters\"\"\""
      ],
      "execution_count": null,
      "outputs": []
    },
    {
      "cell_type": "code",
      "source": [
        "print(match_object)"
      ],
      "metadata": {
        "id": "Oz6Ubvr7Z8ok"
      },
      "execution_count": null,
      "outputs": []
    },
    {
      "cell_type": "markdown",
      "source": [
        "#### <u><b><font color=blue>Regex Email Exercise 3</b></font></u>\n",
        "    "
      ],
      "metadata": {
        "id": "Rw08-ZalZ8ol"
      }
    },
    {
      "cell_type": "markdown",
      "source": [
        "Try that with your school email address and assign the result to `match_object2` in the following cell:    \n"
      ],
      "metadata": {
        "id": "MVfwGLHbZ8ol"
      }
    },
    {
      "cell_type": "code",
      "source": [],
      "metadata": {
        "id": "PJ_287nMhTyu"
      },
      "execution_count": null,
      "outputs": []
    },
    {
      "cell_type": "markdown",
      "source": [
        "##### ***SOLUTION -- don't look here***"
      ],
      "metadata": {
        "id": "lJvOYzAThURx"
      }
    },
    {
      "cell_type": "code",
      "source": [
        "\n",
        "inputStr = 'patrick.slattery16@citytech.cuny.edu'\n",
        "\n",
        "match_object2 = re.match(r'(\\w+)@(\\w+)\\.(\\w+)', inputStr)\n",
        "\n",
        "# \"\"\" w in above pattern stands for alphabetical character\n",
        "#    + is used to match a consecutive set of characters\n",
        "#    satisfying a given condition\n",
        "#    so w+ will match a consecutive set of alphabetical characters\"\"\""
      ],
      "metadata": {
        "id": "vkIeOwwBZ8ol"
      },
      "execution_count": null,
      "outputs": []
    },
    {
      "cell_type": "code",
      "source": [
        "print(match_object2)"
      ],
      "metadata": {
        "id": "GiRGFttQZ8om"
      },
      "execution_count": null,
      "outputs": []
    },
    {
      "cell_type": "markdown",
      "source": [
        "Let's look at what `.match()` returned..."
      ],
      "metadata": {
        "id": "Xk7HNsjGZ8om"
      }
    },
    {
      "cell_type": "code",
      "source": [
        "# for entire match\n",
        "# print('The full pattern match is', match_object.group()) # one way\n",
        "print('The full pattern match is', match_object.group(0))  # another way\n",
        "# also print(match_object.group(0)) can be used\n",
        "\n",
        "# for the first parenthesized subgroup\n",
        "print('The first pattern group match is', match_object.group(1))\n",
        "\n",
        "# for the second parenthesized subgroup\n",
        "print('The second pattern group match is', match_object.group(2))\n",
        "\n",
        "# for the third parenthesized subgroup\n",
        "print('The third pattern group match is', match_object.group(3))\n",
        "\n",
        "# for a tuple of all matched subgroups\n",
        "print('A tuple of all pattern group matches is', match_object.group(1, 2, 3))"
      ],
      "metadata": {
        "id": "1enySbOmZ8on"
      },
      "execution_count": null,
      "outputs": []
    },
    {
      "cell_type": "code",
      "source": [
        "# for a tuple of the full match and all matched subgroups\n",
        "print('A tuple of the match and all pattern group matches is', match_object.group(0, 1, 2, 3))"
      ],
      "metadata": {
        "id": "Ti2SWSvDZ8on"
      },
      "execution_count": null,
      "outputs": []
    },
    {
      "cell_type": "code",
      "source": [
        "# What if we ask for the fourth parenthesized subgroup?\n",
        "print('The third pattern group match is', match_object.group(4))"
      ],
      "metadata": {
        "id": "pEgC5M9KZ8on"
      },
      "execution_count": null,
      "outputs": []
    },
    {
      "cell_type": "markdown",
      "source": [
        "\n",
        "\n",
        "---\n",
        "\n"
      ],
      "metadata": {
        "id": "Azuz-CvqZ7VI"
      }
    },
    {
      "cell_type": "markdown",
      "source": [
        "## 14. Compiling Regex Patterns with `re.compile()`  \n"
      ],
      "metadata": {
        "id": "o6waUqsoTt8V"
      }
    },
    {
      "cell_type": "markdown",
      "metadata": {
        "id": "kEBV4CDwjHoP"
      },
      "source": [
        "`re.compile()` method."
      ]
    },
    {
      "cell_type": "markdown",
      "metadata": {
        "id": "AbPavN6WkoOg"
      },
      "source": [
        "#### Regular expression compilation\n",
        "\n",
        "Regular expression compilation produces a Python object that can be used to do all sort of regular expression operations. What is the benefit of that as long as we can use `re.match` and `re.search` directly? This technique is convenient in case we want to use a regular expression more than once. It makes our code efficient and more readable."
      ]
    },
    {
      "cell_type": "markdown",
      "metadata": {
        "id": "YV0aWPNNkoOg"
      },
      "source": [
        "##### `re.compile(pattern, flags=0)`\n",
        "\n",
        "Compile a regular expression pattern into a regular expression object, which can be used for matching using its `match()`, `search()` and other methods.\n"
      ]
    },
    {
      "cell_type": "markdown",
      "metadata": {
        "id": "OE5H8YvjkoOg"
      },
      "source": [
        "This sequence"
      ]
    },
    {
      "cell_type": "code",
      "metadata": {
        "id": "NLm1dmglkoOh"
      },
      "source": [
        "inStr = 'This is my 123 example string'\n",
        "prog = re.compile(r'\\d+')\n",
        "result = prog.search(inStr)\n",
        "result"
      ],
      "execution_count": null,
      "outputs": []
    },
    {
      "cell_type": "markdown",
      "metadata": {
        "id": "jz8zkqfQkoOh"
      },
      "source": [
        "is equivalent to"
      ]
    },
    {
      "cell_type": "code",
      "metadata": {
        "id": "3ZZuvis2koOh"
      },
      "source": [
        "result = re.search(r'\\d+', inStr)\n",
        "result"
      ],
      "execution_count": null,
      "outputs": []
    },
    {
      "cell_type": "markdown",
      "metadata": {
        "id": "ahVzhMClkoOh"
      },
      "source": [
        "By using `re.compile()` and saving the resulting regular expression object for reuse you can make your code more efficient when the expression will be used several times in a single program."
      ]
    },
    {
      "cell_type": "code",
      "metadata": {
        "id": "3h9OUehXjHoQ"
      },
      "source": [
        "# We are looking for binary numbers\n",
        "regex = re.compile(r'[10]+')\n",
        "text = \"asddf1101110100011abd1111panos0000\"\n",
        "matches = regex.finditer(text)\n",
        "for match in matches:\n",
        "    print(match.group())"
      ],
      "execution_count": null,
      "outputs": []
    },
    {
      "cell_type": "code",
      "metadata": {
        "id": "EiXQV--ejHoQ"
      },
      "source": [
        "emailText = '''xyz my-email@citytech.edu data science or\n",
        "your_email@citytech.edu, also we can mention their.email@citytech.edu'''"
      ],
      "execution_count": null,
      "outputs": []
    },
    {
      "cell_type": "code",
      "metadata": {
        "id": "GbTWSMn5jHoQ"
      },
      "source": [
        "# We are looking for email addresses\n",
        "regex = re.compile(r'[\\w\\.-]+@[\\w\\.-]+')\n",
        "matches = regex.finditer(emailText)\n",
        "for match in matches:\n",
        "    print(match.group())"
      ],
      "execution_count": null,
      "outputs": []
    },
    {
      "cell_type": "code",
      "metadata": {
        "id": "SIdvAOZ5jHoQ"
      },
      "source": [
        "# We look for money figures, either integers, or with 1 or 2 decimal\n",
        "# digits\n",
        "regex = re.compile(r'\\$\\d+(\\.\\d\\d?)?')\n",
        "text = '$1200.23 is the price today. $1400 was the price yesterday'\n",
        "matches = regex.finditer(text)\n",
        "for match in matches:\n",
        "    print(match.group())"
      ],
      "execution_count": null,
      "outputs": []
    },
    {
      "cell_type": "code",
      "metadata": {
        "id": "XKS8DNbTjHoQ"
      },
      "source": [
        "# This code is going to generate no matches\n",
        "regex = re.compile(r'Ra*nd.*m R[egex]')\n",
        "text = \"CUNY, Citytech, Information and Data Management, my-email@citytech.edu\"\n",
        "matches = regex.finditer(text)\n",
        "for match in matches:\n",
        "    print(match.group())\n",
        "\n",
        "print (\"The end\")"
      ],
      "execution_count": null,
      "outputs": []
    },
    {
      "cell_type": "markdown",
      "source": [
        "\n",
        "\n",
        "---\n",
        "\n"
      ],
      "metadata": {
        "id": "fboNHX6sjGnV"
      }
    },
    {
      "cell_type": "markdown",
      "source": [
        "## 15. Homework Assignment 4.1  "
      ],
      "metadata": {
        "id": "eMTZ4NPDUncx"
      }
    },
    {
      "cell_type": "markdown",
      "metadata": {
        "id": "CTRVVzlvmkW0"
      },
      "source": [
        "Imagine we want to conceal all phone numbers in a document.\n",
        "Read the below multiline docstring and substitute all phone numbers with\n",
        "\n",
        "'XXX-XXX-XXXX'"
      ]
    },
    {
      "cell_type": "code",
      "metadata": {
        "id": "nCGiklQcmkW1"
      },
      "source": [
        "docstring_text = \"\"\"512-234-5234\n",
        "foo\n",
        "bar\n",
        "124-512-5555\n",
        "biz\n",
        "125-555-5785\n",
        "679-397-5255\n",
        "2126660921\n",
        "212-998-0902\n",
        "888-888-2222\n",
        "801-555-1211\n",
        "802 555 1212\n",
        "803.555.1213\n",
        "(804) 555-1214\n",
        "1-805-555-1215\n",
        "1(806)555-1216\n",
        "807-555-1217-1234\n",
        "808-555-1218x1234\n",
        "809-555-1219 ext. 1234\n",
        "work 1-(810) 555.1220 #1234\n",
        "\"\"\""
      ],
      "execution_count": null,
      "outputs": []
    },
    {
      "cell_type": "markdown",
      "metadata": {
        "id": "otP2Pox3mkW2"
      },
      "source": [
        "### Solution for Assignment 4.1"
      ]
    },
    {
      "cell_type": "code",
      "metadata": {
        "id": "-lAHgujrmkW2"
      },
      "source": [
        "## your solution here"
      ],
      "execution_count": null,
      "outputs": []
    },
    {
      "cell_type": "markdown",
      "metadata": {
        "id": "lI_aJt-3mkW2"
      },
      "source": [
        "*solution provided after assignments are submitted*"
      ]
    },
    {
      "cell_type": "markdown",
      "source": [
        "---"
      ],
      "metadata": {
        "id": "eVywi80PmkW2"
      }
    },
    {
      "cell_type": "markdown",
      "source": [
        "## 16. Additional Practice -- NOAA Tides"
      ],
      "metadata": {
        "id": "Nv5tatO7mq48"
      }
    },
    {
      "cell_type": "markdown",
      "source": [
        "Read text data to find the times of high tides for you to fish at Battery Park in NYC.   \n",
        "\n",
        "*This notebook uses text captured from a snapshot of the NOAA data on tides at Battery, New York as of 01-Nov-2022.*\n",
        "\n",
        "\n",
        "[A current snapshot of the NOAA tide data for Battery, NYC](https://tidesandcurrents.noaa.gov/map/index.html?id=8518750)  \n"
      ],
      "metadata": {
        "id": "w7zT5cvimkW3"
      }
    },
    {
      "cell_type": "markdown",
      "source": [
        "**References**  \n",
        "\n",
        "Review material from [Class 17 on Regex](https://bit.ly/cst2312cl12)      \n",
        "\n",
        "Use the [Regex Cheat Sheet](https://bit.ly/cst2312regex)        \n",
        "\n",
        "Practice use cases from [Class 15 Lab Exercises](https://bit.ly/cst2312cl15)    "
      ],
      "metadata": {
        "id": "CHMedHXOmkW3"
      }
    },
    {
      "cell_type": "markdown",
      "source": [
        "**Resources**\n",
        "\n",
        "The following provide interactive tools for developing and testing regular expressions:    \n",
        "\n",
        " - https://regexr.com/     \n",
        "\n",
        " - https://regexlearn.com/playground    \n",
        "\n",
        " - https://regex101.com/    \n",
        "\n"
      ],
      "metadata": {
        "id": "w1VC20WfmkW3"
      }
    },
    {
      "cell_type": "markdown",
      "source": [
        "---"
      ],
      "metadata": {
        "id": "PDjCdw1YmkW3"
      }
    },
    {
      "cell_type": "markdown",
      "source": [
        "### Housekeeping   \n",
        "    \n",
        "**(for Additional Regex Practice)**        "
      ],
      "metadata": {
        "id": "hk_QAoaEmkW4"
      }
    },
    {
      "cell_type": "markdown",
      "source": [
        "####Import libraries"
      ],
      "metadata": {
        "id": "sv4zF_xNmkW4"
      }
    },
    {
      "cell_type": "code",
      "execution_count": null,
      "metadata": {
        "id": "4gL4Vqv1mkW4"
      },
      "outputs": [],
      "source": [
        "import re"
      ]
    },
    {
      "cell_type": "markdown",
      "source": [
        "####Acess text file(s)   "
      ],
      "metadata": {
        "id": "tuorKT1TmkW4"
      }
    },
    {
      "cell_type": "code",
      "source": [
        "!curl \"https://raw.githubusercontent.com/ProfessorPatrickSlatraigh/data/680aa4214a98cff5b62ccf432d3a6029809b322c/battery-nyc-tides.txt\" -o tide-data.txt"
      ],
      "metadata": {
        "id": "hCWZJs-5mkW5"
      },
      "execution_count": null,
      "outputs": []
    },
    {
      "cell_type": "markdown",
      "source": [
        "###Read the file into a string variable  "
      ],
      "metadata": {
        "id": "L3cCwXpJmkW5"
      }
    },
    {
      "cell_type": "code",
      "source": [
        "with open(\"tide-data.txt\", \"r\") as file:\n",
        " text_str = str(file.read())\n",
        "\n",
        "print(text_str)"
      ],
      "metadata": {
        "id": "OT6NbGlVmkW5"
      },
      "execution_count": null,
      "outputs": []
    },
    {
      "cell_type": "markdown",
      "source": [
        "---"
      ],
      "metadata": {
        "id": "V3vRgiJamkW5"
      }
    },
    {
      "cell_type": "markdown",
      "source": [
        "###Search the string variable with `re.search()`"
      ],
      "metadata": {
        "id": "1XZDLatgmkW5"
      }
    },
    {
      "cell_type": "code",
      "source": [
        "# 1 - grab a substring of text and search for it\n",
        "re_searched = re.search(r'2:33 AM\thigh\t4\\.19 ft', text_str)"
      ],
      "metadata": {
        "id": "zkS1cPl_mkW5"
      },
      "execution_count": null,
      "outputs": []
    },
    {
      "cell_type": "code",
      "source": [
        "print(re_searched)"
      ],
      "metadata": {
        "id": "MPUCS7sjmkW5"
      },
      "execution_count": null,
      "outputs": []
    },
    {
      "cell_type": "code",
      "source": [
        "# 2 - use an even smaller substring of text and search for it\n",
        "re_searched = re.search(r'2:33 AM', text_str)"
      ],
      "metadata": {
        "id": "s3zuwYnPmkW5"
      },
      "execution_count": null,
      "outputs": []
    },
    {
      "cell_type": "code",
      "source": [
        "print(re_searched)"
      ],
      "metadata": {
        "id": "j4k7md-0mkW6"
      },
      "execution_count": null,
      "outputs": []
    },
    {
      "cell_type": "code",
      "source": [
        "# 3 - try a regex pattern for time and search for it\n",
        "re_searched = re.search(r'(\\d+:\\d+ \\wM)', text_str)"
      ],
      "metadata": {
        "id": "jWf_ItgjmkW6"
      },
      "execution_count": null,
      "outputs": []
    },
    {
      "cell_type": "code",
      "source": [
        "print(re_searched)"
      ],
      "metadata": {
        "id": "JZghuBokmkW6"
      },
      "execution_count": null,
      "outputs": []
    },
    {
      "cell_type": "code",
      "source": [
        "# 4 - try a regex pattern for time followd by a space then 'high'\n",
        "re_searched = re.search(r'(\\d+:\\d+ \\w thigh)', text_str)"
      ],
      "metadata": {
        "id": "VKZnvnUmmkW6"
      },
      "execution_count": null,
      "outputs": []
    },
    {
      "cell_type": "code",
      "source": [
        "print(re_searched)"
      ],
      "metadata": {
        "id": "pI1jpQxCmkW6"
      },
      "execution_count": null,
      "outputs": []
    },
    {
      "cell_type": "code",
      "source": [
        "# 5 - what went wrong with the #4 search?\n",
        "re_searched = re.search(r'(\\d+:\\d+ \\wM.high)', text_str)"
      ],
      "metadata": {
        "id": "vd1q7uPcmkW6"
      },
      "execution_count": null,
      "outputs": []
    },
    {
      "cell_type": "code",
      "source": [
        "print(re_searched)"
      ],
      "metadata": {
        "id": "d6dzKeHTmkW6"
      },
      "execution_count": null,
      "outputs": []
    },
    {
      "cell_type": "markdown",
      "source": [
        "###Using an `|` (or) operator for high and low tides   "
      ],
      "metadata": {
        "id": "pNwv-BqpmkW6"
      }
    },
    {
      "cell_type": "code",
      "source": [
        "# 6 - searching for high or low tides\n",
        "re_searched = re.search(r'(\\d+:\\d+ \\wM.)(high|low)', text_str)"
      ],
      "metadata": {
        "id": "m-LIAEKKmkW6"
      },
      "execution_count": null,
      "outputs": []
    },
    {
      "cell_type": "code",
      "source": [
        "print(re_searched)"
      ],
      "metadata": {
        "id": "TzZF8OkCmkW6"
      },
      "execution_count": null,
      "outputs": []
    },
    {
      "cell_type": "markdown",
      "source": [
        "####Adding the sea level to the pattern"
      ],
      "metadata": {
        "id": "4-9M5TlomkW6"
      }
    },
    {
      "cell_type": "code",
      "source": [
        "# 7 - adding the sea height to the search pattern\n",
        "re_searched = re.search(r'(\\d+:\\d+ \\wM.)(high|low).+(\\d+.\\d+)', text_str)"
      ],
      "metadata": {
        "id": "dKuVww40mkW6"
      },
      "execution_count": null,
      "outputs": []
    },
    {
      "cell_type": "code",
      "source": [
        "print(re_searched)"
      ],
      "metadata": {
        "id": "1d8Vm6GXmkW7"
      },
      "execution_count": null,
      "outputs": []
    },
    {
      "cell_type": "markdown",
      "source": [
        "####Including the unit of measure for sea height in the search pattern   \n"
      ],
      "metadata": {
        "id": "MuaHHgAOmkW7"
      }
    },
    {
      "cell_type": "code",
      "source": [
        "# 8 - including the unit of measure for sea height to the search pattern\n",
        "re_searched = re.search(r'(\\d+:\\d+ \\wM.)(high|low).+(\\d+.\\d+).(\\w+)', text_str)"
      ],
      "metadata": {
        "id": "z3AzbR_jmkW7"
      },
      "execution_count": null,
      "outputs": []
    },
    {
      "cell_type": "code",
      "source": [
        "print(re_searched)"
      ],
      "metadata": {
        "id": "bh1GJ5z1mkW7"
      },
      "execution_count": null,
      "outputs": []
    },
    {
      "cell_type": "markdown",
      "source": [
        "---"
      ],
      "metadata": {
        "id": "DR182Fa-mkW7"
      }
    },
    {
      "cell_type": "markdown",
      "source": [
        "### Search the string for matches with `re.findall` to find all high tides  "
      ],
      "metadata": {
        "id": "MCyk8zkQmkW7"
      }
    },
    {
      "cell_type": "code",
      "source": [
        "print(text_str)"
      ],
      "metadata": {
        "id": "oku1I0PEmkW7"
      },
      "execution_count": null,
      "outputs": []
    },
    {
      "cell_type": "code",
      "source": [
        "matches = re.findall(r'(\\d+:\\d+ \\wM).+(high|low).+(\\d+.\\d+).(\\w+)', text_str)\n",
        "print(matches)\n",
        "print()\n",
        "# iterating through the result\n",
        "for match in matches:\n",
        "  print(match)"
      ],
      "metadata": {
        "id": "8VNeWg0JmkW7"
      },
      "execution_count": null,
      "outputs": []
    },
    {
      "cell_type": "code",
      "source": [
        "print('Matches 0:', matches[0])\n",
        "print('Matches 1:', matches[1])\n",
        "print('Matches 2:', matches[2])\n",
        "print('Matches 3:', matches[3])"
      ],
      "metadata": {
        "id": "pwdSHcKWmkW7"
      },
      "execution_count": null,
      "outputs": []
    },
    {
      "cell_type": "code",
      "source": [
        "# iterating through matches with an index counter\n",
        "i=0\n",
        "while i < len(matches):\n",
        "    print(matches[i])\n",
        "    i +=  1"
      ],
      "metadata": {
        "id": "FMvGkmrWmkW7"
      },
      "execution_count": null,
      "outputs": []
    },
    {
      "cell_type": "markdown",
      "source": [
        "---"
      ],
      "metadata": {
        "id": "yCMS_MdZmkW7"
      }
    },
    {
      "cell_type": "markdown",
      "source": [
        "### <b>Your turn:</b>     \n",
        "\n",
        "**What other `regex` searches could you perform to extract data from the text in the file?**   "
      ],
      "metadata": {
        "id": "eubMXUm7mkW7"
      }
    },
    {
      "cell_type": "code",
      "source": [],
      "metadata": {
        "id": "AykjtlI2mkW7"
      },
      "execution_count": null,
      "outputs": []
    },
    {
      "cell_type": "markdown",
      "metadata": {
        "id": "AIQF2X_64bEm"
      },
      "source": [
        "\n",
        "\n",
        "---\n",
        "\n"
      ]
    },
    {
      "cell_type": "markdown",
      "source": [
        "#---\n",
        "*notes:*\n",
        "\n"
      ],
      "metadata": {
        "id": "LHAFijqjDG1q"
      }
    },
    {
      "cell_type": "markdown",
      "source": [
        "Some [practice examples](https://www.programiz.com/python-programming/regex) using different Regex patterns."
      ],
      "metadata": {
        "id": "e1KmtgBkC7-j"
      }
    },
    {
      "cell_type": "markdown",
      "metadata": {
        "id": "aWR8uv4XVEiE"
      },
      "source": [
        "Additional reading on an 'almost perfect' regular expression approach to finding email addresses ▶ [Almost Perfect Email Regex](https://emailregex.com/)"
      ]
    },
    {
      "cell_type": "markdown",
      "metadata": {
        "id": "Tq4j2Ad0TWH1"
      },
      "source": [
        "Additional reading on the complexities of thorough regex rules for email addresses ▶ [O'Relly Regular Expressions Cookbook 4.1, Validate Email Addresses](https://www.oreilly.com/library/view/regular-expressions-cookbook/9781449327453/ch04s01.html) by Jan Goyvaerts and Steven Levithan."
      ]
    },
    {
      "cell_type": "markdown",
      "metadata": {
        "id": "Hhpc5YrHTVOD"
      },
      "source": [
        "\n",
        "\n",
        "---\n",
        "\n"
      ]
    }
  ]
}