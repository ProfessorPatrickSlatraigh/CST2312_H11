{
  "nbformat": 4,
  "nbformat_minor": 0,
  "metadata": {
    "colab": {
      "provenance": [],
      "collapsed_sections": [
        "T86ZQN7_5oEa",
        "60HrzpCx5oEl"
      ],
      "include_colab_link": true
    },
    "kernelspec": {
      "name": "python3",
      "display_name": "Python 3"
    },
    "language_info": {
      "name": "python"
    }
  },
  "cells": [
    {
      "cell_type": "markdown",
      "metadata": {
        "id": "view-in-github",
        "colab_type": "text"
      },
      "source": [
        "<a href=\"https://colab.research.google.com/github/ProfessorPatrickSlatraigh/CST2312_H11/blob/main/CST2312_Class16_Web_APIs.ipynb\" target=\"_parent\"><img src=\"https://colab.research.google.com/assets/colab-badge.svg\" alt=\"Open In Colab\"/></a>"
      ]
    },
    {
      "cell_type": "markdown",
      "metadata": {
        "id": "A61y0KKZsY3B"
      },
      "source": [
        "# **CST2312 Class 16  Web APIs**\n",
        "\n",
        "*This notebook is available at -- [bit.ly/cst2312cl16](https://bit.ly/cst2312cl16)*\n",
        "\n",
        "> *includes exercises to be completed as a class assignment*\n"
      ]
    },
    {
      "cell_type": "markdown",
      "metadata": {
        "id": "A-1M7TtWi3zZ"
      },
      "source": [
        "### **Reading** from the Dr. Charles Severance textbook, Python for Everybody: ( [https://www.py4e.com/lessons/](https://www.py4e.com/lessons/))\n",
        "\n",
        "* [Web APIs](https://www.py4e.com/lessons/servces) (Chapter 14)"
      ]
    },
    {
      "cell_type": "markdown",
      "source": [
        "\n",
        "\n",
        "---\n",
        "\n"
      ],
      "metadata": {
        "id": "2dO9SqkEcXyA"
      }
    },
    {
      "cell_type": "markdown",
      "metadata": {
        "id": "t59IHzLHaUfK"
      },
      "source": [
        "# **Web APIs**"
      ]
    },
    {
      "cell_type": "markdown",
      "source": [
        "## Web Services and APIs  "
      ],
      "metadata": {
        "id": "818y09Wbcgdr"
      }
    },
    {
      "cell_type": "markdown",
      "metadata": {
        "id": "q4ukP5Z95oDx"
      },
      "source": [
        "We are going to examine now the concept of a Web API. A web API is similar to a function call, but the \"function\" that we call is located on another machine (a **server**), and we submit the parameters of the function through the web.\n",
        "\n"
      ]
    },
    {
      "cell_type": "markdown",
      "source": [
        "It is easy to work with web APIs.  APIs or Application Program Interfaces, are accessible on the web using HTTP commands.  Here is an example of a simple API that you can paste into your browser, or just click, to get some fun facts about a number, any number:  \n",
        "  \n",
        "[http://numbersapi.com/42](http://numbersapi.com/42)  \n",
        "  \n",
        "Try that same link with a different number.   You are using an API to receive a **REST** response.  \n"
      ],
      "metadata": {
        "id": "UMY3AL_JQM5u"
      }
    },
    {
      "cell_type": "markdown",
      "source": [
        "\n",
        "\n",
        "---\n",
        "\n"
      ],
      "metadata": {
        "id": "kL4LShSpiZxs"
      }
    },
    {
      "cell_type": "markdown",
      "metadata": {
        "id": "Nlh32HK45oDw"
      },
      "source": [
        "## REST (Representational State Transfer)  \n",
        "\n"
      ]
    },
    {
      "cell_type": "markdown",
      "source": [
        "### 🌐 What Is REST in Web Services?\n",
        "\n",
        "**REST** (Representational State Transfer) is an architectural style used to design web services that allow systems to communicate over the internet,  particularly web services. **REST** relies on standard HTTP methods (like GET, POST, PUT, DELETE) and treats data as resources that can be accessed via URLs.\n",
        "\n",
        "Key ideas behind **REST**:  \n",
        "- Representational: Data (resources) is represented in a specific format like JSON or XML.  \n",
        "- State Transfer: Each client request transfers the state of the resource (e.g., requesting, updating, or deleting it).  \n",
        "- Stateless: Each request from the client must contain all the information the server needs; the server does not remember previous interactions.  \n",
        "- **REST** is widely used because it is simple, scalable, and works well with HTTP.  \n",
        "\n",
        "#### 🔑 Key Concepts\n",
        "\n",
        "- **Client-Server**: The client (e.g., a web app or Python script) sends a request. The server (e.g., `ipstack.com`) returns a response.\n",
        "- **HTTP Methods**: RESTful services use standard HTTP methods:\n",
        "  - `GET` - retrieve data  \n",
        "  - `POST` - send or submit data  \n",
        "  - `PUT` - update existing data  \n",
        "  - `DELETE` - remove data  \n",
        "- **Resources**: Data is treated as a resource, identified by URLs (e.g., `http://api.ipstack.com/134.201.250.155`).\n",
        "- **Stateless**: Each request contains all necessary information. The server does not store session state between requests.\n",
        "- **Standard Formats**: Responses are typically returned in formats like JSON or XML.\n"
      ],
      "metadata": {
        "id": "cUP8pSWlZ3lY"
      }
    },
    {
      "cell_type": "markdown",
      "source": [
        "### ✅ Why Use REST?  \n",
        "  \n",
        "- **Simple**: Uses standard web protocols.  \n",
        "- **Scalable**: Easy to build and maintain across distributed systems.  \n",
        "- **Flexible**: Works with many formats and languages.  \n",
        "  \n",
        "REST is a straightforward way for clients and servers to exchange data using HTTP. It is widely used in APIs like ipstack because it is simple, efficient, and language-independent.  \n",
        "\n"
      ],
      "metadata": {
        "id": "bJecxUbKZvFe"
      }
    },
    {
      "cell_type": "markdown",
      "source": [
        "\n",
        "\n",
        "---\n",
        "\n"
      ],
      "metadata": {
        "id": "mHKK8qsgdSad"
      }
    },
    {
      "cell_type": "markdown",
      "source": [
        "Here is another link to a web service.  The server at `restcountries.com` will respond with information about a patricular country.  \n",
        "  \n",
        "[https://restcountries.com/v3.1/name/canada](https://restcountries.com/v3.1/name/canada)\n",
        "  "
      ],
      "metadata": {
        "id": "uUgAjn2lYOTb"
      }
    },
    {
      "cell_type": "markdown",
      "source": [
        "What did you see in the response from `restcountries.com`?  Did it look something like a dictionary?  \n",
        "  \n",
        "The response from `restcountries.com` was data in the **JSON** format.  **JSON** is similar to the dictionary type that we have seen before.  **JSON** (JavaScript Object Notation) is a lightweight format for storing and exchanging data. It uses a simple structure of key-value pairs, similar to Python dictionaries.\n",
        "  \n",
        "Key **JSON** Points:  \n",
        "- Easy to read and write  \n",
        "- Language-independent, but supported by most programming languages  \n",
        "- Commonly used in APIs to send and receive structured data  \n",
        "- JSON is widely used because it's simple, consistent, and works well for web-based communication.  "
      ],
      "metadata": {
        "id": "1OzdEYZFZZGP"
      }
    },
    {
      "cell_type": "markdown",
      "source": [
        "## 📊 JSON Structure Analysis: Country Data (Canada)\n",
        "\n",
        "This response from the link is a **JSON** document representating data about the country Canada.  Here is a brief analysis of the information provided in that **JSON**.\n",
        "\n",
        "---\n",
        "\n",
        "### 🔧 Top-Level Structure\n",
        "\n",
        "- **Type**: `Array`\n",
        "- **Content**: A single object (dictionary) representing the country **Canada**\n",
        "\n",
        "---\n",
        "\n",
        "### 🧱 Primary Keys and Their Data Types\n",
        "\n",
        "| Key               | Type              | Description                                                                 |\n",
        "|-------------------|-------------------|-----------------------------------------------------------------------------|\n",
        "| `name`            | Object            | Common, official, and native names in multiple languages                    |\n",
        "| `tld`             | Array of strings  | Top-level domain(s)                                                         |\n",
        "| `cca2`, `cca3`, `ccn3`, `cioc` | String   | Country codes (ISO 2-letter, 3-letter, numeric, and IOC)                    |\n",
        "| `independent`     | Boolean           | Indicates whether the country is independent                                |\n",
        "| `status`          | String            | Status in ISO assignment (e.g., officially-assigned)                        |\n",
        "| `unMember`        | Boolean           | UN membership status                                                        |\n",
        "| `currencies`      | Object            | Currency code mapped to name and symbol                                     |\n",
        "| `idd`             | Object            | International dialing information (root and suffixes)                       |\n",
        "| `capital`         | Array of strings  | Capital city/cities                                                         |\n",
        "| `altSpellings`    | Array of strings  | Alternative spellings of the country name                                   |\n",
        "| `region`          | String            | Geographical region                                                         |\n",
        "| `subregion`       | String            | Geographical subregion                                                      |\n",
        "| `languages`       | Object            | Language codes mapped to language names                                     |\n",
        "| `translations`    | Object            | Country name translated into multiple languages                             |\n",
        "| `latlng`          | Array of floats   | Geographic latitude and longitude                                           |\n",
        "| `landlocked`      | Boolean           | Indicates if the country is landlocked                                      |\n",
        "| `borders`         | Array of strings  | Neighboring countries (by ISO code)                                         |\n",
        "| `area`            | Float             | Area in square kilometers                                                   |\n",
        "| `demonyms`        | Object            | Gendered forms of nationality (e.g., Canadian, Canadien)                    |\n",
        "| `flag`            | Unicode string    | Emoji representation of the flag                                            |\n",
        "| `maps`            | Object            | URLs to maps (Google Maps, OpenStreetMap)                                   |\n",
        "| `population`      | Integer           | Population count                                                             |\n",
        "| `gini`            | Object            | Gini coefficient (income inequality) by year                                |\n",
        "| `fifa`            | String            | FIFA code                                                                   |\n",
        "| `car`             | Object            | Car signs and driving side                                                  |\n",
        "| `timezones`       | Array of strings  | Time zones                                                                  |\n",
        "| `continents`      | Array of strings  | Continent(s)                                                                |\n",
        "| `flags`           | Object            | URLs to PNG and SVG flag images, with alt text                              |\n",
        "| `coatOfArms`      | Object            | URLs to PNG and SVG coat of arms images                                     |\n",
        "| `startOfWeek`     | String            | First day of the week                                                       |\n",
        "| `capitalInfo`     | Object            | Latitude and longitude of the capital                                       |\n",
        "| `postalCode`      | Object            | Postal code format and regex                                                |\n",
        "\n",
        "---\n",
        "\n",
        "### 🧩 Nested Object Highlights\n",
        "\n",
        "#### `name.nativeName`\n",
        "```json\n",
        "\"nativeName\": {\n",
        "  \"eng\": {\"official\": \"Canada\", \"common\": \"Canada\"},\n",
        "  \"fra\": {\"official\": \"Canada\", \"common\": \"Canada\"}\n",
        "}\n"
      ],
      "metadata": {
        "id": "akShdn1Wa-pp"
      }
    },
    {
      "cell_type": "markdown",
      "source": [
        "Why JSON?  \n",
        "- **Readable**: Easy to understand and debug.\n",
        "- **Structured**: Uses key-value pairs for consistent data access.\n",
        "- **Compatible**: Supported by most programming languages and APIs."
      ],
      "metadata": {
        "id": "2uBtlNZAS_B3"
      }
    },
    {
      "cell_type": "markdown",
      "source": [
        "Don't worry if all of that did not seem obvious when looking at the **JSON** response from `restcountries.com`.  For now, let's remember that the web service we prompted gave us a **REST** response in **JSON** format."
      ],
      "metadata": {
        "id": "RQFC-AKTb535"
      }
    },
    {
      "cell_type": "markdown",
      "source": [
        "\n",
        "\n",
        "---\n",
        "\n"
      ],
      "metadata": {
        "id": "rf8_vUFsa9ry"
      }
    },
    {
      "cell_type": "markdown",
      "source": [
        "## Web APIs with Python  "
      ],
      "metadata": {
        "id": "478oOpncjxLj"
      }
    },
    {
      "cell_type": "markdown",
      "source": [
        "Let's use Python to replicate the work your browser did when you clicked on [http://numbersapi.com/42](http://numbersapi.com/42).  We will use an API at a server that does not require us to authenticate ourselves with an **API key**.  We will use `numbersapi.com` again to see how a server can provide a **REST** information.  To emulate the `HTML` our browser would send, we will use the `requests` library that we learned about."
      ],
      "metadata": {
        "id": "Yvi_nT7vS1SD"
      }
    },
    {
      "cell_type": "code",
      "source": [
        "import requests\n",
        "\n",
        "# Define the API endpoint\n",
        "url = \"http://numbersapi.com/42\"\n",
        "\n",
        "# Send the GET request\n",
        "response = requests.get(url)\n",
        "\n",
        "# Check if the request was successful\n",
        "if response.status_code == 200:\n",
        "    print(\"Fact about 42:\")\n",
        "    print(response.text)\n",
        "else:\n",
        "    print(f\"Request failed with status code {response.status_code}\")\n"
      ],
      "metadata": {
        "id": "6vO9uyn6TGQE"
      },
      "execution_count": null,
      "outputs": []
    },
    {
      "cell_type": "markdown",
      "source": [
        "Did you notice that the `numbersapi.com` service provides different answers each time that it is prompted?"
      ],
      "metadata": {
        "id": "2t3nFy5CTgXY"
      }
    },
    {
      "cell_type": "markdown",
      "source": [
        "We can use the `requests` library and similar Python code to ask `restcountries` to provide a **JSON** response about Canada:   "
      ],
      "metadata": {
        "id": "qgtn6uFmYwRN"
      }
    },
    {
      "cell_type": "code",
      "source": [
        "import requests\n",
        "\n",
        "# Define the API endpoint\n",
        "url = \"https://restcountries.com/v3.1/name/canada\"\n",
        "\n",
        "# Send the GET request\n",
        "response = requests.get(url)\n",
        "\n",
        "# Check if the request was successful\n",
        "if response.status_code == 200:\n",
        "    print(\"Information about Canada:\")\n",
        "    print(response.text)\n",
        "else:\n",
        "    print(f\"Request failed with status code {response.status_code}\")"
      ],
      "metadata": {
        "id": "NQzncwOwYvHD"
      },
      "execution_count": null,
      "outputs": []
    },
    {
      "cell_type": "markdown",
      "source": [
        " Let's continue that example by defining a function to do the work -- can you determine what each step in the following function is doing?"
      ],
      "metadata": {
        "id": "srW9cCWZY4FZ"
      }
    },
    {
      "cell_type": "code",
      "source": [
        "import requests\n",
        "\n",
        "def get_country_info(country_name):\n",
        "    # URL of the REST Countries API\n",
        "    url = f\"https://restcountries.com/v3.1/name/{country_name}\"\n",
        "\n",
        "    try:\n",
        "        # Send a GET request to the API\n",
        "        response = requests.get(url)\n",
        "\n",
        "        # Check if the request was successful (status code 200)\n",
        "        if response.status_code == 200:\n",
        "            # Parse the JSON response\n",
        "            data = response.json()[0]  # Assuming there's only one result\n",
        "\n",
        "            # Extract and display relevant information\n",
        "            name = data[\"name\"][\"common\"]\n",
        "            capital = data[\"capital\"][0]\n",
        "            population = data[\"population\"]\n",
        "            region = data[\"region\"]\n",
        "\n",
        "            print(f\"Country: {name}\")\n",
        "            print(f\"Capital: {capital}\")\n",
        "            print(f\"Population: {population}\")\n",
        "            print(f\"Region: {region}\")\n",
        "        else:\n",
        "            print(\"Failed to retrieve data. Check the country name or try again later.\")\n",
        "    except Exception as e:\n",
        "        print(f\"An error occurred: {str(e)}\")"
      ],
      "metadata": {
        "id": "-nISM9eLbL1Z"
      },
      "execution_count": null,
      "outputs": []
    },
    {
      "cell_type": "markdown",
      "source": [
        "With the `get_country_info()` function defined, we can ask about specific countries by name."
      ],
      "metadata": {
        "id": "qx_wEXipbZ2T"
      }
    },
    {
      "cell_type": "code",
      "source": [
        "country_name = input(\"Enter a country name: \")\n",
        "get_country_info(country_name)"
      ],
      "metadata": {
        "id": "jt0buIr9bk6A"
      },
      "execution_count": null,
      "outputs": []
    },
    {
      "cell_type": "markdown",
      "source": [
        "### API Keys and Confidentiality  "
      ],
      "metadata": {
        "id": "qyvgjvIokfy0"
      }
    },
    {
      "cell_type": "markdown",
      "source": [
        "It is very kind of the server at `restcountries.com` to not bother authenticating us.  Of course, that could result in an unwieldy amount of 'free' requests bogging down the server.  Most web services try to manage access using API (Application Program Interface) keys, or passcodes to limit (throttle) and potentially tracking billing for usage.  Let's look at the use of an API key when accessing a service on the Web.  "
      ],
      "metadata": {
        "id": "Z3obvYoxb7v5"
      }
    },
    {
      "cell_type": "markdown",
      "source": [
        "It is not safe to store API keys directly in your code, especially if that code will be exposed as a shared Colab notebook, on Github, or as open-source code.  You will want a mechanism for storing your API keys securely in a place where you can access them automatically when you need them, but be confident that they are not falling into the wrong hands."
      ],
      "metadata": {
        "id": "AypSV0zwco8x"
      }
    },
    {
      "cell_type": "markdown",
      "source": [
        "In Google Colab, you can choose to store your API keys as Secrets that are stored and accessible during the Colab session, or you can use the persistent Google Secret Manager to preserve your API keys even after your Colab session is finished.  \n",
        "\n",
        "For long-term, persistent storage of your API keys and portability (away from Google platforms), you can consider storing API keys confidentially in an encrypted drive such as the free drive encryption available from `veracrypt.fr`.  \n",
        "\n",
        "Here is a table summarzing the approaches to API key storage:  \n",
        "  \n",
        "| Tool | Availability | Access | Module |     \n",
        " ------|-------|----------------| ------ |    \n",
        "| Google Secret Manager | Persists | Authenticates via Google ID | google.cloud.secretmanager |  \n",
        "| Colab Secret Icon | Session-only | Only during the session | google.colab.userdata |\n",
        "|Encrypted Drive | Persists/Portable | Password | veracrypt.fr |  \n",
        "\n",
        "> See the *APPENDIX: Using Veracrypt for Encrypted Storage* at the bottom of this notebook for instructions on using the free `Veracrypt.fr` application to create an encrypted drive where you can store your API keys.  \n",
        "\n"
      ],
      "metadata": {
        "id": "HbFRm3ucekya"
      }
    },
    {
      "cell_type": "markdown",
      "metadata": {
        "id": "eOYdO1hBsgSx"
      },
      "source": [
        "\n",
        "\n",
        "---\n",
        "\n"
      ]
    },
    {
      "cell_type": "markdown",
      "metadata": {
        "id": "Bb_fMB4B5oDy"
      },
      "source": [
        "## 🌐 Using the `ipstack` API for IP Geolocation\n"
      ]
    },
    {
      "cell_type": "markdown",
      "metadata": {
        "id": "IvtQkI6J5oDy"
      },
      "source": [
        "We will start with an example that is doing a \"geoIP\" resolution: it takes the IP of a computer and returns back its location.\n",
        "\n"
      ]
    },
    {
      "cell_type": "markdown",
      "source": [
        "### Overview\n",
        "\n",
        "[ipstack](https://ipstack.com) provides a REST API for real-time and historical IP geolocation. It allows developers to retrieve information such as:\n",
        "\n",
        "- Country, region, and city of an IP address\n",
        "- Latitude and longitude\n",
        "- ISP and organization\n",
        "- Time zone and currency\n",
        "\n",
        "This can be used for analytics, content customization, security filtering, and more.\n",
        "\n",
        "\n",
        "### 🔐 Prerequisites\n",
        "\n",
        "To use the `ipstack` API, you'll need:\n",
        "\n",
        "1. A **free or paid API key** from [https://ipstack.com](https://ipstack.com).\n",
        "2. Basic knowledge of making HTTP requests in Python.  \n",
        "\n",
        "> See the *APPENDIX: Using Veracrypt for Encrypted Storage* at the bottom of this notebook for instructions on using the free `Veracrypt.fr` application to create an encrypted drive where you can store your API keys.  \n",
        "\n",
        "\n",
        "### 📦 Required Libraries\n",
        "\n",
        "We will use the `requests` library to interact with the API. If it's not already installed, run:\n",
        "\n",
        "```python\n",
        "!pip install requests\n"
      ],
      "metadata": {
        "id": "9vvxaGIGOFLB"
      }
    },
    {
      "cell_type": "markdown",
      "source": [
        "<font coler=blue> You can check the status of your `ipstack.com` account with this [dashboard](https://ipstack.com/dashboard) </font>"
      ],
      "metadata": {
        "id": "dl5JwcjMPOs4"
      }
    },
    {
      "cell_type": "code",
      "source": [
        "# We first import the requests library\n",
        "import requests"
      ],
      "metadata": {
        "id": "z8c2roW8Oht1"
      },
      "execution_count": null,
      "outputs": []
    },
    {
      "cell_type": "code",
      "metadata": {
        "id": "1JNhzmLo5oD2"
      },
      "source": [
        "# We initialize some variables\n",
        "api_key = \"your_ipstack_api_key_here\"  # the api key for authentication\n",
        "url = 'http://api.ipstack.com/check?access_key='+api_key  # the fully-qualified URL (with the key)"
      ],
      "execution_count": null,
      "outputs": []
    },
    {
      "cell_type": "markdown",
      "source": [
        "Alternatively, we can pull API key values from a secrets environment to protect our account.  This is especially important for paid and sensitive accounts."
      ],
      "metadata": {
        "id": "fE3viobhQ7LJ"
      }
    },
    {
      "cell_type": "code",
      "source": [
        "from google.colab import userdata   # using the Google Colab `secrets` module\n",
        "api_key = userdata.get('ipstackAPIkey')  # getting the value for `ipstackAPIkey` from `secrets`\n",
        "url = 'http://api.ipstack.com/check?access_key='+api_key  # the fully-qualified URL (with the key)"
      ],
      "metadata": {
        "id": "VIWoa-ymRJoz"
      },
      "execution_count": null,
      "outputs": []
    },
    {
      "cell_type": "code",
      "source": [
        "resp = requests.get(url)   # invoking the API and assigning the result to a variable"
      ],
      "metadata": {
        "id": "k_ux1ucHO4b7"
      },
      "execution_count": null,
      "outputs": []
    },
    {
      "cell_type": "markdown",
      "source": [
        "*What did we ask the `ipstack.com` API to do?*"
      ],
      "metadata": {
        "id": "pVU3CIQfPyc-"
      }
    },
    {
      "cell_type": "code",
      "source": [
        "print('http://api.ipstack.com/check?access_key='+api_key)"
      ],
      "metadata": {
        "id": "blTTR3A6LylC"
      },
      "execution_count": null,
      "outputs": []
    },
    {
      "cell_type": "code",
      "metadata": {
        "id": "cBepBZer5oD4"
      },
      "source": [
        "# The resp object encapsulates the \"response\" of the server\n",
        "# Notice the status code that is displayed.\n",
        "# Code 200 means that things went fine\n",
        "# Code 404 means that the URL was not found\n",
        "# Codes 5xx mean that something went wrong\n",
        "resp"
      ],
      "execution_count": null,
      "outputs": []
    },
    {
      "cell_type": "code",
      "metadata": {
        "id": "YFUqUmiI5oD6"
      },
      "source": [
        "if (resp.status_code == 200):\n",
        "    print(\"Everything was ok:\", resp.status_code)\n",
        "else:\n",
        "    print(\"There was a problem:\", resp.status_code)"
      ],
      "execution_count": null,
      "outputs": []
    },
    {
      "cell_type": "code",
      "metadata": {
        "id": "uU9KIJMG5oD9"
      },
      "source": [
        "# Let's see the content of the response\n",
        "# As you can see, it contain the JSON response\n",
        "data = resp.text\n",
        "data"
      ],
      "execution_count": null,
      "outputs": []
    },
    {
      "cell_type": "code",
      "metadata": {
        "id": "_lmUJli55oD_"
      },
      "source": [
        "# We want to transform the JSON file into a Python dictionary object\n",
        "# We use the response.json() command to get back a dictionary\n",
        "data = resp.json()"
      ],
      "execution_count": null,
      "outputs": []
    },
    {
      "cell_type": "code",
      "metadata": {
        "id": "NHlDhRrg5oEC"
      },
      "source": [
        "# Now data is a Python dictionary\n",
        "data"
      ],
      "execution_count": null,
      "outputs": []
    },
    {
      "cell_type": "code",
      "metadata": {
        "id": "YPvH0mir5oEE"
      },
      "source": [
        "# And we can access the fields of the JSON as we normally access Python dictionary entries\n",
        "print(\"Lon:\", data[\"longitude\"], \"Lat:\", data[\"latitude\"])"
      ],
      "execution_count": null,
      "outputs": []
    },
    {
      "cell_type": "markdown",
      "metadata": {
        "id": "zUCBtp7i5oEG"
      },
      "source": [
        "And in one piece:"
      ]
    },
    {
      "cell_type": "code",
      "metadata": {
        "id": "pbjZuT8K5oEH"
      },
      "source": [
        "import requests\n",
        "from google.colab import userdata   # using the Google Colab `secrets` module\n",
        "api_key = userdata.get('ipstackAPIkey')  # getting the value for `ipstackAPIkey` from `secrets`\n",
        "\n",
        "url = 'http://api.ipstack.com/check?access_key='+api_key\n",
        "resp = requests.get(url)\n",
        "data = resp.json()\n",
        "print(\"Lon:\", data[\"longitude\"], \"Lat:\", data[\"latitude\"])"
      ],
      "execution_count": null,
      "outputs": []
    },
    {
      "cell_type": "markdown",
      "source": [
        "Alternatively, we could write a function `get_ip_location()` to do the work."
      ],
      "metadata": {
        "id": "7hNr6VQ-QI_B"
      }
    },
    {
      "cell_type": "code",
      "source": [
        "def get_ip_location(ip_address, api_key):\n",
        "    url = f\"http://api.ipstack.com/{ip_address}?access_key={api_key}\"\n",
        "    response = requests.get(url)\n",
        "    if response.status_code == 200:\n",
        "        return response.json()\n",
        "    else:\n",
        "        raise Exception(f\"API request failed with status code {response.status_code}\")"
      ],
      "metadata": {
        "id": "1XqbkgUQQXGv"
      },
      "execution_count": null,
      "outputs": []
    },
    {
      "cell_type": "markdown",
      "source": [
        "Then invoke the function."
      ],
      "metadata": {
        "id": "wLIZDoF_Qc_j"
      }
    },
    {
      "cell_type": "code",
      "source": [
        "from google.colab import userdata   # using the Google Colab `secrets` module\n",
        "api_key = userdata.get('ipstackAPIkey')  # getting the value for `ipstackAPIkey` from `secrets`\n",
        "ip = '134.201.250.155'  # Example IP address\n",
        "\n",
        "location = get_ip_location(ip, api_key)\n",
        "print(location)\n"
      ],
      "metadata": {
        "id": "gyri4VbUQfc_"
      },
      "execution_count": null,
      "outputs": []
    },
    {
      "cell_type": "markdown",
      "source": [
        "The ipstack API returns data in JSON (JavaScript Object Notation) format. JSON is a lightweight, structured format used to exchange data between a server and a client.  \n",
        "  \n",
        "When you send a request to the ipstack API with a valid IP address and API key, the server responds with a JSON object containing geolocation details.  \n",
        "  \n",
        "You can access each field in the response like this:  "
      ],
      "metadata": {
        "id": "oJvDBsuQSn8D"
      }
    },
    {
      "cell_type": "code",
      "source": [
        "data = get_ip_location('134.201.250.155', api_key)\n",
        "\n",
        "print(\"IP Address:\", data['ip'])\n",
        "print(\"City:\", data['city'])\n",
        "print(\"Country:\", data['country_name'])\n",
        "print(\"Coordinates:\", data['longitude'], data['latitude'])"
      ],
      "metadata": {
        "id": "KzSAWWyUSqN2"
      },
      "execution_count": null,
      "outputs": []
    },
    {
      "cell_type": "markdown",
      "source": [
        "\n",
        "\n",
        "---\n",
        "\n"
      ],
      "metadata": {
        "id": "WRRZY5xdSHMx"
      }
    },
    {
      "cell_type": "markdown",
      "source": [
        "## API Calls with Parameters"
      ],
      "metadata": {
        "id": "-YCiuY5unn8Z"
      }
    },
    {
      "cell_type": "markdown",
      "source": [
        "Interested in movies?  Who isn't?  We can use the `imdbapi.com` service to look up data about popular films.  Here is an example format for requesting **JSON** data about the movie \"Inception\" from the `omdbapi.com` web service:\n",
        "  \n",
        "```\n",
        "http://www.omdbapi.com/?t=Inception&apikey=[yourkeyhere]\n",
        "````\n",
        "\n",
        "### 🔐 Prerequisites\n",
        "\n",
        "To use the `imdbapi.com` API, you'll need:\n",
        "\n",
        "1. A **free or paid API key** from [http://www.omdbapi.com/apikey.aspx](http://www.omdbapi.com/apikey.aspx).\n",
        "2. Basic knowledge of making HTTP requests in Python.\n",
        "\n",
        "See the *APPENDIX: Using Veracrypt for Encrypted Storage* at the bottom of this notebook for instructions on using the free `Veracrypt.fr` application to create an encrypted drive where you can store your API keys.  \n",
        "\n",
        "\n",
        "### 📦 Required Libraries\n",
        "\n",
        "We will use the `requests` library to interact with the API. If it's not already installed, run:\n",
        "\n",
        "```python\n",
        "!pip install requests\n",
        "\n"
      ],
      "metadata": {
        "id": "MtO_ayaonrm_"
      }
    },
    {
      "cell_type": "markdown",
      "source": [
        "### 🎬 OMDb API Query Parameters\n",
        "\n",
        "| Parameter | Required | Description | Example |\n",
        "|-----------|----------|-------------|---------|\n",
        "| `apikey`  | Yes      | Your API key for authentication | `apikey=YOUR_API_KEY` |\n",
        "| `t`       | No       | Movie title to search for | `t=Inception` |\n",
        "| `s`       | No       | Search term for a list of movies | `s=Batman` |\n",
        "| `i`       | No       | IMDb ID of the movie | `i=tt1375666` |\n",
        "| `y`       | No       | Year of release | `y=2010` |\n",
        "| `type`    | No       | Type of result: `movie`, `series`, or `episode` | `type=movie` |\n",
        "| `plot`    | No       | Return short or full plot: `short` or `full` | `plot=full` |\n",
        "| `r`       | No       | Response format: `json` or `xml` | `r=json` |\n",
        "| `page`    | No       | Page number of results (for search) | `page=2` |\n",
        "| `callback`| No       | JSONP callback name (for use with `r=json`) | `callback=myFunc` |\n",
        "| `v`       | No       | API version (currently `v=1`) | `v=1` |\n",
        "\n"
      ],
      "metadata": {
        "id": "ZHbQ0j5UrVC2"
      }
    },
    {
      "cell_type": "markdown",
      "source": [
        "Let's use some of those parameters to ask for a summary of the plot of the film \"Inception\" from the `imdbapi.com` web service.  "
      ],
      "metadata": {
        "id": "udn6PtOJsJvS"
      }
    },
    {
      "cell_type": "code",
      "source": [
        "import requests\n",
        "from google.colab import userdata   # using the Google Colab `secrets` module\n",
        "\n",
        "# Get the OMDb API key stored under 'omdbAPIkey' in the Secrets tab\n",
        "api_key = userdata.get('omdbapiAPIkey')\n",
        "\n",
        "# Define the base URL for the OMDb API\n",
        "omdb_url = \"http://www.omdbapi.com/\"\n",
        "\n",
        "# Define query parameters\n",
        "parameters = {\n",
        "    't'     : 'Inception',   # Movie title\n",
        "    'r'     : 'json',        # Response format\n",
        "    'plot'  : 'full',        # Full plot summary\n",
        "    'apikey': f'{api_key}'   # API key\n",
        "}\n",
        "\n",
        "# Send the GET request\n",
        "resp = requests.get(omdb_url, params=parameters)\n",
        "\n",
        "# Parse and print the JSON response\n",
        "data = resp.json()\n",
        "print(data)\n"
      ],
      "metadata": {
        "id": "l9TnSfmosUf4"
      },
      "execution_count": null,
      "outputs": []
    },
    {
      "cell_type": "code",
      "source": [
        "print(data['Plot'])"
      ],
      "metadata": {
        "id": "nA8RuCzLsfaE"
      },
      "execution_count": null,
      "outputs": []
    },
    {
      "cell_type": "markdown",
      "source": [
        "Let's extend that code to prompt the user for the name of a film.\n"
      ],
      "metadata": {
        "id": "EkhoGD_rsoS6"
      }
    },
    {
      "cell_type": "code",
      "source": [
        "import requests\n",
        "from google.colab import userdata   # Google Colab Secrets tab\n",
        "\n",
        "# Get the API key from Colab secrets\n",
        "api_key = userdata.get('omdbapiAPIkey')\n",
        "\n",
        "# Prompt the user for a movie title\n",
        "movie_title = input(\"Enter the name of a film to search: \").strip()\n",
        "\n",
        "# Define the base URL and parameters for the request\n",
        "omdb_url = \"http://www.omdbapi.com/\"\n",
        "parameters = {\n",
        "    't'     : movie_title,\n",
        "    'r'     : 'json',\n",
        "    'plot'  : 'full',\n",
        "    'apikey': f'{api_key}'\n",
        "}\n",
        "\n",
        "# Send the GET request\n",
        "resp = requests.get(omdb_url, params=parameters)\n",
        "data = resp.json()\n",
        "\n",
        "# Check if the movie was found\n",
        "if data.get('Response', 'False') == 'True':\n",
        "    print(\"\\n🎬 Movie found:\")\n",
        "    print(f\"Title: {data.get('Title')}\")\n",
        "    print(f\"Year: {data.get('Year')}\")\n",
        "    print(f\"Director: {data.get('Director')}\")\n",
        "    print(f\"Genre: {data.get('Genre')}\")\n",
        "    print(f\"Plot: {data.get('Plot')}\")\n",
        "else:\n",
        "    print(f\"\\n❌ Movie not found: '{movie_title}'\")\n"
      ],
      "metadata": {
        "id": "Bmo_699Wszc6"
      },
      "execution_count": null,
      "outputs": []
    },
    {
      "cell_type": "markdown",
      "source": [
        "\n",
        "\n",
        "---\n",
        "\n"
      ],
      "metadata": {
        "id": "pUjC_GlFqfHp"
      }
    },
    {
      "cell_type": "markdown",
      "source": [
        "## Examples: Use Cases for Web API Data  "
      ],
      "metadata": {
        "id": "vbCHqexLwCU8"
      }
    },
    {
      "cell_type": "markdown",
      "source": [
        "### Geolocation and Mapping  "
      ],
      "metadata": {
        "id": "7mospFxLylZK"
      }
    },
    {
      "cell_type": "markdown",
      "source": [
        "#### Creating a Map with Folium  "
      ],
      "metadata": {
        "id": "AS6zKFyF7Vgl"
      }
    },
    {
      "cell_type": "markdown",
      "source": [
        "We can use the `folium` library to create maps.  After importing `folium`, a `Map` object can be produced using parameters for **longitude** and **latitude**.  In the example in the next cell, the following parameters are also used:  \n",
        "\n",
        "| Parameter | Value | Description |\n",
        "|-----------|-------|-------------|\n",
        "|`zoom_start` | 15 | zoom level for the map |  \n",
        "|`control_scale`| True | displays the map scale |\n",
        "|`min_zoom` | 2 | the farthest the map will zoom out |  \n",
        "|`tiles` | \"OpenStreetMap\" | the name of the map background tiles (data) |   "
      ],
      "metadata": {
        "id": "dNqEaujWy3uR"
      }
    },
    {
      "cell_type": "code",
      "source": [
        "import folium\n",
        "baruch_map = folium.Map(location=[40.74074, -73.98325], zoom_start=15, control_scale=True, min_zoom=2, tiles=\"OpenStreetMap\")  # builds a map object\n",
        "\n",
        "baruch_map # displays the map"
      ],
      "metadata": {
        "id": "Whw8ykiXyqkZ"
      },
      "execution_count": null,
      "outputs": []
    },
    {
      "cell_type": "markdown",
      "source": [
        "#### Including a Marker (icon) on a Folium Map  "
      ],
      "metadata": {
        "id": "REDimbsP7iTl"
      }
    },
    {
      "cell_type": "markdown",
      "source": [
        "Once we have created a map object, we can add to it.  One of the things we can add is a marker.  On the Baruch map that we just created, we can add a marker using a book icon from the `fa` library of icons available to `Folium`.  That marker can also display a popup string when the icon is clicked.  "
      ],
      "metadata": {
        "id": "2RCaFR237n4w"
      }
    },
    {
      "cell_type": "code",
      "source": [
        "import folium\n",
        "baruch_map = folium.Map(location=[40.74074, -73.98325], zoom_start=15, control_scale=True, min_zoom=2, tiles=\"OpenStreetMap\")  # builds a map object\n",
        "\n",
        "# Add a marker with a book icon\n",
        "folium.Marker(\n",
        "    location=[40.74074, -73.98325],\n",
        "    icon=folium.Icon(icon='book', prefix='fa'),\n",
        "    popup=\"Baruch\"\n",
        ").add_to(baruch_map)\n",
        "\n",
        "baruch_map # displays the map"
      ],
      "metadata": {
        "id": "iKJ6Ctk_78pu"
      },
      "execution_count": null,
      "outputs": []
    },
    {
      "cell_type": "markdown",
      "source": [
        "We can even save maps that we have created with `Folium` the saved file is an HTML file that can be opened with any browser, or included in a web page."
      ],
      "metadata": {
        "id": "LEjkmSls8Wuu"
      }
    },
    {
      "cell_type": "code",
      "source": [
        "import folium\n",
        "baruch_map = folium.Map(location=[40.74074, -73.98325], zoom_start=15, control_scale=True, min_zoom=2, tiles=\"OpenStreetMap\")  # builds a map object\n",
        "\n",
        "# Add a marker with a book icon\n",
        "folium.Marker(\n",
        "    location=[40.74074, -73.98325],\n",
        "    icon=folium.Icon(icon='book', prefix='fa'),\n",
        "    popup=\"Baruch\"\n",
        ").add_to(baruch_map)\n",
        "\n",
        "# baruch_map # displays the map\n",
        "baruch_map.save('baruch_map.html') # saves the map to baruch_map.html"
      ],
      "metadata": {
        "id": "Dgxylvb28hrR"
      },
      "execution_count": null,
      "outputs": []
    },
    {
      "cell_type": "markdown",
      "source": [
        "#### Creating a Map Using an IP Address Location  "
      ],
      "metadata": {
        "id": "DL0us0jq7ZzV"
      }
    },
    {
      "cell_type": "markdown",
      "source": [
        "Let's try creating a map based on the longitude and latitude in the data provided by the `ipstack.com` web service when prompted with an IP address. We can drop a \"cloud\" marker at the location of the IP address on the map, using the folium `cloud` icon from its `fa` library."
      ],
      "metadata": {
        "id": "rAR27ohr0bwn"
      }
    },
    {
      "cell_type": "code",
      "source": [
        "import requests\n",
        "import folium\n",
        "from google.colab import userdata   # using the Google Colab `secrets` module\n",
        "api_key = userdata.get('ipstackAPIkey')  # getting the value for `ipstackAPIkey` from `secrets`\n",
        "\n",
        "url = 'http://api.ipstack.com/check?access_key='+api_key\n",
        "resp = requests.get(url)\n",
        "data = resp.json()\n",
        "\n",
        "print(f'IPadddress location per `ipstack.com is longitude: {data[\"longitude\"]}, latitude: {data[\"latitude\"]}. Displaying the map.')  # note the use of quotes\n",
        "\n",
        "ip_map = folium.Map(location=[data[\"latitude\"], data[\"longitude\"]], zoom_start=15, control_scale=True, min_zoom=2, tiles=\"OpenStreetMap\")\n",
        "\n",
        "# Add a marker with a cloud icon (internet)\n",
        "folium.Marker(\n",
        "    location=[data[\"latitude\"], data[\"longitude\"]],\n",
        "    icon=folium.Icon(icon='cloud', prefix='fa'),\n",
        "    popup=\"ISP\"\n",
        ").add_to(ip_map)\n",
        "\n",
        "ip_map\n",
        "# ip_map.save('ip_map.html')  # saves the map to ip_map.html\n"
      ],
      "metadata": {
        "id": "dtfEUKMs0v52"
      },
      "execution_count": null,
      "outputs": []
    },
    {
      "cell_type": "markdown",
      "source": [
        "### Mashup -- Social Media Data GeoLocated and Mapped"
      ],
      "metadata": {
        "id": "P0b-8s-Eww5-"
      }
    },
    {
      "cell_type": "markdown",
      "source": [
        "The following link to an interactive map presented using **MapHub** includes data derived from several different social media sources.\n",
        "\n",
        "[Eyes on Russia - Event Monitor Map](https://eyesonrussia.org)     \n",
        "\n",
        "<u>From the Cen4Info</u>:   \n",
        "  \n",
        "<i>The Russia-Ukraine Monitor Map is a crowdsourced effort to map, document and verify information in order to provide reliable information for policymakers and journalists of the on-the-ground and online situation in and around Ukraine.</i>\n",
        "  \n",
        "<i>This map is created by the [Centre For Information Resilience](https://twitter.com/Cen4infoRes) as part of a wider effort to promote transparent information.</i>\n"
      ],
      "metadata": {
        "id": "pl_bT7TkwHJo"
      }
    },
    {
      "cell_type": "markdown",
      "source": [
        "### GeoLocation and Google Maps   "
      ],
      "metadata": {
        "id": "je9q-ihjw8VU"
      }
    },
    {
      "cell_type": "markdown",
      "source": [
        "We can use **longitude** and **latitude** data to request a Google Map for directions.  \n",
        "\n",
        "####Format of **Google Maps** search `URL`s    \n",
        "\n",
        "The following format is typically used to center a **Google Maps** request at a requested zoom level:    \n",
        "\n",
        "```\n",
        "https://www.google.com/maps@{lat},{lon},{zoom}z    \n",
        "```\n",
        "\n",
        "*note: the field names in curly brackets are replaced with actual values.*   "
      ],
      "metadata": {
        "id": "0OBOeoY89dIh"
      }
    },
    {
      "cell_type": "code",
      "source": [
        "import requests\n",
        "from google.colab import userdata  # Only available in Google Colab\n",
        "\n",
        "# Retrieve the IPStack API key securely\n",
        "api_key = userdata.get('ipstackAPIkey')\n",
        "\n",
        "# Example IP address\n",
        "ip_address = \"134.201.250.155\"\n",
        "\n",
        "# Request geolocation data\n",
        "ipstack_url = f\"http://api.ipstack.com/{ip_address}?access_key={api_key}\"\n",
        "response = requests.get(ipstack_url)\n",
        "data = response.json()\n",
        "\n",
        "# Extract latitude and longitude\n",
        "latitude = data.get(\"latitude\")\n",
        "longitude = data.get(\"longitude\")\n",
        "\n",
        "# Construct and print the URL\n",
        "if latitude is not None and longitude is not None:\n",
        "    # map_url = f\"https://www.google.com/maps?q={latitude},{longitude}\"   # for a wide view\n",
        "    map_url = f\"https://www.google.com/maps/@{latitude},{longitude},19z\"  # for zoomed in close view\n",
        "    print(\"Copy and paste the following URL into your browser to view the location on Google Maps:\")\n",
        "    print(map_url)\n",
        "else:\n",
        "    print(\"Could not retrieve latitude and longitude from the response.\")\n",
        "\n"
      ],
      "metadata": {
        "id": "gJXgCJQo-tC0"
      },
      "execution_count": null,
      "outputs": []
    },
    {
      "cell_type": "markdown",
      "source": [
        "\n",
        "\n",
        "---\n",
        "\n"
      ],
      "metadata": {
        "id": "6UBh92Prw7vx"
      }
    },
    {
      "cell_type": "markdown",
      "metadata": {
        "id": "0RsH81Ve5oEJ"
      },
      "source": [
        "## Exercises: Using Parameters with API Calls\n"
      ]
    },
    {
      "cell_type": "markdown",
      "metadata": {
        "id": "xMIDu1UO5oEK"
      },
      "source": [
        "\n",
        "The first API call that we tried was very simple. We just fetched a URL. Now let's see a URL that accepts as input a set of **parameters**. We have already seen this concept with functions; the parameters of the API calls are the exact equivalent but for Web APIs, which are, at their core, functions that we call over the web."
      ]
    },
    {
      "cell_type": "markdown",
      "metadata": {
        "id": "GMB-uDOS5oEK"
      },
      "source": [
        "### Example: OpenWeatherMap"
      ]
    },
    {
      "cell_type": "markdown",
      "metadata": {
        "id": "PhGVVXZZ5oEK"
      },
      "source": [
        "Let's try to query OpenWeatherMap now, to get data about the weather. [Documentation](http://openweathermap.org/current#geo). Below you can find the URL that you can copy and paste in your browser, to get the weather for New York. You will notice that it contains parameters as part of the URL, including an `appid` which is a key that is used to limit the number of calls that can be issued by a single application.\n",
        "\n",
        "Try the URL in your browser. Also try to change the query parameter `q` and change it from `New%20York,NY` to something different. (Note: The `%20` is a transformation for the space (` `) character in URLs.)\n",
        "\n",
        "<b>You will need to get an API key from [`openweathermap`](https://openweathermap.org/price)</b>"
      ]
    },
    {
      "cell_type": "markdown",
      "source": [
        "Once you have an `openweathermap` account, you can check your API keys with this [dashboard](https://home.openweathermap.org/api_keys)  "
      ],
      "metadata": {
        "id": "U344HQ0ZVHJ5"
      }
    },
    {
      "cell_type": "markdown",
      "metadata": {
        "id": "eixD0Nt15oEL"
      },
      "source": [
        "The following code uses a Python dictionary to organize and list the parameters."
      ]
    },
    {
      "cell_type": "code",
      "metadata": {
        "id": "WV29M-qn5oEM"
      },
      "source": [
        "import requests\n",
        "from google.colab import userdata   # using the Google Colab `secrets` module\n",
        "api_key = userdata.get('openweathermapAPIkey')  # getting the value for `ipstackAPIkey` from `secrets`\n",
        "\n",
        "\n",
        "openweathermap_url = \"http://api.openweathermap.org/data/2.5/weather\"\n",
        "parameters = {\n",
        "    'q'     : 'New York, NY, USA',\n",
        "    'units' : 'metric',\n",
        "    'mode'  : 'json',\n",
        "    'appid' : f'{api_key}'\n",
        "}\n",
        "resp = requests.get(openweathermap_url, params=parameters)\n",
        "data = resp.json()\n",
        "print(data)"
      ],
      "execution_count": null,
      "outputs": []
    },
    {
      "cell_type": "code",
      "source": [
        "openweathermap_url = \"http://api.openweathermap.org/data/2.5/weather\"\n",
        "parameters = {\n",
        "    'q'     : 'New York, NY, USA',\n",
        "    'units' : 'metric',\n",
        "    'mode'  : 'json',\n",
        "    'appid' : f'{api_key}'\n",
        "}\n",
        "resp = requests.get(openweathermap_url, params=parameters)\n",
        "data = resp.json()\n",
        "print(data)\n"
      ],
      "metadata": {
        "id": "eU2y4dNiQ3NV"
      },
      "execution_count": null,
      "outputs": []
    },
    {
      "cell_type": "code",
      "metadata": {
        "id": "1N3YVzrr0u3y"
      },
      "source": [
        "resp = requests.get(\"http://api.openweathermap.org/data/2.5/weather?q=New%20York,NY,USA&units=imperial&mode=json&appid=\"+api_key)\n",
        "data = resp.json()\n",
        "print(data)"
      ],
      "execution_count": null,
      "outputs": []
    },
    {
      "cell_type": "markdown",
      "metadata": {
        "id": "Z9dRT8qD5oEO"
      },
      "source": [
        "## Exercise 1"
      ]
    },
    {
      "cell_type": "markdown",
      "metadata": {
        "id": "ekPCIVjw5oEP"
      },
      "source": [
        "\n",
        "a. Extract the current temperature from the returned JSON response.\n"
      ]
    },
    {
      "cell_type": "code",
      "metadata": {
        "id": "SY28R1Y75oEP"
      },
      "source": [
        "# your code here\n",
        "data['main']['feels_like']"
      ],
      "execution_count": null,
      "outputs": []
    },
    {
      "cell_type": "markdown",
      "metadata": {
        "id": "nfwlbmry5oES"
      },
      "source": [
        "b. Extract the description of the current weather"
      ]
    },
    {
      "cell_type": "code",
      "metadata": {
        "id": "Vbdw_5P45oES"
      },
      "source": [
        "# your code here\n",
        "data['weather'][0]['description']"
      ],
      "execution_count": null,
      "outputs": []
    },
    {
      "cell_type": "markdown",
      "metadata": {
        "id": "_sawiHGJ5oEU"
      },
      "source": [
        "c. Try to change the units to `metric` and repeat\n"
      ]
    },
    {
      "cell_type": "code",
      "metadata": {
        "id": "rqf09h-45oEV"
      },
      "source": [
        "# your code here"
      ],
      "execution_count": null,
      "outputs": []
    },
    {
      "cell_type": "markdown",
      "metadata": {
        "id": "PGfhbHOx5oEX"
      },
      "source": [
        "d. Get the weather for San Francisco, CA\n",
        "\n"
      ]
    },
    {
      "cell_type": "code",
      "metadata": {
        "id": "l3dE9net5oEY"
      },
      "source": [
        "# your code here"
      ],
      "execution_count": null,
      "outputs": []
    },
    {
      "cell_type": "markdown",
      "metadata": {
        "solution2": "hidden",
        "solution2_first": true,
        "id": "T86ZQN7_5oEa"
      },
      "source": [
        "### Solution for Exercise 1"
      ]
    },
    {
      "cell_type": "markdown",
      "metadata": {
        "id": "BUi_PTUjs55i"
      },
      "source": [
        "*solution provided after assignments are submitted*"
      ]
    },
    {
      "cell_type": "markdown",
      "metadata": {
        "id": "WPeS6UP75oEi"
      },
      "source": [
        "## Exercise 2\n",
        "\n"
      ]
    },
    {
      "cell_type": "markdown",
      "metadata": {
        "id": "1XrRy0Nm5oEj"
      },
      "source": [
        "* Study the documentation of the API ([Documentation](http://openweathermap.org/current#geo)). Change the API call to use the longitute and latitude."
      ]
    },
    {
      "cell_type": "code",
      "metadata": {
        "id": "9GnrllAp5oEj"
      },
      "source": [
        "# your code here"
      ],
      "execution_count": null,
      "outputs": []
    },
    {
      "cell_type": "markdown",
      "metadata": {
        "solution2": "hidden",
        "solution2_first": true,
        "id": "60HrzpCx5oEl"
      },
      "source": [
        "### Solution for Exercise 2"
      ]
    },
    {
      "cell_type": "markdown",
      "metadata": {
        "id": "5iiH3mDDtE9r"
      },
      "source": [
        "*solution provided after assignments are submitted*"
      ]
    },
    {
      "cell_type": "markdown",
      "metadata": {
        "id": "eqp-2T7M5oEn"
      },
      "source": [
        "## Exercise 3\n",
        "\n"
      ]
    },
    {
      "cell_type": "markdown",
      "metadata": {
        "id": "kjTTJcSi5oEo"
      },
      "source": [
        "Read the location of your computer using the GeoIP API. Then use the OpenWeatherMap to query the API and fetch the temperature for the location returned by the GeoIP `ipstack.com` API. For this exercise, you will need to learn to read variables from a Web API (the `ipstack` GeoIP) and use them as input in another (`openweathermap`)"
      ]
    },
    {
      "cell_type": "code",
      "metadata": {
        "id": "h4NRMpCm5oEo"
      },
      "source": [
        "#your code here"
      ],
      "execution_count": null,
      "outputs": []
    },
    {
      "cell_type": "markdown",
      "metadata": {
        "solution2": "hidden",
        "solution2_first": true,
        "id": "-FoO_rKL5oEr"
      },
      "source": [
        "### Solution for Exercise 3"
      ]
    },
    {
      "cell_type": "markdown",
      "metadata": {
        "id": "jTUpljI2tHnf"
      },
      "source": [
        "*solution provided after assignments are submitted*"
      ]
    },
    {
      "cell_type": "markdown",
      "metadata": {
        "id": "CPksCu_htJPE"
      },
      "source": [
        "\n",
        "\n",
        "---\n",
        "\n"
      ]
    },
    {
      "cell_type": "markdown",
      "metadata": {
        "id": "3npHRrrxtKf-"
      },
      "source": [
        "> *Submit your solutions to the assignment on Brightspace.  Please download your entire Colab notebook and submit the file downloaded.  The assignment on Brightspace will have more details.*"
      ]
    },
    {
      "cell_type": "markdown",
      "metadata": {
        "id": "_LoLDugAtdq_"
      },
      "source": [
        "\n",
        "\n",
        "---\n",
        "\n"
      ]
    },
    {
      "cell_type": "markdown",
      "source": [
        "# APPENDIX - Using Veracrypt for Encrypted Storage  "
      ],
      "metadata": {
        "id": "VtDMMY-1f1OF"
      }
    },
    {
      "cell_type": "markdown",
      "source": [
        "Using the Google Secrets Manager is one way to keep your API keys in a persistent storage that can be accessed when you are authenticated to your Google account online.   \n",
        "\n",
        "Of couurse, you can always log in to each of your various API accounts and look up any of your API keys, but that can be a fragmented and inefficient process.  One option for keeping persistent, and confidential, storage of your API keys is to use an encrypted drive.  \n",
        "  \n",
        "One free resource for creating an encrypted drive is `Veracrypt.fr`.  "
      ],
      "metadata": {
        "id": "ywJ8m01Df8Bz"
      }
    },
    {
      "cell_type": "markdown",
      "source": [
        "## Installation and Setup of VeraCrypt\n",
        "\n",
        "### Step 1: Download VeraCrypt\n",
        "\n",
        "1. Go to the official website: [https://www.veracrypt.fr](https://www.veracrypt.fr)\n",
        "2. Click on **Downloads**.\n",
        "3. Select the appropriate installer for your operating system:\n",
        "   - **Windows**: `VeraCrypt Setup x64.exe`\n",
        "   - **macOS/Linux**: Use the provided links for your platform.\n",
        "\n",
        "### Step 2: Install VeraCrypt\n",
        "\n",
        "1. Run the installer:\n",
        "   - On Windows, double-click the `.exe` file.\n",
        "   - Approve any security prompts (e.g., User Account Control).\n",
        "2. Choose **Install** (not Extract).\n",
        "3. Accept the license agreement and default options.\n",
        "4. Click **Install** and wait for the process to complete.\n",
        "5. Click **Finish** when done.\n",
        "\n",
        "---\n",
        "\n",
        "## Create an Encrypted Volume for Drive `K:`\n",
        "\n",
        "> These steps describe how to create a file-based encrypted container (not a full disk or partition).\n",
        "\n",
        "### Step 3: Launch VeraCrypt and Start the Volume Creation Wizard\n",
        "\n",
        "1. Open VeraCrypt.\n",
        "2. Click **Create Volume**.\n",
        "3. Select **Create an encrypted file container** → Click **Next**.\n",
        "4. Select **Standard VeraCrypt volume** → Click **Next**.\n",
        "\n",
        "### Step 4: Define Volume Location and Encryption Options\n",
        "\n",
        "1. Click **Select File**.\n",
        "2. Navigate to a folder and enter a name, e.g., `EncryptedAPIKeys.hc`.\n",
        "3. Click **Save** → Click **Next**.\n",
        "4. Leave the default encryption options (AES and SHA-512) → Click **Next**.\n",
        "\n",
        "### Step 5: Set Volume Size and Password\n",
        "\n",
        "1. Enter a size (e.g., `100 MB`) → Click **Next**.\n",
        "2. Choose a strong password → Click **Next**.\n",
        "   - Confirm any warnings about password length if applicable.\n",
        "\n",
        "### Step 6: Format the Encrypted Volume\n",
        "\n",
        "1. Choose a filesystem:\n",
        "   - `NTFS` for Windows-only use\n",
        "   - `exFAT` for cross-platform compatibility\n",
        "2. Move your mouse randomly in the window for stronger cryptographic keys.\n",
        "3. Click **Format**.\n",
        "4. When complete, click **Exit**.\n",
        "\n",
        "---\n",
        "\n",
        "## Mount the Encrypted Volume as Drive `K:`\n",
        "\n",
        "### Step 7: Mounting the Volume\n",
        "\n",
        "1. In VeraCrypt, select an available drive letter (e.g., `K:`).\n",
        "2. Click **Select File** and browse to the `EncryptedAPIKeys.hc` file.\n",
        "3. Click **Mount**.\n",
        "4. Enter your password and click **OK`.\n",
        "\n",
        "> The encrypted volume is now mounted as drive `K:` and can be accessed like a regular disk.\n",
        "\n",
        "---\n",
        "\n",
        "## Store API Keys Securely\n",
        "\n",
        "### Step 8: Save Keys in the Encrypted Drive\n",
        "\n",
        "1. Open File Explorer and go to drive `K:`.\n",
        "2. Create a file, e.g., `keys.json`.\n",
        "3. Paste your API keys inside the file and save it.\n",
        "\n",
        "---\n",
        "\n",
        "## Dismount the Encrypted Drive\n",
        "\n",
        "### Step 9: Unmount the Volume\n",
        "\n",
        "1. In VeraCrypt, select the mounted drive `K:`.\n",
        "2. Click **Dismount**.\n",
        "\n",
        "> The encrypted container is now safely closed. You must re-mount it to access its contents again.\n"
      ],
      "metadata": {
        "id": "sy1dA5xSiPE8"
      }
    },
    {
      "cell_type": "markdown",
      "source": [
        "\n",
        "\n",
        "---\n",
        "\n"
      ],
      "metadata": {
        "id": "2-RwkwiOiT-w"
      }
    }
  ]
}