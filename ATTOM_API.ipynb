{
  "nbformat": 4,
  "nbformat_minor": 0,
  "metadata": {
    "colab": {
      "provenance": [],
      "authorship_tag": "ABX9TyOwXROFza7GSESxSc7NyBWB",
      "include_colab_link": true
    },
    "kernelspec": {
      "name": "python3",
      "display_name": "Python 3"
    },
    "language_info": {
      "name": "python"
    }
  },
  "cells": [
    {
      "cell_type": "markdown",
      "metadata": {
        "id": "view-in-github",
        "colab_type": "text"
      },
      "source": [
        "<a href=\"https://colab.research.google.com/github/ProfessorPatrickSlatraigh/CST2312_H11/blob/main/ATTOM_API.ipynb\" target=\"_parent\"><img src=\"https://colab.research.google.com/assets/colab-badge.svg\" alt=\"Open In Colab\"/></a>"
      ]
    },
    {
      "cell_type": "markdown",
      "source": [
        "# ATTOM Real Estate APIs\n",
        "\n",
        "*by Professor Patrick, April 2025*  \n",
        "\n",
        "*see [ATTOM account](https://api.developer.attomdata.com/admin/applications)*"
      ],
      "metadata": {
        "id": "cZA2UCio9q9z"
      }
    },
    {
      "cell_type": "markdown",
      "source": [
        "\n",
        "\n",
        "---\n",
        "\n"
      ],
      "metadata": {
        "id": "shLtKcv2_KOC"
      }
    },
    {
      "cell_type": "markdown",
      "source": [
        "## Property Details API  \n",
        ""
      ],
      "metadata": {
        "id": "MeIGpws2_K1l"
      }
    },
    {
      "cell_type": "markdown",
      "source": [
        "###Housekeeping\n",
        "\n"
      ],
      "metadata": {
        "id": "BE32RTgO_ffm"
      }
    },
    {
      "cell_type": "code",
      "source": [
        "from google.colab import userdata\n",
        "api_key = userdata.get('attomAPIkey')"
      ],
      "metadata": {
        "id": "oT1o14FF962B"
      },
      "execution_count": 1,
      "outputs": []
    },
    {
      "cell_type": "code",
      "source": [
        "import http.client"
      ],
      "metadata": {
        "id": "F1N7rQVK_jLm"
      },
      "execution_count": 4,
      "outputs": []
    },
    {
      "cell_type": "code",
      "source": [
        "import urllib.parse"
      ],
      "metadata": {
        "id": "rvtVYWJ5BNC0"
      },
      "execution_count": 7,
      "outputs": []
    },
    {
      "cell_type": "code",
      "source": [
        "import json"
      ],
      "metadata": {
        "id": "_cXqmNfKDR1m"
      },
      "execution_count": 15,
      "outputs": []
    },
    {
      "cell_type": "markdown",
      "source": [
        "### Test Request  \n",
        "\n",
        "*This test request for the following address is provided by ATTOM:*\n",
        "  \n",
        "```\n",
        "4529 Winona Court  \n",
        "Denver, CO    \n",
        "```\n"
      ],
      "metadata": {
        "id": "neIfNNgz_mUG"
      }
    },
    {
      "cell_type": "code",
      "execution_count": 3,
      "metadata": {
        "colab": {
          "base_uri": "https://localhost:8080/"
        },
        "id": "7ba6kbEc9eHn",
        "outputId": "9a690b83-7d80-4b33-9240-4a4e10cb4109"
      },
      "outputs": [
        {
          "output_type": "stream",
          "name": "stdout",
          "text": [
            "{\"status\":{\"version\":\"1.0.0\",\"code\":0,\"msg\":\"SuccessWithResult\",\"total\":1,\"page\":1,\"pagesize\":10,\"responseDateTime\":\"2025-04-11T22:31:31.422Z\",\"transactionID\":\"13ec0aeffa55bcaf6f2fa5135f6332d7\",\"attomId\":184713191},\"property\":[{\"identifier\":{\"Id\":184713191,\"fips\":\"08031\",\"apn\":\"02192-04-018-000\",\"attomId\":184713191},\"lot\":{\"lotnum\":\"31,32\",\"lotsize1\":0.1076676,\"lotsize2\":4690,\"pooltype\":\"NO POOL\"},\"area\":{\"blockNum\":\"36\",\"loctype\":\"VIEW - NONE\",\"countrysecsubd\":\"Denver\",\"countyuse1\":\"113  \",\"muncode\":\"DE\",\"munname\":\"DENVER\",\"srvyRange\":\"68W\",\"srvySection\":\"19\",\"srvyTownship\":\"03S\",\"subdname\":\"BERKELEY\",\"taxcodearea\":\"DENV\"},\"address\":{\"country\":\"US\",\"countrySubd\":\"CO\",\"line1\":\"4529 WINONA CT\",\"line2\":\"DENVER, CO 80212\",\"locality\":\"DENVER\",\"matchCode\":\"ExaStr\",\"oneLine\":\"4529 WINONA CT, DENVER, CO 80212\",\"postal1\":\"80212\",\"postal2\":\"2512\",\"postal3\":\"C037\"},\"location\":{\"accuracy\":\"Rooftop\",\"latitude\":\"39.778926\",\"longitude\":\"-105.047775\",\"distance\":0.0,\"geoid\":\"CO08031, CS0891007, DB0803360, ND0000119198, ND0004861239, PL0820000, SB0000076114, SB0000076155, SB0000076161, SB0000135819, SB0000143772, ZI80212\",\"geoIdV4\":{\"CO\":\"1291dc1937525d78f89cebb6a43a50de\",\"CS\":\"4c0507d0d7894d2d48e4e03e1c0240fc\",\"DB\":\"d8ca7ea08abbe9efdd7e3b78f23d120e\",\"N1\":\"b26d02d9330761156fc0cfd4ed8bf9a1\",\"N2\":\"27e220314436f6edd5e606ddcd28156d\",\"PL\":\"7de845f7ba9b234a2c5adfca1db76c64\",\"SB\":\"9e0b497fb1337405c4dfe64e51568f68, 3b4cd5c56026e2e1f0e5c553b74cf05d, 93e5fef8956253c5642a335fc4a4395f, 3d0771574d56c6eae9184bc5aa3ebe19, 8a506b574561c5bab4f163492c7a386a\",\"ZI\":\"0149d0a55ef2d6b71071a39f4e13d6eb\"}},\"summary\":{\"absenteeInd\":\"OWNER OCCUPIED\",\"propclass\":\"Single Family Residence / Townhouse\",\"propsubtype\":\"Residential\",\"proptype\":\"SFR\",\"propertyType\":\"SINGLE FAMILY RESIDENCE\",\"yearbuilt\":1900,\"propLandUse\":\"SFR\",\"propIndicator\":\"10\",\"legal1\":\"BERKELEY B36 L31 & S/2 OF L32 EXC REAR 8FT TO CITY\"},\"utilities\":{\"heatingfuel\":\"GAS\",\"heatingtype\":\"CENTRAL\"},\"building\":{\"size\":{\"bldgsize\":934,\"grosssize\":1414,\"grosssizeadjusted\":934,\"groundfloorsize\":934,\"livingsize\":934,\"sizeInd\":\"LIVING SQFT\",\"universalsize\":934},\"rooms\":{\"bathfixtures\":5,\"bathsfull\":1,\"bathstotal\":1.0,\"beds\":2,\"roomsTotal\":5},\"interior\":{\"bsmtsize\":480,\"fplccount\":1,\"fplcind\":\"Y\",\"fplctype\":\"YES\"},\"construction\":{\"condition\":\"GOOD\",\"wallType\":\"BRICK\"},\"parking\":{\"garagetype\":\"Garage, Detached\",\"prkgSize\":240,\"prkgType\":\"Garage, Detached\"},\"summary\":{\"archStyle\":\"OTHER\",\"levels\":1,\"quality\":\"EXCELLENT\",\"unitsCount\":\"1\",\"view\":\"VIEW - NONE\",\"yearbuilteffective\":2014}},\"vintage\":{\"lastModified\":\"2025-03-18\",\"pubDate\":\"2025-03-18\"}}]}\n"
          ]
        }
      ],
      "source": [
        "conn = http.client.HTTPSConnection(\"api.gateway.attomdata.com\")\n",
        "\n",
        "headers = {\n",
        "    'accept': \"application/json\",\n",
        "    'apikey': f\"{api_key}\",\n",
        "}\n",
        "\n",
        "conn.request(\"GET\", \"/propertyapi/v1.0.0/property/detail?address1=4529%20Winona%20Court&address2=Denver%2C%20CO\", headers=headers)\n",
        "\n",
        "response = conn.getresponse()\n",
        "data = response.read()\n",
        "\n",
        "print(data.decode(\"utf-8\"))"
      ]
    },
    {
      "cell_type": "markdown",
      "source": [
        "###Prompt for Address1, Address2  "
      ],
      "metadata": {
        "id": "uQN07Rkr_7fd"
      }
    },
    {
      "cell_type": "markdown",
      "source": [
        "Define a function `get_by_add1add2()` that takes common address lines 1 and 2 and encodes them for inclusion as parameters in an HTTP request to `api.gateway.attomdata.com`.  "
      ],
      "metadata": {
        "id": "FvALYZ5AG-jo"
      }
    },
    {
      "cell_type": "code",
      "source": [
        "def get_by_add1add2(address1, address2):\n",
        "    conn = http.client.HTTPSConnection(\"api.gateway.attomdata.com\")\n",
        "\n",
        "    headers = {\n",
        "        'accept': \"application/json\",\n",
        "        'apikey': f\"{api_key}\",\n",
        "    }\n",
        "\n",
        "    encoded_address1 = urllib.parse.quote(address1)\n",
        "    encoded_address2 = urllib.parse.quote(address2)\n",
        "\n",
        "    conn.request(\"GET\", \"/propertyapi/v1.0.0/property/detail?address1=\"+encoded_address1+\"&address2=\"+encoded_address2, headers=headers)\n",
        "\n",
        "    response = conn.getresponse()\n",
        "    data = response.read()\n",
        "\n",
        "    return data.decode(\"utf-8\")"
      ],
      "metadata": {
        "id": "bt3naZ5oABQW"
      },
      "execution_count": 13,
      "outputs": []
    },
    {
      "cell_type": "markdown",
      "source": [
        "Try this for the 20.46 acre property at:  \n",
        "```\n",
        "432 Farm Road\n",
        "Lowell VT\n",
        "```"
      ],
      "metadata": {
        "id": "bK3FCnKsEY6Q"
      }
    },
    {
      "cell_type": "markdown",
      "source": [
        "Or for the 23.9 acre property at:\n",
        "```\n",
        "3055 VT Route 58 W\n",
        "Irasburg VT\n",
        "```"
      ],
      "metadata": {
        "id": "Gpj8J5XLGuSF"
      }
    },
    {
      "cell_type": "code",
      "source": [
        "address1 = input(\"Enter Address1: \")\n",
        "address2 = input(\"Enter Address2: \")\n",
        "\n",
        "json_data = get_by_add1add2(address1, address2)"
      ],
      "metadata": {
        "id": "hnODqz6qBPT3"
      },
      "execution_count": null,
      "outputs": []
    },
    {
      "cell_type": "code",
      "source": [
        "json_data"
      ],
      "metadata": {
        "id": "HfWF7aKKGMm5"
      },
      "execution_count": null,
      "outputs": []
    },
    {
      "cell_type": "code",
      "source": [
        "data = json.loads(json_data)\n",
        "prop = data[\"property\"][0]\n",
        "\n",
        "# Define field mappings (common term : path in JSON)\n",
        "fields = {\n",
        "    \"Property ID\": prop[\"identifier\"][\"Id\"],\n",
        "    \"FIPS Code\": prop[\"identifier\"][\"fips\"],\n",
        "    \"Parcel Number\": prop[\"identifier\"][\"apn\"],\n",
        "    \"Street Address\": prop[\"address\"][\"line1\"],\n",
        "    \"City\": prop[\"address\"][\"locality\"],\n",
        "    \"State\": prop[\"address\"][\"countrySubd\"],\n",
        "    \"ZIP Code\": prop[\"address\"][\"postal1\"],\n",
        "    \"Full Address\": prop[\"address\"][\"oneLine\"],\n",
        "    \"Latitude\": prop[\"location\"][\"latitude\"],\n",
        "    \"Longitude\": prop[\"location\"][\"longitude\"],\n",
        "    \"Lot Size (acres)\": prop[\"lot\"][\"lotsize1\"],\n",
        "    \"Lot Size (sq ft)\": prop[\"lot\"][\"lotsize2\"],\n",
        "    \"Pool Type\": prop[\"lot\"][\"pooltype\"],\n",
        "    \"Municipality\": prop[\"area\"][\"munname\"],\n",
        "    \"County (Subdivision)\": prop[\"area\"][\"countrysecsubd\"],\n",
        "    \"Property Class\": prop[\"summary\"][\"propclass\"],\n",
        "    \"Property Subtype\": prop[\"summary\"][\"propsubtype\"],\n",
        "    \"Property Type\": prop[\"summary\"][\"propertyType\"],\n",
        "    \"Land Use\": prop[\"summary\"][\"propLandUse\"],\n",
        "    \"View\": prop[\"building\"][\"summary\"][\"view\"],\n",
        "    \"Last Modified\": prop[\"vintage\"][\"lastModified\"],\n",
        "    \"Published Date\": prop[\"vintage\"][\"pubDate\"]\n",
        "}\n",
        "\n",
        "# Print each item\n",
        "for label, value in fields.items():\n",
        "    print(f\"{label}: {value}\")"
      ],
      "metadata": {
        "id": "BNfkcKi8Dz02"
      },
      "execution_count": null,
      "outputs": []
    }
  ]
}