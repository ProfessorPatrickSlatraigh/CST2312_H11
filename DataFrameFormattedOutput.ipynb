{
  "cells": [
    {
      "cell_type": "markdown",
      "metadata": {
        "id": "view-in-github",
        "colab_type": "text"
      },
      "source": [
        "<a href=\"https://colab.research.google.com/github/ProfessorPatrickSlatraigh/CST2312_H11/blob/main/DataFrameFormattedOutput.ipynb\" target=\"_parent\"><img src=\"https://colab.research.google.com/assets/colab-badge.svg\" alt=\"Open In Colab\"/></a>"
      ]
    },
    {
      "cell_type": "markdown",
      "source": [
        "#Formatted Output from pandas DataFrames  \n",
        "  \n",
        "*by Professor Patrick: May 2025*  \n",
        "  \n",
        "##Contents  \n",
        "- Using `pandas` built-in `.to_markdown()` (and saving it as a file)   \n",
        "- Using `tabulate` for Pretty Terminal Output of pandas DataFrames  \n",
        "- Using IPython `display()` for Pretty Output of pandas DataFrames  \n"
      ],
      "metadata": {
        "id": "ELxZQwfA2w__"
      },
      "id": "ELxZQwfA2w__"
    },
    {
      "cell_type": "markdown",
      "source": [
        "\n",
        "\n",
        "---\n",
        "\n"
      ],
      "metadata": {
        "id": "Jsxv3Lxz1IhB"
      },
      "id": "Jsxv3Lxz1IhB"
    },
    {
      "cell_type": "markdown",
      "source": [
        "##Using `pandas` built-in `.to_markdown()`  "
      ],
      "metadata": {
        "id": "C10eZG4J0Oam"
      },
      "id": "C10eZG4J0Oam"
    },
    {
      "cell_type": "markdown",
      "source": [
        "To produce the content of a DataFrame in **markdown** text, use the `.to_markdown()` method in pandas."
      ],
      "metadata": {
        "id": "dg3JMH-M0UeY"
      },
      "id": "dg3JMH-M0UeY"
    },
    {
      "cell_type": "code",
      "source": [
        "import pandas as pd\n",
        "from tabulate import tabulate\n",
        "\n",
        "df = pd.DataFrame({\n",
        "    'Name': ['Alice', 'Bob', 'Ted', 'Carol'],\n",
        "    'Age': [25, 30, 22, 28],\n",
        "    'Office' : ['Milwaukee', 'Duluth', 'Duluth', 'Chicago'],\n",
        "    'Department': ['HR', 'Engineering', 'Finance', 'Marketing']\n",
        "})\n",
        "\n",
        "print(df.to_markdown())"
      ],
      "metadata": {
        "colab": {
          "base_uri": "https://localhost:8080/"
        },
        "id": "-PtSYAuU0VdJ",
        "outputId": "c242f943-77e0-4de9-91e6-caf9e315a6e4"
      },
      "id": "-PtSYAuU0VdJ",
      "execution_count": 11,
      "outputs": [
        {
          "output_type": "stream",
          "name": "stdout",
          "text": [
            "|    | Name   |   Age | Office    | Department   |\n",
            "|---:|:-------|------:|:----------|:-------------|\n",
            "|  0 | Alice  |    25 | Milwaukee | HR           |\n",
            "|  1 | Bob    |    30 | Duluth    | Engineering  |\n",
            "|  2 | Ted    |    22 | Duluth    | Finance      |\n",
            "|  3 | Carol  |    28 | Chicago   | Marketing    |\n"
          ]
        }
      ]
    },
    {
      "cell_type": "markdown",
      "source": [
        "The same `.to_markdown()` method can write a file..."
      ],
      "metadata": {
        "id": "nUff0mnP0oyL"
      },
      "id": "nUff0mnP0oyL"
    },
    {
      "cell_type": "code",
      "source": [
        "df.to_markdown(\"markdown4u.htm\")"
      ],
      "metadata": {
        "id": "C8eixD-y0cMj"
      },
      "id": "C8eixD-y0cMj",
      "execution_count": 13,
      "outputs": []
    },
    {
      "cell_type": "markdown",
      "source": [
        "\n",
        "\n",
        "---\n",
        "\n"
      ],
      "metadata": {
        "id": "dI4C8mwi0zl8"
      },
      "id": "dI4C8mwi0zl8"
    },
    {
      "cell_type": "markdown",
      "metadata": {
        "id": "gk1VK0hHqnyH"
      },
      "source": [
        "## Using `tabulate` for Pretty Terminal Output of pandas DataFrames\n",
        "\n",
        "This notebook demonstrates how to use the `tabulate` library to print well-formatted tables from pandas DataFrames in a variety of styles. The `tabulate` module is useful for displaying tables in plain text environments, such as the terminal or logs.\n",
        "\n",
        "### Sections\n",
        "- Introduction\n",
        "- Basic Usage of `tabulate`\n",
        "- Examples of Available Styles\n",
        "- When to Use or Avoid `tabulate`"
      ],
      "id": "gk1VK0hHqnyH"
    },
    {
      "cell_type": "markdown",
      "metadata": {
        "id": "mWA6V07lqnyI"
      },
      "source": [
        "### Introduction\n",
        "\n",
        "Install the library using pip:\n",
        "```bash\n",
        "pip install tabulate\n",
        "```\n",
        "Import it in your Python code alongside `pandas`:"
      ],
      "id": "mWA6V07lqnyI"
    },
    {
      "cell_type": "code",
      "execution_count": 2,
      "metadata": {
        "id": "_ou3ti-0qnyI"
      },
      "outputs": [],
      "source": [
        "import pandas as pd\n",
        "from tabulate import tabulate"
      ],
      "id": "_ou3ti-0qnyI"
    },
    {
      "cell_type": "markdown",
      "metadata": {
        "id": "nIZkOZ9nqnyJ"
      },
      "source": [
        "### Basic Usage\n",
        "\n",
        "Create a simple DataFrame and format it using the `tabulate` function."
      ],
      "id": "nIZkOZ9nqnyJ"
    },
    {
      "cell_type": "code",
      "execution_count": 3,
      "metadata": {
        "colab": {
          "base_uri": "https://localhost:8080/"
        },
        "id": "N3s5q98BqnyJ",
        "outputId": "17ae73e8-7e9d-4eb6-bd4b-d0017d94e55a"
      },
      "outputs": [
        {
          "output_type": "stream",
          "name": "stdout",
          "text": [
            "+----+--------+-------+-----------+--------------+\n",
            "|    | Name   |   Age | Office    | Department   |\n",
            "|----+--------+-------+-----------+--------------|\n",
            "|  0 | Alice  |    25 | Milwaukee | HR           |\n",
            "|  1 | Bob    |    30 | Duluth    | Engineering  |\n",
            "|  2 | Ted    |    22 | Duluth    | Finance      |\n",
            "|  3 | Carol  |    28 | Chicago   | Marketing    |\n",
            "+----+--------+-------+-----------+--------------+\n"
          ]
        }
      ],
      "source": [
        "import pandas as pd\n",
        "from tabulate import tabulate\n",
        "\n",
        "df = pd.DataFrame({\n",
        "    'Name': ['Alice', 'Bob', 'Ted', 'Carol'],\n",
        "    'Age': [25, 30, 22, 28],\n",
        "    'Office' : ['Milwaukee', 'Duluth', 'Duluth', 'Chicago'],\n",
        "    'Department': ['HR', 'Engineering', 'Finance', 'Marketing']\n",
        "})\n",
        "\n",
        "print(tabulate(df, headers='keys', tablefmt='psql'))"
      ],
      "id": "N3s5q98BqnyJ"
    },
    {
      "cell_type": "markdown",
      "metadata": {
        "id": "of9dbMmGqnyJ"
      },
      "source": [
        "### Examples of `tabulate` Styles\n",
        "Below are examples of all styles supported by `tabulate` using the same DataFrame."
      ],
      "id": "of9dbMmGqnyJ"
    },
    {
      "cell_type": "markdown",
      "source": [
        "####<u>A Variety of General-Use Styles</u>    "
      ],
      "metadata": {
        "id": "1-h5LzjwvCQr"
      },
      "id": "1-h5LzjwvCQr"
    },
    {
      "cell_type": "markdown",
      "metadata": {
        "id": "BfuIgy9wqnyJ"
      },
      "source": [
        "##### Format: `asciidoc`"
      ],
      "id": "BfuIgy9wqnyJ"
    },
    {
      "cell_type": "code",
      "execution_count": null,
      "metadata": {
        "id": "eA_BwWreqnyJ"
      },
      "outputs": [],
      "source": [
        "# Format: asciidoc\n",
        "print(tabulate(df, headers='keys', tablefmt='asciidoc'))"
      ],
      "id": "eA_BwWreqnyJ"
    },
    {
      "cell_type": "markdown",
      "metadata": {
        "id": "hFY0E4jbqnyJ"
      },
      "source": [
        "##### Format: `double_grid`"
      ],
      "id": "hFY0E4jbqnyJ"
    },
    {
      "cell_type": "code",
      "execution_count": null,
      "metadata": {
        "id": "QGPiJ759qnyK"
      },
      "outputs": [],
      "source": [
        "# Format: double_grid\n",
        "print(tabulate(df, headers='keys', tablefmt='double_grid'))"
      ],
      "id": "QGPiJ759qnyK"
    },
    {
      "cell_type": "markdown",
      "metadata": {
        "id": "IykimBmQqnyK"
      },
      "source": [
        "##### Format: `double_outline`"
      ],
      "id": "IykimBmQqnyK"
    },
    {
      "cell_type": "code",
      "execution_count": null,
      "metadata": {
        "id": "yx10UMpUqnyK"
      },
      "outputs": [],
      "source": [
        "# Format: double_outline\n",
        "print(tabulate(df, headers='keys', tablefmt='double_outline'))"
      ],
      "id": "yx10UMpUqnyK"
    },
    {
      "cell_type": "markdown",
      "metadata": {
        "id": "i9FJ8HjaqnyK"
      },
      "source": [
        "##### Format: `grid`"
      ],
      "id": "i9FJ8HjaqnyK"
    },
    {
      "cell_type": "code",
      "execution_count": null,
      "metadata": {
        "id": "wrOI18RXqnyK"
      },
      "outputs": [],
      "source": [
        "# Format: grid\n",
        "print(tabulate(df, headers='keys', tablefmt='grid'))"
      ],
      "id": "wrOI18RXqnyK"
    },
    {
      "cell_type": "markdown",
      "metadata": {
        "id": "Z3KFinSwqnyK"
      },
      "source": [
        "**Description:** Fully bordered grid with `+`, `-`, and `|` characters. Clear in terminals and good for fixed-width fonts."
      ],
      "id": "Z3KFinSwqnyK"
    },
    {
      "cell_type": "markdown",
      "metadata": {
        "id": "hDx03HqgqnyK"
      },
      "source": [
        "##### Format: `heavy_grid`"
      ],
      "id": "hDx03HqgqnyK"
    },
    {
      "cell_type": "code",
      "execution_count": null,
      "metadata": {
        "id": "aSy0UOSqqnyL"
      },
      "outputs": [],
      "source": [
        "# Format: heavy_grid\n",
        "print(tabulate(df, headers='keys', tablefmt='heavy_grid'))"
      ],
      "id": "aSy0UOSqqnyL"
    },
    {
      "cell_type": "markdown",
      "metadata": {
        "id": "E_1Io8AnqnyL"
      },
      "source": [
        "##### Format: `heavy_outline`"
      ],
      "id": "E_1Io8AnqnyL"
    },
    {
      "cell_type": "code",
      "execution_count": null,
      "metadata": {
        "id": "1XE-5V6mqnyL"
      },
      "outputs": [],
      "source": [
        "# Format: heavy_outline\n",
        "print(tabulate(df, headers='keys', tablefmt='heavy_outline'))"
      ],
      "id": "1XE-5V6mqnyL"
    },
    {
      "cell_type": "markdown",
      "metadata": {
        "id": "YxbCpdKDqnyM"
      },
      "source": [
        "##### Format: `mixed_grid`"
      ],
      "id": "YxbCpdKDqnyM"
    },
    {
      "cell_type": "code",
      "execution_count": null,
      "metadata": {
        "id": "PMRP-bKlqnyM"
      },
      "outputs": [],
      "source": [
        "# Format: mixed_grid\n",
        "print(tabulate(df, headers='keys', tablefmt='mixed_grid'))"
      ],
      "id": "PMRP-bKlqnyM"
    },
    {
      "cell_type": "markdown",
      "metadata": {
        "id": "HTgE9ESOqnyM"
      },
      "source": [
        "##### Format: `mixed_outline`"
      ],
      "id": "HTgE9ESOqnyM"
    },
    {
      "cell_type": "code",
      "execution_count": null,
      "metadata": {
        "id": "SKRdO7brqnyN"
      },
      "outputs": [],
      "source": [
        "# Format: mixed_outline\n",
        "print(tabulate(df, headers='keys', tablefmt='mixed_outline'))"
      ],
      "id": "SKRdO7brqnyN"
    },
    {
      "cell_type": "markdown",
      "metadata": {
        "id": "qXGhnA2lqnyN"
      },
      "source": [
        "##### Format: `outline`"
      ],
      "id": "qXGhnA2lqnyN"
    },
    {
      "cell_type": "code",
      "execution_count": null,
      "metadata": {
        "id": "axkmndwAqnyN"
      },
      "outputs": [],
      "source": [
        "# Format: outline\n",
        "print(tabulate(df, headers='keys', tablefmt='outline'))"
      ],
      "id": "axkmndwAqnyN"
    },
    {
      "cell_type": "markdown",
      "metadata": {
        "id": "SfD4nuivqnyO"
      },
      "source": [
        "##### Format: `rounded_grid`"
      ],
      "id": "SfD4nuivqnyO"
    },
    {
      "cell_type": "code",
      "execution_count": null,
      "metadata": {
        "id": "weq2QijGqnyO"
      },
      "outputs": [],
      "source": [
        "# Format: rounded_grid\n",
        "print(tabulate(df, headers='keys', tablefmt='rounded_grid'))"
      ],
      "id": "weq2QijGqnyO"
    },
    {
      "cell_type": "markdown",
      "metadata": {
        "id": "qj4tGIN6qnyO"
      },
      "source": [
        "##### Format: `rounded_outline`"
      ],
      "id": "qj4tGIN6qnyO"
    },
    {
      "cell_type": "code",
      "execution_count": null,
      "metadata": {
        "id": "DBbiagqfqnyO"
      },
      "outputs": [],
      "source": [
        "# Format: rounded_outline\n",
        "print(tabulate(df, headers='keys', tablefmt='rounded_outline'))"
      ],
      "id": "DBbiagqfqnyO"
    },
    {
      "cell_type": "markdown",
      "metadata": {
        "id": "l20LAJvdqnyO"
      },
      "source": [
        "##### Format: `simple_grid`"
      ],
      "id": "l20LAJvdqnyO"
    },
    {
      "cell_type": "code",
      "execution_count": null,
      "metadata": {
        "id": "LFMc7UjoqnyO"
      },
      "outputs": [],
      "source": [
        "# Format: simple_grid\n",
        "print(tabulate(df, headers='keys', tablefmt='simple_grid'))"
      ],
      "id": "LFMc7UjoqnyO"
    },
    {
      "cell_type": "markdown",
      "metadata": {
        "id": "xw6DA8IaqnyP"
      },
      "source": [
        "##### Format: `simple_outline`"
      ],
      "id": "xw6DA8IaqnyP"
    },
    {
      "cell_type": "code",
      "execution_count": null,
      "metadata": {
        "id": "jAArg9CzqnyP"
      },
      "outputs": [],
      "source": [
        "# Format: simple_outline\n",
        "print(tabulate(df, headers='keys', tablefmt='simple_outline'))"
      ],
      "id": "jAArg9CzqnyP"
    },
    {
      "cell_type": "markdown",
      "metadata": {
        "id": "xAgBSYcjqnyP"
      },
      "source": [
        "##### Format: `textile`"
      ],
      "id": "xAgBSYcjqnyP"
    },
    {
      "cell_type": "code",
      "execution_count": null,
      "metadata": {
        "id": "zHg55zSjqnyP"
      },
      "outputs": [],
      "source": [
        "# Format: textile\n",
        "print(tabulate(df, headers='keys', tablefmt='textile'))"
      ],
      "id": "zHg55zSjqnyP"
    },
    {
      "cell_type": "markdown",
      "source": [
        "####<u>Styles for Different Contexts/Uses</u>    "
      ],
      "metadata": {
        "id": "7ALrIAnOunAA"
      },
      "id": "7ALrIAnOunAA"
    },
    {
      "cell_type": "markdown",
      "metadata": {
        "id": "rhAzxau8qnyN"
      },
      "source": [
        "##### Format: `pretty`"
      ],
      "id": "rhAzxau8qnyN"
    },
    {
      "cell_type": "markdown",
      "metadata": {
        "id": "J6xBZylSqnyN"
      },
      "source": [
        "**Description:** Readable and compact with aligned columns. Balances visual appeal and conciseness."
      ],
      "id": "J6xBZylSqnyN"
    },
    {
      "cell_type": "code",
      "execution_count": null,
      "metadata": {
        "id": "UdWGGnlsqnyO"
      },
      "outputs": [],
      "source": [
        "# Format: pretty\n",
        "print(tabulate(df, headers='keys', tablefmt='pretty'))"
      ],
      "id": "UdWGGnlsqnyO"
    },
    {
      "cell_type": "markdown",
      "source": [
        "####<u>Platform or Document Specific Styles</u>    \n"
      ],
      "metadata": {
        "id": "BaAdkmQksbYR"
      },
      "id": "BaAdkmQksbYR"
    },
    {
      "cell_type": "markdown",
      "metadata": {
        "id": "LmV9YbcfqnyK"
      },
      "source": [
        "##### Format: `fancy_grid`"
      ],
      "id": "LmV9YbcfqnyK"
    },
    {
      "cell_type": "markdown",
      "metadata": {
        "id": "TrIvtAB4qnyK"
      },
      "source": [
        "**Description:** Unicode box-drawing characters for a visually pleasing output in modern terminals. Best for enhanced CLI tools."
      ],
      "id": "TrIvtAB4qnyK"
    },
    {
      "cell_type": "code",
      "execution_count": null,
      "metadata": {
        "id": "SgeSqc79qnyK"
      },
      "outputs": [],
      "source": [
        "# Format: fancy_grid\n",
        "print(tabulate(df, headers='keys', tablefmt='fancy_grid'))"
      ],
      "id": "SgeSqc79qnyK"
    },
    {
      "cell_type": "markdown",
      "metadata": {
        "id": "Gn7jpS_FqnyK"
      },
      "source": [
        "##### Format: `fancy_outline`"
      ],
      "id": "Gn7jpS_FqnyK"
    },
    {
      "cell_type": "code",
      "execution_count": null,
      "metadata": {
        "id": "sthkK0FPqnyK"
      },
      "outputs": [],
      "source": [
        "# Format: fancy_outline\n",
        "print(tabulate(df, headers='keys', tablefmt='fancy_outline'))"
      ],
      "id": "sthkK0FPqnyK"
    },
    {
      "cell_type": "markdown",
      "metadata": {
        "id": "718lJ42cqnyK"
      },
      "source": [
        "##### Format: `github`"
      ],
      "id": "718lJ42cqnyK"
    },
    {
      "cell_type": "markdown",
      "metadata": {
        "id": "RnhyxKt8qnyK"
      },
      "source": [
        "**Description:** Markdown-style format compatible with GitHub README files. Ideal for documentation in repositories."
      ],
      "id": "RnhyxKt8qnyK"
    },
    {
      "cell_type": "code",
      "execution_count": null,
      "metadata": {
        "id": "1RT3SzJJqnyK"
      },
      "outputs": [],
      "source": [
        "# Format: github\n",
        "print(tabulate(df, headers='keys', tablefmt='github'))"
      ],
      "id": "1RT3SzJJqnyK"
    },
    {
      "cell_type": "markdown",
      "metadata": {
        "id": "rDxEwIpJqnyL"
      },
      "source": [
        "##### Format: `html`"
      ],
      "id": "rDxEwIpJqnyL"
    },
    {
      "cell_type": "markdown",
      "metadata": {
        "id": "4mdxWCC_qnyL"
      },
      "source": [
        "**Description:** Generates HTML `<table>` output. Suitable for embedding in web pages."
      ],
      "id": "4mdxWCC_qnyL"
    },
    {
      "cell_type": "code",
      "execution_count": null,
      "metadata": {
        "id": "_6J3tcCwqnyL"
      },
      "outputs": [],
      "source": [
        "# Format: html\n",
        "print(tabulate(df, headers='keys', tablefmt='html'))"
      ],
      "id": "_6J3tcCwqnyL"
    },
    {
      "cell_type": "markdown",
      "metadata": {
        "id": "rN9NoKuRqnyL"
      },
      "source": [
        "##### Format: `jira`"
      ],
      "id": "rN9NoKuRqnyL"
    },
    {
      "cell_type": "markdown",
      "metadata": {
        "id": "nregh7xwqnyL"
      },
      "source": [
        "**Description:** Jira markup syntax. Useful when pasting tables into Jira tickets or wiki pages."
      ],
      "id": "nregh7xwqnyL"
    },
    {
      "cell_type": "code",
      "execution_count": null,
      "metadata": {
        "id": "CtXl9TpOqnyL"
      },
      "outputs": [],
      "source": [
        "# Format: jira\n",
        "print(tabulate(df, headers='keys', tablefmt='jira'))"
      ],
      "id": "CtXl9TpOqnyL"
    },
    {
      "cell_type": "markdown",
      "metadata": {
        "id": "DqLpmEgJqnyL"
      },
      "source": [
        "##### Format: `latex`"
      ],
      "id": "DqLpmEgJqnyL"
    },
    {
      "cell_type": "markdown",
      "metadata": {
        "id": "s7RWswA7qnyM"
      },
      "source": [
        "**Description:** Standard LaTeX tabular environment. Good for academic papers or PDFs."
      ],
      "id": "s7RWswA7qnyM"
    },
    {
      "cell_type": "code",
      "execution_count": null,
      "metadata": {
        "id": "ZPwYYc9dqnyM"
      },
      "outputs": [],
      "source": [
        "# Format: latex\n",
        "print(tabulate(df, headers='keys', tablefmt='latex'))"
      ],
      "id": "ZPwYYc9dqnyM"
    },
    {
      "cell_type": "markdown",
      "metadata": {
        "id": "fyym-FwnqnyM"
      },
      "source": [
        "##### Format: `latex_booktabs`"
      ],
      "id": "fyym-FwnqnyM"
    },
    {
      "cell_type": "markdown",
      "metadata": {
        "id": "10LeWpvhqnyM"
      },
      "source": [
        "**Description:** Uses LaTeX booktabs style with professional typography. Excellent for polished academic output."
      ],
      "id": "10LeWpvhqnyM"
    },
    {
      "cell_type": "code",
      "execution_count": null,
      "metadata": {
        "id": "lcvHAOVCqnyM"
      },
      "outputs": [],
      "source": [
        "# Format: latex_booktabs\n",
        "print(tabulate(df, headers='keys', tablefmt='latex_booktabs'))"
      ],
      "id": "lcvHAOVCqnyM"
    },
    {
      "cell_type": "markdown",
      "metadata": {
        "id": "vk3HuRfNqnyM"
      },
      "source": [
        "##### Format: `latex_longtable`"
      ],
      "id": "vk3HuRfNqnyM"
    },
    {
      "cell_type": "markdown",
      "metadata": {
        "id": "57g1vYOsqnyM"
      },
      "source": [
        "**Description:** LaTeX format for multipage tables. Ideal when printing large datasets."
      ],
      "id": "57g1vYOsqnyM"
    },
    {
      "cell_type": "code",
      "execution_count": null,
      "metadata": {
        "id": "OG7t77CLqnyM"
      },
      "outputs": [],
      "source": [
        "# Format: latex_longtable\n",
        "print(tabulate(df, headers='keys', tablefmt='latex_longtable'))"
      ],
      "id": "OG7t77CLqnyM"
    },
    {
      "cell_type": "markdown",
      "metadata": {
        "id": "HLT9EGEzqnyM"
      },
      "source": [
        "##### Format: `latex_raw`"
      ],
      "id": "HLT9EGEzqnyM"
    },
    {
      "cell_type": "markdown",
      "metadata": {
        "id": "uayyjC7KqnyM"
      },
      "source": [
        "**Description:** Raw LaTeX without formatting. For custom LaTeX environments."
      ],
      "id": "uayyjC7KqnyM"
    },
    {
      "cell_type": "code",
      "execution_count": null,
      "metadata": {
        "id": "IYEMHOJSqnyM"
      },
      "outputs": [],
      "source": [
        "# Format: latex_raw\n",
        "print(tabulate(df, headers='keys', tablefmt='latex_raw'))"
      ],
      "id": "IYEMHOJSqnyM"
    },
    {
      "cell_type": "markdown",
      "metadata": {
        "id": "tZrciU0JqnyM"
      },
      "source": [
        "##### Format: `mediawiki`"
      ],
      "id": "tZrciU0JqnyM"
    },
    {
      "cell_type": "markdown",
      "metadata": {
        "id": "-DUV55JTqnyM"
      },
      "source": [
        "**Description:** MediaWiki table format. Use for publishing to wikis like Wikipedia."
      ],
      "id": "-DUV55JTqnyM"
    },
    {
      "cell_type": "code",
      "execution_count": null,
      "metadata": {
        "id": "noKO8JwVqnyM"
      },
      "outputs": [],
      "source": [
        "# Format: mediawiki\n",
        "print(tabulate(df, headers='keys', tablefmt='mediawiki'))"
      ],
      "id": "noKO8JwVqnyM"
    },
    {
      "cell_type": "markdown",
      "metadata": {
        "id": "cw3NHgP8qnyN"
      },
      "source": [
        "##### Format: `moinmoin`"
      ],
      "id": "cw3NHgP8qnyN"
    },
    {
      "cell_type": "markdown",
      "metadata": {
        "id": "Hmsq-nOuqnyN"
      },
      "source": [
        "**Description:** MoinMoin wiki syntax. Useful in legacy documentation systems."
      ],
      "id": "Hmsq-nOuqnyN"
    },
    {
      "cell_type": "code",
      "execution_count": null,
      "metadata": {
        "id": "8X5fEdNwqnyN"
      },
      "outputs": [],
      "source": [
        "# Format: moinmoin\n",
        "print(tabulate(df, headers='keys', tablefmt='moinmoin'))"
      ],
      "id": "8X5fEdNwqnyN"
    },
    {
      "cell_type": "markdown",
      "metadata": {
        "id": "lrN8vAslqnyN"
      },
      "source": [
        "##### Format: `orgtbl`"
      ],
      "id": "lrN8vAslqnyN"
    },
    {
      "cell_type": "markdown",
      "metadata": {
        "id": "Rnv1vC3vqnyN"
      },
      "source": [
        "**Description:** Emacs org-mode table style. Suitable if you're generating tables for Emacs users."
      ],
      "id": "Rnv1vC3vqnyN"
    },
    {
      "cell_type": "code",
      "execution_count": null,
      "metadata": {
        "id": "lCf3uhTfqnyN"
      },
      "outputs": [],
      "source": [
        "# Format: orgtbl\n",
        "print(tabulate(df, headers='keys', tablefmt='orgtbl'))"
      ],
      "id": "lCf3uhTfqnyN"
    },
    {
      "cell_type": "markdown",
      "metadata": {
        "id": "dkh1WWsfqnyN"
      },
      "source": [
        "##### Format: `pipe`"
      ],
      "id": "dkh1WWsfqnyN"
    },
    {
      "cell_type": "markdown",
      "metadata": {
        "id": "VegRNjxKqnyN"
      },
      "source": [
        "**Description:** Another Markdown-style format using `|` pipes. Works well in Markdown files."
      ],
      "id": "VegRNjxKqnyN"
    },
    {
      "cell_type": "code",
      "execution_count": null,
      "metadata": {
        "id": "zl_B4R_8qnyN"
      },
      "outputs": [],
      "source": [
        "# Format: pipe\n",
        "print(tabulate(df, headers='keys', tablefmt='pipe'))"
      ],
      "id": "zl_B4R_8qnyN"
    },
    {
      "cell_type": "markdown",
      "metadata": {
        "id": "QLWzfOMAqnyN"
      },
      "source": [
        "##### Format: `plain`"
      ],
      "id": "QLWzfOMAqnyN"
    },
    {
      "cell_type": "markdown",
      "metadata": {
        "id": "HhPov8esqnyN"
      },
      "source": [
        "**Description:** Minimalist format with no borders or headers. Useful for exporting raw data to logs or simple text files."
      ],
      "id": "HhPov8esqnyN"
    },
    {
      "cell_type": "code",
      "execution_count": null,
      "metadata": {
        "id": "hq7AU-cTqnyN"
      },
      "outputs": [],
      "source": [
        "# Format: plain\n",
        "print(tabulate(df, headers='keys', tablefmt='plain'))"
      ],
      "id": "hq7AU-cTqnyN"
    },
    {
      "cell_type": "markdown",
      "metadata": {
        "id": "obiGHWBcqnyO"
      },
      "source": [
        "##### Format: `psql`"
      ],
      "id": "obiGHWBcqnyO"
    },
    {
      "cell_type": "markdown",
      "metadata": {
        "id": "gDkYGOCRqnyO"
      },
      "source": [
        "**Description:** PostgreSQL-style output. Familiar to those who use SQL and want structured terminal output."
      ],
      "id": "gDkYGOCRqnyO"
    },
    {
      "cell_type": "code",
      "execution_count": null,
      "metadata": {
        "id": "fXMmJlIaqnyO"
      },
      "outputs": [],
      "source": [
        "# Format: psql\n",
        "print(tabulate(df, headers='keys', tablefmt='psql'))"
      ],
      "id": "fXMmJlIaqnyO"
    },
    {
      "cell_type": "markdown",
      "metadata": {
        "id": "CD_QQPTXqnyN"
      },
      "source": [
        "##### Format: `presto`"
      ],
      "id": "CD_QQPTXqnyN"
    },
    {
      "cell_type": "markdown",
      "metadata": {
        "id": "3SmNYZEKqnyN"
      },
      "source": [
        "**Description:** Similar to psql but tailored for Presto/Trino CLI output. Great for database logs."
      ],
      "id": "3SmNYZEKqnyN"
    },
    {
      "cell_type": "code",
      "execution_count": null,
      "metadata": {
        "id": "9FcF22PhqnyN"
      },
      "outputs": [],
      "source": [
        "# Format: presto\n",
        "print(tabulate(df, headers='keys', tablefmt='presto'))"
      ],
      "id": "9FcF22PhqnyN"
    },
    {
      "cell_type": "markdown",
      "metadata": {
        "id": "mCPndEEcqnyO"
      },
      "source": [
        "##### Format: `rst`"
      ],
      "id": "mCPndEEcqnyO"
    },
    {
      "cell_type": "markdown",
      "metadata": {
        "id": "k6UqF_S-qnyO"
      },
      "source": [
        "**Description:** reStructuredText format for Sphinx documentation. Ideal for Python project docs."
      ],
      "id": "k6UqF_S-qnyO"
    },
    {
      "cell_type": "code",
      "execution_count": null,
      "metadata": {
        "id": "fy5WoDa2qnyO"
      },
      "outputs": [],
      "source": [
        "# Format: rst\n",
        "print(tabulate(df, headers='keys', tablefmt='rst'))"
      ],
      "id": "fy5WoDa2qnyO"
    },
    {
      "cell_type": "markdown",
      "metadata": {
        "id": "7J87CdNCqnyO"
      },
      "source": [
        "##### Format: `simple`"
      ],
      "id": "7J87CdNCqnyO"
    },
    {
      "cell_type": "markdown",
      "metadata": {
        "id": "_a_ZO2AIqnyO"
      },
      "source": [
        "**Description:** Compact and readable with minimal horizontal lines. Good for quick CLI output."
      ],
      "id": "_a_ZO2AIqnyO"
    },
    {
      "cell_type": "code",
      "execution_count": null,
      "metadata": {
        "id": "s78DHy3iqnyO"
      },
      "outputs": [],
      "source": [
        "# Format: simple\n",
        "print(tabulate(df, headers='keys', tablefmt='simple'))"
      ],
      "id": "s78DHy3iqnyO"
    },
    {
      "cell_type": "markdown",
      "metadata": {
        "id": "czCAXvFzqnyP"
      },
      "source": [
        "##### Format: `tsv`"
      ],
      "id": "czCAXvFzqnyP"
    },
    {
      "cell_type": "markdown",
      "metadata": {
        "id": "GurKCnCKqnyP"
      },
      "source": [
        "**Description:** Tab-separated values. Useful for exporting data to TSV files or copy-paste to Excel."
      ],
      "id": "GurKCnCKqnyP"
    },
    {
      "cell_type": "code",
      "execution_count": null,
      "metadata": {
        "id": "mskE3LpqqnyP"
      },
      "outputs": [],
      "source": [
        "# Format: tsv\n",
        "print(tabulate(df, headers='keys', tablefmt='tsv'))"
      ],
      "id": "mskE3LpqqnyP"
    },
    {
      "cell_type": "markdown",
      "metadata": {
        "id": "UaTqZzzrqnyP"
      },
      "source": [
        "##### Format: `unsafehtml`"
      ],
      "id": "UaTqZzzrqnyP"
    },
    {
      "cell_type": "markdown",
      "metadata": {
        "id": "TBwHbgxxqnyP"
      },
      "source": [
        "**Description:** HTML output with no escaping — only use if you're sure the input is safe."
      ],
      "id": "TBwHbgxxqnyP"
    },
    {
      "cell_type": "code",
      "execution_count": null,
      "metadata": {
        "id": "dgS-9h2FqnyP"
      },
      "outputs": [],
      "source": [
        "# Format: unsafehtml\n",
        "print(tabulate(df, headers='keys', tablefmt='unsafehtml'))"
      ],
      "id": "dgS-9h2FqnyP"
    },
    {
      "cell_type": "markdown",
      "metadata": {
        "id": "jj93PVezqnyP"
      },
      "source": [
        "##### Format: `youtrack`"
      ],
      "id": "jj93PVezqnyP"
    },
    {
      "cell_type": "markdown",
      "metadata": {
        "id": "62O1slfjqnyP"
      },
      "source": [
        "**Description:** YouTrack wiki-compatible syntax. Designed for JetBrains YouTrack users."
      ],
      "id": "62O1slfjqnyP"
    },
    {
      "cell_type": "code",
      "execution_count": null,
      "metadata": {
        "id": "4XmlW3feqnyP"
      },
      "outputs": [],
      "source": [
        "# Format: youtrack\n",
        "print(tabulate(df, headers='keys', tablefmt='youtrack'))"
      ],
      "id": "4XmlW3feqnyP"
    },
    {
      "cell_type": "markdown",
      "source": [
        "\n",
        "\n",
        "---\n",
        "\n"
      ],
      "metadata": {
        "id": "kwGGbfT-shs_"
      },
      "id": "kwGGbfT-shs_"
    },
    {
      "cell_type": "markdown",
      "source": [
        "<i>Note: the `tabulate` library does not provide arguments to select or reorder columns directly. It simply formats the data it is given. However, you can control selection and order by modifying the DataFrame before passing it to tabulate."
      ],
      "metadata": {
        "id": "XdNBIR_kxBAK"
      },
      "id": "XdNBIR_kxBAK"
    },
    {
      "cell_type": "code",
      "source": [
        "import pandas as pd\n",
        "from tabulate import tabulate\n",
        "\n",
        "\n",
        "df = pd.DataFrame({\n",
        "    'Name': ['Alice', 'Bob', 'Ted', 'Carol'],\n",
        "    'Age': [25, 30, 22, 28],\n",
        "    'Office' : ['Milwaukee', 'Duluth', 'Duluth', 'Chicago'],\n",
        "    'Department': ['HR', 'Engineering', 'Finance', 'Marketing']\n",
        "})\n",
        "\n",
        "# Select and reorder columns\n",
        "selected_columns = ['Department', 'Name']\n",
        "df_selected = df[selected_columns]\n",
        "\n",
        "# Format with tabulate\n",
        "print(tabulate(df_selected, headers='keys', tablefmt='psql'))"
      ],
      "metadata": {
        "id": "fe1jrvm3xIKm"
      },
      "id": "fe1jrvm3xIKm",
      "execution_count": null,
      "outputs": []
    },
    {
      "cell_type": "markdown",
      "source": [
        "#### Arguments for `tabulate()`\n",
        "\n",
        "The `tabulate()` function supports various arguments to control formatting and display behavior. Below is a summary of commonly used arguments.\n",
        "\n",
        "##### 🔹 Commonly Used Arguments\n",
        "\n",
        "| Argument             | Type                        | Description |\n",
        "|----------------------|-----------------------------|-------------|\n",
        "| `tabular_data`       | list of lists, dict, DataFrame, etc. | The data structure to format into a table |\n",
        "| `headers`            | `'keys'`, list, dict, or string | Column headers; `'keys'` uses dict keys or DataFrame columns |\n",
        "| `tablefmt`           | string                      | Table format style (e.g., `'grid'`, `'pipe'`, `'psql'`) |\n",
        "| `numalign`           | `'right'`, `'left'`, `'center'` | Align numeric columns |\n",
        "| `stralign`           | `'right'`, `'left'`, `'center'` | Align text columns |\n",
        "| `floatfmt`           | string or list              | Format for floating-point numbers (e.g., `\".2f\"`) |\n",
        "| `missingval`         | string                      | Replacement for missing values (`None`, `NaN`, etc.) |\n",
        "| `showindex`          | bool, `'always'`, `'default'`, list | Whether to display row indices |\n",
        "| `disable_numparse`   | bool                        | Prevents automatic detection of numeric types |\n",
        "\n",
        "##### 🔹 Less Common / Advanced Arguments\n",
        "\n",
        "| Argument                   | Type      | Description |\n",
        "|----------------------------|-----------|-------------|\n",
        "| `colalign`                 | list      | Alignment per column (overrides `stralign`/`numalign`) |\n",
        "| `maxcolwidths`             | int or list | Maximum column width for truncating content |\n",
        "| `colwidths`                | list      | Fixed column widths (pads shorter strings) |\n",
        "| `maxheadercolwidths`       | int or list | Truncate header column widths only |\n",
        "\n",
        "---\n",
        "\n",
        "##### 📌 Notes\n",
        "- You can use `help(tabulate)` to view documentation interactively.\n",
        "- The output formatting depends on the chosen `tablefmt`. Try styles like `'fancy_grid'`, `'github'`, or `'psql'` to see different effects.\n"
      ],
      "metadata": {
        "id": "ZRDMKoxXxhv6"
      },
      "id": "ZRDMKoxXxhv6"
    },
    {
      "cell_type": "code",
      "source": [
        "from tabulate import tabulate\n",
        "import pandas as pd\n",
        "\n",
        "df = pd.DataFrame({\n",
        "    'Name': ['Alice', 'Bob', 'Ted', 'Carol'],\n",
        "    'Age': [25, 30, 22, 28],\n",
        "    'Office' : ['Milwaukee', 'Duluth', 'Duluth', 'Chicago'],\n",
        "    'Department': ['HR', 'Engineering', 'Finance', 'Marketing'],\n",
        "    'Salary': [70000.1234, 80000.5678, 125500.1255, 1470100.8917]\n",
        "})\n",
        "\n",
        "\n",
        "print(tabulate(df, headers='keys', tablefmt='grid', floatfmt=\",.2f\", numalign=\"right\"))"
      ],
      "metadata": {
        "colab": {
          "base_uri": "https://localhost:8080/"
        },
        "id": "CPp5uwcoxiwm",
        "outputId": "267c8537-0841-4f4f-d3d9-a37094b8850d"
      },
      "id": "CPp5uwcoxiwm",
      "execution_count": 9,
      "outputs": [
        {
          "output_type": "stream",
          "name": "stdout",
          "text": [
            "+----+--------+-------+-----------+--------------+--------------+\n",
            "|    | Name   |   Age | Office    | Department   |       Salary |\n",
            "+====+========+=======+===========+==============+==============+\n",
            "|  0 | Alice  |    25 | Milwaukee | HR           |    70,000.12 |\n",
            "+----+--------+-------+-----------+--------------+--------------+\n",
            "|  1 | Bob    |    30 | Duluth    | Engineering  |    80,000.57 |\n",
            "+----+--------+-------+-----------+--------------+--------------+\n",
            "|  2 | Ted    |    22 | Duluth    | Finance      |   125,500.13 |\n",
            "+----+--------+-------+-----------+--------------+--------------+\n",
            "|  3 | Carol  |    28 | Chicago   | Marketing    | 1,470,100.89 |\n",
            "+----+--------+-------+-----------+--------------+--------------+\n"
          ]
        }
      ]
    },
    {
      "cell_type": "markdown",
      "source": [
        "<i>... to process `float` content as currency, transform the column in the DataFrame to a string in `currency` format.</i>  "
      ],
      "metadata": {
        "id": "G7pF1aKQzWKT"
      },
      "id": "G7pF1aKQzWKT"
    },
    {
      "cell_type": "code",
      "source": [
        "from tabulate import tabulate\n",
        "import pandas as pd\n",
        "\n",
        "df = pd.DataFrame({\n",
        "    'Name': ['Alice', 'Bob', 'Ted', 'Carol'],\n",
        "    'Age': [25, 30, 22, 28],\n",
        "    'Office' : ['Milwaukee', 'Duluth', 'Duluth', 'Chicago'],\n",
        "    'Department': ['HR', 'Engineering', 'Finance', 'Marketing'],\n",
        "    'Salary': [70000.1234, 80000.5678, 125500.1255, 1470100.8917]\n",
        "})\n",
        "\n",
        "# Format the 'Salary' column as strings with currency format\n",
        "df['Salary'] = df['Salary'].apply(lambda x: f\"${x:,.2f}\")\n",
        "\n",
        "# Use tabulate (no floatfmt needed, since values are now strings)\n",
        "print(tabulate(df, headers='keys', tablefmt='grid'))"
      ],
      "metadata": {
        "colab": {
          "base_uri": "https://localhost:8080/"
        },
        "id": "a42ZGIcgzhOj",
        "outputId": "8c0d4b14-48b6-4bed-cd15-76c360133ae5"
      },
      "id": "a42ZGIcgzhOj",
      "execution_count": 10,
      "outputs": [
        {
          "output_type": "stream",
          "name": "stdout",
          "text": [
            "+----+--------+-------+-----------+--------------+---------------+\n",
            "|    | Name   |   Age | Office    | Department   | Salary        |\n",
            "+====+========+=======+===========+==============+===============+\n",
            "|  0 | Alice  |    25 | Milwaukee | HR           | $70,000.12    |\n",
            "+----+--------+-------+-----------+--------------+---------------+\n",
            "|  1 | Bob    |    30 | Duluth    | Engineering  | $80,000.57    |\n",
            "+----+--------+-------+-----------+--------------+---------------+\n",
            "|  2 | Ted    |    22 | Duluth    | Finance      | $125,500.13   |\n",
            "+----+--------+-------+-----------+--------------+---------------+\n",
            "|  3 | Carol  |    28 | Chicago   | Marketing    | $1,470,100.89 |\n",
            "+----+--------+-------+-----------+--------------+---------------+\n"
          ]
        }
      ]
    },
    {
      "cell_type": "markdown",
      "metadata": {
        "id": "psVTcxYjqnyP"
      },
      "source": [
        "### When to Use or Avoid `tabulate`\n",
        "\n",
        "**Use when:**\n",
        "- You need readable terminal output\n",
        "- You're logging data summaries\n",
        "- You're working in plain-text reports or markdown\n",
        "\n",
        "**Avoid when:**\n",
        "- You need interactive or rich HTML (use `display()` in Jupyter)\n",
        "- You're working with very wide DataFrames\n",
        "- You require interactivity like sorting/filtering"
      ],
      "id": "psVTcxYjqnyP"
    },
    {
      "cell_type": "markdown",
      "source": [
        "\n",
        "\n",
        "---\n",
        "\n"
      ],
      "metadata": {
        "id": "OWcit4pkspBN"
      },
      "id": "OWcit4pkspBN"
    },
    {
      "cell_type": "markdown",
      "metadata": {
        "id": "J32-phgu11Yx"
      },
      "source": [
        "## Using IPython `display()` for Pretty Output of pandas DataFrames\n",
        "\n",
        "This notebook explains how to use IPython’s `display()` function to produce rich, well-formatted visual outputs of pandas DataFrames in Jupyter and Colab environments.\n",
        "\n"
      ],
      "id": "J32-phgu11Yx"
    },
    {
      "cell_type": "markdown",
      "metadata": {
        "id": "MB2JHrkl11Yy"
      },
      "source": [
        "### Introduction\n",
        "\n",
        "The `display()` function from `IPython.display` is commonly used in Jupyter notebooks and Google Colab to show DataFrames with rich formatting. Unlike plain `print()`, `display()` uses HTML rendering behind the scenes to create readable, scrollable, and styled tables when viewed in notebook interfaces."
      ],
      "id": "MB2JHrkl11Yy"
    },
    {
      "cell_type": "code",
      "execution_count": null,
      "metadata": {
        "id": "uVdglY4111Yy"
      },
      "outputs": [],
      "source": [
        "# Import necessary modules\n",
        "import pandas as pd\n",
        "from IPython.display import display"
      ],
      "id": "uVdglY4111Yy"
    },
    {
      "cell_type": "markdown",
      "metadata": {
        "id": "2qz-KAZp11Yz"
      },
      "source": [
        "### Basic Usage of `display()`\n",
        "\n",
        "Here's how to create a sample DataFrame and render it using `display()`."
      ],
      "id": "2qz-KAZp11Yz"
    },
    {
      "cell_type": "code",
      "execution_count": 14,
      "metadata": {
        "id": "FgqLCh8T11Yz",
        "colab": {
          "base_uri": "https://localhost:8080/",
          "height": 143
        },
        "outputId": "1011fce6-f3f8-44a4-9b70-5ecdc2088f0f"
      },
      "outputs": [
        {
          "output_type": "display_data",
          "data": {
            "text/plain": [
              "    Product   Price  Stock\n",
              "0    Laptop  1200.0     15\n",
              "1   Monitor   300.0     34\n",
              "2  Keyboard    50.0    120"
            ],
            "text/html": [
              "\n",
              "  <div id=\"df-57087cef-cb1a-4521-bb57-896feada7afb\" class=\"colab-df-container\">\n",
              "    <div>\n",
              "<style scoped>\n",
              "    .dataframe tbody tr th:only-of-type {\n",
              "        vertical-align: middle;\n",
              "    }\n",
              "\n",
              "    .dataframe tbody tr th {\n",
              "        vertical-align: top;\n",
              "    }\n",
              "\n",
              "    .dataframe thead th {\n",
              "        text-align: right;\n",
              "    }\n",
              "</style>\n",
              "<table border=\"1\" class=\"dataframe\">\n",
              "  <thead>\n",
              "    <tr style=\"text-align: right;\">\n",
              "      <th></th>\n",
              "      <th>Product</th>\n",
              "      <th>Price</th>\n",
              "      <th>Stock</th>\n",
              "    </tr>\n",
              "  </thead>\n",
              "  <tbody>\n",
              "    <tr>\n",
              "      <th>0</th>\n",
              "      <td>Laptop</td>\n",
              "      <td>1200.0</td>\n",
              "      <td>15</td>\n",
              "    </tr>\n",
              "    <tr>\n",
              "      <th>1</th>\n",
              "      <td>Monitor</td>\n",
              "      <td>300.0</td>\n",
              "      <td>34</td>\n",
              "    </tr>\n",
              "    <tr>\n",
              "      <th>2</th>\n",
              "      <td>Keyboard</td>\n",
              "      <td>50.0</td>\n",
              "      <td>120</td>\n",
              "    </tr>\n",
              "  </tbody>\n",
              "</table>\n",
              "</div>\n",
              "    <div class=\"colab-df-buttons\">\n",
              "\n",
              "  <div class=\"colab-df-container\">\n",
              "    <button class=\"colab-df-convert\" onclick=\"convertToInteractive('df-57087cef-cb1a-4521-bb57-896feada7afb')\"\n",
              "            title=\"Convert this dataframe to an interactive table.\"\n",
              "            style=\"display:none;\">\n",
              "\n",
              "  <svg xmlns=\"http://www.w3.org/2000/svg\" height=\"24px\" viewBox=\"0 -960 960 960\">\n",
              "    <path d=\"M120-120v-720h720v720H120Zm60-500h600v-160H180v160Zm220 220h160v-160H400v160Zm0 220h160v-160H400v160ZM180-400h160v-160H180v160Zm440 0h160v-160H620v160ZM180-180h160v-160H180v160Zm440 0h160v-160H620v160Z\"/>\n",
              "  </svg>\n",
              "    </button>\n",
              "\n",
              "  <style>\n",
              "    .colab-df-container {\n",
              "      display:flex;\n",
              "      gap: 12px;\n",
              "    }\n",
              "\n",
              "    .colab-df-convert {\n",
              "      background-color: #E8F0FE;\n",
              "      border: none;\n",
              "      border-radius: 50%;\n",
              "      cursor: pointer;\n",
              "      display: none;\n",
              "      fill: #1967D2;\n",
              "      height: 32px;\n",
              "      padding: 0 0 0 0;\n",
              "      width: 32px;\n",
              "    }\n",
              "\n",
              "    .colab-df-convert:hover {\n",
              "      background-color: #E2EBFA;\n",
              "      box-shadow: 0px 1px 2px rgba(60, 64, 67, 0.3), 0px 1px 3px 1px rgba(60, 64, 67, 0.15);\n",
              "      fill: #174EA6;\n",
              "    }\n",
              "\n",
              "    .colab-df-buttons div {\n",
              "      margin-bottom: 4px;\n",
              "    }\n",
              "\n",
              "    [theme=dark] .colab-df-convert {\n",
              "      background-color: #3B4455;\n",
              "      fill: #D2E3FC;\n",
              "    }\n",
              "\n",
              "    [theme=dark] .colab-df-convert:hover {\n",
              "      background-color: #434B5C;\n",
              "      box-shadow: 0px 1px 3px 1px rgba(0, 0, 0, 0.15);\n",
              "      filter: drop-shadow(0px 1px 2px rgba(0, 0, 0, 0.3));\n",
              "      fill: #FFFFFF;\n",
              "    }\n",
              "  </style>\n",
              "\n",
              "    <script>\n",
              "      const buttonEl =\n",
              "        document.querySelector('#df-57087cef-cb1a-4521-bb57-896feada7afb button.colab-df-convert');\n",
              "      buttonEl.style.display =\n",
              "        google.colab.kernel.accessAllowed ? 'block' : 'none';\n",
              "\n",
              "      async function convertToInteractive(key) {\n",
              "        const element = document.querySelector('#df-57087cef-cb1a-4521-bb57-896feada7afb');\n",
              "        const dataTable =\n",
              "          await google.colab.kernel.invokeFunction('convertToInteractive',\n",
              "                                                    [key], {});\n",
              "        if (!dataTable) return;\n",
              "\n",
              "        const docLinkHtml = 'Like what you see? Visit the ' +\n",
              "          '<a target=\"_blank\" href=https://colab.research.google.com/notebooks/data_table.ipynb>data table notebook</a>'\n",
              "          + ' to learn more about interactive tables.';\n",
              "        element.innerHTML = '';\n",
              "        dataTable['output_type'] = 'display_data';\n",
              "        await google.colab.output.renderOutput(dataTable, element);\n",
              "        const docLink = document.createElement('div');\n",
              "        docLink.innerHTML = docLinkHtml;\n",
              "        element.appendChild(docLink);\n",
              "      }\n",
              "    </script>\n",
              "  </div>\n",
              "\n",
              "\n",
              "    <div id=\"df-f971f6d2-67cd-485a-b8bd-fb74d4846650\">\n",
              "      <button class=\"colab-df-quickchart\" onclick=\"quickchart('df-f971f6d2-67cd-485a-b8bd-fb74d4846650')\"\n",
              "                title=\"Suggest charts\"\n",
              "                style=\"display:none;\">\n",
              "\n",
              "<svg xmlns=\"http://www.w3.org/2000/svg\" height=\"24px\"viewBox=\"0 0 24 24\"\n",
              "     width=\"24px\">\n",
              "    <g>\n",
              "        <path d=\"M19 3H5c-1.1 0-2 .9-2 2v14c0 1.1.9 2 2 2h14c1.1 0 2-.9 2-2V5c0-1.1-.9-2-2-2zM9 17H7v-7h2v7zm4 0h-2V7h2v10zm4 0h-2v-4h2v4z\"/>\n",
              "    </g>\n",
              "</svg>\n",
              "      </button>\n",
              "\n",
              "<style>\n",
              "  .colab-df-quickchart {\n",
              "      --bg-color: #E8F0FE;\n",
              "      --fill-color: #1967D2;\n",
              "      --hover-bg-color: #E2EBFA;\n",
              "      --hover-fill-color: #174EA6;\n",
              "      --disabled-fill-color: #AAA;\n",
              "      --disabled-bg-color: #DDD;\n",
              "  }\n",
              "\n",
              "  [theme=dark] .colab-df-quickchart {\n",
              "      --bg-color: #3B4455;\n",
              "      --fill-color: #D2E3FC;\n",
              "      --hover-bg-color: #434B5C;\n",
              "      --hover-fill-color: #FFFFFF;\n",
              "      --disabled-bg-color: #3B4455;\n",
              "      --disabled-fill-color: #666;\n",
              "  }\n",
              "\n",
              "  .colab-df-quickchart {\n",
              "    background-color: var(--bg-color);\n",
              "    border: none;\n",
              "    border-radius: 50%;\n",
              "    cursor: pointer;\n",
              "    display: none;\n",
              "    fill: var(--fill-color);\n",
              "    height: 32px;\n",
              "    padding: 0;\n",
              "    width: 32px;\n",
              "  }\n",
              "\n",
              "  .colab-df-quickchart:hover {\n",
              "    background-color: var(--hover-bg-color);\n",
              "    box-shadow: 0 1px 2px rgba(60, 64, 67, 0.3), 0 1px 3px 1px rgba(60, 64, 67, 0.15);\n",
              "    fill: var(--button-hover-fill-color);\n",
              "  }\n",
              "\n",
              "  .colab-df-quickchart-complete:disabled,\n",
              "  .colab-df-quickchart-complete:disabled:hover {\n",
              "    background-color: var(--disabled-bg-color);\n",
              "    fill: var(--disabled-fill-color);\n",
              "    box-shadow: none;\n",
              "  }\n",
              "\n",
              "  .colab-df-spinner {\n",
              "    border: 2px solid var(--fill-color);\n",
              "    border-color: transparent;\n",
              "    border-bottom-color: var(--fill-color);\n",
              "    animation:\n",
              "      spin 1s steps(1) infinite;\n",
              "  }\n",
              "\n",
              "  @keyframes spin {\n",
              "    0% {\n",
              "      border-color: transparent;\n",
              "      border-bottom-color: var(--fill-color);\n",
              "      border-left-color: var(--fill-color);\n",
              "    }\n",
              "    20% {\n",
              "      border-color: transparent;\n",
              "      border-left-color: var(--fill-color);\n",
              "      border-top-color: var(--fill-color);\n",
              "    }\n",
              "    30% {\n",
              "      border-color: transparent;\n",
              "      border-left-color: var(--fill-color);\n",
              "      border-top-color: var(--fill-color);\n",
              "      border-right-color: var(--fill-color);\n",
              "    }\n",
              "    40% {\n",
              "      border-color: transparent;\n",
              "      border-right-color: var(--fill-color);\n",
              "      border-top-color: var(--fill-color);\n",
              "    }\n",
              "    60% {\n",
              "      border-color: transparent;\n",
              "      border-right-color: var(--fill-color);\n",
              "    }\n",
              "    80% {\n",
              "      border-color: transparent;\n",
              "      border-right-color: var(--fill-color);\n",
              "      border-bottom-color: var(--fill-color);\n",
              "    }\n",
              "    90% {\n",
              "      border-color: transparent;\n",
              "      border-bottom-color: var(--fill-color);\n",
              "    }\n",
              "  }\n",
              "</style>\n",
              "\n",
              "      <script>\n",
              "        async function quickchart(key) {\n",
              "          const quickchartButtonEl =\n",
              "            document.querySelector('#' + key + ' button');\n",
              "          quickchartButtonEl.disabled = true;  // To prevent multiple clicks.\n",
              "          quickchartButtonEl.classList.add('colab-df-spinner');\n",
              "          try {\n",
              "            const charts = await google.colab.kernel.invokeFunction(\n",
              "                'suggestCharts', [key], {});\n",
              "          } catch (error) {\n",
              "            console.error('Error during call to suggestCharts:', error);\n",
              "          }\n",
              "          quickchartButtonEl.classList.remove('colab-df-spinner');\n",
              "          quickchartButtonEl.classList.add('colab-df-quickchart-complete');\n",
              "        }\n",
              "        (() => {\n",
              "          let quickchartButtonEl =\n",
              "            document.querySelector('#df-f971f6d2-67cd-485a-b8bd-fb74d4846650 button');\n",
              "          quickchartButtonEl.style.display =\n",
              "            google.colab.kernel.accessAllowed ? 'block' : 'none';\n",
              "        })();\n",
              "      </script>\n",
              "    </div>\n",
              "\n",
              "  <div id=\"id_f3af06d5-e907-4fc5-9c89-46f35c8f9700\">\n",
              "    <style>\n",
              "      .colab-df-generate {\n",
              "        background-color: #E8F0FE;\n",
              "        border: none;\n",
              "        border-radius: 50%;\n",
              "        cursor: pointer;\n",
              "        display: none;\n",
              "        fill: #1967D2;\n",
              "        height: 32px;\n",
              "        padding: 0 0 0 0;\n",
              "        width: 32px;\n",
              "      }\n",
              "\n",
              "      .colab-df-generate:hover {\n",
              "        background-color: #E2EBFA;\n",
              "        box-shadow: 0px 1px 2px rgba(60, 64, 67, 0.3), 0px 1px 3px 1px rgba(60, 64, 67, 0.15);\n",
              "        fill: #174EA6;\n",
              "      }\n",
              "\n",
              "      [theme=dark] .colab-df-generate {\n",
              "        background-color: #3B4455;\n",
              "        fill: #D2E3FC;\n",
              "      }\n",
              "\n",
              "      [theme=dark] .colab-df-generate:hover {\n",
              "        background-color: #434B5C;\n",
              "        box-shadow: 0px 1px 3px 1px rgba(0, 0, 0, 0.15);\n",
              "        filter: drop-shadow(0px 1px 2px rgba(0, 0, 0, 0.3));\n",
              "        fill: #FFFFFF;\n",
              "      }\n",
              "    </style>\n",
              "    <button class=\"colab-df-generate\" onclick=\"generateWithVariable('df')\"\n",
              "            title=\"Generate code using this dataframe.\"\n",
              "            style=\"display:none;\">\n",
              "\n",
              "  <svg xmlns=\"http://www.w3.org/2000/svg\" height=\"24px\"viewBox=\"0 0 24 24\"\n",
              "       width=\"24px\">\n",
              "    <path d=\"M7,19H8.4L18.45,9,17,7.55,7,17.6ZM5,21V16.75L18.45,3.32a2,2,0,0,1,2.83,0l1.4,1.43a1.91,1.91,0,0,1,.58,1.4,1.91,1.91,0,0,1-.58,1.4L9.25,21ZM18.45,9,17,7.55Zm-12,3A5.31,5.31,0,0,0,4.9,8.1,5.31,5.31,0,0,0,1,6.5,5.31,5.31,0,0,0,4.9,4.9,5.31,5.31,0,0,0,6.5,1,5.31,5.31,0,0,0,8.1,4.9,5.31,5.31,0,0,0,12,6.5,5.46,5.46,0,0,0,6.5,12Z\"/>\n",
              "  </svg>\n",
              "    </button>\n",
              "    <script>\n",
              "      (() => {\n",
              "      const buttonEl =\n",
              "        document.querySelector('#id_f3af06d5-e907-4fc5-9c89-46f35c8f9700 button.colab-df-generate');\n",
              "      buttonEl.style.display =\n",
              "        google.colab.kernel.accessAllowed ? 'block' : 'none';\n",
              "\n",
              "      buttonEl.onclick = () => {\n",
              "        google.colab.notebook.generateWithVariable('df');\n",
              "      }\n",
              "      })();\n",
              "    </script>\n",
              "  </div>\n",
              "\n",
              "    </div>\n",
              "  </div>\n"
            ],
            "application/vnd.google.colaboratory.intrinsic+json": {
              "type": "dataframe",
              "variable_name": "df",
              "summary": "{\n  \"name\": \"df\",\n  \"rows\": 3,\n  \"fields\": [\n    {\n      \"column\": \"Product\",\n      \"properties\": {\n        \"dtype\": \"string\",\n        \"num_unique_values\": 3,\n        \"samples\": [\n          \"Laptop\",\n          \"Monitor\",\n          \"Keyboard\"\n        ],\n        \"semantic_type\": \"\",\n        \"description\": \"\"\n      }\n    },\n    {\n      \"column\": \"Price\",\n      \"properties\": {\n        \"dtype\": \"number\",\n        \"std\": 604.8415770541352,\n        \"min\": 50.0,\n        \"max\": 1200.0,\n        \"num_unique_values\": 3,\n        \"samples\": [\n          1200.0,\n          300.0,\n          50.0\n        ],\n        \"semantic_type\": \"\",\n        \"description\": \"\"\n      }\n    },\n    {\n      \"column\": \"Stock\",\n      \"properties\": {\n        \"dtype\": \"number\",\n        \"std\": 55,\n        \"min\": 15,\n        \"max\": 120,\n        \"num_unique_values\": 3,\n        \"samples\": [\n          15,\n          34,\n          120\n        ],\n        \"semantic_type\": \"\",\n        \"description\": \"\"\n      }\n    }\n  ]\n}"
            }
          },
          "metadata": {}
        }
      ],
      "source": [
        "# Import necessary modules\n",
        "import pandas as pd\n",
        "from IPython.display import display\n",
        "\n",
        "# Create sample DataFrame\n",
        "df = pd.DataFrame({\n",
        "    'Product': ['Laptop', 'Monitor', 'Keyboard'],\n",
        "    'Price': [1200.00, 300.00, 50.00],\n",
        "    'Stock': [15, 34, 120]\n",
        "})\n",
        "\n",
        "# Use display instead of print\n",
        "display(df)"
      ],
      "id": "FgqLCh8T11Yz"
    },
    {
      "cell_type": "markdown",
      "metadata": {
        "id": "5Do-jWLo11Yz"
      },
      "source": [
        "You can also use `display()` multiple times in a cell to show multiple DataFrames without printing them as plain text."
      ],
      "id": "5Do-jWLo11Yz"
    },
    {
      "cell_type": "code",
      "execution_count": 15,
      "metadata": {
        "id": "oyXNEcC311Yz",
        "colab": {
          "base_uri": "https://localhost:8080/",
          "height": 188
        },
        "outputId": "28b8f4af-52c7-4e3c-d858-84c035647755"
      },
      "outputs": [
        {
          "output_type": "display_data",
          "data": {
            "text/plain": [
              "   Product   Price  Stock\n",
              "0   Laptop  1200.0     15\n",
              "1  Monitor   300.0     34"
            ],
            "text/html": [
              "\n",
              "  <div id=\"df-cf8537c0-da7e-4875-885d-bb9778f297cd\" class=\"colab-df-container\">\n",
              "    <div>\n",
              "<style scoped>\n",
              "    .dataframe tbody tr th:only-of-type {\n",
              "        vertical-align: middle;\n",
              "    }\n",
              "\n",
              "    .dataframe tbody tr th {\n",
              "        vertical-align: top;\n",
              "    }\n",
              "\n",
              "    .dataframe thead th {\n",
              "        text-align: right;\n",
              "    }\n",
              "</style>\n",
              "<table border=\"1\" class=\"dataframe\">\n",
              "  <thead>\n",
              "    <tr style=\"text-align: right;\">\n",
              "      <th></th>\n",
              "      <th>Product</th>\n",
              "      <th>Price</th>\n",
              "      <th>Stock</th>\n",
              "    </tr>\n",
              "  </thead>\n",
              "  <tbody>\n",
              "    <tr>\n",
              "      <th>0</th>\n",
              "      <td>Laptop</td>\n",
              "      <td>1200.0</td>\n",
              "      <td>15</td>\n",
              "    </tr>\n",
              "    <tr>\n",
              "      <th>1</th>\n",
              "      <td>Monitor</td>\n",
              "      <td>300.0</td>\n",
              "      <td>34</td>\n",
              "    </tr>\n",
              "  </tbody>\n",
              "</table>\n",
              "</div>\n",
              "    <div class=\"colab-df-buttons\">\n",
              "\n",
              "  <div class=\"colab-df-container\">\n",
              "    <button class=\"colab-df-convert\" onclick=\"convertToInteractive('df-cf8537c0-da7e-4875-885d-bb9778f297cd')\"\n",
              "            title=\"Convert this dataframe to an interactive table.\"\n",
              "            style=\"display:none;\">\n",
              "\n",
              "  <svg xmlns=\"http://www.w3.org/2000/svg\" height=\"24px\" viewBox=\"0 -960 960 960\">\n",
              "    <path d=\"M120-120v-720h720v720H120Zm60-500h600v-160H180v160Zm220 220h160v-160H400v160Zm0 220h160v-160H400v160ZM180-400h160v-160H180v160Zm440 0h160v-160H620v160ZM180-180h160v-160H180v160Zm440 0h160v-160H620v160Z\"/>\n",
              "  </svg>\n",
              "    </button>\n",
              "\n",
              "  <style>\n",
              "    .colab-df-container {\n",
              "      display:flex;\n",
              "      gap: 12px;\n",
              "    }\n",
              "\n",
              "    .colab-df-convert {\n",
              "      background-color: #E8F0FE;\n",
              "      border: none;\n",
              "      border-radius: 50%;\n",
              "      cursor: pointer;\n",
              "      display: none;\n",
              "      fill: #1967D2;\n",
              "      height: 32px;\n",
              "      padding: 0 0 0 0;\n",
              "      width: 32px;\n",
              "    }\n",
              "\n",
              "    .colab-df-convert:hover {\n",
              "      background-color: #E2EBFA;\n",
              "      box-shadow: 0px 1px 2px rgba(60, 64, 67, 0.3), 0px 1px 3px 1px rgba(60, 64, 67, 0.15);\n",
              "      fill: #174EA6;\n",
              "    }\n",
              "\n",
              "    .colab-df-buttons div {\n",
              "      margin-bottom: 4px;\n",
              "    }\n",
              "\n",
              "    [theme=dark] .colab-df-convert {\n",
              "      background-color: #3B4455;\n",
              "      fill: #D2E3FC;\n",
              "    }\n",
              "\n",
              "    [theme=dark] .colab-df-convert:hover {\n",
              "      background-color: #434B5C;\n",
              "      box-shadow: 0px 1px 3px 1px rgba(0, 0, 0, 0.15);\n",
              "      filter: drop-shadow(0px 1px 2px rgba(0, 0, 0, 0.3));\n",
              "      fill: #FFFFFF;\n",
              "    }\n",
              "  </style>\n",
              "\n",
              "    <script>\n",
              "      const buttonEl =\n",
              "        document.querySelector('#df-cf8537c0-da7e-4875-885d-bb9778f297cd button.colab-df-convert');\n",
              "      buttonEl.style.display =\n",
              "        google.colab.kernel.accessAllowed ? 'block' : 'none';\n",
              "\n",
              "      async function convertToInteractive(key) {\n",
              "        const element = document.querySelector('#df-cf8537c0-da7e-4875-885d-bb9778f297cd');\n",
              "        const dataTable =\n",
              "          await google.colab.kernel.invokeFunction('convertToInteractive',\n",
              "                                                    [key], {});\n",
              "        if (!dataTable) return;\n",
              "\n",
              "        const docLinkHtml = 'Like what you see? Visit the ' +\n",
              "          '<a target=\"_blank\" href=https://colab.research.google.com/notebooks/data_table.ipynb>data table notebook</a>'\n",
              "          + ' to learn more about interactive tables.';\n",
              "        element.innerHTML = '';\n",
              "        dataTable['output_type'] = 'display_data';\n",
              "        await google.colab.output.renderOutput(dataTable, element);\n",
              "        const docLink = document.createElement('div');\n",
              "        docLink.innerHTML = docLinkHtml;\n",
              "        element.appendChild(docLink);\n",
              "      }\n",
              "    </script>\n",
              "  </div>\n",
              "\n",
              "\n",
              "    <div id=\"df-4b203275-f348-47ac-b819-c1af935609a3\">\n",
              "      <button class=\"colab-df-quickchart\" onclick=\"quickchart('df-4b203275-f348-47ac-b819-c1af935609a3')\"\n",
              "                title=\"Suggest charts\"\n",
              "                style=\"display:none;\">\n",
              "\n",
              "<svg xmlns=\"http://www.w3.org/2000/svg\" height=\"24px\"viewBox=\"0 0 24 24\"\n",
              "     width=\"24px\">\n",
              "    <g>\n",
              "        <path d=\"M19 3H5c-1.1 0-2 .9-2 2v14c0 1.1.9 2 2 2h14c1.1 0 2-.9 2-2V5c0-1.1-.9-2-2-2zM9 17H7v-7h2v7zm4 0h-2V7h2v10zm4 0h-2v-4h2v4z\"/>\n",
              "    </g>\n",
              "</svg>\n",
              "      </button>\n",
              "\n",
              "<style>\n",
              "  .colab-df-quickchart {\n",
              "      --bg-color: #E8F0FE;\n",
              "      --fill-color: #1967D2;\n",
              "      --hover-bg-color: #E2EBFA;\n",
              "      --hover-fill-color: #174EA6;\n",
              "      --disabled-fill-color: #AAA;\n",
              "      --disabled-bg-color: #DDD;\n",
              "  }\n",
              "\n",
              "  [theme=dark] .colab-df-quickchart {\n",
              "      --bg-color: #3B4455;\n",
              "      --fill-color: #D2E3FC;\n",
              "      --hover-bg-color: #434B5C;\n",
              "      --hover-fill-color: #FFFFFF;\n",
              "      --disabled-bg-color: #3B4455;\n",
              "      --disabled-fill-color: #666;\n",
              "  }\n",
              "\n",
              "  .colab-df-quickchart {\n",
              "    background-color: var(--bg-color);\n",
              "    border: none;\n",
              "    border-radius: 50%;\n",
              "    cursor: pointer;\n",
              "    display: none;\n",
              "    fill: var(--fill-color);\n",
              "    height: 32px;\n",
              "    padding: 0;\n",
              "    width: 32px;\n",
              "  }\n",
              "\n",
              "  .colab-df-quickchart:hover {\n",
              "    background-color: var(--hover-bg-color);\n",
              "    box-shadow: 0 1px 2px rgba(60, 64, 67, 0.3), 0 1px 3px 1px rgba(60, 64, 67, 0.15);\n",
              "    fill: var(--button-hover-fill-color);\n",
              "  }\n",
              "\n",
              "  .colab-df-quickchart-complete:disabled,\n",
              "  .colab-df-quickchart-complete:disabled:hover {\n",
              "    background-color: var(--disabled-bg-color);\n",
              "    fill: var(--disabled-fill-color);\n",
              "    box-shadow: none;\n",
              "  }\n",
              "\n",
              "  .colab-df-spinner {\n",
              "    border: 2px solid var(--fill-color);\n",
              "    border-color: transparent;\n",
              "    border-bottom-color: var(--fill-color);\n",
              "    animation:\n",
              "      spin 1s steps(1) infinite;\n",
              "  }\n",
              "\n",
              "  @keyframes spin {\n",
              "    0% {\n",
              "      border-color: transparent;\n",
              "      border-bottom-color: var(--fill-color);\n",
              "      border-left-color: var(--fill-color);\n",
              "    }\n",
              "    20% {\n",
              "      border-color: transparent;\n",
              "      border-left-color: var(--fill-color);\n",
              "      border-top-color: var(--fill-color);\n",
              "    }\n",
              "    30% {\n",
              "      border-color: transparent;\n",
              "      border-left-color: var(--fill-color);\n",
              "      border-top-color: var(--fill-color);\n",
              "      border-right-color: var(--fill-color);\n",
              "    }\n",
              "    40% {\n",
              "      border-color: transparent;\n",
              "      border-right-color: var(--fill-color);\n",
              "      border-top-color: var(--fill-color);\n",
              "    }\n",
              "    60% {\n",
              "      border-color: transparent;\n",
              "      border-right-color: var(--fill-color);\n",
              "    }\n",
              "    80% {\n",
              "      border-color: transparent;\n",
              "      border-right-color: var(--fill-color);\n",
              "      border-bottom-color: var(--fill-color);\n",
              "    }\n",
              "    90% {\n",
              "      border-color: transparent;\n",
              "      border-bottom-color: var(--fill-color);\n",
              "    }\n",
              "  }\n",
              "</style>\n",
              "\n",
              "      <script>\n",
              "        async function quickchart(key) {\n",
              "          const quickchartButtonEl =\n",
              "            document.querySelector('#' + key + ' button');\n",
              "          quickchartButtonEl.disabled = true;  // To prevent multiple clicks.\n",
              "          quickchartButtonEl.classList.add('colab-df-spinner');\n",
              "          try {\n",
              "            const charts = await google.colab.kernel.invokeFunction(\n",
              "                'suggestCharts', [key], {});\n",
              "          } catch (error) {\n",
              "            console.error('Error during call to suggestCharts:', error);\n",
              "          }\n",
              "          quickchartButtonEl.classList.remove('colab-df-spinner');\n",
              "          quickchartButtonEl.classList.add('colab-df-quickchart-complete');\n",
              "        }\n",
              "        (() => {\n",
              "          let quickchartButtonEl =\n",
              "            document.querySelector('#df-4b203275-f348-47ac-b819-c1af935609a3 button');\n",
              "          quickchartButtonEl.style.display =\n",
              "            google.colab.kernel.accessAllowed ? 'block' : 'none';\n",
              "        })();\n",
              "      </script>\n",
              "    </div>\n",
              "\n",
              "  <div id=\"id_2f761827-041c-4292-afd0-d5d072931741\">\n",
              "    <style>\n",
              "      .colab-df-generate {\n",
              "        background-color: #E8F0FE;\n",
              "        border: none;\n",
              "        border-radius: 50%;\n",
              "        cursor: pointer;\n",
              "        display: none;\n",
              "        fill: #1967D2;\n",
              "        height: 32px;\n",
              "        padding: 0 0 0 0;\n",
              "        width: 32px;\n",
              "      }\n",
              "\n",
              "      .colab-df-generate:hover {\n",
              "        background-color: #E2EBFA;\n",
              "        box-shadow: 0px 1px 2px rgba(60, 64, 67, 0.3), 0px 1px 3px 1px rgba(60, 64, 67, 0.15);\n",
              "        fill: #174EA6;\n",
              "      }\n",
              "\n",
              "      [theme=dark] .colab-df-generate {\n",
              "        background-color: #3B4455;\n",
              "        fill: #D2E3FC;\n",
              "      }\n",
              "\n",
              "      [theme=dark] .colab-df-generate:hover {\n",
              "        background-color: #434B5C;\n",
              "        box-shadow: 0px 1px 3px 1px rgba(0, 0, 0, 0.15);\n",
              "        filter: drop-shadow(0px 1px 2px rgba(0, 0, 0, 0.3));\n",
              "        fill: #FFFFFF;\n",
              "      }\n",
              "    </style>\n",
              "    <button class=\"colab-df-generate\" onclick=\"generateWithVariable('df1')\"\n",
              "            title=\"Generate code using this dataframe.\"\n",
              "            style=\"display:none;\">\n",
              "\n",
              "  <svg xmlns=\"http://www.w3.org/2000/svg\" height=\"24px\"viewBox=\"0 0 24 24\"\n",
              "       width=\"24px\">\n",
              "    <path d=\"M7,19H8.4L18.45,9,17,7.55,7,17.6ZM5,21V16.75L18.45,3.32a2,2,0,0,1,2.83,0l1.4,1.43a1.91,1.91,0,0,1,.58,1.4,1.91,1.91,0,0,1-.58,1.4L9.25,21ZM18.45,9,17,7.55Zm-12,3A5.31,5.31,0,0,0,4.9,8.1,5.31,5.31,0,0,0,1,6.5,5.31,5.31,0,0,0,4.9,4.9,5.31,5.31,0,0,0,6.5,1,5.31,5.31,0,0,0,8.1,4.9,5.31,5.31,0,0,0,12,6.5,5.46,5.46,0,0,0,6.5,12Z\"/>\n",
              "  </svg>\n",
              "    </button>\n",
              "    <script>\n",
              "      (() => {\n",
              "      const buttonEl =\n",
              "        document.querySelector('#id_2f761827-041c-4292-afd0-d5d072931741 button.colab-df-generate');\n",
              "      buttonEl.style.display =\n",
              "        google.colab.kernel.accessAllowed ? 'block' : 'none';\n",
              "\n",
              "      buttonEl.onclick = () => {\n",
              "        google.colab.notebook.generateWithVariable('df1');\n",
              "      }\n",
              "      })();\n",
              "    </script>\n",
              "  </div>\n",
              "\n",
              "    </div>\n",
              "  </div>\n"
            ],
            "application/vnd.google.colaboratory.intrinsic+json": {
              "type": "dataframe",
              "variable_name": "df1",
              "summary": "{\n  \"name\": \"df1\",\n  \"rows\": 2,\n  \"fields\": [\n    {\n      \"column\": \"Product\",\n      \"properties\": {\n        \"dtype\": \"string\",\n        \"num_unique_values\": 2,\n        \"samples\": [\n          \"Monitor\",\n          \"Laptop\"\n        ],\n        \"semantic_type\": \"\",\n        \"description\": \"\"\n      }\n    },\n    {\n      \"column\": \"Price\",\n      \"properties\": {\n        \"dtype\": \"number\",\n        \"std\": 636.3961030678928,\n        \"min\": 300.0,\n        \"max\": 1200.0,\n        \"num_unique_values\": 2,\n        \"samples\": [\n          300.0,\n          1200.0\n        ],\n        \"semantic_type\": \"\",\n        \"description\": \"\"\n      }\n    },\n    {\n      \"column\": \"Stock\",\n      \"properties\": {\n        \"dtype\": \"number\",\n        \"std\": 13,\n        \"min\": 15,\n        \"max\": 34,\n        \"num_unique_values\": 2,\n        \"samples\": [\n          34,\n          15\n        ],\n        \"semantic_type\": \"\",\n        \"description\": \"\"\n      }\n    }\n  ]\n}"
            }
          },
          "metadata": {}
        },
        {
          "output_type": "display_data",
          "data": {
            "text/plain": [
              "    Product  Price  Stock\n",
              "2  Keyboard   50.0    120"
            ],
            "text/html": [
              "\n",
              "  <div id=\"df-fc9cf6f6-04e0-4c3c-8bde-1ec271ca1912\" class=\"colab-df-container\">\n",
              "    <div>\n",
              "<style scoped>\n",
              "    .dataframe tbody tr th:only-of-type {\n",
              "        vertical-align: middle;\n",
              "    }\n",
              "\n",
              "    .dataframe tbody tr th {\n",
              "        vertical-align: top;\n",
              "    }\n",
              "\n",
              "    .dataframe thead th {\n",
              "        text-align: right;\n",
              "    }\n",
              "</style>\n",
              "<table border=\"1\" class=\"dataframe\">\n",
              "  <thead>\n",
              "    <tr style=\"text-align: right;\">\n",
              "      <th></th>\n",
              "      <th>Product</th>\n",
              "      <th>Price</th>\n",
              "      <th>Stock</th>\n",
              "    </tr>\n",
              "  </thead>\n",
              "  <tbody>\n",
              "    <tr>\n",
              "      <th>2</th>\n",
              "      <td>Keyboard</td>\n",
              "      <td>50.0</td>\n",
              "      <td>120</td>\n",
              "    </tr>\n",
              "  </tbody>\n",
              "</table>\n",
              "</div>\n",
              "    <div class=\"colab-df-buttons\">\n",
              "\n",
              "  <div class=\"colab-df-container\">\n",
              "    <button class=\"colab-df-convert\" onclick=\"convertToInteractive('df-fc9cf6f6-04e0-4c3c-8bde-1ec271ca1912')\"\n",
              "            title=\"Convert this dataframe to an interactive table.\"\n",
              "            style=\"display:none;\">\n",
              "\n",
              "  <svg xmlns=\"http://www.w3.org/2000/svg\" height=\"24px\" viewBox=\"0 -960 960 960\">\n",
              "    <path d=\"M120-120v-720h720v720H120Zm60-500h600v-160H180v160Zm220 220h160v-160H400v160Zm0 220h160v-160H400v160ZM180-400h160v-160H180v160Zm440 0h160v-160H620v160ZM180-180h160v-160H180v160Zm440 0h160v-160H620v160Z\"/>\n",
              "  </svg>\n",
              "    </button>\n",
              "\n",
              "  <style>\n",
              "    .colab-df-container {\n",
              "      display:flex;\n",
              "      gap: 12px;\n",
              "    }\n",
              "\n",
              "    .colab-df-convert {\n",
              "      background-color: #E8F0FE;\n",
              "      border: none;\n",
              "      border-radius: 50%;\n",
              "      cursor: pointer;\n",
              "      display: none;\n",
              "      fill: #1967D2;\n",
              "      height: 32px;\n",
              "      padding: 0 0 0 0;\n",
              "      width: 32px;\n",
              "    }\n",
              "\n",
              "    .colab-df-convert:hover {\n",
              "      background-color: #E2EBFA;\n",
              "      box-shadow: 0px 1px 2px rgba(60, 64, 67, 0.3), 0px 1px 3px 1px rgba(60, 64, 67, 0.15);\n",
              "      fill: #174EA6;\n",
              "    }\n",
              "\n",
              "    .colab-df-buttons div {\n",
              "      margin-bottom: 4px;\n",
              "    }\n",
              "\n",
              "    [theme=dark] .colab-df-convert {\n",
              "      background-color: #3B4455;\n",
              "      fill: #D2E3FC;\n",
              "    }\n",
              "\n",
              "    [theme=dark] .colab-df-convert:hover {\n",
              "      background-color: #434B5C;\n",
              "      box-shadow: 0px 1px 3px 1px rgba(0, 0, 0, 0.15);\n",
              "      filter: drop-shadow(0px 1px 2px rgba(0, 0, 0, 0.3));\n",
              "      fill: #FFFFFF;\n",
              "    }\n",
              "  </style>\n",
              "\n",
              "    <script>\n",
              "      const buttonEl =\n",
              "        document.querySelector('#df-fc9cf6f6-04e0-4c3c-8bde-1ec271ca1912 button.colab-df-convert');\n",
              "      buttonEl.style.display =\n",
              "        google.colab.kernel.accessAllowed ? 'block' : 'none';\n",
              "\n",
              "      async function convertToInteractive(key) {\n",
              "        const element = document.querySelector('#df-fc9cf6f6-04e0-4c3c-8bde-1ec271ca1912');\n",
              "        const dataTable =\n",
              "          await google.colab.kernel.invokeFunction('convertToInteractive',\n",
              "                                                    [key], {});\n",
              "        if (!dataTable) return;\n",
              "\n",
              "        const docLinkHtml = 'Like what you see? Visit the ' +\n",
              "          '<a target=\"_blank\" href=https://colab.research.google.com/notebooks/data_table.ipynb>data table notebook</a>'\n",
              "          + ' to learn more about interactive tables.';\n",
              "        element.innerHTML = '';\n",
              "        dataTable['output_type'] = 'display_data';\n",
              "        await google.colab.output.renderOutput(dataTable, element);\n",
              "        const docLink = document.createElement('div');\n",
              "        docLink.innerHTML = docLinkHtml;\n",
              "        element.appendChild(docLink);\n",
              "      }\n",
              "    </script>\n",
              "  </div>\n",
              "\n",
              "\n",
              "  <div id=\"id_d3d7f4bd-0b2c-4935-9d35-dcab8fc7567b\">\n",
              "    <style>\n",
              "      .colab-df-generate {\n",
              "        background-color: #E8F0FE;\n",
              "        border: none;\n",
              "        border-radius: 50%;\n",
              "        cursor: pointer;\n",
              "        display: none;\n",
              "        fill: #1967D2;\n",
              "        height: 32px;\n",
              "        padding: 0 0 0 0;\n",
              "        width: 32px;\n",
              "      }\n",
              "\n",
              "      .colab-df-generate:hover {\n",
              "        background-color: #E2EBFA;\n",
              "        box-shadow: 0px 1px 2px rgba(60, 64, 67, 0.3), 0px 1px 3px 1px rgba(60, 64, 67, 0.15);\n",
              "        fill: #174EA6;\n",
              "      }\n",
              "\n",
              "      [theme=dark] .colab-df-generate {\n",
              "        background-color: #3B4455;\n",
              "        fill: #D2E3FC;\n",
              "      }\n",
              "\n",
              "      [theme=dark] .colab-df-generate:hover {\n",
              "        background-color: #434B5C;\n",
              "        box-shadow: 0px 1px 3px 1px rgba(0, 0, 0, 0.15);\n",
              "        filter: drop-shadow(0px 1px 2px rgba(0, 0, 0, 0.3));\n",
              "        fill: #FFFFFF;\n",
              "      }\n",
              "    </style>\n",
              "    <button class=\"colab-df-generate\" onclick=\"generateWithVariable('df2')\"\n",
              "            title=\"Generate code using this dataframe.\"\n",
              "            style=\"display:none;\">\n",
              "\n",
              "  <svg xmlns=\"http://www.w3.org/2000/svg\" height=\"24px\"viewBox=\"0 0 24 24\"\n",
              "       width=\"24px\">\n",
              "    <path d=\"M7,19H8.4L18.45,9,17,7.55,7,17.6ZM5,21V16.75L18.45,3.32a2,2,0,0,1,2.83,0l1.4,1.43a1.91,1.91,0,0,1,.58,1.4,1.91,1.91,0,0,1-.58,1.4L9.25,21ZM18.45,9,17,7.55Zm-12,3A5.31,5.31,0,0,0,4.9,8.1,5.31,5.31,0,0,0,1,6.5,5.31,5.31,0,0,0,4.9,4.9,5.31,5.31,0,0,0,6.5,1,5.31,5.31,0,0,0,8.1,4.9,5.31,5.31,0,0,0,12,6.5,5.46,5.46,0,0,0,6.5,12Z\"/>\n",
              "  </svg>\n",
              "    </button>\n",
              "    <script>\n",
              "      (() => {\n",
              "      const buttonEl =\n",
              "        document.querySelector('#id_d3d7f4bd-0b2c-4935-9d35-dcab8fc7567b button.colab-df-generate');\n",
              "      buttonEl.style.display =\n",
              "        google.colab.kernel.accessAllowed ? 'block' : 'none';\n",
              "\n",
              "      buttonEl.onclick = () => {\n",
              "        google.colab.notebook.generateWithVariable('df2');\n",
              "      }\n",
              "      })();\n",
              "    </script>\n",
              "  </div>\n",
              "\n",
              "    </div>\n",
              "  </div>\n"
            ],
            "application/vnd.google.colaboratory.intrinsic+json": {
              "type": "dataframe",
              "variable_name": "df2",
              "summary": "{\n  \"name\": \"df2\",\n  \"rows\": 1,\n  \"fields\": [\n    {\n      \"column\": \"Product\",\n      \"properties\": {\n        \"dtype\": \"string\",\n        \"num_unique_values\": 1,\n        \"samples\": [\n          \"Keyboard\"\n        ],\n        \"semantic_type\": \"\",\n        \"description\": \"\"\n      }\n    },\n    {\n      \"column\": \"Price\",\n      \"properties\": {\n        \"dtype\": \"number\",\n        \"std\": null,\n        \"min\": 50.0,\n        \"max\": 50.0,\n        \"num_unique_values\": 1,\n        \"samples\": [\n          50.0\n        ],\n        \"semantic_type\": \"\",\n        \"description\": \"\"\n      }\n    },\n    {\n      \"column\": \"Stock\",\n      \"properties\": {\n        \"dtype\": \"number\",\n        \"std\": null,\n        \"min\": 120,\n        \"max\": 120,\n        \"num_unique_values\": 1,\n        \"samples\": [\n          120\n        ],\n        \"semantic_type\": \"\",\n        \"description\": \"\"\n      }\n    }\n  ]\n}"
            }
          },
          "metadata": {}
        }
      ],
      "source": [
        "# Create additional DataFrames\n",
        "df1 = df[df['Price'] > 100]\n",
        "df2 = df[df['Stock'] > 50]\n",
        "\n",
        "# Display both DataFrames separately\n",
        "display(df1)\n",
        "display(df2)"
      ],
      "id": "oyXNEcC311Yz"
    },
    {
      "cell_type": "markdown",
      "source": [
        "#### Summary: Capabilities of `display()` vs `pandas` for Column Control\n",
        "\n",
        "| Task                   | Supported by `display()`? | Use `pandas` instead |\n",
        "|------------------------|---------------------------|----------------------|\n",
        "| Display formatted table | ✅ Yes                    |                      |\n",
        "| Select specific columns | ❌ No                     | ✅ Yes                |\n",
        "| Reorder columns         | ❌ No                     | ✅ Yes                |\n",
        "| Rename columns          | ❌ No                     | ✅ Yes (`df.rename`)  |\n"
      ],
      "metadata": {
        "id": "3sm6CBtG2l7h"
      },
      "id": "3sm6CBtG2l7h"
    },
    {
      "cell_type": "markdown",
      "metadata": {
        "id": "-GwvByUn11Yz"
      },
      "source": [
        "### When to Use or Avoid `display()`\n",
        "\n",
        "**Use `display()` when:**\n",
        "- Working in Jupyter or Colab where rich HTML output is supported\n",
        "- Displaying multiple outputs in the same cell\n",
        "- You want readable, scrollable, styled DataFrames\n",
        "- Creating instructional content, tutorials, or reports with rendered output\n",
        "\n",
        "**Avoid or don't rely on `display()` when:**\n",
        "- Running scripts from the terminal or environments without HTML rendering\n",
        "- Exporting plain text outputs to logs or command-line interfaces\n",
        "- Needing cross-platform, consistent output in terminals (use `tabulate()` instead)\n",
        "\n",
        "`display()` is ideal for notebooks but not for non-interactive use cases or where formatting must be preserved in plain text."
      ],
      "id": "-GwvByUn11Yz"
    },
    {
      "cell_type": "markdown",
      "source": [
        "\n",
        "\n",
        "---\n",
        "\n"
      ],
      "metadata": {
        "id": "IOLBFQ2d2KD8"
      },
      "id": "IOLBFQ2d2KD8"
    }
  ],
  "metadata": {
    "kernelspec": {
      "display_name": "Python 3",
      "language": "python",
      "name": "python3"
    },
    "language_info": {
      "name": "python",
      "version": "3.10"
    },
    "colab": {
      "provenance": [],
      "collapsed_sections": [
        "i9FJ8HjaqnyK"
      ],
      "include_colab_link": true
    }
  },
  "nbformat": 4,
  "nbformat_minor": 5
}