{
  "cells": [
    {
      "cell_type": "markdown",
      "metadata": {
        "id": "view-in-github",
        "colab_type": "text"
      },
      "source": [
        "<a href=\"https://colab.research.google.com/github/ProfessorPatrickSlatraigh/CST2312_H11/blob/main/CST2312_MidtermReview.ipynb\" target=\"_parent\"><img src=\"https://colab.research.google.com/assets/colab-badge.svg\" alt=\"Open In Colab\"/></a>"
      ]
    },
    {
      "cell_type": "markdown",
      "id": "9ec923b2",
      "metadata": {
        "id": "9ec923b2"
      },
      "source": [
        "# Midterm Review\n",
        "\n",
        "This notebook provides a conceptual review of Python programming topics covered on the midterm exam for CST2312. There are brief explanations and illustrative examples for each topic.\n",
        "  \n",
        "*This notebook can be accessed with the link -- https://bit.ly/cst2312midtermReview*\n"
      ]
    },
    {
      "cell_type": "markdown",
      "source": [
        "\n",
        "\n",
        "---\n",
        "\n"
      ],
      "metadata": {
        "id": "WbC_1Zcyr7NS"
      },
      "id": "WbC_1Zcyr7NS"
    },
    {
      "cell_type": "markdown",
      "id": "1d85beec",
      "metadata": {
        "id": "1d85beec"
      },
      "source": [
        "## Variables/Types - Variable assignment\n",
        "\n",
        "**Concept:** Review how to use variable assignment in the context of variables/types."
      ]
    },
    {
      "cell_type": "code",
      "execution_count": null,
      "id": "4c14dca6",
      "metadata": {
        "execution": {
          "iopub.execute_input": "2025-03-24T18:35:10.908526Z",
          "iopub.status.busy": "2025-03-24T18:35:10.908187Z",
          "iopub.status.idle": "2025-03-24T18:35:10.929861Z",
          "shell.execute_reply": "2025-03-24T18:35:10.928588Z"
        },
        "id": "4c14dca6"
      },
      "outputs": [],
      "source": [
        "x = 5\n",
        "y = 'Hello'\n",
        "print(type(x), type(y))"
      ]
    },
    {
      "cell_type": "code",
      "source": [
        "# Python example of use of the dir() function"
      ],
      "metadata": {
        "id": "kK0QxBNmm38m"
      },
      "id": "kK0QxBNmm38m",
      "execution_count": null,
      "outputs": []
    },
    {
      "cell_type": "code",
      "source": [
        "age = 30"
      ],
      "metadata": {
        "id": "fo6dEXTysDGc"
      },
      "id": "fo6dEXTysDGc",
      "execution_count": null,
      "outputs": []
    },
    {
      "source": [
        "price = 29.99"
      ],
      "cell_type": "code",
      "metadata": {
        "id": "gIcXSSTysSFo"
      },
      "id": "gIcXSSTysSFo",
      "execution_count": null,
      "outputs": []
    },
    {
      "cell_type": "code",
      "source": [
        "is_active = True"
      ],
      "metadata": {
        "id": "1DE17z9asZb-"
      },
      "id": "1DE17z9asZb-",
      "execution_count": null,
      "outputs": []
    },
    {
      "cell_type": "markdown",
      "source": [
        "\n",
        "\n",
        "---\n",
        "\n"
      ],
      "metadata": {
        "id": "fwfnD-RIm2jv"
      },
      "id": "fwfnD-RIm2jv"
    },
    {
      "cell_type": "markdown",
      "source": [
        "## Glossary of Python Function Terminology  \n",
        "  \n",
        "- **Argument:** Same as 'Parameter'. A value passed to a function when it is called, used by the function to perform its task.\n",
        "- **Call:** The same as 'Invoke', to execute a function.  \n",
        "- **Definition:** To create an object in memory that has the function's name and instructions.\n",
        "- **Fruitful:** A function that returns a value after execution.\n",
        "- **Global Variable:** A variable defined outside of any function, accessible from any function within the same module.\n",
        "- **Invoke:** The same as 'Call', to execute a function.\n",
        "- **Local Variable:** A variable defined within a function, accessible only within that function.\n",
        "- **Non-Void:** A function that returns data.\n",
        "- **Pass:** A Keyword statement that executes nothing. Used when the code to be written is not yet known.  \n",
        "- **Parameter:** Same as 'Argument'. A value passed to a function when it is called, used by the function to perform its task.\n",
        "- **Return:** A statement that ends a function's execution and sends a specified value back to the caller.\n",
        "- **Side Effect:** Any operation a function performs other than returning a value.  \n",
        "- **Terse:** A function that returns one or more values but has no side-effects.\n",
        "- **Verbose:** A function with side-effects that print or display.\n",
        "- **Void:** A function that does not return a value upon completion.\n"
      ],
      "metadata": {
        "id": "lePG8o5_6fM1"
      },
      "id": "lePG8o5_6fM1"
    },
    {
      "cell_type": "markdown",
      "metadata": {
        "id": "lXblX6uL1Uh_"
      },
      "source": [
        "\n",
        "\n",
        "---\n",
        "\n"
      ],
      "id": "lXblX6uL1Uh_"
    },
    {
      "cell_type": "markdown",
      "id": "e71e15c9",
      "metadata": {
        "id": "e71e15c9"
      },
      "source": [
        "## Functions - Defining functions\n",
        "\n",
        "**Concept:** Review how to use defining functions in the context of functions."
      ]
    },
    {
      "cell_type": "code",
      "execution_count": null,
      "id": "b406e631",
      "metadata": {
        "execution": {
          "iopub.execute_input": "2025-03-24T18:35:10.761024Z",
          "iopub.status.busy": "2025-03-24T18:35:10.760657Z",
          "iopub.status.idle": "2025-03-24T18:35:10.765858Z",
          "shell.execute_reply": "2025-03-24T18:35:10.764962Z"
        },
        "id": "b406e631"
      },
      "outputs": [],
      "source": [
        "def add(a, b):\n",
        "    return a + b\n",
        "print(add(2, 3))"
      ]
    },
    {
      "cell_type": "markdown",
      "id": "17374139",
      "metadata": {
        "id": "17374139"
      },
      "source": [
        "## Functions - Parameters and arguments\n",
        "\n",
        "**Concept:** Review how to use parameters and arguments in the context of functions."
      ]
    },
    {
      "cell_type": "code",
      "execution_count": null,
      "id": "d2e844e7",
      "metadata": {
        "execution": {
          "iopub.execute_input": "2025-03-24T18:35:10.779116Z",
          "iopub.status.busy": "2025-03-24T18:35:10.778724Z",
          "iopub.status.idle": "2025-03-24T18:35:10.783553Z",
          "shell.execute_reply": "2025-03-24T18:35:10.782859Z"
        },
        "id": "d2e844e7"
      },
      "outputs": [],
      "source": [
        "def add(a, b):\n",
        "    return a + b\n",
        "print(add(2, 3))"
      ]
    },
    {
      "cell_type": "code",
      "source": [
        "def passargs(x, y=0):\n",
        "    print(f\"The value of x is {x}, and the value of y is {y}\")\n",
        "passargs(1)"
      ],
      "metadata": {
        "id": "puChcn4inxkA"
      },
      "id": "puChcn4inxkA",
      "execution_count": null,
      "outputs": []
    },
    {
      "cell_type": "markdown",
      "source": [
        "Use of keyword arguments:"
      ],
      "metadata": {
        "id": "qWauUMuMstTl"
      },
      "id": "qWauUMuMstTl"
    },
    {
      "cell_type": "code",
      "source": [
        "def calculate_area(shape, **kwargs):\n",
        "    \"\"\"Calculates the area of a given shape.\n",
        "\n",
        "    Args:\n",
        "        shape: The type of shape ('rectangle', 'circle', or 'triangle').\n",
        "        **kwargs: Keyword arguments specific to the shape:\n",
        "            - rectangle: width and height\n",
        "            - circle: radius\n",
        "            - triangle: base and height\n",
        "\n",
        "    Returns:\n",
        "        The area of the shape, or None if the shape is invalid.\n",
        "    \"\"\"\n",
        "\n",
        "    if shape == 'rectangle':\n",
        "        width = kwargs.get('width')\n",
        "        height = kwargs.get('height')\n",
        "        if width is not None and height is not None:\n",
        "            return width * height\n",
        "    elif shape == 'circle':\n",
        "        radius = kwargs.get('radius')\n",
        "        if radius is not None:\n",
        "            return 3.14159 * radius**2  # Using pi approximation\n",
        "    elif shape == 'triangle':\n",
        "        base = kwargs.get('base')\n",
        "        height = kwargs.get('height')\n",
        "        if base is not None and height is not None:\n",
        "            return 0.5 * base * height\n",
        "\n",
        "    return None  # Invalid shape or missing arguments"
      ],
      "metadata": {
        "id": "Vi_hdWCwseeo"
      },
      "id": "Vi_hdWCwseeo",
      "execution_count": null,
      "outputs": []
    },
    {
      "cell_type": "code",
      "source": [
        "# Example usage:\n",
        "area1 = calculate_area('rectangle', width=5, height=3)\n",
        "area2 = calculate_area('circle', radius=2)\n",
        "area3 = calculate_area('triangle', base=4, height=6)\n",
        "\n",
        "print(f\"Area of rectangle: {area1}\")\n",
        "print(f\"Area of circle: {area2}\")\n",
        "print(f\"Area of triangle: {area3}\")"
      ],
      "metadata": {
        "id": "jxTWHXtcszek"
      },
      "id": "jxTWHXtcszek",
      "execution_count": null,
      "outputs": []
    },
    {
      "cell_type": "markdown",
      "metadata": {
        "id": "lbB2MmDl1SLh"
      },
      "source": [
        "### <u>Other Function Exercises</u>"
      ],
      "id": "lbB2MmDl1SLh"
    },
    {
      "cell_type": "markdown",
      "metadata": {
        "id": "AnZD0qDtzZhC"
      },
      "source": [
        "### `is_divisible` Function -- Verbose Version\n",
        "**is_divisible()** - Example of a verbose, fruitful function which returns a Bool for mod 0.\n"
      ],
      "id": "AnZD0qDtzZhC"
    },
    {
      "cell_type": "code",
      "metadata": {
        "id": "pDohxgiqxuMT"
      },
      "source": [
        "# a Boolean function which returns the absolute value or NoneType for zero\n",
        "def is_divisible(x, y):\n",
        "    \"\"\"This function returns True for x%%y = 0\"\"\"\n",
        "    if x % y == 0:\n",
        "        return True\n",
        "    else:\n",
        "        return False"
      ],
      "execution_count": null,
      "outputs": [],
      "id": "pDohxgiqxuMT"
    },
    {
      "cell_type": "code",
      "source": [
        "help(is_divisible)"
      ],
      "metadata": {
        "id": "lxYsLfhiacjt"
      },
      "execution_count": null,
      "outputs": [],
      "id": "lxYsLfhiacjt"
    },
    {
      "cell_type": "code",
      "source": [
        "fourAndTwo = is_divisible(4, 2)"
      ],
      "metadata": {
        "id": "IfOYnOVva0qO"
      },
      "execution_count": null,
      "outputs": [],
      "id": "IfOYnOVva0qO"
    },
    {
      "cell_type": "code",
      "source": [
        "fourAndTwo"
      ],
      "metadata": {
        "id": "_zdY5qV5a70A"
      },
      "execution_count": null,
      "outputs": [],
      "id": "_zdY5qV5a70A"
    },
    {
      "cell_type": "markdown",
      "metadata": {
        "id": "iA1zH6WgznDb"
      },
      "source": [
        "### `is_divisible` Function -- Terse Version\n",
        "**is_divisible()** - Example of a terse, fruitful function which returns a Bool for mod 0.\n"
      ],
      "id": "iA1zH6WgznDb"
    },
    {
      "cell_type": "code",
      "metadata": {
        "id": "MioP948-z0Ou"
      },
      "source": [
        "# a simple function which returns the absolute value or NoneType for zero\n",
        "def is_divisible(x, y):\n",
        "    \"\"\"This function returns True for x%%y = 0\"\"\"\n",
        "    return not x % y"
      ],
      "execution_count": null,
      "outputs": [],
      "id": "MioP948-z0Ou"
    },
    {
      "cell_type": "markdown",
      "metadata": {
        "id": "NCM96XMrz4fw"
      },
      "source": [
        "*Why do the two last functions both produce the same result?*"
      ],
      "id": "NCM96XMrz4fw"
    },
    {
      "cell_type": "markdown",
      "metadata": {
        "id": "YLjdvGTb0AE6"
      },
      "source": [
        "### `is_passing` Function\n",
        "**is_passing()** - Example of a fruitful function which returns a Bool for a passing grade or not.\n"
      ],
      "id": "YLjdvGTb0AE6"
    },
    {
      "cell_type": "code",
      "metadata": {
        "id": "NWvV0vyJ0JSk"
      },
      "source": [
        "# a compound Boolean function which returns a Bool for whether the argument is a passing grade\n",
        "def is_passing(x):\n",
        "    \"\"\"This function returns true when x is a passing grade.\"\"\"\n",
        "    if 0 <= x <= 59.9:\n",
        "        return False\n",
        "    elif x > 100:\n",
        "         print(x, \" is not a valid score. \")\n",
        "         return False\n",
        "    elif x < 0:\n",
        "         print(x, \" is not a valid score. \")\n",
        "         return False\n",
        "    else:\n",
        "         return True"
      ],
      "execution_count": null,
      "outputs": [],
      "id": "NWvV0vyJ0JSk"
    },
    {
      "cell_type": "markdown",
      "metadata": {
        "id": "Odarbq9D0T0M"
      },
      "source": [
        "### `area` Function (based on radius)\n",
        "**area()** - Example of a fruitful function which returns area of a circle with radius argument.\n"
      ],
      "id": "Odarbq9D0T0M"
    },
    {
      "cell_type": "code",
      "metadata": {
        "id": "zX7JRfIE0ZsH"
      },
      "source": [
        "# a simple, fruitful, function which returns the area of a circle with radius argument\n",
        "def area(radius):\n",
        "    \"\"\"This function takes a circle's radius as an argument and returns the area of that circle\"\"\"\n",
        "    return 3.14159 * radius**2\n"
      ],
      "execution_count": null,
      "outputs": [],
      "id": "zX7JRfIE0ZsH"
    },
    {
      "cell_type": "markdown",
      "metadata": {
        "id": "HJqum7_D0nMv"
      },
      "source": [
        "### `absolute_value` Function\n",
        "**absolute_value()** - Example of a fruitful function which returns the absolute value of the argument.\n"
      ],
      "id": "HJqum7_D0nMv"
    },
    {
      "cell_type": "code",
      "metadata": {
        "id": "qtvB0qik0rye"
      },
      "source": [
        "# a simple, fruitful, function which returns the absolute value of the argument\n",
        "def absolute_value(x):\n",
        "    \"\"\"This function takes a value and returns the absolute value unless the argument is zero\"\"\"\n",
        "    if x < 0:\n",
        "        return -x\n",
        "    elif x > 0:\n",
        "        return x\n"
      ],
      "execution_count": null,
      "outputs": [],
      "id": "qtvB0qik0rye"
    },
    {
      "cell_type": "markdown",
      "metadata": {
        "id": "QIrR1K490xIK"
      },
      "source": [
        "*Why did we not use an else: statement above?*"
      ],
      "id": "QIrR1K490xIK"
    },
    {
      "cell_type": "markdown",
      "source": [
        "Let's write a function that works on strings."
      ],
      "metadata": {
        "id": "cfzOsfohb-t1"
      },
      "id": "cfzOsfohb-t1"
    },
    {
      "cell_type": "code",
      "source": [
        "def hasAnAt(strArg):\n",
        "    for character in strArg:\n",
        "        if character == '@':\n",
        "            return True\n",
        "    return False"
      ],
      "metadata": {
        "id": "AaY9tVUAcCtP"
      },
      "execution_count": null,
      "outputs": [],
      "id": "AaY9tVUAcCtP"
    },
    {
      "cell_type": "code",
      "source": [
        "hasAnAt('franklindroosevelt@ altostrat.edu')"
      ],
      "metadata": {
        "id": "sR0o9QtScVYf"
      },
      "execution_count": null,
      "outputs": [],
      "id": "sR0o9QtScVYf"
    },
    {
      "cell_type": "code",
      "source": [
        "def findAt(strArg):\n",
        "    \"\"\"Returns a list of index positions of '@' in strArg or False\"\"\"\n",
        "    strArg = str(strArg)\n",
        "    atList = []\n",
        "    for indx in range(len(strArg)):\n",
        "        if strArg[indx] == '@':\n",
        "            atList.append(indx)\n",
        "    if len(atList) > 0:\n",
        "        return atList\n",
        "    return False"
      ],
      "metadata": {
        "id": "F0uTW9OLcezP"
      },
      "execution_count": null,
      "outputs": [],
      "id": "F0uTW9OLcezP"
    },
    {
      "cell_type": "code",
      "source": [
        "where = findAt('franklindroosevelt@ altostrat.edu')"
      ],
      "metadata": {
        "id": "EnP3reu77yCJ"
      },
      "id": "EnP3reu77yCJ",
      "execution_count": null,
      "outputs": []
    },
    {
      "cell_type": "code",
      "source": [
        "where"
      ],
      "metadata": {
        "id": "5_LIE0OJ703P"
      },
      "id": "5_LIE0OJ703P",
      "execution_count": null,
      "outputs": []
    },
    {
      "cell_type": "markdown",
      "source": [
        "\n",
        "\n",
        "---\n",
        "\n"
      ],
      "metadata": {
        "id": "GxmTbPhBpCLL"
      },
      "id": "GxmTbPhBpCLL"
    },
    {
      "cell_type": "markdown",
      "id": "4eff682f",
      "metadata": {
        "id": "4eff682f"
      },
      "source": [
        "## Files - File modes\n",
        "\n",
        "**Concept:** Review how to use file modes in the context of files."
      ]
    },
    {
      "cell_type": "code",
      "execution_count": null,
      "id": "83a9ebc0",
      "metadata": {
        "execution": {
          "iopub.execute_input": "2025-03-24T18:35:10.769673Z",
          "iopub.status.busy": "2025-03-24T18:35:10.769194Z",
          "iopub.status.idle": "2025-03-24T18:35:10.775064Z",
          "shell.execute_reply": "2025-03-24T18:35:10.774357Z"
        },
        "id": "83a9ebc0"
      },
      "outputs": [],
      "source": [
        "with open('data.txt', 'w') as f:\n",
        "    f.write('Sample data for file read example.\\nSample 2nd line.\\nSample third line.')\n",
        "\n",
        "with open('data.txt', 'r') as f:\n",
        "    content = f.read()\n",
        "    print(content)"
      ]
    },
    {
      "cell_type": "code",
      "source": [
        "with open('data.txt', 'r') as f:\n",
        "    next(f)  # Skip the first line\n",
        "    content = f.read()\n",
        "    # Process the remaining content\n",
        "    print(content)"
      ],
      "metadata": {
        "id": "d7bQru-htOoq"
      },
      "id": "d7bQru-htOoq",
      "execution_count": null,
      "outputs": []
    },
    {
      "cell_type": "markdown",
      "source": [
        "\n",
        "\n",
        "---\n",
        "\n"
      ],
      "metadata": {
        "id": "MxOsZGIRpgPm"
      },
      "id": "MxOsZGIRpgPm"
    },
    {
      "cell_type": "markdown",
      "id": "d610a8ec",
      "metadata": {
        "id": "d610a8ec"
      },
      "source": [
        "## For Loops - Nested loops\n",
        "\n",
        "**Concept:** Review how to use nested loops in the context of for loops."
      ]
    },
    {
      "cell_type": "code",
      "execution_count": null,
      "id": "a11692a8",
      "metadata": {
        "execution": {
          "iopub.execute_input": "2025-03-24T18:35:10.742679Z",
          "iopub.status.busy": "2025-03-24T18:35:10.742295Z",
          "iopub.status.idle": "2025-03-24T18:35:10.747365Z",
          "shell.execute_reply": "2025-03-24T18:35:10.746584Z"
        },
        "id": "a11692a8"
      },
      "outputs": [],
      "source": [
        "for i in range(3):\n",
        "    print(i)"
      ]
    },
    {
      "cell_type": "code",
      "source": [
        "for letter in 'Python':\n",
        "    if letter == 'h':\n",
        "        continue\n",
        "    print(letter)"
      ],
      "metadata": {
        "id": "J9Q_cGkfpjr6"
      },
      "id": "J9Q_cGkfpjr6",
      "execution_count": null,
      "outputs": []
    },
    {
      "cell_type": "code",
      "source": [
        "data = [[1, 2, 3], [4, 5, 6], [7, 8, 9]]\n",
        "\n",
        "# Calculate the sum of elements in each sublist\n",
        "sublist_sums = []\n",
        "for sublist in data:\n",
        "    total = 0\n",
        "    for item in sublist:\n",
        "        total += item\n",
        "    sublist_sums.append(total)\n",
        "\n",
        "print(sublist_sums)  # Output: [6, 15, 24]"
      ],
      "metadata": {
        "id": "C0PN1FOWtefz"
      },
      "id": "C0PN1FOWtefz",
      "execution_count": null,
      "outputs": []
    },
    {
      "cell_type": "markdown",
      "source": [
        "\n",
        "\n",
        "---\n",
        "\n"
      ],
      "metadata": {
        "id": "PvzT4nu6piBC"
      },
      "id": "PvzT4nu6piBC"
    },
    {
      "cell_type": "markdown",
      "source": [
        "## Indexing in Lists and Strings\n"
      ],
      "metadata": {
        "id": "6n7h_ebS2Vy4"
      },
      "id": "6n7h_ebS2Vy4"
    },
    {
      "cell_type": "markdown",
      "metadata": {
        "id": "1RYNa-dSrdWw"
      },
      "source": [
        "\n",
        "Square brackets (or square braces):\n",
        "[ is a left square bracket\n",
        "] is a right square bracket\n",
        "Lists in Python use square brackets []\n",
        "\n",
        "\n"
      ],
      "id": "1RYNa-dSrdWw"
    },
    {
      "cell_type": "markdown",
      "metadata": {
        "id": "QnJ7xAEZr62N"
      },
      "source": [
        "Assigning a list of integers from 1 to 4 to the object **x**:"
      ],
      "id": "QnJ7xAEZr62N"
    },
    {
      "cell_type": "code",
      "source": [
        "empty_list = []"
      ],
      "metadata": {
        "id": "y3NN0yTnImx3"
      },
      "execution_count": null,
      "outputs": [],
      "id": "y3NN0yTnImx3"
    },
    {
      "cell_type": "code",
      "metadata": {
        "id": "ZO0t6CeIx6h6"
      },
      "source": [
        "x = [1, 2, 3, 4]\n"
      ],
      "execution_count": null,
      "outputs": [],
      "id": "ZO0t6CeIx6h6"
    },
    {
      "cell_type": "code",
      "source": [
        "x[2]"
      ],
      "metadata": {
        "id": "X8xqQtkQhdOn"
      },
      "execution_count": null,
      "outputs": [],
      "id": "X8xqQtkQhdOn"
    },
    {
      "cell_type": "code",
      "metadata": {
        "id": "1bj2oyAG2Vmj"
      },
      "source": [
        "print(bool(x))"
      ],
      "execution_count": null,
      "outputs": [],
      "id": "1bj2oyAG2Vmj"
    },
    {
      "cell_type": "code",
      "metadata": {
        "id": "Ehzoc8AN2aEY"
      },
      "source": [
        "print(bool([]))"
      ],
      "execution_count": null,
      "outputs": [],
      "id": "Ehzoc8AN2aEY"
    },
    {
      "cell_type": "markdown",
      "metadata": {
        "id": "jU3CHoY3sXqE"
      },
      "source": [
        "Each member of a list is an element.  Elements have values and an index position in the list.\n",
        "\n",
        "Remember that we start counting index positions with 0 (zero), not 1 (one)!"
      ],
      "id": "jU3CHoY3sXqE"
    },
    {
      "cell_type": "markdown",
      "metadata": {
        "id": "rh6I7iiDsegB"
      },
      "source": [
        "![PPT-single-slide_for-colab.png](data:image/png;base64,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)"
      ],
      "id": "rh6I7iiDsegB"
    },
    {
      "cell_type": "markdown",
      "metadata": {
        "id": "423L6FQ-uM0R"
      },
      "source": [
        "We can reference elements in a list object using the element’s index number on square brackets after the list object name []\n",
        "\n",
        "What does Python return when you type **x**[?] and hit enter?\n"
      ],
      "id": "423L6FQ-uM0R"
    },
    {
      "cell_type": "code",
      "source": [
        "x[0]"
      ],
      "metadata": {
        "id": "dPLnfl7UuI--"
      },
      "execution_count": null,
      "outputs": [],
      "id": "dPLnfl7UuI--"
    },
    {
      "cell_type": "code",
      "metadata": {
        "id": "3YZ2KQ5o37Kq"
      },
      "source": [
        "print(x[0])\n",
        "print(x[1])\n",
        "print(x[2])\n",
        "print(x[3])"
      ],
      "execution_count": null,
      "outputs": [],
      "id": "3YZ2KQ5o37Kq"
    },
    {
      "cell_type": "code",
      "source": [
        "i = 0\n",
        "while i < 4:\n",
        "    print(x[i])\n",
        "    i += 1"
      ],
      "metadata": {
        "id": "SuoLTsVquU81"
      },
      "execution_count": null,
      "outputs": [],
      "id": "SuoLTsVquU81"
    },
    {
      "cell_type": "code",
      "source": [
        "for i in range(4):\n",
        "    print(x[i])"
      ],
      "metadata": {
        "id": "cBt_cYwRuuxL"
      },
      "execution_count": null,
      "outputs": [],
      "id": "cBt_cYwRuuxL"
    },
    {
      "cell_type": "markdown",
      "id": "5459ea29",
      "metadata": {
        "id": "5459ea29"
      },
      "source": [
        "## Lists - List comprehensions\n",
        "\n",
        "**Concept:** Review how to use list comprehensions in the context of lists."
      ]
    },
    {
      "cell_type": "code",
      "execution_count": null,
      "id": "a10c4fa4",
      "metadata": {
        "execution": {
          "iopub.execute_input": "2025-03-24T18:35:10.706130Z",
          "iopub.status.busy": "2025-03-24T18:35:10.705666Z",
          "iopub.status.idle": "2025-03-24T18:35:10.719236Z",
          "shell.execute_reply": "2025-03-24T18:35:10.718574Z"
        },
        "id": "a10c4fa4"
      },
      "outputs": [],
      "source": [
        "[x**2 for x in range(5)]"
      ]
    },
    {
      "cell_type": "code",
      "execution_count": null,
      "id": "30626667",
      "metadata": {
        "execution": {
          "iopub.execute_input": "2025-03-24T18:35:10.838253Z",
          "iopub.status.busy": "2025-03-24T18:35:10.837886Z",
          "iopub.status.idle": "2025-03-24T18:35:10.841908Z",
          "shell.execute_reply": "2025-03-24T18:35:10.841238Z"
        },
        "id": "30626667"
      },
      "outputs": [],
      "source": [
        "# Python example using the .get() method"
      ]
    },
    {
      "cell_type": "markdown",
      "source": [
        "\n",
        "\n",
        "---\n",
        "\n"
      ],
      "metadata": {
        "id": "XampMeeNtiL8"
      },
      "id": "XampMeeNtiL8"
    },
    {
      "cell_type": "markdown",
      "id": "b48e4abb",
      "metadata": {
        "id": "b48e4abb"
      },
      "source": [
        "## Lists - List methods\n",
        "\n",
        "**Concept:** Review how to use list methods in the context of lists."
      ]
    },
    {
      "cell_type": "code",
      "execution_count": null,
      "id": "41f7a8a9",
      "metadata": {
        "execution": {
          "iopub.execute_input": "2025-03-24T18:35:10.787909Z",
          "iopub.status.busy": "2025-03-24T18:35:10.787246Z",
          "iopub.status.idle": "2025-03-24T18:35:10.792842Z",
          "shell.execute_reply": "2025-03-24T18:35:10.791967Z"
        },
        "id": "41f7a8a9"
      },
      "outputs": [],
      "source": [
        "fruits = ['apple', 'banana']\n",
        "fruits.append('cherry')\n",
        "print(fruits)"
      ]
    },
    {
      "cell_type": "code",
      "source": [
        "fruits = ['apple', 'banana', 'cherry']\n",
        "fruits.insert(1, 'orange')  # Insert 'orange' at index 1\n",
        "print(fruits)  # Output: ['apple', 'orange', 'banana', 'cherry']"
      ],
      "metadata": {
        "id": "LXNDfkT7t_lO"
      },
      "id": "LXNDfkT7t_lO",
      "execution_count": null,
      "outputs": []
    },
    {
      "cell_type": "code",
      "source": [
        "fruits = ['apple', 'banana']\n",
        "more_fruits = ['cherry', 'orange']\n",
        "fruits.extend(more_fruits)\n",
        "print(fruits)  # Output: ['apple', 'banana', 'cherry', 'orange']"
      ],
      "metadata": {
        "id": "DBMIcx0JuCGF"
      },
      "id": "DBMIcx0JuCGF",
      "execution_count": null,
      "outputs": []
    },
    {
      "cell_type": "code",
      "source": [
        "fruits = ['apple', 'banana', 'cherry', 'banana']\n",
        "fruits.remove('banana')  # Removes the first 'banana'\n",
        "print(fruits)  # Output: ['apple', 'cherry', 'banana']"
      ],
      "metadata": {
        "id": "6-qzi1u7uDlS"
      },
      "id": "6-qzi1u7uDlS",
      "execution_count": null,
      "outputs": []
    },
    {
      "cell_type": "code",
      "source": [
        "fruits = ['apple', 'banana', 'cherry']\n",
        "removed_fruit = fruits.pop(1)  # Remove and return element at index 1\n",
        "print(removed_fruit)  # Output: banana\n",
        "print(fruits)  # Output: ['apple', 'cherry']"
      ],
      "metadata": {
        "id": "v1i0_1J5uFLq"
      },
      "id": "v1i0_1J5uFLq",
      "execution_count": null,
      "outputs": []
    },
    {
      "cell_type": "code",
      "source": [
        "my_list = [7, 8, 3, 3, 1, 4, 5]\n",
        "my_list.sort()\n",
        "print(my_list)  # Output: [1, 3, 3, 4, 5, 7, 8]"
      ],
      "metadata": {
        "id": "GJh9lDb0l9Y6"
      },
      "id": "GJh9lDb0l9Y6",
      "execution_count": null,
      "outputs": []
    },
    {
      "cell_type": "code",
      "source": [
        "my_list = [7, 8, 3, 3, 1, 4, 5]\n",
        "my_list.reverse()\n",
        "print(my_list)  # Output: [5, 4, 1, 3, 3, 8, 7]"
      ],
      "metadata": {
        "id": "gxHDWIBSuPsj"
      },
      "id": "gxHDWIBSuPsj",
      "execution_count": null,
      "outputs": []
    },
    {
      "cell_type": "code",
      "source": [
        "fruits = ['apple', 'banana', 'cherry']\n",
        "index = fruits.index('banana')\n",
        "print(index)  # Output: 1"
      ],
      "metadata": {
        "id": "9THuv_QRt5-4"
      },
      "id": "9THuv_QRt5-4",
      "execution_count": null,
      "outputs": []
    },
    {
      "cell_type": "code",
      "source": [
        "fruits = ['apple', 'banana', 'cherry', 'banana']\n",
        "count = fruits.count('banana')\n",
        "print(count)  # Output: 2"
      ],
      "metadata": {
        "id": "ZiPQ688NuKbS"
      },
      "id": "ZiPQ688NuKbS",
      "execution_count": null,
      "outputs": []
    },
    {
      "cell_type": "markdown",
      "id": "d0f320b1",
      "metadata": {
        "id": "d0f320b1"
      },
      "source": [
        "## Lists - List indexing and slicing\n",
        "\n",
        "**Concept:** Review how to use list indexing and slicing in the context of lists."
      ]
    },
    {
      "cell_type": "code",
      "execution_count": null,
      "id": "501b5e12",
      "metadata": {
        "execution": {
          "iopub.execute_input": "2025-03-24T18:35:10.805907Z",
          "iopub.status.busy": "2025-03-24T18:35:10.805591Z",
          "iopub.status.idle": "2025-03-24T18:35:10.810994Z",
          "shell.execute_reply": "2025-03-24T18:35:10.810352Z"
        },
        "id": "501b5e12"
      },
      "outputs": [],
      "source": [
        "fruits = [['apple', 'banana'], ['cherry'], ['mango'], ['pizza']]\n",
        "print(fruits[1])\n",
        "print(fruits[:2])"
      ]
    },
    {
      "cell_type": "markdown",
      "source": [
        "\n",
        "\n",
        "---\n",
        "\n"
      ],
      "metadata": {
        "id": "2ZlsjzQ_l5EC"
      },
      "id": "2ZlsjzQ_l5EC"
    },
    {
      "cell_type": "markdown",
      "id": "a791c84a",
      "metadata": {
        "id": "a791c84a"
      },
      "source": [
        "## Strings - String formatting\n",
        "\n",
        "**Concept:** Review how to use string formatting in the context of strings."
      ]
    },
    {
      "cell_type": "code",
      "execution_count": null,
      "id": "88e953ad",
      "metadata": {
        "execution": {
          "iopub.execute_input": "2025-03-24T18:35:10.797442Z",
          "iopub.status.busy": "2025-03-24T18:35:10.796997Z",
          "iopub.status.idle": "2025-03-24T18:35:10.802259Z",
          "shell.execute_reply": "2025-03-24T18:35:10.801662Z"
        },
        "id": "88e953ad"
      },
      "outputs": [],
      "source": [
        "greeting = 'Hello'\n",
        "print(greeting.upper()) # Output: HELLO"
      ]
    },
    {
      "cell_type": "code",
      "source": [
        "shout = \"I'M EXCITED!\"\n",
        "print(shout.lower())  # Output: i'm excited!"
      ],
      "metadata": {
        "id": "BJkZAVKKuhiD"
      },
      "id": "BJkZAVKKuhiD",
      "execution_count": null,
      "outputs": []
    },
    {
      "cell_type": "code",
      "source": [
        "text = \"   extra spaces   \"\n",
        "print(text.strip())  # Output: extra spaces"
      ],
      "metadata": {
        "id": "gOsyMKJ_uv9i"
      },
      "id": "gOsyMKJ_uv9i",
      "execution_count": null,
      "outputs": []
    },
    {
      "cell_type": "code",
      "source": [
        "words = \"This is a sentence.\"\n",
        "print(words.split())  # Output: ['This', 'is', 'a', 'sentence.']"
      ],
      "metadata": {
        "id": "6QcyHzyiu2t7"
      },
      "id": "6QcyHzyiu2t7",
      "execution_count": null,
      "outputs": []
    },
    {
      "cell_type": "code",
      "source": [
        "words = ['This', 'is', 'a', 'sentence.']\n",
        "print(' '.join(words))  # Output: This is a sentence."
      ],
      "metadata": {
        "id": "7KmHpRpSu4-w"
      },
      "id": "7KmHpRpSu4-w",
      "execution_count": null,
      "outputs": []
    },
    {
      "cell_type": "code",
      "source": [
        "sentence = \"I like cats.\"\n",
        "print(sentence.replace(\"cats\", \"dogs\"))  # Output: I like dogs."
      ],
      "metadata": {
        "id": "Ywbls5Lxuyn9"
      },
      "id": "Ywbls5Lxuyn9",
      "execution_count": null,
      "outputs": []
    },
    {
      "cell_type": "code",
      "source": [
        "text = \"Hello world\"\n",
        "print(text.startswith(\"Hello\"))  # Output: True"
      ],
      "metadata": {
        "id": "NaKBX8Bju7VE"
      },
      "id": "NaKBX8Bju7VE",
      "execution_count": null,
      "outputs": []
    },
    {
      "cell_type": "code",
      "source": [
        "text = \"This is a test.\"\n",
        "print(text.find(\"is\"))  # Output: 2"
      ],
      "metadata": {
        "id": "waUDXsb0u_lp"
      },
      "id": "waUDXsb0u_lp",
      "execution_count": null,
      "outputs": []
    },
    {
      "cell_type": "code",
      "source": [
        "text = \"This is a test.\"\n",
        "print(text.count(\"is\"))  # Output: 2"
      ],
      "metadata": {
        "id": "enF-zEidvDMW"
      },
      "id": "enF-zEidvDMW",
      "execution_count": null,
      "outputs": []
    },
    {
      "cell_type": "markdown",
      "source": [
        "What other string methods do you know?"
      ],
      "metadata": {
        "id": "z6Q-XJTOlB_S"
      },
      "id": "z6Q-XJTOlB_S"
    },
    {
      "cell_type": "markdown",
      "source": [
        "### Slicing Python Strings\n"
      ],
      "metadata": {
        "id": "YBrENLAPKbRC"
      },
      "id": "YBrENLAPKbRC"
    },
    {
      "cell_type": "markdown",
      "metadata": {
        "id": "YNLK2BcR_dZ0"
      },
      "source": [
        "In addition to indexing, slicing is also supported. While indexing is used to obtain individual characters, slicing allows you to obtain a substring:"
      ],
      "id": "YNLK2BcR_dZ0"
    },
    {
      "cell_type": "code",
      "source": [
        "word = \"Python\"\n",
        "print(word)"
      ],
      "metadata": {
        "id": "9ul6c2aE3mZR"
      },
      "execution_count": null,
      "outputs": [],
      "id": "9ul6c2aE3mZR"
    },
    {
      "cell_type": "code",
      "metadata": {
        "id": "lEGnRmcc_hec"
      },
      "source": [
        "word[0:2]  # characters from position 0 (included) to 2 (excluded)\n",
        "print(word)\n",
        "print(word[0:2])"
      ],
      "execution_count": null,
      "outputs": [],
      "id": "lEGnRmcc_hec"
    },
    {
      "cell_type": "code",
      "metadata": {
        "id": "c-vZ4enO_ikd"
      },
      "source": [
        "word[2:5]  # characters from position 2 (included) to 5 (excluded)\n",
        "print(word)\n",
        "print(word[2:5])"
      ],
      "execution_count": null,
      "outputs": [],
      "id": "c-vZ4enO_ikd"
    },
    {
      "cell_type": "code",
      "metadata": {
        "id": "QqDml4cM_jhl"
      },
      "source": [
        "word[2:]  # characters from position 2 (included) to the end\n",
        "print(word[2:])"
      ],
      "execution_count": null,
      "outputs": [],
      "id": "QqDml4cM_jhl"
    },
    {
      "cell_type": "code",
      "metadata": {
        "id": "-SR2fWR6_kbc"
      },
      "source": [
        "word[:3]  # characters from beginning (position 0) to position 3 (excluded)\n",
        "print(word[:3])"
      ],
      "execution_count": null,
      "outputs": [],
      "id": "-SR2fWR6_kbc"
    },
    {
      "cell_type": "code",
      "metadata": {
        "id": "Dk2UmwqS_lZs"
      },
      "source": [
        "word[-3:]  # last three characters\n",
        "print(word[-3:])"
      ],
      "execution_count": null,
      "outputs": [],
      "id": "Dk2UmwqS_lZs"
    },
    {
      "cell_type": "code",
      "metadata": {
        "id": "RlmeDtZp_mVe"
      },
      "source": [
        "word[-3:-1]  # penultimate two characters\n",
        "print(word[-3:-1])"
      ],
      "execution_count": null,
      "outputs": [],
      "id": "RlmeDtZp_mVe"
    },
    {
      "cell_type": "code",
      "metadata": {
        "id": "wrmj4CjM_nbN"
      },
      "source": [
        "word[1:-1]\n",
        "print(word[1:-1])"
      ],
      "execution_count": null,
      "outputs": [],
      "id": "wrmj4CjM_nbN"
    },
    {
      "cell_type": "code",
      "source": [
        "\n",
        "word = 'Python'\n",
        "first_three = word[0:3] # starts at zero index and up to 3 but not include 3\n",
        "print(first_three) #Pyt\n",
        "last_three = word[3:6]\n",
        "print(last_three) # hon\n",
        "# Another way\n",
        "last_three = word[-3:]\n",
        "print(last_three)   # hon\n",
        "last_three = word[3:]\n",
        "print(last_three)   # hon\n"
      ],
      "metadata": {
        "id": "32K-00rUKYFS"
      },
      "execution_count": null,
      "outputs": [],
      "id": "32K-00rUKYFS"
    },
    {
      "cell_type": "markdown",
      "source": [
        "#### Reversing a String\n",
        "\n",
        "We can easily reverse strings in python.\n"
      ],
      "metadata": {
        "id": "mIqNJHDsKTTd"
      },
      "id": "mIqNJHDsKTTd"
    },
    {
      "cell_type": "code",
      "source": [
        "greeting = 'Hello, World!'\n",
        "print(greeting[::-1]) # !dlroW ,olleH\n"
      ],
      "metadata": {
        "id": "rmK1BVKQKPe5"
      },
      "execution_count": null,
      "outputs": [],
      "id": "rmK1BVKQKPe5"
    },
    {
      "cell_type": "markdown",
      "source": [
        "### Escape Sequences in Strings\n",
        "\n",
        "In Python and other programming languages \\ followed by a character is an escape sequence. Let us see the most common escape characters:\n",
        "\n",
        "- \\n: new line\n",
        "- \\t: Tab means(8 spaces)\n",
        "- \\\\\\\\: Back slash\n",
        "- \\\\': Single quote (')\n",
        "- \\\\\": Double quote (\")\n",
        "\n",
        "Now, let us see the use of the above escape sequences with examples.\n"
      ],
      "metadata": {
        "id": "olaZ3Z86MTQD"
      },
      "id": "olaZ3Z86MTQD"
    },
    {
      "cell_type": "code",
      "source": [
        "str1 = 'This isn\\'t a good example'\n",
        "print(str1) # This isn't a good example"
      ],
      "metadata": {
        "id": "ZM4eSjsj-4ol"
      },
      "execution_count": null,
      "outputs": [],
      "id": "ZM4eSjsj-4ol"
    },
    {
      "cell_type": "markdown",
      "source": [
        "Let's try a few examples..."
      ],
      "metadata": {
        "id": "Y7uQoGVdsOg6"
      },
      "id": "Y7uQoGVdsOg6"
    },
    {
      "cell_type": "code",
      "metadata": {
        "id": "xtRwadLA97Zj"
      },
      "source": [
        "\n",
        "str2 = \"I want to print a backslash: \\\\\"\n",
        "print(str2)\n"
      ],
      "execution_count": null,
      "outputs": [],
      "id": "xtRwadLA97Zj"
    },
    {
      "cell_type": "code",
      "metadata": {
        "id": "XwESlLA398-b"
      },
      "source": [
        "\n",
        "str3 = 'This is a string within single quotes that can contain \"double quotes\" as part of the string'\n",
        "print(str3)\n"
      ],
      "execution_count": null,
      "outputs": [],
      "id": "XwESlLA398-b"
    },
    {
      "cell_type": "code",
      "metadata": {
        "id": "2pm1AeLa-C-F"
      },
      "source": [
        "\n",
        "str4 = 'If we want to have \\'single quotes\\' in single quoted string we should escape them'\n",
        "print(str4)\n"
      ],
      "execution_count": null,
      "outputs": [],
      "id": "2pm1AeLa-C-F"
    },
    {
      "cell_type": "code",
      "metadata": {
        "id": "RHyEtfec-GDk"
      },
      "source": [
        "\n",
        "str5 = \"Similarly, if we want to have \\\"double quotes\\\" in double quoted string we should escape them\\n\"\n",
        "print(str5)\n"
      ],
      "execution_count": null,
      "outputs": [],
      "id": "RHyEtfec-GDk"
    },
    {
      "cell_type": "markdown",
      "source": [
        "Here is an example that makes use of a mix of escape sequences."
      ],
      "metadata": {
        "id": "qFhLiHphsg-E"
      },
      "id": "qFhLiHphsg-E"
    },
    {
      "cell_type": "code",
      "source": [
        "\n",
        "print('I hope everyone is enjoying the Python stringObject.\\nAre you ?') # line break\n",
        "print('Days\\tTopics\\tExercises') # adding tab space or 4 spaces\n",
        "print('Day 1\\t5\\t5')\n",
        "print('Day 2\\t6\\t20')\n",
        "print('Day 3\\t5\\t23')\n",
        "print('Day 4\\t1\\t35')\n",
        "print('This is a backslash  symbol (\\\\)') # To write a backslash\n",
        "print('In every programming language it starts with \\\"Hello, World!\\\"') # to write a double quote inside a single quote\n"
      ],
      "metadata": {
        "id": "daScWMsAMNGh"
      },
      "execution_count": null,
      "outputs": [],
      "id": "daScWMsAMNGh"
    },
    {
      "cell_type": "markdown",
      "source": [
        "<b><u>Output</b></u>  \n",
        "```\n",
        "I hope every one is enjoying the Python stringObject.\n",
        "Are you ?\n",
        "Days\tTopics\tExercises\n",
        "Day 1\t5\t    5\n",
        "Day 2\t6\t    20\n",
        "Day 3\t5\t    23\n",
        "Day 4\t1\t    35\n",
        "This is a backslash  symbol (\\)\n",
        "In every programming language it starts with \"Hello, World!\"\n",
        "```"
      ],
      "metadata": {
        "id": "h_hDjXjWlGXU"
      },
      "id": "h_hDjXjWlGXU"
    },
    {
      "cell_type": "markdown",
      "metadata": {
        "id": "KzPI001k8Bin"
      },
      "source": [
        "We learn that strings are a special form of lists.\n",
        "\n",
        "*   Strings are sequences of elements\n",
        "*   Elements in a string are each individual character\n",
        "*   String elements are referred to by their index in square brackets []\n",
        "*   The colon : is a special index value used to identify the start or end\n",
        "*   Strings are objects which can be assigned to other objects\n",
        "*   Individual elements in a string cannot be assigned with new values – that is, lists are immutable (they cannot be changed)\n",
        "\n"
      ],
      "id": "KzPI001k8Bin"
    },
    {
      "cell_type": "markdown",
      "metadata": {
        "id": "U4at4t22FFR_"
      },
      "source": [
        "Here are some terms to remember:\n",
        "\n",
        "*   **Sequences** are ordered arrangements of elements\n",
        "*   **Lists** are a form of **Sequence** with individual elements which may be of different types or classes\n",
        "*   **Strings** are **Sequences** of elements called **Characters**\n",
        "*   **Elements** are separate members of a **Sequence**\n",
        "*   **Indices** (index numbers) are values which indicate the position of an **element** in a **sequence** (**List** or **String**)\n",
        "*   **Elements** are referred to by their index in Square Brackets **[]**\n",
        "*   The **Colon :** is a special index value used to identify the start or end\n",
        "*   Lists are **mutable**\n",
        "*   Strings are **immutable**\n"
      ],
      "id": "U4at4t22FFR_"
    },
    {
      "cell_type": "markdown",
      "source": [
        "\n",
        "\n",
        "---\n",
        "\n"
      ],
      "metadata": {
        "id": "K0_W1BG7l088"
      },
      "id": "K0_W1BG7l088"
    },
    {
      "cell_type": "markdown",
      "id": "8a74823c",
      "metadata": {
        "id": "8a74823c"
      },
      "source": [
        "## Conditionals - Boolean expressions\n",
        "\n",
        "**Concept:** Review how to use boolean expressions in the context of conditionals."
      ]
    },
    {
      "cell_type": "code",
      "execution_count": null,
      "id": "fd823b7d",
      "metadata": {
        "execution": {
          "iopub.execute_input": "2025-03-24T18:35:10.899692Z",
          "iopub.status.busy": "2025-03-24T18:35:10.899291Z",
          "iopub.status.idle": "2025-03-24T18:35:10.904543Z",
          "shell.execute_reply": "2025-03-24T18:35:10.903740Z"
        },
        "id": "fd823b7d"
      },
      "outputs": [],
      "source": [
        "x = 10\n",
        "if x > 5:\n",
        "    print('Greater than 5')"
      ]
    },
    {
      "cell_type": "markdown",
      "source": [
        "What conditional operators and terms are available?"
      ],
      "metadata": {
        "id": "vG0qIKIirHQo"
      },
      "id": "vG0qIKIirHQo"
    },
    {
      "cell_type": "code",
      "source": [
        "# Python example of boolean evaluation of tuples"
      ],
      "metadata": {
        "id": "bJalawI6muuv"
      },
      "id": "bJalawI6muuv",
      "execution_count": null,
      "outputs": []
    },
    {
      "cell_type": "markdown",
      "source": [
        "\n",
        "\n",
        "---\n",
        "\n"
      ],
      "metadata": {
        "id": "LWnpfnHgm0fy"
      },
      "id": "LWnpfnHgm0fy"
    },
    {
      "cell_type": "markdown",
      "id": "bb920657",
      "metadata": {
        "id": "bb920657"
      },
      "source": [
        "## While Loops - Loop conditions\n",
        "\n",
        "**Concept:** Review how to use loop conditions in the context of while loops."
      ]
    },
    {
      "cell_type": "code",
      "execution_count": null,
      "id": "82edde54",
      "metadata": {
        "execution": {
          "iopub.execute_input": "2025-03-24T18:35:10.872756Z",
          "iopub.status.busy": "2025-03-24T18:35:10.872375Z",
          "iopub.status.idle": "2025-03-24T18:35:10.877559Z",
          "shell.execute_reply": "2025-03-24T18:35:10.876525Z"
        },
        "id": "82edde54"
      },
      "outputs": [],
      "source": [
        "i = 0\n",
        "while i < 3:\n",
        "    print(i)\n",
        "    i += 1"
      ]
    },
    {
      "cell_type": "code",
      "source": [
        "# Python example using while True:"
      ],
      "metadata": {
        "id": "3qAWs-l9mVm0"
      },
      "id": "3qAWs-l9mVm0",
      "execution_count": null,
      "outputs": []
    },
    {
      "cell_type": "markdown",
      "id": "1ea5d7aa",
      "metadata": {
        "id": "1ea5d7aa"
      },
      "source": [
        "## While Loop Statements - Break\n",
        "\n",
        "**Concept:** Review how to use break in the context of statements."
      ]
    },
    {
      "cell_type": "code",
      "execution_count": null,
      "id": "45374692",
      "metadata": {
        "execution": {
          "iopub.execute_input": "2025-03-24T18:35:10.943946Z",
          "iopub.status.busy": "2025-03-24T18:35:10.943652Z",
          "iopub.status.idle": "2025-03-24T18:35:10.949049Z",
          "shell.execute_reply": "2025-03-24T18:35:10.948342Z"
        },
        "id": "45374692"
      },
      "outputs": [],
      "source": [
        "for i in range(5):\n",
        "    if i == 3:\n",
        "        break\n",
        "    print(i)"
      ]
    },
    {
      "cell_type": "markdown",
      "source": [
        "###Breaking Out Of A Loop    \n",
        "\n",
        "The `break` statement ends the current loop and jumps to the statement immediately following the loop -- process flow picks up immediately after the loop's `code block`\n",
        "    \n",
        "*A `break` statement can happen anywhere in the body of the loop.*    \n",
        "\n",
        "Let's see how that works:    \n"
      ],
      "metadata": {
        "id": "PObP6b21ZgGH"
      },
      "id": "PObP6b21ZgGH"
    },
    {
      "cell_type": "markdown",
      "metadata": {
        "id": "J1KLtOMzvTQ_"
      },
      "source": [
        "## While Loop Statements - Continue\n",
        "\n",
        "**Concept:** Review how to use continue in the context of statements."
      ],
      "id": "J1KLtOMzvTQ_"
    },
    {
      "cell_type": "code",
      "execution_count": null,
      "metadata": {
        "execution": {
          "iopub.execute_input": "2025-03-24T18:35:10.943946Z",
          "iopub.status.busy": "2025-03-24T18:35:10.943652Z",
          "iopub.status.idle": "2025-03-24T18:35:10.949049Z",
          "shell.execute_reply": "2025-03-24T18:35:10.948342Z"
        },
        "id": "rWadMT_TvTQ_"
      },
      "outputs": [],
      "source": [
        "for i in range(5):\n",
        "    if i == 3:\n",
        "        continue\n",
        "    print(i)"
      ],
      "id": "rWadMT_TvTQ_"
    },
    {
      "cell_type": "markdown",
      "source": [
        "###Continuing Another Iteration Of The Loop    \n",
        "\n",
        "\n",
        "* The `continue` statement ends the current iteration of the loop’s `code block`    \n",
        "\n",
        "* `continue` jumps to the top of the loop and starts the next iteration    \n",
        "\n",
        "* A `continue` statement can happen anywhere in the loop.     \n",
        "\n",
        "\n"
      ],
      "metadata": {
        "id": "k6tU0ti8kY26"
      },
      "id": "k6tU0ti8kY26"
    },
    {
      "cell_type": "code",
      "source": [],
      "metadata": {
        "id": "zRmtV27l9Iux"
      },
      "id": "zRmtV27l9Iux",
      "execution_count": null,
      "outputs": []
    },
    {
      "cell_type": "markdown",
      "source": [
        "###6.2 The `while` Statement  \n",
        "  \n",
        "Computers are often used to automate repetitive tasks. Repeating identical or similar tasks without making errors is something that computers do well and people do poorly. Because iteration is so common, Python provides several language features to make it easier.\n",
        "\n",
        "One form of iteration in Python is the while statement. Here is a simple program that counts down from ten and then says \"Blastoff!\"."
      ],
      "metadata": {
        "id": "9NiRLtXxTqkc"
      },
      "id": "9NiRLtXxTqkc"
    },
    {
      "cell_type": "code",
      "source": [
        "n = 10\n",
        "print('Counting down...')\n",
        "while n > 0:\n",
        "    print(n)\n",
        "    n = n - 1\n",
        "print('Blastoff!')"
      ],
      "metadata": {
        "id": "rG0mQ1nzT2Hg"
      },
      "execution_count": null,
      "outputs": [],
      "id": "rG0mQ1nzT2Hg"
    },
    {
      "cell_type": "markdown",
      "source": [
        "More formally, here is the flow of execution for a while statement:  \n",
        "  \n",
        "1. Evaluate the condition, yielding True or False.  \n",
        "2. If the condition is false, exit the while statement and continue execution at the next statement.  \n",
        "3. If the condition is true, execute the body and then go back to step 1.  \n",
        "  \n",
        "This type of flow is called a loop because the third step loops back around to the top. We call each time we execute the body of the loop an iteration. For the above loop, we would say, \"It had ten iterations\", which means that the body of the loop was executed ten times.  "
      ],
      "metadata": {
        "id": "ES29gEJRfZAZ"
      },
      "id": "ES29gEJRfZAZ"
    },
    {
      "cell_type": "markdown",
      "source": [
        "The body of the loop should change the value of one or more variables so that eventually the condition becomes false and the loop terminates. We call the variable that changes each time the loop executes and controls when the loop finishes the iteration variable. If there is no iteration variable, the loop will repeat forever, resulting in an infinite loop."
      ],
      "metadata": {
        "id": "maywa2KSfgCZ"
      },
      "id": "maywa2KSfgCZ"
    },
    {
      "cell_type": "markdown",
      "source": [
        "###6.5 Definite Loops Using `for`  \n",
        "  \n",
        "Sometimes we want to loop through a set of things, such as a list of words, the lines in a file, or a list of numbers. When we have a list of things to loop through, we can construct a definite loop using a `for` statement. We call the `while` statement an indefinite loop because it simply loops until some condition becomes False, whereas the `for` loop is looping through a known set of items so it runs through as many iterations as there are items in the set."
      ],
      "metadata": {
        "id": "vJr3O_l8hHYn"
      },
      "id": "vJr3O_l8hHYn"
    },
    {
      "cell_type": "markdown",
      "source": [
        "The syntax of a `for` loop is similar to the `while` loop in that there is a `for` statement and a loop body:"
      ],
      "metadata": {
        "id": "bhXxlov7hiYh"
      },
      "id": "bhXxlov7hiYh"
    },
    {
      "cell_type": "code",
      "source": [
        "friends = ['Joseph', 'Glenn', 'Sally']\n",
        "for friend in friends:\n",
        "    print('Happy New Year:', friend)\n",
        "print('Done!')"
      ],
      "metadata": {
        "id": "KLdo4InHhoPd"
      },
      "execution_count": null,
      "outputs": [],
      "id": "KLdo4InHhoPd"
    },
    {
      "cell_type": "markdown",
      "source": [
        "In Python terms, the variable `friends` is a list (We will examine lists in more detail in a later chapter) of three strings. The `for` loop goes through the list and executes the body once for each of the three strings in the list resulting in this output:  \n",
        "  \n",
        "```\n",
        "Happy New Year: Joseph\n",
        "Happy New Year: Glenn\n",
        "Happy New Year: Sally\n",
        "Done!\n",
        "```\n",
        "  \n",
        "Translating this for loop to English is not as direct as the while, but if you think of `friends` as a set, it goes like this: “Run the statements in the body of the `for` loop once for each friend in the set named `friends`.”\n",
        "\n",
        "Looking at the `for` loop, `for` and `in` are reserved Python keywords, and `friend` and `friends` are variables.  \n",
        "  \n",
        "In particular, `friend` is the iteration variable for the `for` loop. The variable `friend` changes for each iteration of the loop and controls when the `for` loop completes. The iteration variable steps successively through the three strings stored in the `friends` (list) variable."
      ],
      "metadata": {
        "id": "rsFC0rmfhsZG"
      },
      "id": "rsFC0rmfhsZG"
    },
    {
      "cell_type": "markdown",
      "source": [
        "\n",
        "\n",
        "---\n",
        "\n"
      ],
      "metadata": {
        "id": "cUoO3LvPlsuG"
      },
      "id": "cUoO3LvPlsuG"
    },
    {
      "cell_type": "markdown",
      "id": "59eadde5",
      "metadata": {
        "id": "59eadde5"
      },
      "source": [
        "## Dictionaries - Creating dictionaries\n",
        "\n",
        "**Concept:** Review how to use creating dictionaries in the context of dictionaries."
      ]
    },
    {
      "cell_type": "code",
      "execution_count": null,
      "id": "abe7d66b",
      "metadata": {
        "execution": {
          "iopub.execute_input": "2025-03-24T18:35:10.991532Z",
          "iopub.status.busy": "2025-03-24T18:35:10.990959Z",
          "iopub.status.idle": "2025-03-24T18:35:10.995100Z",
          "shell.execute_reply": "2025-03-24T18:35:10.994523Z"
        },
        "id": "abe7d66b"
      },
      "outputs": [],
      "source": [
        "employee = {\n",
        "    \"name\": \"Alice\",\n",
        "    \"age\": 30,\n",
        "    \"role\": \"Engineer\"\n",
        "}"
      ]
    },
    {
      "cell_type": "code",
      "source": [
        "student = dict(name=\"Bob\", age=22, major=\"Computer Science\")"
      ],
      "metadata": {
        "id": "7tdPEISdv_OR"
      },
      "id": "7tdPEISdv_OR",
      "execution_count": null,
      "outputs": []
    },
    {
      "cell_type": "code",
      "source": [
        "data = {}  # Create an empty dictionary\n",
        "data[\"city\"] = \"New York\"\n",
        "data[\"population\"] = 8_500_000  # Using underscores for readability\n",
        "data[\"country\"] = \"USA\""
      ],
      "metadata": {
        "id": "wuxtgmjEwYAJ"
      },
      "id": "wuxtgmjEwYAJ",
      "execution_count": null,
      "outputs": []
    },
    {
      "cell_type": "markdown",
      "id": "5cb50ec4",
      "metadata": {
        "id": "5cb50ec4"
      },
      "source": [
        "## Dictionaries - Accessing/modifying items\n",
        "\n",
        "**Concept:** Review how to use accessing/modifying items in the context of dictionaries."
      ]
    },
    {
      "cell_type": "markdown",
      "source": [
        "Using the key to access a value:"
      ],
      "metadata": {
        "id": "YAP_JUiWx_uJ"
      },
      "id": "YAP_JUiWx_uJ"
    },
    {
      "cell_type": "code",
      "execution_count": null,
      "id": "07cae671",
      "metadata": {
        "execution": {
          "iopub.execute_input": "2025-03-24T18:35:10.983161Z",
          "iopub.status.busy": "2025-03-24T18:35:10.982742Z",
          "iopub.status.idle": "2025-03-24T18:35:10.987117Z",
          "shell.execute_reply": "2025-03-24T18:35:10.986357Z"
        },
        "id": "07cae671"
      },
      "outputs": [],
      "source": [
        "employee = {\"name\": \"Alice\", \"age\": 30, \"role\": \"Engineer\"}\n",
        "name = employee[\"name\"]\n",
        "print(name)  # Output: Alice"
      ]
    },
    {
      "cell_type": "markdown",
      "source": [
        "Using the get() method:"
      ],
      "metadata": {
        "id": "mnXXtKk_yD5L"
      },
      "id": "mnXXtKk_yD5L"
    },
    {
      "cell_type": "code",
      "source": [
        "employee = {\"name\": \"Alice\", \"age\": 30, \"role\": \"Engineer\"}\n",
        "age = employee.get(\"age\")\n",
        "print(age)  # Output: 30\n",
        "\n",
        "department = employee.get(\"department\", \"Unknown\")\n",
        "print(department)  # Output: Unknown"
      ],
      "metadata": {
        "id": "5NpVW-UjxSNp"
      },
      "id": "5NpVW-UjxSNp",
      "execution_count": null,
      "outputs": []
    },
    {
      "cell_type": "markdown",
      "source": [
        "Adding a new key-value pair:"
      ],
      "metadata": {
        "id": "3bR7I2bJyJAI"
      },
      "id": "3bR7I2bJyJAI"
    },
    {
      "cell_type": "code",
      "source": [
        "employee = {\"name\": \"Alice\", \"age\": 30}\n",
        "employee[\"role\"] = \"Engineer\"\n",
        "print(employee)  # Output: {'name': 'Alice', 'age': 30, 'role': 'Engineer'}"
      ],
      "metadata": {
        "id": "LrHOgW56x1BX"
      },
      "id": "LrHOgW56x1BX",
      "execution_count": null,
      "outputs": []
    },
    {
      "cell_type": "markdown",
      "source": [
        "Updating an existing value:"
      ],
      "metadata": {
        "id": "GKlbmQGqyMIm"
      },
      "id": "GKlbmQGqyMIm"
    },
    {
      "cell_type": "code",
      "source": [
        "employee = {\"name\": \"Alice\", \"age\": 30}\n",
        "employee[\"age\"] = 31\n",
        "print(employee)  # Output: {'name': 'Alice', 'age': 31}"
      ],
      "metadata": {
        "id": "2Us6FF0Sx3hg"
      },
      "id": "2Us6FF0Sx3hg",
      "execution_count": null,
      "outputs": []
    },
    {
      "cell_type": "markdown",
      "source": [
        "Deleting a key-value pair:"
      ],
      "metadata": {
        "id": "sIDnD1fuyOvB"
      },
      "id": "sIDnD1fuyOvB"
    },
    {
      "cell_type": "code",
      "source": [
        "employee = {\"name\": \"Alice\", \"age\": 30, \"role\": \"Engineer\"}\n",
        "del employee[\"age\"]\n",
        "print(employee)  # Output: {'name': 'Alice', 'role': 'Engineer'}"
      ],
      "metadata": {
        "id": "Ymks6ccSx5vv"
      },
      "id": "Ymks6ccSx5vv",
      "execution_count": null,
      "outputs": []
    },
    {
      "cell_type": "markdown",
      "source": [
        "Using the update() method to add or update multiple items:"
      ],
      "metadata": {
        "id": "EeYyFXJayRQE"
      },
      "id": "EeYyFXJayRQE"
    },
    {
      "cell_type": "code",
      "source": [
        "employee = {\"name\": \"Alice\", \"age\": 30}\n",
        "employee.update({\"role\": \"Engineer\", \"department\": \"Development\"})\n",
        "print(employee)\n",
        "# Output: {'name': 'Alice', 'age': 30, 'role': 'Engineer', 'department': 'Development'}"
      ],
      "metadata": {
        "id": "CE5D6WjYx8QG"
      },
      "id": "CE5D6WjYx8QG",
      "execution_count": null,
      "outputs": []
    },
    {
      "cell_type": "markdown",
      "source": [
        "\n",
        "\n",
        "---\n",
        "\n"
      ],
      "metadata": {
        "id": "u2s9LuRnrajM"
      },
      "id": "u2s9LuRnrajM"
    },
    {
      "cell_type": "markdown",
      "source": [
        "## Statements - Import\n",
        "\n",
        "**Concept:** Review how to use libraries"
      ],
      "metadata": {
        "id": "M5BDQ4nMyZwm"
      },
      "id": "M5BDQ4nMyZwm"
    },
    {
      "cell_type": "markdown",
      "source": [
        "Importing the entire math library:"
      ],
      "metadata": {
        "id": "a7UT-NacyhSM"
      },
      "id": "a7UT-NacyhSM"
    },
    {
      "cell_type": "code",
      "source": [
        "import math\n",
        "result = math.sqrt(25)\n",
        "print(result)"
      ],
      "metadata": {
        "id": "H04BhTFWywCa"
      },
      "id": "H04BhTFWywCa",
      "execution_count": null,
      "outputs": []
    },
    {
      "cell_type": "markdown",
      "source": [
        "This imports all functions and constants defined in the math library. You can then access them using the `math.` prefix."
      ],
      "metadata": {
        "id": "9COyGhLp0N_4"
      },
      "id": "9COyGhLp0N_4"
    },
    {
      "cell_type": "markdown",
      "source": [
        " Importing specific elements from the math library:"
      ],
      "metadata": {
        "id": "5yEEJGMuy3sx"
      },
      "id": "5yEEJGMuy3sx"
    },
    {
      "cell_type": "code",
      "source": [
        "from math import sqrt, pi\n",
        "result = sqrt(25)\n",
        "print(result)\n",
        "print(pi)"
      ],
      "metadata": {
        "id": "-WodXv4Qy4bR"
      },
      "id": "-WodXv4Qy4bR",
      "execution_count": null,
      "outputs": []
    },
    {
      "cell_type": "markdown",
      "source": [
        "This imports only the sqrt function and the pi constant from the math library. You can use them directly without the `math.` prefix."
      ],
      "metadata": {
        "id": "uBwsZEW_0HW4"
      },
      "id": "uBwsZEW_0HW4"
    },
    {
      "cell_type": "markdown",
      "source": [
        "Importing a library with an alias:"
      ],
      "metadata": {
        "id": "tpeeS-2szD0Y"
      },
      "id": "tpeeS-2szD0Y"
    },
    {
      "cell_type": "code",
      "source": [
        "import numpy as np\n",
        "array = np.array([1, 2, 3])\n",
        "print(array)"
      ],
      "metadata": {
        "id": "PBIvzUJCzEm9"
      },
      "id": "PBIvzUJCzEm9",
      "execution_count": null,
      "outputs": []
    },
    {
      "cell_type": "markdown",
      "source": [
        "This imports the numpy library and assigns it the alias np. This is a common convention for numpy and makes it shorter to use in your code."
      ],
      "metadata": {
        "id": "AzuPGuIF0CDg"
      },
      "id": "AzuPGuIF0CDg"
    },
    {
      "cell_type": "markdown",
      "source": [
        "Importing a module from a package:"
      ],
      "metadata": {
        "id": "vA1eHtIvzNu_"
      },
      "id": "vA1eHtIvzNu_"
    },
    {
      "cell_type": "code",
      "source": [
        "from os import path"
      ],
      "metadata": {
        "id": "PEe-eaYWzOd1"
      },
      "id": "PEe-eaYWzOd1",
      "execution_count": null,
      "outputs": []
    },
    {
      "cell_type": "code",
      "source": [
        "print(path.exists(\"data.txt\"))"
      ],
      "metadata": {
        "id": "RwBzW781zRCA"
      },
      "id": "RwBzW781zRCA",
      "execution_count": null,
      "outputs": []
    },
    {
      "cell_type": "markdown",
      "source": [
        "This imports the path module from the os package. This allows you to use functions and classes defined in the path module, such as `path.exists()` to check if a file exists."
      ],
      "metadata": {
        "id": "aHXunar9zz3M"
      },
      "id": "aHXunar9zz3M"
    },
    {
      "cell_type": "markdown",
      "source": [
        "Importing all elements from a module:"
      ],
      "metadata": {
        "id": "Yl3LiZlVzraD"
      },
      "id": "Yl3LiZlVzraD"
    },
    {
      "cell_type": "code",
      "source": [
        "from collections import *"
      ],
      "metadata": {
        "id": "Qealo1SiztRB"
      },
      "id": "Qealo1SiztRB",
      "execution_count": null,
      "outputs": []
    },
    {
      "cell_type": "markdown",
      "source": [
        "This imports all elements (functions, classes, variables) from the collections module. However, this is generally discouraged as it can lead to naming conflicts and make your code harder to read."
      ],
      "metadata": {
        "id": "DN-MeDRhzvmZ"
      },
      "id": "DN-MeDRhzvmZ"
    },
    {
      "cell_type": "markdown",
      "source": [
        "\n",
        "\n",
        "---\n",
        "\n"
      ],
      "metadata": {
        "id": "iVZ1WO5c0Zz6"
      },
      "id": "iVZ1WO5c0Zz6"
    }
  ],
  "metadata": {
    "language_info": {
      "name": "python"
    },
    "colab": {
      "provenance": [],
      "include_colab_link": true
    },
    "kernelspec": {
      "name": "python3",
      "display_name": "Python 3"
    }
  },
  "nbformat": 4,
  "nbformat_minor": 5
}