{
  "nbformat": 4,
  "nbformat_minor": 0,
  "metadata": {
    "colab": {
      "provenance": [],
      "collapsed_sections": [
        "vfFwS1rOmFyz",
        "WU7ZAhbsmWRe",
        "1nyS_WmxmscV",
        "xXlV6RLMm0ey",
        "tAg6J8LKm_ND",
        "XlFEnStZnJF_",
        "eBkBIdC4nTvr",
        "UqGWBniAnrfW",
        "1WqFU55OoNKo",
        "Sr4c64Lqo83f",
        "WBS7c-Bepc-R",
        "9cZ2cyuDqNNw",
        "IKoWGwYOqXI6",
        "eoztcO_UqYhp"
      ],
      "include_colab_link": true
    },
    "kernelspec": {
      "name": "python3",
      "display_name": "Python 3"
    },
    "language_info": {
      "name": "python"
    }
  },
  "cells": [
    {
      "cell_type": "markdown",
      "metadata": {
        "id": "view-in-github",
        "colab_type": "text"
      },
      "source": [
        "<a href=\"https://colab.research.google.com/github/ProfessorPatrickSlatraigh/CST2312_H11/blob/main/CST2312_H11_Spr2025_Class_10_04_Mar_2025.ipynb\" target=\"_parent\"><img src=\"https://colab.research.google.com/assets/colab-badge.svg\" alt=\"Open In Colab\"/></a>"
      ]
    },
    {
      "cell_type": "markdown",
      "metadata": {
        "id": "fZ5nHFyywfGy"
      },
      "source": [
        "# **CST2312 - Class #10**    \n",
        "    \n",
        "Covering Python for Everybody, Lesson 9 on **dictionaries**  and Lesson 10 on **tuples** using Google Colab by Professor Patrick, created 27-Sep-2021 | updated: 24-Feb-2023, 25-Feb-2025.     \n",
        "\n",
        "This notebook begins with a section on:     \n",
        "    \n",
        "  - **Review of Dictionaries**      \n",
        "\n",
        "Followed by a section on:    \n",
        "    \n",
        "  - **More About Dictionaries**   \n",
        "    - Practice reading historical financial data from Yahoo Finance\n",
        "    - Build a dictionary of financial data for a period of time\n",
        "    - Transform and analyze the financial data in the dictionary  \n",
        "    \n",
        "\n"
      ]
    },
    {
      "cell_type": "markdown",
      "source": [
        "The source `CSV` file for the sample exercise in the **More About Dictionaries** section of this notebook can be downloaded at this link:  \n",
        "- https://bit.ly/aapl_stockdata_03-Mar-2025   \n",
        "  \n",
        "That `CSV` file contains one year of daily data regarding the **AAPL** stock (Apple Inc.) from Yahoo Finance.  \n"
      ],
      "metadata": {
        "id": "1GIISOS5Krur"
      }
    },
    {
      "cell_type": "markdown",
      "source": [
        "\n",
        "\n",
        "---\n",
        "\n"
      ],
      "metadata": {
        "id": "HJ4TukBkC58t"
      }
    },
    {
      "cell_type": "markdown",
      "source": [
        "## Housekeeping    \n",
        "\n",
        "Imports and other initiatlization statements    "
      ],
      "metadata": {
        "id": "7v4_RC4PSHAb"
      }
    },
    {
      "cell_type": "code",
      "source": [
        "import numpy as np\n",
        "import math\n",
        "import statistics"
      ],
      "metadata": {
        "id": "wRiyME8SSOUn"
      },
      "execution_count": null,
      "outputs": []
    },
    {
      "cell_type": "code",
      "source": [
        "# for work with stock and investment assets\n",
        "import yfinance as yf"
      ],
      "metadata": {
        "id": "KD5LfKm3F1NY"
      },
      "execution_count": null,
      "outputs": []
    },
    {
      "cell_type": "markdown",
      "source": [
        "\n",
        "\n",
        "---\n",
        "\n"
      ],
      "metadata": {
        "id": "05McIdurM4iw"
      }
    },
    {
      "cell_type": "markdown",
      "source": [
        "# Review of Dictionaries  "
      ],
      "metadata": {
        "id": "jDeJ9KuIDoc3"
      }
    },
    {
      "cell_type": "markdown",
      "source": [
        "## Dictionary as a Value in a Dictionary  \n",
        "*example*  \n"
      ],
      "metadata": {
        "id": "Tvl8SJa-_uVp"
      }
    },
    {
      "cell_type": "markdown",
      "source": [
        "### Creating lists (akin to columns?) of raw data."
      ],
      "metadata": {
        "id": "LZUZtRTF5ZgQ"
      }
    },
    {
      "cell_type": "code",
      "source": [
        "st_abbr_lst = [\"AL\",\n",
        "\"AK\",\n",
        "\"AZ\",\n",
        "\"AR\",\n",
        "\"CA\",\n",
        "\"CO\",\n",
        "\"CT\",\n",
        "\"DE\",\n",
        "\"FL\",\n",
        "\"GA\",\n",
        "\"HI\",\n",
        "\"ID\",\n",
        "\"IL\",\n",
        "\"IN\",\n",
        "\"IA\",\n",
        "\"KS\",\n",
        "\"KY\",\n",
        "\"LA\",\n",
        "\"ME\",\n",
        "\"MD\",\n",
        "\"MA\",\n",
        "\"MI\",\n",
        "\"MN\",\n",
        "\"MS\",\n",
        "\"MO\",\n",
        "\"MT\",\n",
        "\"NE\",\n",
        "\"NV\",\n",
        "\"NH\",\n",
        "\"NJ\",\n",
        "\"NM\",\n",
        "\"NY\",\n",
        "\"NC\",\n",
        "\"ND\",\n",
        "\"OH\",\n",
        "\"OK\",\n",
        "\"OR\",\n",
        "\"PA\",\n",
        "\"RI\",\n",
        "\"SC\",\n",
        "\"SD\",\n",
        "\"TN\",\n",
        "\"TX\",\n",
        "\"UT\",\n",
        "\"VT\",\n",
        "\"VA\",\n",
        "\"WA\",\n",
        "\"WV\",\n",
        "\"WI\",\n",
        "\"WY\"\n",
        "]"
      ],
      "metadata": {
        "id": "9TjT_efC2jtC"
      },
      "execution_count": null,
      "outputs": []
    },
    {
      "cell_type": "code",
      "source": [
        "st_abbr_lst"
      ],
      "metadata": {
        "id": "7I3_8o9W_2jj"
      },
      "execution_count": null,
      "outputs": []
    },
    {
      "cell_type": "code",
      "source": [
        "st_capital_lst = [\n",
        "    \"Montgomery\",\n",
        "    \"Juneau\",\n",
        "    \"Phoenix\",\n",
        "    \"Little Rock\",\n",
        "    \"Sacramento\",\n",
        "    \"Denver\",\n",
        "    \"Hartford\",\n",
        "    \"Dover\",\n",
        "    \"Tallahassee\",\n",
        "    \"Atlanta\",\n",
        "    \"Honolulu\",\n",
        "    \"Boise\",\n",
        "    \"Springfield\",\n",
        "    \"Indianapolis\",\n",
        "    \"Des Moines\",\n",
        "    \"Topeka\",\n",
        "    \"Frankfort\",\n",
        "    \"Baton Rouge\",\n",
        "    \"Augusta\",\n",
        "    \"Annapolis\",\n",
        "    \"Boston\",\n",
        "    \"Lansing\",\n",
        "    \"St. Paul\",\n",
        "    \"Jackson\",\n",
        "    \"Jefferson City\",\n",
        "    \"Helena\",\n",
        "    \"Lincoln\",\n",
        "    \"Carson City\",\n",
        "    \"Concord\",\n",
        "    \"Trenton\",\n",
        "    \"Santa Fe\",\n",
        "    \"Albany\",\n",
        "    \"Raleigh\",\n",
        "    \"Bismarck\",\n",
        "    \"Columbus\",\n",
        "    \"Oklahoma City\",\n",
        "    \"Salem\",\n",
        "    \"Harrisburg\",\n",
        "    \"Providence\",\n",
        "    \"Columbia\",\n",
        "    \"Pierre\",\n",
        "    \"Nashville\",\n",
        "    \"Austin\",\n",
        "    \"Salt Lake City\",\n",
        "    \"Montpelier\",\n",
        "    \"Richmond\",\n",
        "    \"Olympia\",\n",
        "    \"Charleston\",\n",
        "    \"Madison\",\n",
        "    \"Cheyenne\"\n",
        "]"
      ],
      "metadata": {
        "id": "FOR6MRf6_zKs"
      },
      "execution_count": null,
      "outputs": []
    },
    {
      "cell_type": "code",
      "source": [
        "st_capital_lst"
      ],
      "metadata": {
        "id": "yAXeqYMIzvxR"
      },
      "execution_count": null,
      "outputs": []
    },
    {
      "cell_type": "code",
      "source": [
        "st_name_lst = [\"Alabama\",\n",
        "\"Alaska\",\n",
        "\"Arizona\",\n",
        "\"Arkansas\",\n",
        "\"California\",\n",
        "\"Colorado\",\n",
        "\"Connecticut\",\n",
        "\"Delaware\",\n",
        "\"Florida\",\n",
        "\"Georgia\",\n",
        "\"Hawaii\",\n",
        "\"Idaho\",\n",
        "\"Illinois\",\n",
        "\"Indiana\",\n",
        "\"Iowa\",\n",
        "\"Kansas\",\n",
        "\"Kentucky\",\n",
        "\"Louisiana\",\n",
        "\"Maine\",\n",
        "\"Maryland\",\n",
        "\"Massachusetts\",\n",
        "\"Michigan\",\n",
        "\"Minnesota\",\n",
        "\"Mississippi\",\n",
        "\"Missouri\",\n",
        "\"Montana\",\n",
        "\"Nebraska\",\n",
        "\"Nevada\",\n",
        "\"New Hampshire\",\n",
        "\"New Jersey\",\n",
        "\"New Mexico\",\n",
        "\"New York\",\n",
        "\"North Carolina\",\n",
        "\"North Dakota\",\n",
        "\"Ohio\",\n",
        "\"Oklahoma\",\n",
        "\"Oregon\",\n",
        "\"Pennsylvania\",\n",
        "\"Rhode Island\",\n",
        "\"South Carolina\",\n",
        "\"South Dakota\",\n",
        "\"Tennessee\",\n",
        "\"Texas\",\n",
        "\"Utah\",\n",
        "\"Vermont\",\n",
        "\"Virginia\",\n",
        "\"Washington\",\n",
        "\"West Virginia\",\n",
        "\"Wisconsin\",\n",
        "\"Wyoming\"\n",
        "]"
      ],
      "metadata": {
        "id": "PeXvZwwFzoER"
      },
      "execution_count": null,
      "outputs": []
    },
    {
      "cell_type": "code",
      "source": [
        "st_name_lst"
      ],
      "metadata": {
        "id": "CjBnQ8A_AZXV"
      },
      "execution_count": null,
      "outputs": []
    },
    {
      "cell_type": "markdown",
      "source": [
        "### Creating a Dictionary of Tuples"
      ],
      "metadata": {
        "id": "GnGigSKO5l2_"
      }
    },
    {
      "cell_type": "markdown",
      "source": [
        "Using `zip` to construct a collection of tuples with state name followed by stat capital city and passing the result to the `list` function to create a list of the tuple pairs."
      ],
      "metadata": {
        "id": "MglfA81H4Cvg"
      }
    },
    {
      "cell_type": "code",
      "source": [
        "# Zip the state names and capitals together as tuples\n",
        "state_info = list(zip(st_name_lst, st_capital_lst))"
      ],
      "metadata": {
        "id": "D_ndvGTF4ZTo"
      },
      "execution_count": null,
      "outputs": []
    },
    {
      "cell_type": "code",
      "source": [
        "# Scaffolding to view the `state_info` list\n",
        "print(state_info)"
      ],
      "metadata": {
        "id": "RUOyBQu65Au2"
      },
      "execution_count": null,
      "outputs": []
    },
    {
      "cell_type": "markdown",
      "source": [
        "Using `zip` to construct a collection of string/tuple pairs where the string is the state abbreviation and the tuple has two members: state name, state capital.  Then passing the result to the `dict` function to create a dictionary with state abbreviation as keys and values that are a two-element tuple of state names and state capital."
      ],
      "metadata": {
        "id": "MB3sMdPR4bdh"
      }
    },
    {
      "cell_type": "code",
      "source": [
        "# Create a dictionary with state abbreviations as keys and tuples as values\n",
        "state_dict = dict(zip(st_abbr_lst, state_info))"
      ],
      "metadata": {
        "id": "y81hW0hT2xyu"
      },
      "execution_count": null,
      "outputs": []
    },
    {
      "cell_type": "code",
      "source": [
        "# Scaffolding to view the `state_dict` dictionary\n",
        "print(state_dict)"
      ],
      "metadata": {
        "id": "Xdizz5BL4-q2"
      },
      "execution_count": null,
      "outputs": []
    },
    {
      "cell_type": "markdown",
      "source": [
        "Using functions to lookup a state name or state capital using the state's abbreviation:"
      ],
      "metadata": {
        "id": "s6fbud3I3pT4"
      }
    },
    {
      "cell_type": "code",
      "source": [
        "# Function to get state name using abbreviation\n",
        "def get_state_name(abbr):\n",
        "    return state_dict.get(abbr, \"Abbreviation not found\")[0]  # Returns only the state name\n",
        "\n",
        "# Example usage\n",
        "state_abbr = \"TX\"\n",
        "state_name = get_state_name(state_abbr)\n",
        "print(f\"The state name for {state_abbr} is {state_name}.\")"
      ],
      "metadata": {
        "id": "TVnhgtjs3xOM"
      },
      "execution_count": null,
      "outputs": []
    },
    {
      "cell_type": "code",
      "source": [
        "# Function to get state capital using abbreviation\n",
        "def get_state_capital(abbr):\n",
        "    return state_dict.get(abbr, (\"Abbreviation not found\", \"Capital not found\"))[1]  # Returns only the capital\n",
        "\n",
        "# Example usage\n",
        "state_abbr = \"TX\"\n",
        "state_capital = get_state_capital(state_abbr)\n",
        "print(f\"The capital of {state_abbr} is {state_capital}.\")"
      ],
      "metadata": {
        "id": "FR0469pr38qx"
      },
      "execution_count": null,
      "outputs": []
    },
    {
      "cell_type": "markdown",
      "source": [
        "\n",
        "\n",
        "---\n",
        "\n"
      ],
      "metadata": {
        "id": "dr_OwDGI7E_J"
      }
    },
    {
      "cell_type": "markdown",
      "source": [
        "### Creating a Dictionary of Dictionaries"
      ],
      "metadata": {
        "id": "KvdubQvL5t_1"
      }
    },
    {
      "cell_type": "markdown",
      "source": [
        "Using `zip` to construct a collection of dictionaries with **Name** as the key for the state name and **Capital** as the key for state capital city and using that collection to create a dictionary where the state abbreviation is the key and the subordinate dictionary for that state is the value."
      ],
      "metadata": {
        "id": "NZbXMeM950MD"
      }
    },
    {
      "cell_type": "code",
      "source": [
        "# Create a dictionary where the abbreviation is the key, and the value is another dictionary\n",
        "state_dict = {\n",
        "    abbr: {\"Name\": name, \"Capital\": capital}\n",
        "    for abbr, name, capital in zip(st_abbr_lst, st_name_lst, st_capital_lst)\n",
        "}"
      ],
      "metadata": {
        "id": "USDdRUER6Xrm"
      },
      "execution_count": null,
      "outputs": []
    },
    {
      "cell_type": "markdown",
      "source": [
        "Looking up state names or capitals using the state abbreviation"
      ],
      "metadata": {
        "id": "K-VaR7c-6aBy"
      }
    },
    {
      "cell_type": "code",
      "source": [
        "state_abbr = \"TX\""
      ],
      "metadata": {
        "id": "fqOJ_PVk7med"
      },
      "execution_count": null,
      "outputs": []
    },
    {
      "cell_type": "code",
      "source": [
        "print(f'The state name for {state_abbr} is {state_dict[state_abbr][\"Name\"]}.')  # Output: state name (watch quote types!)\n",
        "print(f'The capital of {state_abbr} is {state_dict[state_abbr][\"Capital\"]}.')   # Output: capital city (watch quote types!)"
      ],
      "metadata": {
        "id": "lUZ2j4Q57gIP"
      },
      "execution_count": null,
      "outputs": []
    },
    {
      "cell_type": "markdown",
      "source": [
        "\n",
        "\n",
        "---\n",
        "\n"
      ],
      "metadata": {
        "id": "QrCUlhkO6acX"
      }
    },
    {
      "cell_type": "markdown",
      "source": [
        "# More About Dictionaries  \n",
        "  \n",
        "  "
      ],
      "metadata": {
        "id": "3fV4MVM_DfpH"
      }
    },
    {
      "cell_type": "markdown",
      "source": [
        "## APPL Example: Create a Dictionary of Stock Data  "
      ],
      "metadata": {
        "id": "hwt_HeSkLN4n"
      }
    },
    {
      "cell_type": "markdown",
      "source": [
        "###0. Housekeeping for Example\n"
      ],
      "metadata": {
        "id": "LTZ79Z4BbaRH"
      }
    },
    {
      "cell_type": "code",
      "source": [
        "# to access asset data from Yahoo Finance\n",
        "import yfinance as yf\n",
        "\n",
        "# to work with CSV files\n",
        "import csv\n",
        "\n",
        "# to perform statistical analysis\n",
        "import statistics"
      ],
      "metadata": {
        "id": "L1dKdmAMbdX3"
      },
      "execution_count": null,
      "outputs": []
    },
    {
      "cell_type": "markdown",
      "source": [
        "### 1. Download daily stock data from Yahoo Finance"
      ],
      "metadata": {
        "id": "q__wuc5-LUZ7"
      }
    },
    {
      "cell_type": "markdown",
      "source": [
        "Let's begin by accessing some data from Yahoo Finance.  We will use Apple (APPL) stock for an illustrative example.  You can view other stock and investment assets on [Yahoo Finance](https://finance.yahoo.com)  \n",
        "  \n",
        "\n"
      ],
      "metadata": {
        "id": "OBlbSbUnEQ7-"
      }
    },
    {
      "cell_type": "code",
      "source": [
        "# Define the stock and date range\n",
        "ticker = \"AAPL\"\n",
        "stock = yf.Ticker(ticker)\n",
        "\n",
        "# Fetch historical data\n",
        "data = stock.history(period=\"1y\")  # Change to \"5y\", \"max\" for longer data\n",
        "\n",
        "# Save to CSV\n",
        "data.to_csv(f\"{ticker}_historical_data.csv\")\n",
        "\n",
        "print(\"CSV file downloaded successfully.\")\n"
      ],
      "metadata": {
        "id": "RZJ6TZCfERb1"
      },
      "execution_count": null,
      "outputs": []
    },
    {
      "cell_type": "markdown",
      "source": [
        "###2. Open the CSV File and Read Headers  \n",
        "  "
      ],
      "metadata": {
        "id": "RzbGI0YpcDN3"
      }
    },
    {
      "cell_type": "code",
      "source": [
        "# Path to the local CSV file\n",
        "file_path = \"/content/AAPL_history1year_03-Mar-2025.csv\""
      ],
      "metadata": {
        "id": "Q_vxel9OcavU"
      },
      "execution_count": null,
      "outputs": []
    },
    {
      "cell_type": "code",
      "source": [
        "# Open and read the CSV file\n",
        "with open(file_path, mode=\"r\", newline=\"\", encoding=\"utf-8\") as file:\n",
        "    csv_reader = csv.reader(file)\n",
        "\n",
        "    # Extract header (column names)\n",
        "    headers = next(csv_reader)"
      ],
      "metadata": {
        "id": "E6fP1lbdcHfu"
      },
      "execution_count": null,
      "outputs": []
    },
    {
      "cell_type": "code",
      "source": [
        "# Print the column names from the header row"
      ],
      "metadata": {
        "id": "SC5m4ClpcoKY"
      },
      "execution_count": null,
      "outputs": []
    },
    {
      "cell_type": "code",
      "source": [
        "print(f'The column headings read are: {headers}.')"
      ],
      "metadata": {
        "id": "2TYuLeL_c0EG"
      },
      "execution_count": null,
      "outputs": []
    },
    {
      "cell_type": "markdown",
      "source": [
        "###3. Create a Dictionary for Column Data  \n",
        "  \n",
        "<i>note: the column headings from the CSV file will be the column names.  Each column name will be a key in the dictionary of column data.</i>  \n",
        "  \n",
        "The design of the column data dictionary is:\n",
        "- an `item` for each column\n",
        "- the column name as the `key` in each `item`\n",
        "- a list of values read from the CSV file as the `value` in each item\n",
        "  \n",
        "  "
      ],
      "metadata": {
        "id": "f_FggPFVdR4m"
      }
    },
    {
      "cell_type": "code",
      "source": [
        "# Initialize a dictionary to store column lists with an empty list to start each value\n",
        "column_data = {header: [] for header in headers}"
      ],
      "metadata": {
        "id": "VLlcvXtYeGZI"
      },
      "execution_count": null,
      "outputs": []
    },
    {
      "cell_type": "code",
      "source": [
        "print(f'The column data dictionary is: {column_data}.')"
      ],
      "metadata": {
        "id": "Es7DJ-sNeK9Z"
      },
      "execution_count": null,
      "outputs": []
    },
    {
      "cell_type": "markdown",
      "source": [
        "### 4. Read the Stock Data into Lists by `column`  \n",
        "  \n"
      ],
      "metadata": {
        "id": "h9M0aVYULcle"
      }
    },
    {
      "cell_type": "code",
      "source": [
        "with open(file_path, mode=\"r\", newline=\"\", encoding=\"utf-8\") as file:\n",
        "    csv_reader = csv.reader(file)\n",
        "    next(csv_reader)  # Skip the header row\n",
        "    # Populate lists for each column\n",
        "    for row in csv_reader:\n",
        "        for i, value in enumerate(row):\n",
        "            column_data[headers[i]].append(value)"
      ],
      "metadata": {
        "id": "mZFQnfOZb-Z4"
      },
      "execution_count": null,
      "outputs": []
    },
    {
      "cell_type": "code",
      "source": [
        "print(f'The column_data dictionary keys are: {column_data.keys()}.')"
      ],
      "metadata": {
        "id": "7_XdVO9tfXs1"
      },
      "execution_count": null,
      "outputs": []
    },
    {
      "cell_type": "code",
      "source": [
        "key_desired = input(\"Enter the key you want to access: \")\n",
        "print(f'The values for {key_desired} are: {column_data[key_desired]}.')"
      ],
      "metadata": {
        "id": "tmE4dZ0zfq2Z"
      },
      "execution_count": null,
      "outputs": []
    },
    {
      "cell_type": "markdown",
      "source": [
        "You can also reference the data in column by using the column name as a key on the dictionary."
      ],
      "metadata": {
        "id": "KqLC_nIBhCX2"
      }
    },
    {
      "cell_type": "code",
      "source": [
        "column_data['Date']"
      ],
      "metadata": {
        "id": "gh8r098Qg93v"
      },
      "execution_count": null,
      "outputs": []
    },
    {
      "cell_type": "markdown",
      "source": [
        "And you can refence a specific value for a column by using the dictionary key followed by an index value.\n"
      ],
      "metadata": {
        "id": "dBeuxUvQhO6-"
      }
    },
    {
      "cell_type": "code",
      "source": [
        "column_data['Date'][0]"
      ],
      "metadata": {
        "id": "sEJ9oT4lhd55"
      },
      "execution_count": null,
      "outputs": []
    },
    {
      "cell_type": "code",
      "source": [
        "# the `len()` function can help find the row index's upper bound (len-1) for a key (column)\n",
        "len(column_data['Date'])"
      ],
      "metadata": {
        "id": "FV96qdtBhoU6"
      },
      "execution_count": null,
      "outputs": []
    },
    {
      "cell_type": "code",
      "source": [
        "column_data['Date'][249]"
      ],
      "metadata": {
        "id": "2R_PrPQkhhwV"
      },
      "execution_count": null,
      "outputs": []
    },
    {
      "cell_type": "markdown",
      "source": [
        "###5. Transform the Column Data (Wrangling)  "
      ],
      "metadata": {
        "id": "06L-NY0Qf69G"
      }
    },
    {
      "cell_type": "code",
      "source": [
        "# Transform data types [str, int, float, bool, etc.] -- you can keep dates as strings\n"
      ],
      "metadata": {
        "id": "JrRHaWIXgTSt"
      },
      "execution_count": null,
      "outputs": []
    },
    {
      "cell_type": "code",
      "source": [
        "# Look for and treat missing data\n"
      ],
      "metadata": {
        "id": "XGsktEdMiYqJ"
      },
      "execution_count": null,
      "outputs": []
    },
    {
      "cell_type": "code",
      "source": [
        "# Look for and treat outliers\n"
      ],
      "metadata": {
        "id": "i24HyDETiiL9"
      },
      "execution_count": null,
      "outputs": []
    },
    {
      "cell_type": "code",
      "source": [
        "# Enrich the data with labels or other references"
      ],
      "metadata": {
        "id": "PeoVE31mitD-"
      },
      "execution_count": null,
      "outputs": []
    },
    {
      "cell_type": "code",
      "source": [
        "# Enrich data with ratios and other derived content\n"
      ],
      "metadata": {
        "id": "Pjoj2aTrin1O"
      },
      "execution_count": null,
      "outputs": []
    },
    {
      "cell_type": "markdown",
      "source": [
        "###6. Analyze the Data  \n",
        "  \n",
        "Perform some basic, descriptive statistical analysis\n",
        "- minimum value\n",
        "- mean value\n",
        "- maximum value\n",
        "- standard deviation"
      ],
      "metadata": {
        "id": "i8AL91uTjEfg"
      }
    },
    {
      "cell_type": "code",
      "source": [
        "# Convert Closing Price values to float\n",
        "closing_prices = list(map(float, column_data[\"Close\"]))\n",
        "\n",
        "# Calculate statistical values\n",
        "min_close = min(closing_prices)\n",
        "max_close = max(closing_prices)\n",
        "mean_close = statistics.mean(closing_prices)\n",
        "std_dev_close = statistics.stdev(closing_prices)\n",
        "\n",
        "# Print the results\n",
        "print(f\"Minimum Closing Price: {min_close:.4f}\")\n",
        "print(f\"Maximum Closing Price: {max_close:.4f}\")\n",
        "print(f\"Mean Closing Price: {mean_close:.4f}\")\n",
        "print(f\"Standard Deviation of Closing Price: {std_dev_close:.4f}\")"
      ],
      "metadata": {
        "id": "0R7-of33j6zV"
      },
      "execution_count": null,
      "outputs": []
    },
    {
      "cell_type": "markdown",
      "source": [
        "###7. Getting Fancy with Linear Trend Analysis\n",
        "  "
      ],
      "metadata": {
        "id": "Iqap4F9Dk6YG"
      }
    },
    {
      "cell_type": "markdown",
      "source": [
        "#### How This Works\n",
        "1. Converts Dates to Numeric Values:  \n",
        "  - Transforms historical dates into \"days since start\" to use as independent variables.  \n",
        "2. Fits a Linear Regression Model:  \n",
        "  - Uses days as the X values and Closing Prices as y.  \n",
        "3. Predicts Future Price:  \n",
        "  - Converts the future date to \"days since start\" and applies the model.  \n",
        "  \n",
        "  <i>Note that the following code expects the \"Date\" values to be in the format `YYYY-MM-DD` -- can you prepare that in your data wrangling?</i>\n",
        "   \n",
        "    \n",
        "\n",
        "<font color=red><b>Past performance of an investment is not an indicator of future results.  \n",
        "\n",
        "This example is an instructional exercise in technique and should not be relied upon for financial decisions.</b></font>"
      ],
      "metadata": {
        "id": "vkcSXQLXlckm"
      }
    },
    {
      "cell_type": "code",
      "source": [
        "from datetime import datetime\n",
        "import numpy as np\n",
        "from sklearn.linear_model import LinearRegression\n",
        "\n",
        "# Assuming 'column_data' dictionary is already created from the CSV file\n",
        "# Assuming \"Date\" column values are in the format 'YYYY-MM-DD`\n",
        "\n",
        "# Convert dates to numerical values (days since first date)\n",
        "dates = [datetime.strptime(date, \"%Y-%m-%d\") for date in column_data[\"Date\"]]\n",
        "base_date = min(dates)\n",
        "days_since_start = [(date - base_date).days for date in dates]\n",
        "\n",
        "# Convert Closing Price values to float\n",
        "closing_prices = list(map(float, column_data[\"Close\"]))\n",
        "\n",
        "# Reshape data for regression model\n",
        "X = np.array(days_since_start).reshape(-1, 1)  # Independent variable (days)\n",
        "y = np.array(closing_prices)  # Dependent variable (Closing Prices)\n",
        "\n",
        "# Train Linear Regression Model\n",
        "model = LinearRegression()\n",
        "model.fit(X, y)\n",
        "\n",
        "# Function to predict Closing Price for a future date\n",
        "def predict_closing_price(future_date_str):\n",
        "    future_date = datetime.strptime(future_date_str, \"%Y-%m-%d\")\n",
        "    days_future = (future_date - base_date).days  # Convert to days since start\n",
        "    predicted_price = model.predict(np.array([[days_future]]))[0]\n",
        "    return round(predicted_price, 4)\n",
        "\n",
        "# Example Usage\n",
        "future_date = \"2025-12-31\"  # Change to any future date\n",
        "predicted_price = predict_closing_price(future_date)\n",
        "print(f\"Estimated Closing Price on {future_date}: {predicted_price}\")\n"
      ],
      "metadata": {
        "id": "Rsq7XygNlAb8"
      },
      "execution_count": null,
      "outputs": []
    },
    {
      "cell_type": "markdown",
      "source": [
        "\n",
        "\n",
        "---\n",
        "\n"
      ],
      "metadata": {
        "id": "k9exn9Zvmpol"
      }
    },
    {
      "cell_type": "markdown",
      "source": [
        "## Exercise: Select and Analyze a Stock's Data from Yahoo  \n",
        "  \n",
        "You can look up company stock and other investment assets on [Yahoo Finance](https://finance.yahoo.com) to determine their **ticker symbol**."
      ],
      "metadata": {
        "id": "mJYp2nq9mqVx"
      }
    },
    {
      "cell_type": "markdown",
      "source": [
        "### 0. Housekeeping for Exercise"
      ],
      "metadata": {
        "id": "_5E6ro1dnCBa"
      }
    },
    {
      "cell_type": "code",
      "source": [
        "# to access asset data from Yahoo Finance\n",
        "import yfinance as yf\n",
        "\n",
        "# to work with CSV files\n",
        "import csv\n",
        "\n",
        "# to perform statistical analysis\n",
        "import statistics"
      ],
      "metadata": {
        "id": "b8jcWCTOnP_M"
      },
      "execution_count": null,
      "outputs": []
    },
    {
      "cell_type": "markdown",
      "source": [
        "### 1. Download daily stock data from Yahoo Finance"
      ],
      "metadata": {
        "id": "voDZISWfnQ3b"
      }
    },
    {
      "cell_type": "markdown",
      "source": [
        "Begin by accessing some data from Yahoo Finance.  Use any stock you like.  You can view stock and investment assets on [Yahoo Finance](https://finance.yahoo.com)  \n",
        "  "
      ],
      "metadata": {
        "id": "eslvgsKvnX9g"
      }
    },
    {
      "cell_type": "code",
      "source": [
        "# Define the stock and date range\n",
        "ticker = input(\"Enter a valid ticker symbol: \")\n",
        "stock = yf.Ticker(ticker)\n",
        "\n",
        "# Fetch historical data\n",
        "data = stock.history(period=\"1y\")  # Change to \"5y\", \"max\" for longer data\n",
        "\n",
        "# Save to CSV\n",
        "data.to_csv(f\"{ticker}_historical_data.csv\")\n",
        "\n",
        "print(\"CSV file downloaded successfully.\")"
      ],
      "metadata": {
        "id": "lFR-l2kinl3J"
      },
      "execution_count": null,
      "outputs": []
    },
    {
      "cell_type": "markdown",
      "source": [
        "###2 - 4: Open the File, Read the Headers, Process the Data\n",
        "\n",
        "Combine the logic of steps #2, #3, and #4 from the `AAPL` exercise above and write your code in the cell below.  In one pass, your code should open the file, read the header information and process it, and read the data in the remaining rows and process it.  "
      ],
      "metadata": {
        "id": "UOokD8FfnxLP"
      }
    },
    {
      "cell_type": "code",
      "source": [
        "# Your code here\n"
      ],
      "metadata": {
        "id": "WO3DRej3oTTs"
      },
      "execution_count": null,
      "outputs": []
    },
    {
      "cell_type": "markdown",
      "source": [
        "###5 - 6: Transform and Analyze the Data  \n",
        "  \n",
        "Create your own version of the types of processing suggested in steps #5 and #6 in the `APPL` example above.  Write a comprehensive set of code that transforms, enriches, and analyzes the data in your dictionary.  "
      ],
      "metadata": {
        "id": "Z9kLIDqToZYC"
      }
    },
    {
      "cell_type": "code",
      "source": [
        "# Your code here\n"
      ],
      "metadata": {
        "id": "82ZMKYzqoueg"
      },
      "execution_count": null,
      "outputs": []
    },
    {
      "cell_type": "markdown",
      "source": [
        "\n",
        "\n",
        "---\n",
        "\n"
      ],
      "metadata": {
        "id": "fhWDfn2kSasF"
      }
    },
    {
      "cell_type": "markdown",
      "source": [
        "# Appendix: **Dictionary** methods.\n",
        "\n"
      ],
      "metadata": {
        "id": "vfFwS1rOmFyz"
      }
    },
    {
      "cell_type": "markdown",
      "source": [
        "**Remember:**  \n",
        "  \n",
        "~~~    \n",
        ".keys()\n",
        "Return a new view of dictionary’s keys.\n",
        ".values()\n",
        "Return a new view of a dictionary’s values.\n",
        ".items()\n",
        "Return a new view of dictionary’s items (key,value)pairs.\n",
        "~~~"
      ],
      "metadata": {
        "id": "71FhtsyRD-lU"
      }
    },
    {
      "cell_type": "code",
      "source": [
        "#creating dictionary:\n",
        "\n",
        "d={'name':'karthi',\n",
        "   'age':7,\n",
        "   'city':'chennai',\n",
        "    }\n",
        "\n",
        "#print only keys\n",
        "print (d.keys())  #Output: dict_keys(['name', 'age', 'city'])\n",
        "\n",
        "#print (key,value) pair.\n",
        "print (d.items()) #Output: dict_items([('name', 'karthi'), ('age', 7), ('city', 'chennai')])\n",
        "\n",
        "#print only values\n",
        "print (d.values()) #Output: dict_values(['karthi', 7, 'chennai'])"
      ],
      "metadata": {
        "id": "TTsQQgAOmU4H"
      },
      "execution_count": null,
      "outputs": []
    },
    {
      "cell_type": "markdown",
      "source": [
        "#### Accessing the values from a dictionary\n",
        "We can access the values by using the get method and also by indexing. If the key doesn't exist in a dictionary, `get()` method returns `None` when no default argument is provided; otherwise, `get()` returns the default argument value.\n",
        "But when we use indexing, a missing key will raise `KeyError`.\n",
        "\n",
        "~~~\n",
        "get()\n",
        "get(key,default)\n",
        "~~~    \n",
        "\n",
        "Returns the value of that specified key. If the key doesn’t exist in a dictionary means returns None. If the default is specified, it will return the default value if the key doesn’t exist."
      ],
      "metadata": {
        "id": "WU7ZAhbsmWRe"
      }
    },
    {
      "cell_type": "code",
      "source": [
        "d={'name':'karthi',\n",
        "   'age':7,\n",
        "   'city':'chennai',\n",
        "    }\n",
        "\n",
        "#get(accessing using get method)\n",
        "print(d.get(\"name\")) # Output: karthi\n",
        "\n",
        "\n",
        "#If key doesn't exists in a dictionary means ,returns None\n",
        "print (d.get('rollno')) # Output: None\n",
        "\n",
        "\n",
        "#default is mentioned.\n",
        "print (d.get('rollno',\"Not Available\"))#Output: Not Available"
      ],
      "metadata": {
        "id": "vinSnK5bmk_B"
      },
      "execution_count": null,
      "outputs": []
    },
    {
      "cell_type": "code",
      "source": [
        "print(st_ab2name_dict.get('XX', \"There is no such state abbreviation\"))"
      ],
      "metadata": {
        "id": "3O6A2j__CefH"
      },
      "execution_count": null,
      "outputs": []
    },
    {
      "cell_type": "markdown",
      "source": [
        "#### Using indexing\n",
        "\n",
        "~~~\n",
        "d[key]\n",
        "~~~\n",
        "\n",
        "Returns the value of the key. If the key doesn’t exist in a dictionary means it will raise `KeyError`."
      ],
      "metadata": {
        "id": "1nyS_WmxmscV"
      }
    },
    {
      "cell_type": "code",
      "source": [
        "d={'name':'karthi',\n",
        "   'age':7,\n",
        "   'city':'chennai',\n",
        "    }\n",
        "\n",
        "#accessing using index\n",
        "print (d['name']) #Output: karthi\n"
      ],
      "metadata": {
        "id": "AfCR20nVmxd3"
      },
      "execution_count": null,
      "outputs": []
    },
    {
      "cell_type": "code",
      "source": [
        "# If key doesn't exists in a dictionary means and if we use index, then it will raise KeyError\n",
        "print (d['rollno']) # Output: KeyError: 'rollno'"
      ],
      "metadata": {
        "id": "XcOg5whhwtiC"
      },
      "execution_count": null,
      "outputs": []
    },
    {
      "cell_type": "markdown",
      "source": [
        "\n",
        "---\n"
      ],
      "metadata": {
        "id": "pJ2GzbG6wz6q"
      }
    },
    {
      "cell_type": "markdown",
      "source": [
        "#### Assigning /Updating values\n",
        "~~~\n",
        "d[key]=value\n",
        "~~~\n",
        "\n",
        "Set `d[key]` to value. If the key already exists in a dictionary means, it will update the value. If the key doesn’t exist in a dictionary means, it will add that key, value pair."
      ],
      "metadata": {
        "id": "xXlV6RLMm0ey"
      }
    },
    {
      "cell_type": "code",
      "source": [
        "d={'name':'karthi',\n",
        "   'age':7,\n",
        "   'city':'chennai',\n",
        "    }\n",
        "print (d)#Output:{'name': 'karthi', 'age': 7, 'city': 'chennai'}\n",
        "\n",
        "\n",
        "#Assigning values. If key already exists in a dictionary means,it will update value.\n",
        "d['age']=8\n",
        "print (d)#Output:{'name': 'karthi', 'age': 8, 'city': 'chennai'}\n"
      ],
      "metadata": {
        "id": "DveFOOS6m8ar"
      },
      "execution_count": null,
      "outputs": []
    },
    {
      "cell_type": "code",
      "source": [
        "#Assigning values.If key doesn't exists in a dictionary means,it will add that key.\n",
        "d['rollno']=12\n",
        "print (d)#Output:{'name': 'karthi', 'age': 8, 'city': 'chennai', 'rollno': 12}"
      ],
      "metadata": {
        "id": "_jI-Jwmqw7PE"
      },
      "execution_count": null,
      "outputs": []
    },
    {
      "cell_type": "code",
      "source": [
        "#default is mentioned.\n",
        "print (d.get('rollno',\"Not Available\"))#Output: Not Available"
      ],
      "metadata": {
        "id": "ErMFmQqVET58"
      },
      "execution_count": null,
      "outputs": []
    },
    {
      "cell_type": "markdown",
      "source": [
        "\n",
        "---\n"
      ],
      "metadata": {
        "id": "nOmMxg3bxDYk"
      }
    },
    {
      "cell_type": "markdown",
      "source": [
        "#### iter()\n",
        "\n",
        "~~~\n",
        "iter(d)\n",
        "~~~\n",
        "\n",
        "Return an iterator over the keys in a dictionary."
      ],
      "metadata": {
        "id": "tAg6J8LKm_ND"
      }
    },
    {
      "cell_type": "code",
      "source": [
        "d={'name':'karthi',\n",
        "   'age':7,\n",
        "   'city':'chennai',\n",
        "  }\n",
        "\n",
        "#Return an iterator containing  keys\n",
        "i=iter(d)\n",
        "print (i)#Output:<dict_keyiterator object at 0x00D13BE0>"
      ],
      "metadata": {
        "id": "4R_hQ4bGnGDI"
      },
      "execution_count": null,
      "outputs": []
    },
    {
      "cell_type": "code",
      "source": [
        "#converting iterator to list object\n",
        "print (list(i))#Output:['name', 'age', 'city']"
      ],
      "metadata": {
        "id": "SKk16f1Rxapl"
      },
      "execution_count": null,
      "outputs": []
    },
    {
      "cell_type": "markdown",
      "source": [
        "\n",
        "---\n"
      ],
      "metadata": {
        "id": "jFZUU4h0xlz3"
      }
    },
    {
      "cell_type": "markdown",
      "source": [
        "#### fromkeys()\n",
        "Create a new dictionary with keys from iterable and values set to value.\n",
        "`fromkeys()` is a class method that returns a new dictionary. value defaults to `None`.\n",
        "~~~\n",
        "fromkeys(iterable,value)\n",
        "~~~"
      ],
      "metadata": {
        "id": "XlFEnStZnJF_"
      }
    },
    {
      "cell_type": "code",
      "source": [
        "#fromkeys()\n",
        "#fromkeys() method returns a dictionary with the specified keys and the specified value.\n",
        "a={'a','e','i','o','u'}\n",
        "b='vowels'\n",
        "d1=dict.fromkeys(a,b)\n",
        "print(d1)\n",
        "#Output: {'o': 'vowels', 'u': 'vowels', 'e': 'vowels', 'i': 'vowels', 'a': 'vowels'}\n",
        "#dictionary is unordered.\n",
        "\n",
        "#if value is not mentioned,it defaults to None.\n",
        "d2=dict.fromkeys(a)\n",
        "print (d2)#Output:{'e': None, 'a': None, 'u': None, 'i': None, 'o': None}"
      ],
      "metadata": {
        "id": "FhmYjBJPnQb9"
      },
      "execution_count": null,
      "outputs": []
    },
    {
      "cell_type": "markdown",
      "source": [
        "#### setdefault()\n",
        "`setdefault()` method returns the value of a key (if the key is in a dictionary).\n",
        "If not, it inserts a key with a value to a dictionary. If the key is only mentioned, it will insert key with value as `None`.    \n",
        "~~~\n",
        "setdefault(key,default)\n",
        "~~~"
      ],
      "metadata": {
        "id": "eBkBIdC4nTvr"
      }
    },
    {
      "cell_type": "code",
      "source": [
        "#setdefault - if key is not there , will add the key with value none\n",
        "person = {'name': 'karthi', 'age': 7}\n",
        "city = person.setdefault('city')\n",
        "print(person)\n",
        "#Output:{'name': 'karthi', 'age': 7, 'city': None}\n",
        "\n",
        "\n",
        "#setdefault- if key  is not  there , will add key and value specified\n",
        "person = {'name': 'karthi', 'age': 7}\n",
        "city = person.setdefault('city','chennai')\n",
        "print(person)\n",
        "#Output:{'name': 'karthi', 'age': 7, 'city': 'chennai'}\n",
        "\n",
        "#setdefault-> if key exists, returns the value of that specified key\n",
        "person = {'name': 'karthi', 'age': 7}\n",
        "age=person.setdefault('age',10)\n",
        "print(person.setdefault('age',10)) #Output:7\n",
        "print (person)\n",
        "#Output:{'name': 'karthi', 'age': 7}"
      ],
      "metadata": {
        "id": "vB1k3A2Bnet2"
      },
      "execution_count": null,
      "outputs": []
    },
    {
      "cell_type": "markdown",
      "source": [
        "### Updating the items in a dictionary"
      ],
      "metadata": {
        "id": "UqGWBniAnrfW"
      }
    },
    {
      "cell_type": "markdown",
      "source": [
        "**`update()`**    \n",
        "\n",
        "`update()` method is used to merge the second dictionary into the first dictionary. It will update the value of the first dictionary.\n",
        "It won’t create a new dictionary. It is used for merging two dictionaries.    \n",
        "\n",
        "`update()` method adds elements to a dictionary if the key is not in that dictionary. If the key is in a dictionary means, it will update the new `value.Update()` function won’t return any value.    \n",
        "\n",
        "`update(other)`\n",
        "\n",
        "`other` argument can be another dictionary object or an iterable of key/value pairs (as tuples or other iterables of length two). If keyword arguments are specified, a dictionary is then updated with those key/value pairs.   \n"
      ],
      "metadata": {
        "id": "iRdWWAodntSf"
      }
    },
    {
      "cell_type": "code",
      "source": [
        "#update() - combining - merging both dictionaries and updating first - dictionary\n",
        "first={'name':'karthi',\n",
        "   'age':7,\n",
        "   'city':'chennai',\n",
        "    }\n",
        "\n",
        "second={'name':'sarvesh',\n",
        "'age':3}\n",
        "\n",
        "#update () function won't return any value.\n",
        "print(first.update(second))\n",
        "#Output: None\n",
        "\n",
        "print(first)\n",
        "#Output:{'name': 'sarvesh', 'age': 3, 'city': 'chennai'}"
      ],
      "metadata": {
        "id": "FQ64Gt45oKCO"
      },
      "execution_count": null,
      "outputs": []
    },
    {
      "cell_type": "markdown",
      "source": [
        "### Removing items from a dictionary"
      ],
      "metadata": {
        "id": "1WqFU55OoNKo"
      }
    },
    {
      "cell_type": "markdown",
      "source": [
        "**`popitem()`**    \n",
        "\n",
        "Remove and return a (key, value) pair from a dictionary. Pairs are returned in LIFO order. If a dictionary is empty, calling popitem() raises a KeyError. — python docs\n",
        "\n",
        "**`pop()`**    \n",
        "\n",
        "If the key is in a dictionary, remove it and return its value, else return default. If the default is not given and the key is not in a dictionary, a `KeyError` is raised.    \n",
        "\n",
        "\n",
        "**`pop(key,default)`**    \n"
      ],
      "metadata": {
        "id": "0u_wvqsroQtz"
      }
    },
    {
      "cell_type": "code",
      "source": [
        "d1 = {'name': 'karthi',\n",
        "      'age': 7,\n",
        "      'city': 'chennai',\n",
        "      }\n",
        "\n",
        "# popitem\n",
        "# The popitem() method removes and returns the last element (key, value) pair inserted into a dictionary.\n",
        "print(d1.popitem())  # Output:('city', 'chennai')\n",
        "print (type(d1.popitem()))#Output:<class 'tuple'>\n",
        "print(d1)  # Output:{'name': 'karthi', 'age': 7}\n",
        "\n",
        "\n",
        "# pop\n",
        "# pop() method removes and returns a value from a dictionary for  the given key.\n",
        "print(d1.pop('name'))  # Output:Karthi\n",
        "print(d1)  # Output: {'age': 7}\n",
        "\n",
        "\n",
        "# If key is not in dictionary and value is given as default argument means,it will return the default value.\n",
        "print(d1.pop(\"city\", \"Not found\"))  # Output: Not found\n",
        "\n",
        "\n",
        "# if key is not in dictionary  and default value not given means it will raise KeyError\n",
        "# print (d1.pop('rollno')) #Output: KeyError: 'rollno'"
      ],
      "metadata": {
        "id": "CF0N07CXohLq"
      },
      "execution_count": null,
      "outputs": []
    },
    {
      "cell_type": "markdown",
      "source": [
        "**`clear()`**    \n",
        "\n",
        "`clear()` will empty a dictionary.   Its return value is `None`.    \n",
        "\n",
        "**`del`** keyword is used to delete a dictionary itself.    \n",
        "\n",
        "We can also delete the key from a dictionary by using del keyword. If the key is not in a dictionary means, then it will raise `KeyError`.    \n"
      ],
      "metadata": {
        "id": "VoOdqTbBolGi"
      }
    },
    {
      "cell_type": "code",
      "source": [
        "d = {'name': 'karthi',\n",
        "      'age': 7,\n",
        "      'city': 'chennai',\n",
        "      }\n",
        "\n",
        "\n",
        "# If key is in dictionary means, it is removed from a dictionary.\n",
        "del d['name']\n",
        "print(d)  # Output: {'age': 7, 'city': 'chennai'}\n",
        "\n",
        "\n",
        "# If key is not in dictionary means KeyError is thrown.\n",
        "del d['state']# Output:KeyError: 'state'\n",
        "\n",
        "\n",
        "# clear - it will empty a dictionary.\n",
        "d.clear()\n",
        "# clear() method will return None.It will clear the original dictionary\n",
        "print(d.clear())  # Output: None.\n",
        "print(d)  # Output: {}\n",
        "\n",
        "# del - del keyword is used to delete a dictionary itself.\n",
        "del d\n",
        "# d1 is deleted and is not available.\n",
        "print (d) #Output: NameError: name 'd' is not defined"
      ],
      "metadata": {
        "id": "5Dj1Uhhpo4-H"
      },
      "execution_count": null,
      "outputs": []
    },
    {
      "cell_type": "markdown",
      "source": [
        "\n",
        "\n",
        "---\n",
        "\n"
      ],
      "metadata": {
        "id": "p1JY1GGgmA4A"
      }
    },
    {
      "cell_type": "markdown",
      "source": [
        "### **`copy()` vs `deepcopy()`**"
      ],
      "metadata": {
        "id": "Sr4c64Lqo83f"
      }
    },
    {
      "cell_type": "markdown",
      "source": [
        "**`copy()`** method returns the shallow copy of the existing dictionary. A shallow copy means a new dictionary value is updated with references to objects in the existing dictionary.  Akin to an alias.    \n",
        "\n",
        "If we change the value of immutable data types in the original dictionary, it is not reflected in the copied dictionary. But if we change the value of mutable datatypes like list means changes are reflected in the copied dictionary also.    \n",
        "\n",
        "To avoid this, we can use a `deep copy()`. In `deepcopy()`, if we change either mutable or immutable data types of the original dictionary, changes are not reflected in a deep copied dictionary.    \n"
      ],
      "metadata": {
        "id": "b1x2hTUJpDsf"
      }
    },
    {
      "cell_type": "code",
      "source": [
        "import copy\n",
        "d={'Name':'karthi',\n",
        "   'Rollno':12,\n",
        "   'Marks':[100,90]\n",
        "    }\n",
        "\n",
        "d1=d.copy()\n",
        "print (d1) #Output: {'Name': 'karthi', 'Rollno': 12, 'Marks': [100, 90]}\n",
        "\n",
        "#modifying immutable data types\n",
        "d['Rollno']=5\n",
        "print (d) #Output: {'Name': 'karthi', 'Rollno': 5, 'Marks': [100, 90]}\n",
        "#changes are not reflected in copied dictionary.\n",
        "print (d1) #Output: {'Name': 'karthi', 'Rollno': 12, 'Marks': [100, 90]}\n",
        "\n",
        "# modifying mutable datatypes\n",
        "d['Marks'].append(99)\n",
        "print (d) #Output: {'Name': 'karthi', 'Rollno': 5, 'Marks': [100, 90, 99]}\n",
        "#changes are reflected in copied dictionary also.\n",
        "print (d1)#Output: {'Name': 'karthi', 'Rollno': 12, 'Marks': [100, 90, 99]}\n",
        "\n",
        "d2=copy.deepcopy(d1)\n",
        "print (d2) #Output: {'Name': 'karthi', 'Rollno': 12, 'Marks': [100, 90, 99]}\n",
        "\n",
        "#modifying immutabe data types\n",
        "d1['Rollno']=15\n",
        "print (d1) #Output:{'Name': 'karthi', 'Rollno': 15, 'Marks': [100, 90, 99]}\n",
        "#changes are not reflected in copied dictionary.\n",
        "print (d2) #Output: {'Name': 'karthi', 'Rollno': 12, 'Marks': [100, 90, 99]}\n",
        "\n",
        "# modifying mutable datatypes\n",
        "d1['Marks'].append(101)\n",
        "print (d1) #Output: {'Name': 'karthi', 'Rollno': 15, 'Marks': [100, 90, 99, 101]}\n",
        "#changes are not reflected in deep copied dictionary.\n",
        "print (d2)#Output:{'Name': 'karthi', 'Rollno': 12, 'Marks': [100, 90, 99]}"
      ],
      "metadata": {
        "id": "_VpTiR9opY-1"
      },
      "execution_count": null,
      "outputs": []
    },
    {
      "cell_type": "markdown",
      "source": [
        "\n",
        "\n",
        "---\n",
        "\n"
      ],
      "metadata": {
        "id": "IYKkWQBOmCmD"
      }
    },
    {
      "cell_type": "markdown",
      "source": [
        "### Dictionary view objects"
      ],
      "metadata": {
        "id": "WBS7c-Bepc-R"
      }
    },
    {
      "cell_type": "markdown",
      "source": [
        "The objects returned by:\n",
        " - `dict.keys()`\n",
        " - `dict.values()`\n",
        " - `dict.items()`     \n",
        " are view objects. They provide a dynamic view of a dictionary’s entries, which means that when a dictionary changes, the view reflects these changes.-python docs\n",
        "\n",
        "Dictionary views can be iterated over to yield their respective data and support membership tests.    \n",
        "\n",
        "\n",
        "**`iter(dictview)`**    \n",
        "\n",
        "Return an iterator over the keys, values, or items in a dictionary"
      ],
      "metadata": {
        "id": "a9hYx7_LpgPd"
      }
    },
    {
      "cell_type": "code",
      "source": [
        "# creating dictionary\n",
        "\n",
        "d = {'name': 'karthi',\n",
        "     'age': 7,\n",
        "     'city': 'chennai',\n",
        "     }\n",
        "\n",
        "#Returns key iterator object\n",
        "k=d.keys()\n",
        "print (iter(k))#Output:<dict_keyiterator object at 0x00A1E028>\n",
        "#converting iterator to list object\n",
        "print (list(iter(k)))#Output:['name', 'age', 'city']\n",
        "\n",
        "\n",
        "#Returns items iterator object\n",
        "i=d.items()\n",
        "print (iter(i))#Output:<dict_itemiterator object at 0x00A1E028>\n",
        "#looping through the iterator\n",
        "for i in iter(i):\n",
        "    print (i)\n",
        "'''\n",
        "('name', 'karthi')\n",
        "('age', 7)\n",
        "('city', 'chennai')\n",
        "'''\n",
        "\n",
        "\n",
        "#Return values iterator object\n",
        "v=d.values()\n",
        "print (iter(v))#Output:<dict_valueiterator object at 0x00A1E028>\n",
        "#converting iterator to list object\n",
        "print (list(iter(v)))#Output:['karthi', 7, 'chennai']"
      ],
      "metadata": {
        "id": "Amqo1Eqpp3Tk"
      },
      "execution_count": null,
      "outputs": []
    },
    {
      "cell_type": "markdown",
      "source": [
        "**`reversed(dictview)`**\n",
        "\n",
        "Return a reverse iterator over the keys, values, or items of a dictionary. The view will be iterated in reverse order of the insertion.-python docs"
      ],
      "metadata": {
        "id": "7HFQYFN0p-GW"
      }
    },
    {
      "cell_type": "code",
      "source": [
        "i = 7\n",
        "print (i)"
      ],
      "metadata": {
        "id": "R5jU3n4rAtkw"
      },
      "execution_count": null,
      "outputs": []
    },
    {
      "cell_type": "code",
      "source": [
        "# creating dictionary\n",
        "\n",
        "d = {'name': 'karthi',\n",
        "     'age': 7,\n",
        "     'city': 'chennai',\n",
        "     }\n",
        "\n",
        "#Returns reversed key iterator object\n",
        "k=d.keys()\n",
        "print (reversed(k))#Output:<dict_reversekeyiterator object at 0x010C3BB8>\n",
        "#converting iterator to list object\n",
        "print (list(reversed(k)))#Output:['city', 'age', 'name']\n",
        "\n",
        "\n",
        "#Returns reversed items iterator object\n",
        "i=d.items()\n",
        "print (reversed(i))#Output:<dict_itemiterator object at 0x00A1E028>\n",
        "\n",
        "#looping through the iterator\n",
        "for i in  reversed(i):\n",
        "    print (i)\n",
        "'''\n",
        "('city', 'chennai')\n",
        "('age', 7)\n",
        "('name', 'karthi')\n",
        "'''\n",
        "\n",
        "\n",
        "#Return reversed values iterator object\n",
        "v=d.values()\n",
        "print (reversed(v))#Output:<dict_reversevalueiterator object at 0x01143BE0>\n",
        "#converting iterator to list object\n",
        "print (list(reversed(v)))#Output:['chennai', 7, 'karthi']\n"
      ],
      "metadata": {
        "id": "Y11C6QvCqIhd"
      },
      "execution_count": null,
      "outputs": []
    },
    {
      "cell_type": "markdown",
      "source": [
        "### Looping through a dictionary\n"
      ],
      "metadata": {
        "id": "9cZ2cyuDqNNw"
      }
    },
    {
      "cell_type": "code",
      "source": [
        "#creating dictionary\n",
        "\n",
        "d={'name':'karthi',\n",
        "   'age':7,\n",
        "   'city':'chennai',\n",
        "    }\n",
        "\n",
        "#Print only the keys\n",
        "\n",
        "for i in d:\n",
        "    print (i)\n",
        "'''\n",
        "Output:\n",
        "name\n",
        "age\n",
        "city\n",
        "'''\n",
        "\n",
        "#will print the (key,value) as a tuple\n",
        "for i in d.items():\n",
        "    print (i)\n",
        "\n",
        "'''\n",
        "Output:\n",
        "('name', 'karthi')\n",
        "('age', 7)\n",
        "('city', 'chennai')\n",
        "'''\n",
        "\n",
        "#will print the key,value in the format specified\n",
        "for i,j in d.items():\n",
        "    print(i,j)\n",
        "'''\n",
        "Output:\n",
        "name karthi\n",
        "age 7\n",
        "city chennai\n",
        "'''\n",
        "\n",
        "#will print only the keys\n",
        "for i in d.keys():\n",
        "    print(i)\n",
        "'''\n",
        "Output:\n",
        "name\n",
        "age\n",
        "city\n",
        "'''\n",
        "\n",
        "#will print only the values\n",
        "for i in d.values():\n",
        "    print(i)\n",
        "\n",
        "'''\n",
        "Output:\n",
        "karthi\n",
        "7\n",
        "chennai\n",
        "'''\n"
      ],
      "metadata": {
        "id": "R2q1wA8PsR3s"
      },
      "execution_count": null,
      "outputs": []
    },
    {
      "cell_type": "markdown",
      "source": [
        "### Dictionary Operations"
      ],
      "metadata": {
        "id": "IKoWGwYOqXI6"
      }
    },
    {
      "cell_type": "markdown",
      "source": [
        "#### Membership Test\n",
        "**in, not in**\n",
        "\n",
        "`in` — Returns True if the key is present in a dictionary. Checks only key and not values."
      ],
      "metadata": {
        "id": "eoztcO_UqYhp"
      }
    },
    {
      "cell_type": "code",
      "source": [
        "d=dict([('red',1),('blue',2),('green',3)])\n",
        "print (d)#Output:{'red': 1, 'blue': 2, 'green': 3}\n",
        "\n",
        "\n",
        "#Checking whether the particular key is in dictionary or not.\n",
        "if 'red' in d:\n",
        "    print (\"True\")#Output:True\n",
        "\n",
        "\n",
        "if 'yellow' in d:\n",
        "    print (\"True\")\n",
        "else:\n",
        "    print (\"False\") #Output:False\n",
        "\n",
        "\n",
        "if \"yellow\" not in d:\n",
        "    print (\"True\")#Output:True"
      ],
      "metadata": {
        "id": "2w1RIQPJqiHu"
      },
      "execution_count": null,
      "outputs": []
    },
    {
      "cell_type": "markdown",
      "source": [
        "### Dictionary built-in functions   "
      ],
      "metadata": {
        "id": "h0WE7nRQqlxu"
      }
    },
    {
      "cell_type": "markdown",
      "source": [
        "1. `len()` — Returns the length (no of items) of a dictionary.    \n",
        "2. `list()`-Returns the list of all keys in a dictionary    \n",
        "3. `sorted()`-Returns the sorted list of keys in a dictionary.    \n",
        "4. `reversed()`-Return a reversed iterator over the keys of a dictionary.    "
      ],
      "metadata": {
        "id": "RFFyCgRZqp-i"
      }
    },
    {
      "cell_type": "code",
      "source": [
        "#creating dictionary by using iterables\n",
        "d=dict([('red',1),('blue',2),('green',3)])\n",
        "print (d)#Output:{'red': 1, 'blue': 2, 'green': 3}\n",
        "\n",
        "\n",
        "#Returns the length(number of keys)of dictionary\n",
        "print (len(d))#Output:3\n",
        "\n",
        "\n",
        "#Returns the list of keys in a dictionary\n",
        "print(list(d))#Output:['red', 'blue', 'green']\n",
        "\n",
        "\n",
        "#Returns the sorted list of keys in a dictionary(by default ascending order)\n",
        "print (sorted(d))#Output:['blue', 'green', 'red']\n",
        "\n",
        "\n",
        "#Returns the sorted list of keys in a dictionary in descending order.\n",
        "print (sorted(d,reverse=True))#Output:['red', 'green', 'blue']\n",
        "\n",
        "\n",
        "#Returns the reversed list of keys in a dictionary.Returns an iterator object.\n",
        "print (reversed(d))#Output:<dict_reversekeyiterator object at 0x005DEB90>\n",
        "#Iterator object is converted to list object\n",
        "print (list(reversed(d)))#Output:['green', 'blue', 'red']"
      ],
      "metadata": {
        "id": "4DjHPqJ-q4Vi"
      },
      "execution_count": null,
      "outputs": []
    },
    {
      "cell_type": "markdown",
      "source": [
        "4. `all()`: Returns True if all keys(not values) in a dictionary is `True` or if a dictionary is empty."
      ],
      "metadata": {
        "id": "cefxu_kQq5wb"
      }
    },
    {
      "cell_type": "markdown",
      "source": [
        "5. `any()`:Returns `True` if any `key`(not values) in a dictionary is `True`. If dictionary is empty returns `False`.  "
      ],
      "metadata": {
        "id": "1tK2Wg7HrDM8"
      }
    },
    {
      "cell_type": "code",
      "source": [
        "#Creating dictionary in which all keys are True.\n",
        "d={1:'apple',2:'orange',3:'banana'}\n",
        "print (all(d)) #Output:True\n",
        "print (any(d))#Output: True\n",
        "\n",
        "#Empty dictionary\n",
        "d1={}\n",
        "print (all(d1))#Output: True\n",
        "print (any(d1))#Output:False\n",
        "\n",
        "#Creating dictionary in which one key is False\n",
        "d2={0:'grapes',1:'apple',2:'orange',3:'banana'}\n",
        "print (all(d2))#Output:False\n",
        "print (any(d2))#Output:True\n",
        "\n",
        "#Creating dictionary in which all keys are False\n",
        "d3={0:'hello'}\n",
        "print (all(d3))#Output:False\n",
        "print (any(d3))#Output:False"
      ],
      "metadata": {
        "id": "4Qw__67xrAqy"
      },
      "execution_count": null,
      "outputs": []
    },
    {
      "cell_type": "markdown",
      "source": [
        "\n",
        "\n",
        "---\n",
        "\n"
      ],
      "metadata": {
        "id": "b_Zg4gzKAV8X"
      }
    },
    {
      "cell_type": "markdown",
      "source": [
        "**Appendix Conclusion**     \n",
        "\n",
        "- Return type is view object    \n",
        "`keys()`    \n",
        "`values()`    \n",
        "`items()`    \n",
        "\n",
        "- Return type is List    \n",
        "`list(d)`,`sorted(d)`    \n",
        "\n",
        "- Return type is iterator    \n",
        "`iter(d)`, `reversed(d)`, `iter(dictview)`    \n",
        "\n",
        "- Return type is dictionary    \n",
        "`copy()`, `deepcopy()`, `fromkeys()`    \n",
        "\n",
        "- Return type is tuple    \n",
        "`popitem()`     \n",
        "\n",
        "- Return type is None    \n",
        "`clear()`- Doesn’t return anything. It will clear the original dictionary.    \n",
        "`update()`-Doesn’t return anything.It will update the original dictionary.   \n",
        "\n",
        "\n",
        "- Return type is integer    \n",
        "len()    \n",
        "\n",
        "- Return type is Boolean\n",
        "any(),all()    \n",
        "reversed(d)- supported from Python version 3.8     \n"
      ],
      "metadata": {
        "id": "VFo2QOPOrQjg"
      }
    },
    {
      "cell_type": "markdown",
      "source": [
        "\n",
        "\n",
        "---\n",
        "\n"
      ],
      "metadata": {
        "id": "8oZlsYTlaUPJ"
      }
    }
  ]
}